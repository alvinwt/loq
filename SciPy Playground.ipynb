{
 "metadata": {
  "name": ""
 },
 "nbformat": 3,
 "nbformat_minor": 0,
 "worksheets": [
  {
   "cells": [
    {
     "cell_type": "code",
     "collapsed": false,
     "input": [
      "from django.core.management import setup_environ\n",
      "from srb import settings\n",
      "setup_environ(settings)\n",
      "import os\n",
      "os.environ['DJANGO_SETTINGS_MODULE'] = 'srb.settings'\n",
      "from srb.models import Interval , Read_alignment\n",
      "import pandas as pd\n",
      "import numpy as np"
     ],
     "language": "python",
     "metadata": {},
     "outputs": [
      {
       "output_type": "stream",
       "stream": "stderr",
       "text": [
        "/usr/lib/python2.7/dist-packages/django/conf/urls/defaults.py:3: DeprecationWarning: django.conf.urls.defaults is deprecated; use django.conf.urls instead\n",
        "  DeprecationWarning)\n",
        "\n"
       ]
      },
      {
       "output_type": "stream",
       "stream": "stderr",
       "text": [
        "WARNING:py.warnings:/usr/lib/python2.7/dist-packages/django/conf/urls/defaults.py:3: DeprecationWarning: django.conf.urls.defaults is deprecated; use django.conf.urls instead\n",
        "  DeprecationWarning)\n",
        "\n"
       ]
      },
      {
       "output_type": "stream",
       "stream": "stderr",
       "text": [
        "/usr/local/lib/python2.7/dist-packages/mptt/models.py:305: DeprecationWarning: Implicit manager CMSPlugin.tree will be removed in django-mptt 0.6.  Explicitly define a TreeManager() on your model to remove this warning.\n",
        "  DeprecationWarning\n",
        "\n"
       ]
      },
      {
       "output_type": "stream",
       "stream": "stderr",
       "text": [
        "WARNING:py.warnings:/usr/local/lib/python2.7/dist-packages/mptt/models.py:305: DeprecationWarning: Implicit manager CMSPlugin.tree will be removed in django-mptt 0.6.  Explicitly define a TreeManager() on your model to remove this warning.\n",
        "  DeprecationWarning\n",
        "\n"
       ]
      }
     ],
     "prompt_number": 1
    },
    {
     "cell_type": "code",
     "collapsed": false,
     "input": [
      "from progressbar import ProgressBar\n",
      "pbar = ProgressBar()\n",
      "\n",
      "self=Interval.objects.get(IntervalSerialNumber=16736)\n",
      "read_list=Read_alignment.objects.filter(intervalName=self.NeatName)\n",
      "string =\"\"\n",
      "for i in pbar(read_list):\n",
      "    reads = '%s \\t\\t\\n' % (i.sequence)\n",
      "    spaces = int(i.start)-int(self.start)\n",
      "    if spaces >= 1:\n",
      "        string += spaces * ' ' + reads  \n",
      "    else:\n",
      "        string += reads\n",
      "print string"
     ],
     "language": "python",
     "metadata": {},
     "outputs": [
      {
       "output_type": "stream",
       "stream": "stderr",
       "text": [
        "DEBUG:django.db.backends:(0.163) SELECT `srb_interval`.`chr`, `srb_interval`.`start`, `srb_interval`.`stop`, `srb_interval`.`NeatName`, `srb_interval`.`IntervalSize`, `srb_interval`.`IntervalSerialNumber`, `srb_interval`.`Structure`, `srb_interval`.`Annotations`, `srb_interval`.`Tags`, `srb_interval`.`Link` FROM `srb_interval` WHERE `srb_interval`.`IntervalSerialNumber` = '16736' ; args=(u'16736',)\n"
       ]
      },
      {
       "output_type": "stream",
       "stream": "stderr",
       "text": [
        "DEBUG:django.db.backends:(0.084) SELECT `srb_read_alignment`.`id`, `srb_read_alignment`.`library_id`, `srb_read_alignment`.`sequence`, `srb_read_alignment`.`read_counts`, `srb_read_alignment`.`genomic_hits`, `srb_read_alignment`.`chr`, `srb_read_alignment`.`start`, `srb_read_alignment`.`stop`, `srb_read_alignment`.`strand`, `srb_read_alignment`.`big2catrenormRPmirpre`, `srb_read_alignment`.`AGO1IPoverTotalRNA`, `srb_read_alignment`.`normReads`, `srb_read_alignment`.`intervalName_id`, `srb_read_alignment`.`structure` FROM `srb_read_alignment` WHERE `srb_read_alignment`.`intervalName_id` = 'chr3L:94-145' ; args=(u'chr3L:94-145',)\n"
       ]
      },
      {
       "output_type": "stream",
       "stream": "stdout",
       "text": [
        "  ATAATATATTCAAGTTGCCGC \t\t\n",
        "      TATATTCAAGTTGCCGCTAAT \t\t\n",
        "         ATTCAAGTTGCCGCTAATCAG \t\t\n",
        "                         ATCAGAAATAAATTCATTGCAACGT \t\t\n",
        "                          TCAGAAATAAATTCATTGCAACGT \t\t\n",
        "                              AAATAAATTCATTGCAACGTT \t\t\n",
        "\n"
       ]
      },
      {
       "output_type": "stream",
       "stream": "stderr",
       "text": [
        "  0% |                                                                        |\r",
        " 16% |############                                                            |\r",
        " 33% |########################                                                |\r",
        " 50% |####################################                                    |\r",
        " 66% |################################################                        |\r",
        " 83% |############################################################            |\r",
        "100% |########################################################################|\r\n"
       ]
      }
     ],
     "prompt_number": 2
    },
    {
     "cell_type": "code",
     "collapsed": false,
     "input": [
      "self=Interval.objects.get(IntervalSerialNumber=16736)\n",
      "reads= Read_alignment.objects.filter(intervalName=self)\n",
      "#print self.start \n",
      "### Draw the matrix\n",
      "table = {}\n",
      "list = []\n",
      "for i in range(self.start,self.stop+1):\n",
      "    table[i]=int(0)\n",
      "for i in reads:\n",
      "    row = [i.start, i.stop, i.read_counts]\n",
      "    for j in range(row[0],row[1]):\n",
      "        try:\n",
      "            if j in table:\n",
      "                table[j] = table[j] + row[2]\n",
      "        except:\n",
      "            print \"index not found\"\n",
      "        \n",
      "for key, value in table.iteritems():\n",
      "    temp = [key,int(value)]\n",
      "    list.append(temp)\n",
      "print sorted(list)"
     ],
     "language": "python",
     "metadata": {},
     "outputs": [
      {
       "output_type": "stream",
       "stream": "stderr",
       "text": [
        "DEBUG:django.db.backends:(0.001) SELECT `srb_interval`.`chr`, `srb_interval`.`start`, `srb_interval`.`stop`, `srb_interval`.`NeatName`, `srb_interval`.`IntervalSize`, `srb_interval`.`IntervalSerialNumber`, `srb_interval`.`Structure`, `srb_interval`.`Annotations`, `srb_interval`.`Tags`, `srb_interval`.`Link` FROM `srb_interval` WHERE `srb_interval`.`IntervalSerialNumber` = '16736' ; args=(u'16736',)\n"
       ]
      },
      {
       "output_type": "stream",
       "stream": "stderr",
       "text": [
        "DEBUG:django.db.backends:(0.001) SELECT `srb_read_alignment`.`id`, `srb_read_alignment`.`library_id_id`, `srb_read_alignment`.`sequence`, `srb_read_alignment`.`read_counts`, `srb_read_alignment`.`genomic_hits`, `srb_read_alignment`.`chr`, `srb_read_alignment`.`start`, `srb_read_alignment`.`stop`, `srb_read_alignment`.`strand`, `srb_read_alignment`.`big2catrenormRPmirpre`, `srb_read_alignment`.`AGO1IPoverTotalRNA`, `srb_read_alignment`.`normReads`, `srb_read_alignment`.`intervalName_id`, `srb_read_alignment`.`structure` FROM `srb_read_alignment` WHERE `srb_read_alignment`.`intervalName_id` = 'chr3L:94-145' ; args=(u'chr3L:94-145',)\n"
       ]
      },
      {
       "output_type": "stream",
       "stream": "stdout",
       "text": [
        "[[93, 0], [94, 0], [95, 1], [96, 1], [97, 1], [98, 1], [99, 2], [100, 2], [101, 2], [102, 3], [103, 3], [104, 3], [105, 3], [106, 3], [107, 3], [108, 3], [109, 3], [110, 3], [111, 3], [112, 3], [113, 3], [114, 3], [115, 3], [116, 2], [117, 2], [118, 3], [119, 4], [120, 3], [121, 3], [122, 3], [123, 3], [124, 3], [125, 3], [126, 3], [127, 3], [128, 3], [129, 3], [130, 3], [131, 3], [132, 3], [133, 3], [134, 3], [135, 3], [136, 3], [137, 3], [138, 3], [139, 3], [140, 3], [141, 3], [142, 3], [143, 1], [144, 0], [145, 0]]\n"
       ]
      }
     ],
     "prompt_number": 60
    }
   ],
   "metadata": {}
  }
 ]
}