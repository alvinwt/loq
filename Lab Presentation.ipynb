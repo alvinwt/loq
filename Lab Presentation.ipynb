{
 "metadata": {
  "name": ""
 },
 "nbformat": 3,
 "nbformat_minor": 0,
 "worksheets": [
  {
   "cells": [
    {
     "cell_type": "code",
     "collapsed": false,
     "input": [
      "# keep this as a cell in my title slide so I can rerun \n",
      "# it easily if I make changes, but it's low enough it won't\n",
      "# be visible in presentation mode.\n",
      "%run talktools"
     ],
     "language": "python",
     "metadata": {},
     "outputs": [
      {
       "output_type": "stream",
       "stream": "stderr",
       "text": [
        "ERROR: File `u'talktools.py'` not found.\n"
       ]
      }
     ],
     "prompt_number": 2
    }
   ],
   "metadata": {}
  }
 ]
}