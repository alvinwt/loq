{
 "metadata": {
  "name": ""
 },
 "nbformat": 3,
 "nbformat_minor": 0,
 "worksheets": [
  {
   "cells": [
    {
     "cell_type": "code",
     "collapsed": false,
     "input": [
      "import matplotlib as mpl\n",
      "mpl.use('Agg')\n",
      "%pylab inline\n",
      "from django.core.management import setup_environ\n",
      "from loq import settings\n",
      "setup_environ(settings)\n",
      "import os\n",
      "os.environ['DJANGO_SETTINGS_MODULE'] = 'loq.settings'\n",
      "from loq.models import Interval , Read_alignment, Library\n",
      "from django.db.models import Count, Sum\n",
      "import pandas as pd\n",
      "import numpy as np\n",
      "import seaborn as sns\n",
      "import matplotlib.pyplot as plt\n",
      "#sns.set(context='talk',style='darkgrid')\n",
      "#from matplotlib.backends.backend_pdf import PdfPages\n",
      "sns.set(palette=['#088A08','#0000FF','#FF0000','#58FA58','#2E9AFE','#FFBF00'],context='talk',style='whitegrid')"
     ],
     "language": "python",
     "metadata": {},
     "outputs": [
      {
       "output_type": "stream",
       "stream": "stderr",
       "text": [
        "/usr/local/lib/python2.7/dist-packages/numpy/oldnumeric/__init__.py:11: ModuleDeprecationWarning: The oldnumeric module will be dropped in Numpy 1.9\n",
        "  warnings.warn(_msg, ModuleDeprecationWarning)\n",
        "\n"
       ]
      },
      {
       "output_type": "stream",
       "stream": "stdout",
       "text": [
        "Populating the interactive namespace from numpy and matplotlib\n"
       ]
      }
     ],
     "prompt_number": 2
    },
    {
     "cell_type": "code",
     "collapsed": false,
     "input": [
      "a = Read_alignment.objects.filter(chr='chrX').to_dataframe('chr','read_counts','read_length')\n",
      "#print a.boxplot(column='read_counts', by='chr')\n",
      "df= a.groupby('read_length').sum()\n",
      "\n",
      "for i in df.index\n",
      "#a.boxplot()\n",
      "#print b\n",
      "#b.boxplot()\n",
      "#plt.show()"
     ],
     "language": "python",
     "metadata": {},
     "outputs": [
      {
       "output_type": "stream",
       "stream": "stdout",
       "text": [
        "             read_counts\n",
        "read_length             \n",
        "18                  4013\n",
        "19                 11615\n",
        "20                 28098\n",
        "21                169758\n",
        "22                629304\n",
        "23               1090801\n",
        "24                 52866\n",
        "25                   495\n",
        "26                   214\n",
        "27                   290\n",
        "28                    41\n",
        "29                     6\n",
        "\n",
        "[12 rows x 1 columns]\n"
       ]
      }
     ],
     "prompt_number": 21
    },
    {
     "cell_type": "code",
     "collapsed": false,
     "input": [
      "%hist"
     ],
     "language": "python",
     "metadata": {},
     "outputs": [
      {
       "output_type": "stream",
       "stream": "stdout",
       "text": [
        "a = Read_alignment.objects.filter(chr='chrX').to_dataframe('chr','read_counts','read_length')\n",
        "print a\n",
        "\n",
        "#a.boxplot()\n",
        "#print b\n",
        "#b.boxplot()\n",
        "#plt.show()\n",
        "import matplotlib as mpl\n",
        "mpl.use('Agg')\n",
        "%pylab inline\n",
        "from django.core.management import setup_environ\n",
        "from loq import settings\n",
        "setup_environ(settings)\n",
        "import os\n",
        "os.environ['DJANGO_SETTINGS_MODULE'] = 'loq.settings'\n",
        "from loq.models import Interval , Read_alignment, Library\n",
        "from django.db.models import Count, Sum\n",
        "import pandas as pd\n",
        "import numpy as np\n",
        "import seaborn as sns\n",
        "import matplotlib.pyplot as plt\n",
        "#sns.set(context='talk',style='darkgrid')\n",
        "#from matplotlib.backends.backend_pdf import PdfPages\n",
        "sns.set(palette=['#088A08','#0000FF','#FF0000','#58FA58','#2E9AFE','#FFBF00'],context='talk',style='whitegrid')\n",
        "a = Read_alignment.objects.filter(chr='chrX').to_dataframe('chr','read_counts','read_length')\n",
        "print a\n",
        "\n",
        "#a.boxplot()\n",
        "#print b\n",
        "#b.boxplot()\n",
        "#plt.show()\n",
        "a = Read_alignment.objects.filter(chr='chrX').to_dataframe('chr','read_counts','read_length')\n",
        "print a.boxplot(by='chr')\n",
        "\n",
        "#a.boxplot()\n",
        "#print b\n",
        "#b.boxplot()\n",
        "#plt.show()\n",
        "a = Read_alignment.objects.filter(chr='chrX').to_dataframe('chr','read_counts','read_length')\n",
        "print a.boxplot(by='read_length')\n",
        "\n",
        "#a.boxplot()\n",
        "#print b\n",
        "#b.boxplot()\n",
        "#plt.show()\n",
        "a = Read_alignment.objects.filter(chr='chrX').to_dataframe('chr','read_counts','read_length')\n",
        "print a.boxplot(by='chr')\n",
        "\n",
        "#a.boxplot()\n",
        "#print b\n",
        "#b.boxplot()\n",
        "#plt.show()\n",
        "a = Read_alignment.objects.filter(chr='chrX').to_dataframe('chr','read_counts','read_length')\n",
        "print a.boxplot('read_counts'mby='chr')\n",
        "\n",
        "#a.boxplot()\n",
        "#print b\n",
        "#b.boxplot()\n",
        "#plt.show()\n",
        "a = Read_alignment.objects.filter(chr='chrX').to_dataframe('chr','read_counts','read_length')\n",
        "print a.boxplot('read_counts', by='chr')\n",
        "\n",
        "#a.boxplot()\n",
        "#print b\n",
        "#b.boxplot()\n",
        "#plt.show()\n",
        "a = Read_alignment.objects.filter(chr='chrX').to_dataframe('chr','read_counts','read_length')\n",
        "print a.boxplot(column='read_counts', by='chr')\n",
        "\n",
        "#a.boxplot()\n",
        "#print b\n",
        "#b.boxplot()\n",
        "#plt.show()\n",
        "a = Read_alignment.objects.filter(chr='chrX').to_dataframe('chr','read_counts','read_length')\n",
        "#print a.boxplot(column='read_counts', by='chr')\n",
        "print a[0]\n",
        "#a.boxplot()\n",
        "#print b\n",
        "#b.boxplot()\n",
        "#plt.show()\n",
        "a = Read_alignment.objects.filter(chr='chrX').to_dataframe('chr','read_counts','read_length')\n",
        "#print a.boxplot(column='read_counts', by='chr')\n",
        "print a\n",
        "#a.boxplot()\n",
        "#print b\n",
        "#b.boxplot()\n",
        "#plt.show()\n",
        "a = Read_alignment.objects.filter(chr='chrX').to_dataframe('chr','read_counts','read_length')\n",
        "#print a.boxplot(column='read_counts', by='chr')\n",
        "print a['0']\n",
        "#a.boxplot()\n",
        "#print b\n",
        "#b.boxplot()\n",
        "#plt.show()\n",
        "a = Read_alignment.objects.filter(chr='chrX').to_dataframe('chr','read_counts','read_length')\n",
        "#print a.boxplot(column='read_counts', by='chr')\n",
        "print a\n",
        "#a.boxplot()\n",
        "#print b\n",
        "#b.boxplot()\n",
        "#plt.show()\n",
        "a = Read_alignment.objects.filter(chr='chrX').to_dataframe('chr','read_counts','read_length')\n",
        "#print a.boxplot(column='read_counts', by='chr')\n",
        "print a.groupby('read_length')\n",
        "#a.boxplot()\n",
        "#print b\n",
        "#b.boxplot()\n",
        "#plt.show()\n",
        "a = Read_alignment.objects.filter(chr='chrX').to_dataframe('chr','read_counts','read_length')\n",
        "#print a.boxplot(column='read_counts', by='chr')\n",
        "print a.groupby('read_length')\n",
        "#a.boxplot()\n",
        "#print b\n",
        "#b.boxplot()\n",
        "#plt.show()\n",
        "hsit\n",
        "hist\n",
        "quickref\n",
        "%hist\n"
       ]
      }
     ],
     "prompt_number": 19
    },
    {
     "cell_type": "code",
     "collapsed": false,
     "input": [
      "interval = set(Interval.objects.all().values_list('chr',flat=True))\n",
      "chrs = {}\n",
      "for i,v in enumerate(interval):\n",
      "    chrs[i] = Read_alignment.objects.filter(chr=v).to_dataframe('read_length',index='chr')\n",
      "\n",
      "fig= plt.figure(figsize=(12, 10))\n",
      "grid_size =(4,4)\n",
      "ax0 = subplot2grid(grid_size,(0,0),rowspan=2)\n",
      "plt.xlabel(chrs[0].index[0])\n",
      "ax1 = subplot2grid(grid_size,(0,1),rowspan=2) \n",
      "plt.xlabel(chrs[1].index[1])\n",
      "ax2 = subplot2grid(grid_size,(0,2),rowspan=2)\n",
      "plt.xlabel(chrs[0].index[0])\n",
      "ax3 = subplot2grid(grid_size,(0,3),rowspan=2)\n",
      "plt.xlabel(chrs[0].index[0])\n",
      "#ax4 = subplot2grid(grid_size,(0,4),rowspan=2) \n",
      "\n",
      "#    read = Read_alignment.objects.filter(intervalName=i).to_dataframe('read_length')\n",
      "#    table.append(reads)\n",
      "\n",
      "sns.boxplot(chrs[0],ax=ax0)\n",
      "sns.boxplot(chrs[2],ax=ax1)\n",
      "sns.boxplot(chrs[3],ax=ax2)\n",
      "sns.boxplot(chrs[4],ax=ax3)\n",
      "sns.boxplot(chrs[5],ax=ax4)\n",
      "sns.boxplot(chrs[2],ax=ax1)\n",
      "sns.boxplot(chrs[2],ax=ax1)\n"
     ],
     "language": "python",
     "metadata": {},
     "outputs": [
      {
       "metadata": {},
       "output_type": "pyout",
       "prompt_number": 129,
       "text": [
        "<matplotlib.axes.AxesSubplot at 0xf6f2410>"
       ]
      },
      {
       "metadata": {},
       "output_type": "display_data",
       "png": "[encoded data removed]",
       "text": [
        "<matplotlib.figure.Figure at 0xfd0b6d0>"
       ]
      }
     ],
     "prompt_number": 129
    }
   ],
   "metadata": {}
  }
 ]
}