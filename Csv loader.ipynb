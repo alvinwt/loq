{
 "metadata": {
  "name": "Csv loader"
 },
 "nbformat": 3,
 "nbformat_minor": 0,
 "worksheets": [
  {
   "cells": [
    {
     "cell_type": "code",
     "collapsed": false,
     "input": [
      "from django.core.management import setup_environ\n",
      "from loq import settings\n",
      "setup_environ(settings)\n",
      "import os\n",
      "os.environ['DJANGO_SETTINGS_MODULE'] = 'loq.settings'\n",
      "from loq.models import Interval , Read_alignment\n",
      "import pandas as pd\n",
      "import numpy as np"
     ],
     "language": "python",
     "metadata": {},
     "outputs": [],
     "prompt_number": 2
    },
    {
     "cell_type": "code",
     "collapsed": false,
     "input": [
      "a = Interval.objects.get(id=1)\n",
      "a.mapped_strand.split('\\n')"
     ],
     "language": "python",
     "metadata": {},
     "outputs": [
      {
       "output_type": "stream",
       "stream": "stderr",
       "text": [
        "DEBUG:django.db.backends:(0.001) SELECT `loq_interval`.`id`, `loq_interval`.`chr`, `loq_interval`.`start`, `loq_interval`.`stop`, `loq_interval`.`mirName`, `loq_interval`.`NeatName`, `loq_interval`.`IntervalSize`, `loq_interval`.`IntervalSerialNumber`, `loq_interval`.`Structure`, `loq_interval`.`Annotations`, `loq_interval`.`Tags`, `loq_interval`.`all_reads_mapped`, `loq_interval`.`sum_normReads`, `loq_interval`.`mapped_strand`, `loq_interval`.`Link` FROM `loq_interval` WHERE `loq_interval`.`id` = 1 ; args=(1,)\n"
       ]
      },
      {
       "output_type": "pyout",
       "prompt_number": 5,
       "text": [
        "[u'-', u'']"
       ]
      }
     ],
     "prompt_number": 5
    },
    {
     "cell_type": "code",
     "collapsed": false,
     "input": [
      "\"\"\" Looks for the miRName for each entry and saves structure according to input file\"\"\"\n",
      "f = open('/home/alvin/Dropbox/djangosite/loq/static/dmeprecursor_statistics.fix2c.csv','r')\n",
      "for a in Interval.objects.all():\n",
      "    for i in f:\n",
      "        i=i.split(',')\n",
      "        if i[0] == a.mirName:\n",
      "            a.Structure = i[1]\n",
      "            a.save()"
     ],
     "language": "python",
     "metadata": {},
     "outputs": [],
     "prompt_number": 43
    },
    {
     "cell_type": "code",
     "collapsed": false,
     "input": [
      "\"\"\"Adds the + or - strand from input Interval bed file \"\"\"\n",
      "f = open('/home/alvin/Dropbox/djangosite/Loqs/dmegff2tobedmirbasev20.bed','r')\n",
      "\n",
      "for i in f:\n",
      "    i=i.split('\\t')\n",
      "    print i[3] + i[-1]\n",
      "    a= Interval.objects.get(mirName=str(i[3]))\n",
      "    #a.Structure = i[1]\n",
      "    a.mapped_strand = i[-1].split('\\n')[0]\n",
      "    a.save()"
     ],
     "language": "python",
     "metadata": {},
     "outputs": [
      {
       "output_type": "stream",
       "stream": "stderr",
       "text": [
        "DEBUG:django.db.backends:(0.001) SELECT `loq_interval`.`id`, `loq_interval`.`chr`, `loq_interval`.`start`, `loq_interval`.`stop`, `loq_interval`.`mirName`, `loq_interval`.`NeatName`, `loq_interval`.`IntervalSize`, `loq_interval`.`IntervalSerialNumber`, `loq_interval`.`Structure`, `loq_interval`.`Annotations`, `loq_interval`.`Tags`, `loq_interval`.`all_reads_mapped`, `loq_interval`.`sum_normReads`, `loq_interval`.`mapped_strand`, `loq_interval`.`Link` FROM `loq_interval` WHERE `loq_interval`.`mirName` = 'dme-mir-965' ; args=('dme-mir-965',)\n"
       ]
      },
      {
       "output_type": "stream",
       "stream": "stderr",
       "text": [
        "DEBUG:django.db.backends:(0.000) SELECT (1) AS `a` FROM `loq_interval` WHERE `loq_interval`.`id` = 1  LIMIT 1; args=(1,)\n"
       ]
      },
      {
       "output_type": "stream",
       "stream": "stderr",
       "text": [
        "DEBUG:django.db.backends:(0.001) UPDATE `loq_interval` SET `chr` = 'chr2L', `start` = 243034, `stop` = 243141, `mirName` = 'dme-mir-965', `NeatName` = 'chr2L:243035-243141', `IntervalSize` = 107, `IntervalSerialNumber` = 1, `Structure` = '..(((((..(((((((.((((((((((.(((((((((((((.((((.................))))))))))))).))))))))))))))))).)))))))))...', `Annotations` = '', `Tags` = '', `all_reads_mapped` = 218, `sum_normReads` = 11227.4303, `mapped_strand` = '-', `Link` = 'http://genome.cbis.nus.edu.sg/cgi-bin/hgTracks?db=dm3&position=chr2L:243035-243141' WHERE `loq_interval`.`id` = 1 ; args=(u'chr2L', 243034, 243141, u'dme-mir-965', u'chr2L:243035-243141', 107, 1, u'..(((((..(((((((.((((((((((.(((((((((((((.((((.................))))))))))))).))))))))))))))))).)))))))))...', u'', u'', 218, 11227.4303, '-', u'http://genome.cbis.nus.edu.sg/cgi-bin/hgTracks?db=dm3&position=chr2L:243035-243141', 1)\n"
       ]
      },
      {
       "output_type": "stream",
       "stream": "stdout",
       "text": [
        "dme-mir-965-\n",
        "\n",
        "dme-mir-375+\n"
       ]
      },
      {
       "output_type": "stream",
       "stream": "stderr",
       "text": [
        "DEBUG:django.db.backends:(0.001) SELECT `loq_interval`.`id`, `loq_interval`.`chr`, `loq_interval`.`start`, `loq_interval`.`stop`, `loq_interval`.`mirName`, `loq_interval`.`NeatName`, `loq_interval`.`IntervalSize`, `loq_interval`.`IntervalSerialNumber`, `loq_interval`.`Structure`, `loq_interval`.`Annotations`, `loq_interval`.`Tags`, `loq_interval`.`all_reads_mapped`, `loq_interval`.`sum_normReads`, `loq_interval`.`mapped_strand`, `loq_interval`.`Link` FROM `loq_interval` WHERE `loq_interval`.`mirName` = 'dme-mir-375' ; args=('dme-mir-375',)\n"
       ]
      },
      {
       "output_type": "stream",
       "stream": "stderr",
       "text": [
        "DEBUG:django.db.backends:(0.000) SELECT (1) AS `a` FROM `loq_interval` WHERE `loq_interval`.`id` = 2  LIMIT 1; args=(2,)\n"
       ]
      },
      {
       "output_type": "stream",
       "stream": "stderr",
       "text": [
        "DEBUG:django.db.backends:(0.001) UPDATE `loq_interval` SET `chr` = 'chr2L', `start` = 857541, `stop` = 857632, `mirName` = 'dme-mir-375', `NeatName` = 'chr2L:857542-857632', `IntervalSize` = 91, `IntervalSerialNumber` = 2, `Structure` = '.(((((((.((((.((((((((((((.((..(((((((..............))))))))).)))))))))))).)))).).))))))...', `Annotations` = '', `Tags` = '', `all_reads_mapped` = 30, `sum_normReads` = 11.2719, `mapped_strand` = '+', `Link` = 'http://genome.cbis.nus.edu.sg/cgi-bin/hgTracks?db=dm3&position=chr2L:857542-857632' WHERE `loq_interval`.`id` = 2 ; args=(u'chr2L', 857541, 857632, u'dme-mir-375', u'chr2L:857542-857632', 91, 2, u'.(((((((.((((.((((((((((((.((..(((((((..............))))))))).)))))))))))).)))).).))))))...', u'', u'', 30, 11.2719, '+', u'http://genome.cbis.nus.edu.sg/cgi-bin/hgTracks?db=dm3&position=chr2L:857542-857632', 2)\n"
       ]
      },
      {
       "output_type": "stream",
       "stream": "stdout",
       "text": [
        "\n",
        "dme-mir-2280-\n"
       ]
      },
      {
       "output_type": "stream",
       "stream": "stderr",
       "text": [
        "DEBUG:django.db.backends:(0.001) SELECT `loq_interval`.`id`, `loq_interval`.`chr`, `loq_interval`.`start`, `loq_interval`.`stop`, `loq_interval`.`mirName`, `loq_interval`.`NeatName`, `loq_interval`.`IntervalSize`, `loq_interval`.`IntervalSerialNumber`, `loq_interval`.`Structure`, `loq_interval`.`Annotations`, `loq_interval`.`Tags`, `loq_interval`.`all_reads_mapped`, `loq_interval`.`sum_normReads`, `loq_interval`.`mapped_strand`, `loq_interval`.`Link` FROM `loq_interval` WHERE `loq_interval`.`mirName` = 'dme-mir-2280' ; args=('dme-mir-2280',)\n"
       ]
      },
      {
       "output_type": "stream",
       "stream": "stderr",
       "text": [
        "DEBUG:django.db.backends:(0.001) SELECT (1) AS `a` FROM `loq_interval` WHERE `loq_interval`.`id` = 3  LIMIT 1; args=(3,)\n"
       ]
      },
      {
       "output_type": "stream",
       "stream": "stderr",
       "text": [
        "DEBUG:django.db.backends:(0.001) UPDATE `loq_interval` SET `chr` = 'chr2L', `start` = 1831684, `stop` = 1831799, `mirName` = 'dme-mir-2280', `NeatName` = 'chr2L:1831685-1831799', `IntervalSize` = 115, `IntervalSerialNumber` = 3, `Structure` = '((((......(((..((((((((((.(((..(((((((((...((((.((((((((...)))..))))).))))...)))))))))..))).))))))))))..)))...)))).', `Annotations` = '', `Tags` = '', `all_reads_mapped` = 46, `sum_normReads` = 31.1471, `mapped_strand` = '-', `Link` = 'http://genome.cbis.nus.edu.sg/cgi-bin/hgTracks?db=dm3&position=chr2L:1831685-1831799' WHERE `loq_interval`.`id` = 3 ; args=(u'chr2L', 1831684, 1831799, u'dme-mir-2280', u'chr2L:1831685-1831799', 115, 3, u'((((......(((..((((((((((.(((..(((((((((...((((.((((((((...)))..))))).))))...)))))))))..))).))))))))))..)))...)))).', u'', u'', 46, 31.1471, '-', u'http://genome.cbis.nus.edu.sg/cgi-bin/hgTracks?db=dm3&position=chr2L:1831685-1831799', 3)\n"
       ]
      },
      {
       "output_type": "stream",
       "stream": "stdout",
       "text": [
        "\n",
        "dme-mir-4914+\n"
       ]
      },
      {
       "output_type": "stream",
       "stream": "stderr",
       "text": [
        "DEBUG:django.db.backends:(0.001) SELECT `loq_interval`.`id`, `loq_interval`.`chr`, `loq_interval`.`start`, `loq_interval`.`stop`, `loq_interval`.`mirName`, `loq_interval`.`NeatName`, `loq_interval`.`IntervalSize`, `loq_interval`.`IntervalSerialNumber`, `loq_interval`.`Structure`, `loq_interval`.`Annotations`, `loq_interval`.`Tags`, `loq_interval`.`all_reads_mapped`, `loq_interval`.`sum_normReads`, `loq_interval`.`mapped_strand`, `loq_interval`.`Link` FROM `loq_interval` WHERE `loq_interval`.`mirName` = 'dme-mir-4914' ; args=('dme-mir-4914',)\n"
       ]
      },
      {
       "output_type": "stream",
       "stream": "stderr",
       "text": [
        "DEBUG:django.db.backends:(0.000) SELECT (1) AS `a` FROM `loq_interval` WHERE `loq_interval`.`id` = 4  LIMIT 1; args=(4,)\n"
       ]
      },
      {
       "output_type": "stream",
       "stream": "stderr",
       "text": [
        "DEBUG:django.db.backends:(0.001) UPDATE `loq_interval` SET `chr` = 'chr2L', `start` = 2737567, `stop` = 2737661, `mirName` = 'dme-mir-4914', `NeatName` = 'chr2L:2737568-2737661', `IntervalSize` = 94, `IntervalSerialNumber` = 4, `Structure` = '(((.((((...((((.((.(((((((((.(((((..((....)).)))))...)))...........))))))..)).))))..)))).)))..', `Annotations` = '', `Tags` = '', `all_reads_mapped` = 2, `sum_normReads` = 0.2718, `mapped_strand` = '+', `Link` = 'http://genome.cbis.nus.edu.sg/cgi-bin/hgTracks?db=dm3&position=chr2L:2737568-2737661' WHERE `loq_interval`.`id` = 4 ; args=(u'chr2L', 2737567, 2737661, u'dme-mir-4914', u'chr2L:2737568-2737661', 94, 4, u'(((.((((...((((.((.(((((((((.(((((..((....)).)))))...)))...........))))))..)).))))..)))).)))..', u'', u'', 2, 0.2718, '+', u'http://genome.cbis.nus.edu.sg/cgi-bin/hgTracks?db=dm3&position=chr2L:2737568-2737661', 4)\n"
       ]
      },
      {
       "output_type": "stream",
       "stream": "stdout",
       "text": [
        "\n",
        "dme-mir-4971-\n"
       ]
      },
      {
       "output_type": "stream",
       "stream": "stderr",
       "text": [
        "DEBUG:django.db.backends:(0.001) SELECT `loq_interval`.`id`, `loq_interval`.`chr`, `loq_interval`.`start`, `loq_interval`.`stop`, `loq_interval`.`mirName`, `loq_interval`.`NeatName`, `loq_interval`.`IntervalSize`, `loq_interval`.`IntervalSerialNumber`, `loq_interval`.`Structure`, `loq_interval`.`Annotations`, `loq_interval`.`Tags`, `loq_interval`.`all_reads_mapped`, `loq_interval`.`sum_normReads`, `loq_interval`.`mapped_strand`, `loq_interval`.`Link` FROM `loq_interval` WHERE `loq_interval`.`mirName` = 'dme-mir-4971' ; args=('dme-mir-4971',)\n"
       ]
      },
      {
       "output_type": "stream",
       "stream": "stderr",
       "text": [
        "DEBUG:django.db.backends:(0.001) SELECT (1) AS `a` FROM `loq_interval` WHERE `loq_interval`.`id` = 5  LIMIT 1; args=(5,)\n"
       ]
      },
      {
       "output_type": "stream",
       "stream": "stderr",
       "text": [
        "DEBUG:django.db.backends:(0.001) UPDATE `loq_interval` SET `chr` = 'chr2L', `start` = 3463289, `stop` = 3463400, `mirName` = 'dme-mir-4971', `NeatName` = 'chr2L:3463290-3463400', `IntervalSize` = 111, `IntervalSerialNumber` = 5, `Structure` = '.....((((((.((((((((((.(((((((((((((.(((((((..(((....)))..)))).........))).))))))))))).)).)))))))))))))))).....', `Annotations` = '', `Tags` = '', `all_reads_mapped` = 9, `sum_normReads` = 0.8355, `mapped_strand` = '-', `Link` = 'http://genome.cbis.nus.edu.sg/cgi-bin/hgTracks?db=dm3&position=chr2L:3463290-3463400' WHERE `loq_interval`.`id` = 5 ; args=(u'chr2L', 3463289, 3463400, u'dme-mir-4971', u'chr2L:3463290-3463400', 111, 5, u'.....((((((.((((((((((.(((((((((((((.(((((((..(((....)))..)))).........))).))))))))))).)).)))))))))))))))).....', u'', u'', 9, 0.8355, '-', u'http://genome.cbis.nus.edu.sg/cgi-bin/hgTracks?db=dm3&position=chr2L:3463290-3463400', 5)\n"
       ]
      },
      {
       "output_type": "stream",
       "stream": "stdout",
       "text": [
        "\n",
        "dme-mir-4972-\n"
       ]
      },
      {
       "output_type": "stream",
       "stream": "stderr",
       "text": [
        "DEBUG:django.db.backends:(0.001) SELECT `loq_interval`.`id`, `loq_interval`.`chr`, `loq_interval`.`start`, `loq_interval`.`stop`, `loq_interval`.`mirName`, `loq_interval`.`NeatName`, `loq_interval`.`IntervalSize`, `loq_interval`.`IntervalSerialNumber`, `loq_interval`.`Structure`, `loq_interval`.`Annotations`, `loq_interval`.`Tags`, `loq_interval`.`all_reads_mapped`, `loq_interval`.`sum_normReads`, `loq_interval`.`mapped_strand`, `loq_interval`.`Link` FROM `loq_interval` WHERE `loq_interval`.`mirName` = 'dme-mir-4972' ; args=('dme-mir-4972',)\n"
       ]
      },
      {
       "output_type": "stream",
       "stream": "stderr",
       "text": [
        "DEBUG:django.db.backends:(0.000) SELECT (1) AS `a` FROM `loq_interval` WHERE `loq_interval`.`id` = 6  LIMIT 1; args=(6,)\n"
       ]
      },
      {
       "output_type": "stream",
       "stream": "stderr",
       "text": [
        "DEBUG:django.db.backends:(0.001) UPDATE `loq_interval` SET `chr` = 'chr2L', `start` = 3636966, `stop` = 3637073, `mirName` = 'dme-mir-4972', `NeatName` = 'chr2L:3636967-3637073', `IntervalSize` = 107, `IntervalSerialNumber` = 6, `Structure` = '.....((((.((((..((((...(((((((((((((((((((((((((.......)))))))))))))))...........))).))))))).)))))).)).))))', `Annotations` = '', `Tags` = '', `all_reads_mapped` = 0, `sum_normReads` = NULL, `mapped_strand` = '-', `Link` = 'http://genome.cbis.nus.edu.sg/cgi-bin/hgTracks?db=dm3&position=chr2L:3636967-3637073' WHERE `loq_interval`.`id` = 6 ; args=(u'chr2L', 3636966, 3637073, u'dme-mir-4972', u'chr2L:3636967-3637073', 107, 6, u'.....((((.((((..((((...(((((((((((((((((((((((((.......)))))))))))))))...........))).))))))).)))))).)).))))', u'', u'', 0, '-', u'http://genome.cbis.nus.edu.sg/cgi-bin/hgTracks?db=dm3&position=chr2L:3636967-3637073', 6)\n"
       ]
      },
      {
       "output_type": "stream",
       "stream": "stdout",
       "text": [
        "\n",
        "dme-mir-1004+\n"
       ]
      },
      {
       "output_type": "stream",
       "stream": "stderr",
       "text": [
        "DEBUG:django.db.backends:(0.001) SELECT `loq_interval`.`id`, `loq_interval`.`chr`, `loq_interval`.`start`, `loq_interval`.`stop`, `loq_interval`.`mirName`, `loq_interval`.`NeatName`, `loq_interval`.`IntervalSize`, `loq_interval`.`IntervalSerialNumber`, `loq_interval`.`Structure`, `loq_interval`.`Annotations`, `loq_interval`.`Tags`, `loq_interval`.`all_reads_mapped`, `loq_interval`.`sum_normReads`, `loq_interval`.`mapped_strand`, `loq_interval`.`Link` FROM `loq_interval` WHERE `loq_interval`.`mirName` = 'dme-mir-1004' ; args=('dme-mir-1004',)\n"
       ]
      },
      {
       "output_type": "stream",
       "stream": "stderr",
       "text": [
        "DEBUG:django.db.backends:(0.000) SELECT (1) AS `a` FROM `loq_interval` WHERE `loq_interval`.`id` = 7  LIMIT 1; args=(7,)\n"
       ]
      },
      {
       "output_type": "stream",
       "stream": "stderr",
       "text": [
        "DEBUG:django.db.backends:(0.001) UPDATE `loq_interval` SET `chr` = 'chr2L', `start` = 3767620, `stop` = 3767688, `mirName` = 'dme-mir-1004', `NeatName` = 'chr2L:3767621-3767688', `IntervalSize` = 68, `IntervalSerialNumber` = 7, `Structure` = '..(((((((...((((...(((((..(.((((.....)))))..)))))...))))..)))))))...', `Annotations` = '', `Tags` = '', `all_reads_mapped` = 4, `sum_normReads` = 0.3928, `mapped_strand` = '+', `Link` = 'http://genome.cbis.nus.edu.sg/cgi-bin/hgTracks?db=dm3&position=chr2L:3767621-3767688' WHERE `loq_interval`.`id` = 7 ; args=(u'chr2L', 3767620, 3767688, u'dme-mir-1004', u'chr2L:3767621-3767688', 68, 7, u'..(((((((...((((...(((((..(.((((.....)))))..)))))...))))..)))))))...', u'', u'', 4, 0.3928, '+', u'http://genome.cbis.nus.edu.sg/cgi-bin/hgTracks?db=dm3&position=chr2L:3767621-3767688', 7)\n"
       ]
      },
      {
       "output_type": "stream",
       "stream": "stdout",
       "text": [
        "\n",
        "dme-mir-1005+\n"
       ]
      },
      {
       "output_type": "stream",
       "stream": "stderr",
       "text": [
        "DEBUG:django.db.backends:(0.001) SELECT `loq_interval`.`id`, `loq_interval`.`chr`, `loq_interval`.`start`, `loq_interval`.`stop`, `loq_interval`.`mirName`, `loq_interval`.`NeatName`, `loq_interval`.`IntervalSize`, `loq_interval`.`IntervalSerialNumber`, `loq_interval`.`Structure`, `loq_interval`.`Annotations`, `loq_interval`.`Tags`, `loq_interval`.`all_reads_mapped`, `loq_interval`.`sum_normReads`, `loq_interval`.`mapped_strand`, `loq_interval`.`Link` FROM `loq_interval` WHERE `loq_interval`.`mirName` = 'dme-mir-1005' ; args=('dme-mir-1005',)\n"
       ]
      },
      {
       "output_type": "stream",
       "stream": "stderr",
       "text": [
        "DEBUG:django.db.backends:(0.000) SELECT (1) AS `a` FROM `loq_interval` WHERE `loq_interval`.`id` = 8  LIMIT 1; args=(8,)\n"
       ]
      },
      {
       "output_type": "stream",
       "stream": "stderr",
       "text": [
        "DEBUG:django.db.backends:(0.001) UPDATE `loq_interval` SET `chr` = 'chr2L', `start` = 4343695, `stop` = 4343756, `mirName` = 'dme-mir-1005', `NeatName` = 'chr2L:4343696-4343756', `IntervalSize` = 61, `IntervalSerialNumber` = 8, `Structure` = '(((((((((..((((((.((((((((.....)))....))))))))))).)))))))))..', `Annotations` = '', `Tags` = '', `all_reads_mapped` = 34, `sum_normReads` = 14.2046, `mapped_strand` = '+', `Link` = 'http://genome.cbis.nus.edu.sg/cgi-bin/hgTracks?db=dm3&position=chr2L:4343696-4343756' WHERE `loq_interval`.`id` = 8 ; args=(u'chr2L', 4343695, 4343756, u'dme-mir-1005', u'chr2L:4343696-4343756', 61, 8, u'(((((((((..((((((.((((((((.....)))....))))))))))).)))))))))..', u'', u'', 34, 14.2046, '+', u'http://genome.cbis.nus.edu.sg/cgi-bin/hgTracks?db=dm3&position=chr2L:4343696-4343756', 8)\n"
       ]
      },
      {
       "output_type": "stream",
       "stream": "stdout",
       "text": [
        "\n",
        "dme-mir-4910-\n"
       ]
      },
      {
       "output_type": "stream",
       "stream": "stderr",
       "text": [
        "DEBUG:django.db.backends:(0.001) SELECT `loq_interval`.`id`, `loq_interval`.`chr`, `loq_interval`.`start`, `loq_interval`.`stop`, `loq_interval`.`mirName`, `loq_interval`.`NeatName`, `loq_interval`.`IntervalSize`, `loq_interval`.`IntervalSerialNumber`, `loq_interval`.`Structure`, `loq_interval`.`Annotations`, `loq_interval`.`Tags`, `loq_interval`.`all_reads_mapped`, `loq_interval`.`sum_normReads`, `loq_interval`.`mapped_strand`, `loq_interval`.`Link` FROM `loq_interval` WHERE `loq_interval`.`mirName` = 'dme-mir-4910' ; args=('dme-mir-4910',)\n"
       ]
      },
      {
       "output_type": "stream",
       "stream": "stderr",
       "text": [
        "DEBUG:django.db.backends:(0.000) SELECT (1) AS `a` FROM `loq_interval` WHERE `loq_interval`.`id` = 9  LIMIT 1; args=(9,)\n"
       ]
      },
      {
       "output_type": "stream",
       "stream": "stderr",
       "text": [
        "DEBUG:django.db.backends:(0.000) UPDATE `loq_interval` SET `chr` = 'chr2L', `start` = 4817815, `stop` = 4817881, `mirName` = 'dme-mir-4910', `NeatName` = 'chr2L:4817816-4817881', `IntervalSize` = 66, `IntervalSerialNumber` = 9, `Structure` = '....((((((((..(((((((.((..((((...))))..))))).))))..)))))))).......', `Annotations` = '', `Tags` = '', `all_reads_mapped` = 6, `sum_normReads` = 0.9004, `mapped_strand` = '-', `Link` = 'http://genome.cbis.nus.edu.sg/cgi-bin/hgTracks?db=dm3&position=chr2L:4817816-4817881' WHERE `loq_interval`.`id` = 9 ; args=(u'chr2L', 4817815, 4817881, u'dme-mir-4910', u'chr2L:4817816-4817881', 66, 9, u'....((((((((..(((((((.((..((((...))))..))))).))))..)))))))).......', u'', u'', 6, 0.9004, '-', u'http://genome.cbis.nus.edu.sg/cgi-bin/hgTracks?db=dm3&position=chr2L:4817816-4817881', 9)\n"
       ]
      },
      {
       "output_type": "stream",
       "stream": "stdout",
       "text": [
        "\n",
        "dme-mir-4912-\n"
       ]
      },
      {
       "output_type": "stream",
       "stream": "stderr",
       "text": [
        "DEBUG:django.db.backends:(0.001) SELECT `loq_interval`.`id`, `loq_interval`.`chr`, `loq_interval`.`start`, `loq_interval`.`stop`, `loq_interval`.`mirName`, `loq_interval`.`NeatName`, `loq_interval`.`IntervalSize`, `loq_interval`.`IntervalSerialNumber`, `loq_interval`.`Structure`, `loq_interval`.`Annotations`, `loq_interval`.`Tags`, `loq_interval`.`all_reads_mapped`, `loq_interval`.`sum_normReads`, `loq_interval`.`mapped_strand`, `loq_interval`.`Link` FROM `loq_interval` WHERE `loq_interval`.`mirName` = 'dme-mir-4912' ; args=('dme-mir-4912',)\n"
       ]
      },
      {
       "output_type": "stream",
       "stream": "stderr",
       "text": [
        "DEBUG:django.db.backends:(0.000) SELECT (1) AS `a` FROM `loq_interval` WHERE `loq_interval`.`id` = 10  LIMIT 1; args=(10,)\n"
       ]
      },
      {
       "output_type": "stream",
       "stream": "stderr",
       "text": [
        "DEBUG:django.db.backends:(0.001) UPDATE `loq_interval` SET `chr` = 'chr2L', `start` = 4829979, `stop` = 4830039, `mirName` = 'dme-mir-4912', `NeatName` = 'chr2L:4829980-4830039', `IntervalSize` = 60, `IntervalSerialNumber` = 10, `Structure` = '..(((((((.((((((((((..(((.......)))))))))..))).).)))))))....', `Annotations` = '', `Tags` = '', `all_reads_mapped` = 4, `sum_normReads` = 0.4542, `mapped_strand` = '-', `Link` = 'http://genome.cbis.nus.edu.sg/cgi-bin/hgTracks?db=dm3&position=chr2L:4829980-4830039' WHERE `loq_interval`.`id` = 10 ; args=(u'chr2L', 4829979, 4830039, u'dme-mir-4912', u'chr2L:4829980-4830039', 60, 10, u'..(((((((.((((((((((..(((.......)))))))))..))).).)))))))....', u'', u'', 4, 0.4542, '-', u'http://genome.cbis.nus.edu.sg/cgi-bin/hgTracks?db=dm3&position=chr2L:4829980-4830039', 10)\n"
       ]
      },
      {
       "output_type": "stream",
       "stream": "stdout",
       "text": [
        "\n",
        "dme-mir-2495+\n"
       ]
      },
      {
       "output_type": "stream",
       "stream": "stderr",
       "text": [
        "DEBUG:django.db.backends:(0.001) SELECT `loq_interval`.`id`, `loq_interval`.`chr`, `loq_interval`.`start`, `loq_interval`.`stop`, `loq_interval`.`mirName`, `loq_interval`.`NeatName`, `loq_interval`.`IntervalSize`, `loq_interval`.`IntervalSerialNumber`, `loq_interval`.`Structure`, `loq_interval`.`Annotations`, `loq_interval`.`Tags`, `loq_interval`.`all_reads_mapped`, `loq_interval`.`sum_normReads`, `loq_interval`.`mapped_strand`, `loq_interval`.`Link` FROM `loq_interval` WHERE `loq_interval`.`mirName` = 'dme-mir-2495' ; args=('dme-mir-2495',)\n"
       ]
      },
      {
       "output_type": "stream",
       "stream": "stderr",
       "text": [
        "DEBUG:django.db.backends:(0.000) SELECT (1) AS `a` FROM `loq_interval` WHERE `loq_interval`.`id` = 11  LIMIT 1; args=(11,)\n"
       ]
      },
      {
       "output_type": "stream",
       "stream": "stderr",
       "text": [
        "DEBUG:django.db.backends:(0.000) UPDATE `loq_interval` SET `chr` = 'chr2L', `start` = 5068569, `stop` = 5068684, `mirName` = 'dme-mir-2495', `NeatName` = 'chr2L:5068570-5068684', `IntervalSize` = 115, `IntervalSerialNumber` = 11, `Structure` = '(((.(((((..((((((((((.((((.((((.(((((((((((((.((((.((.....)).)))))))).)).))))))).)))))))).).))).)).))))...)))))))).', `Annotations` = '', `Tags` = '', `all_reads_mapped` = 1, `sum_normReads` = 0.0428, `mapped_strand` = '+', `Link` = 'http://genome.cbis.nus.edu.sg/cgi-bin/hgTracks?db=dm3&position=chr2L:5068570-5068684' WHERE `loq_interval`.`id` = 11 ; args=(u'chr2L', 5068569, 5068684, u'dme-mir-2495', u'chr2L:5068570-5068684', 115, 11, u'(((.(((((..((((((((((.((((.((((.(((((((((((((.((((.((.....)).)))))))).)).))))))).)))))))).).))).)).))))...)))))))).', u'', u'', 1, 0.0428, '+', u'http://genome.cbis.nus.edu.sg/cgi-bin/hgTracks?db=dm3&position=chr2L:5068570-5068684', 11)\n"
       ]
      },
      {
       "output_type": "stream",
       "stream": "stdout",
       "text": [
        "\n",
        "dme-mir-959+\n"
       ]
      },
      {
       "output_type": "stream",
       "stream": "stderr",
       "text": [
        "DEBUG:django.db.backends:(0.001) SELECT `loq_interval`.`id`, `loq_interval`.`chr`, `loq_interval`.`start`, `loq_interval`.`stop`, `loq_interval`.`mirName`, `loq_interval`.`NeatName`, `loq_interval`.`IntervalSize`, `loq_interval`.`IntervalSerialNumber`, `loq_interval`.`Structure`, `loq_interval`.`Annotations`, `loq_interval`.`Tags`, `loq_interval`.`all_reads_mapped`, `loq_interval`.`sum_normReads`, `loq_interval`.`mapped_strand`, `loq_interval`.`Link` FROM `loq_interval` WHERE `loq_interval`.`mirName` = 'dme-mir-959' ; args=('dme-mir-959',)\n"
       ]
      },
      {
       "output_type": "stream",
       "stream": "stderr",
       "text": [
        "DEBUG:django.db.backends:(0.000) SELECT (1) AS `a` FROM `loq_interval` WHERE `loq_interval`.`id` = 12  LIMIT 1; args=(12,)\n"
       ]
      },
      {
       "output_type": "stream",
       "stream": "stderr",
       "text": [
        "DEBUG:django.db.backends:(0.001) UPDATE `loq_interval` SET `chr` = 'chr2L', `start` = 5640939, `stop` = 5641037, `mirName` = 'dme-mir-959', `NeatName` = 'chr2L:5640940-5641037', `IntervalSize` = 98, `IntervalSerialNumber` = 12, `Structure` = '....(((((..((((((((.((((((((....((((((((.((((......))))...))))))))....)))))))).).)))))))..)))))...', `Annotations` = '', `Tags` = '', `all_reads_mapped` = 13, `sum_normReads` = 1.6197, `mapped_strand` = '+', `Link` = 'http://genome.cbis.nus.edu.sg/cgi-bin/hgTracks?db=dm3&position=chr2L:5640940-5641037' WHERE `loq_interval`.`id` = 12 ; args=(u'chr2L', 5640939, 5641037, u'dme-mir-959', u'chr2L:5640940-5641037', 98, 12, u'....(((((..((((((((.((((((((....((((((((.((((......))))...))))))))....)))))))).).)))))))..)))))...', u'', u'', 13, 1.6197, '+', u'http://genome.cbis.nus.edu.sg/cgi-bin/hgTracks?db=dm3&position=chr2L:5640940-5641037', 12)\n"
       ]
      },
      {
       "output_type": "stream",
       "stream": "stdout",
       "text": [
        "\n",
        "dme-mir-960+\n"
       ]
      },
      {
       "output_type": "stream",
       "stream": "stderr",
       "text": [
        "DEBUG:django.db.backends:(0.001) SELECT `loq_interval`.`id`, `loq_interval`.`chr`, `loq_interval`.`start`, `loq_interval`.`stop`, `loq_interval`.`mirName`, `loq_interval`.`NeatName`, `loq_interval`.`IntervalSize`, `loq_interval`.`IntervalSerialNumber`, `loq_interval`.`Structure`, `loq_interval`.`Annotations`, `loq_interval`.`Tags`, `loq_interval`.`all_reads_mapped`, `loq_interval`.`sum_normReads`, `loq_interval`.`mapped_strand`, `loq_interval`.`Link` FROM `loq_interval` WHERE `loq_interval`.`mirName` = 'dme-mir-960' ; args=('dme-mir-960',)\n"
       ]
      },
      {
       "output_type": "stream",
       "stream": "stderr",
       "text": [
        "DEBUG:django.db.backends:(0.000) SELECT (1) AS `a` FROM `loq_interval` WHERE `loq_interval`.`id` = 13  LIMIT 1; args=(13,)\n"
       ]
      },
      {
       "output_type": "stream",
       "stream": "stderr",
       "text": [
        "DEBUG:django.db.backends:(0.001) UPDATE `loq_interval` SET `chr` = 'chr2L', `start` = 5641062, `stop` = 5641155, `mirName` = 'dme-mir-960', `NeatName` = 'chr2L:5641063-5641155', `IntervalSize` = 93, `IntervalSerialNumber` = 13, `Structure` = '.(((((.((((((......((((.((((((((((.(((((..((......))..))))).)))))))))).))))......)))))).)))))', `Annotations` = '', `Tags` = '', `all_reads_mapped` = 20, `sum_normReads` = 8.5696, `mapped_strand` = '+', `Link` = 'http://genome.cbis.nus.edu.sg/cgi-bin/hgTracks?db=dm3&position=chr2L:5641063-5641155' WHERE `loq_interval`.`id` = 13 ; args=(u'chr2L', 5641062, 5641155, u'dme-mir-960', u'chr2L:5641063-5641155', 93, 13, u'.(((((.((((((......((((.((((((((((.(((((..((......))..))))).)))))))))).))))......)))))).)))))', u'', u'', 20, 8.5696, '+', u'http://genome.cbis.nus.edu.sg/cgi-bin/hgTracks?db=dm3&position=chr2L:5641063-5641155', 13)\n"
       ]
      },
      {
       "output_type": "stream",
       "stream": "stdout",
       "text": [
        "\n",
        "dme-mir-961+\n"
       ]
      },
      {
       "output_type": "stream",
       "stream": "stderr",
       "text": [
        "DEBUG:django.db.backends:(0.001) SELECT `loq_interval`.`id`, `loq_interval`.`chr`, `loq_interval`.`start`, `loq_interval`.`stop`, `loq_interval`.`mirName`, `loq_interval`.`NeatName`, `loq_interval`.`IntervalSize`, `loq_interval`.`IntervalSerialNumber`, `loq_interval`.`Structure`, `loq_interval`.`Annotations`, `loq_interval`.`Tags`, `loq_interval`.`all_reads_mapped`, `loq_interval`.`sum_normReads`, `loq_interval`.`mapped_strand`, `loq_interval`.`Link` FROM `loq_interval` WHERE `loq_interval`.`mirName` = 'dme-mir-961' ; args=('dme-mir-961',)\n"
       ]
      },
      {
       "output_type": "stream",
       "stream": "stderr",
       "text": [
        "DEBUG:django.db.backends:(0.000) SELECT (1) AS `a` FROM `loq_interval` WHERE `loq_interval`.`id` = 14  LIMIT 1; args=(14,)\n"
       ]
      },
      {
       "output_type": "stream",
       "stream": "stderr",
       "text": [
        "DEBUG:django.db.backends:(0.001) UPDATE `loq_interval` SET `chr` = 'chr2L', `start` = 5641190, `stop` = 5641279, `mirName` = 'dme-mir-961', `NeatName` = 'chr2L:5641191-5641279', `IntervalSize` = 89, `IntervalSerialNumber` = 14, `Structure` = '....((((((((((.(.((((((..((((.(((.((((((((.......)))))))))))..))))..)))))).)))))))).)))..', `Annotations` = '', `Tags` = '', `all_reads_mapped` = 3, `sum_normReads` = 0.7098, `mapped_strand` = '+', `Link` = 'http://genome.cbis.nus.edu.sg/cgi-bin/hgTracks?db=dm3&position=chr2L:5641191-5641279' WHERE `loq_interval`.`id` = 14 ; args=(u'chr2L', 5641190, 5641279, u'dme-mir-961', u'chr2L:5641191-5641279', 89, 14, u'....((((((((((.(.((((((..((((.(((.((((((((.......)))))))))))..))))..)))))).)))))))).)))..', u'', u'', 3, 0.7098, '+', u'http://genome.cbis.nus.edu.sg/cgi-bin/hgTracks?db=dm3&position=chr2L:5641191-5641279', 14)\n"
       ]
      },
      {
       "output_type": "stream",
       "stream": "stdout",
       "text": [
        "\n",
        "dme-mir-962+\n"
       ]
      },
      {
       "output_type": "stream",
       "stream": "stderr",
       "text": [
        "DEBUG:django.db.backends:(0.001) SELECT `loq_interval`.`id`, `loq_interval`.`chr`, `loq_interval`.`start`, `loq_interval`.`stop`, `loq_interval`.`mirName`, `loq_interval`.`NeatName`, `loq_interval`.`IntervalSize`, `loq_interval`.`IntervalSerialNumber`, `loq_interval`.`Structure`, `loq_interval`.`Annotations`, `loq_interval`.`Tags`, `loq_interval`.`all_reads_mapped`, `loq_interval`.`sum_normReads`, `loq_interval`.`mapped_strand`, `loq_interval`.`Link` FROM `loq_interval` WHERE `loq_interval`.`mirName` = 'dme-mir-962' ; args=('dme-mir-962',)\n"
       ]
      },
      {
       "output_type": "stream",
       "stream": "stderr",
       "text": [
        "DEBUG:django.db.backends:(0.000) SELECT (1) AS `a` FROM `loq_interval` WHERE `loq_interval`.`id` = 15  LIMIT 1; args=(15,)\n"
       ]
      },
      {
       "output_type": "stream",
       "stream": "stderr",
       "text": [
        "DEBUG:django.db.backends:(0.001) UPDATE `loq_interval` SET `chr` = 'chr2L', `start` = 5641297, `stop` = 5641389, `mirName` = 'dme-mir-962', `NeatName` = 'chr2L:5641298-5641389', `IntervalSize` = 92, `IntervalSerialNumber` = 15, `Structure` = '...((((((..((((....(((((((.((((((((.((((...........))).).)))))))).)))))))....))))..))))))...', `Annotations` = '', `Tags` = '', `all_reads_mapped` = 9, `sum_normReads` = 1.2106, `mapped_strand` = '+', `Link` = 'http://genome.cbis.nus.edu.sg/cgi-bin/hgTracks?db=dm3&position=chr2L:5641298-5641389' WHERE `loq_interval`.`id` = 15 ; args=(u'chr2L', 5641297, 5641389, u'dme-mir-962', u'chr2L:5641298-5641389', 92, 15, u'...((((((..((((....(((((((.((((((((.((((...........))).).)))))))).)))))))....))))..))))))...', u'', u'', 9, 1.2106, '+', u'http://genome.cbis.nus.edu.sg/cgi-bin/hgTracks?db=dm3&position=chr2L:5641298-5641389', 15)\n"
       ]
      },
      {
       "output_type": "stream",
       "stream": "stdout",
       "text": [
        "\n",
        "dme-mir-963+\n"
       ]
      },
      {
       "output_type": "stream",
       "stream": "stderr",
       "text": [
        "DEBUG:django.db.backends:(0.002) SELECT `loq_interval`.`id`, `loq_interval`.`chr`, `loq_interval`.`start`, `loq_interval`.`stop`, `loq_interval`.`mirName`, `loq_interval`.`NeatName`, `loq_interval`.`IntervalSize`, `loq_interval`.`IntervalSerialNumber`, `loq_interval`.`Structure`, `loq_interval`.`Annotations`, `loq_interval`.`Tags`, `loq_interval`.`all_reads_mapped`, `loq_interval`.`sum_normReads`, `loq_interval`.`mapped_strand`, `loq_interval`.`Link` FROM `loq_interval` WHERE `loq_interval`.`mirName` = 'dme-mir-963' ; args=('dme-mir-963',)\n"
       ]
      },
      {
       "output_type": "stream",
       "stream": "stderr",
       "text": [
        "DEBUG:django.db.backends:(0.000) SELECT (1) AS `a` FROM `loq_interval` WHERE `loq_interval`.`id` = 16  LIMIT 1; args=(16,)\n"
       ]
      },
      {
       "output_type": "stream",
       "stream": "stderr",
       "text": [
        "DEBUG:django.db.backends:(0.001) UPDATE `loq_interval` SET `chr` = 'chr2L', `start` = 5641989, `stop` = 5642078, `mirName` = 'dme-mir-963', `NeatName` = 'chr2L:5641990-5642078', `IntervalSize` = 89, `IntervalSerialNumber` = 16, `Structure` = '...((((((((...(((((((((.(((.(((((.(((((............))))))))))))).)))).)))))..))))))))....', `Annotations` = '', `Tags` = '', `all_reads_mapped` = 27, `sum_normReads` = 6.5734, `mapped_strand` = '+', `Link` = 'http://genome.cbis.nus.edu.sg/cgi-bin/hgTracks?db=dm3&position=chr2L:5641990-5642078' WHERE `loq_interval`.`id` = 16 ; args=(u'chr2L', 5641989, 5642078, u'dme-mir-963', u'chr2L:5641990-5642078', 89, 16, u'...((((((((...(((((((((.(((.(((((.(((((............))))))))))))).)))).)))))..))))))))....', u'', u'', 27, 6.5734, '+', u'http://genome.cbis.nus.edu.sg/cgi-bin/hgTracks?db=dm3&position=chr2L:5641990-5642078', 16)\n"
       ]
      },
      {
       "output_type": "stream",
       "stream": "stdout",
       "text": [
        "\n",
        "dme-mir-964+\n"
       ]
      },
      {
       "output_type": "stream",
       "stream": "stderr",
       "text": [
        "DEBUG:django.db.backends:(0.001) SELECT `loq_interval`.`id`, `loq_interval`.`chr`, `loq_interval`.`start`, `loq_interval`.`stop`, `loq_interval`.`mirName`, `loq_interval`.`NeatName`, `loq_interval`.`IntervalSize`, `loq_interval`.`IntervalSerialNumber`, `loq_interval`.`Structure`, `loq_interval`.`Annotations`, `loq_interval`.`Tags`, `loq_interval`.`all_reads_mapped`, `loq_interval`.`sum_normReads`, `loq_interval`.`mapped_strand`, `loq_interval`.`Link` FROM `loq_interval` WHERE `loq_interval`.`mirName` = 'dme-mir-964' ; args=('dme-mir-964',)\n"
       ]
      },
      {
       "output_type": "stream",
       "stream": "stderr",
       "text": [
        "DEBUG:django.db.backends:(0.000) SELECT (1) AS `a` FROM `loq_interval` WHERE `loq_interval`.`id` = 17  LIMIT 1; args=(17,)\n"
       ]
      },
      {
       "output_type": "stream",
       "stream": "stderr",
       "text": [
        "DEBUG:django.db.backends:(0.001) UPDATE `loq_interval` SET `chr` = 'chr2L', `start` = 5642101, `stop` = 5642201, `mirName` = 'dme-mir-964', `NeatName` = 'chr2L:5642102-5642201', `IntervalSize` = 100, `IntervalSerialNumber` = 17, `Structure` = '...........((((((((.(((.(((((((((((((...((((((((.............))))))))...))))))))))))).))).)))..)))))', `Annotations` = '', `Tags` = '', `all_reads_mapped` = 54, `sum_normReads` = 28.955, `mapped_strand` = '+', `Link` = 'http://genome.cbis.nus.edu.sg/cgi-bin/hgTracks?db=dm3&position=chr2L:5642102-5642201' WHERE `loq_interval`.`id` = 17 ; args=(u'chr2L', 5642101, 5642201, u'dme-mir-964', u'chr2L:5642102-5642201', 100, 17, u'...........((((((((.(((.(((((((((((((...((((((((.............))))))))...))))))))))))).))).)))..)))))', u'', u'', 54, 28.955, '+', u'http://genome.cbis.nus.edu.sg/cgi-bin/hgTracks?db=dm3&position=chr2L:5642102-5642201', 17)\n"
       ]
      },
      {
       "output_type": "stream",
       "stream": "stdout",
       "text": [
        "\n",
        "dme-mir-966-\n"
       ]
      },
      {
       "output_type": "stream",
       "stream": "stderr",
       "text": [
        "DEBUG:django.db.backends:(0.001) SELECT `loq_interval`.`id`, `loq_interval`.`chr`, `loq_interval`.`start`, `loq_interval`.`stop`, `loq_interval`.`mirName`, `loq_interval`.`NeatName`, `loq_interval`.`IntervalSize`, `loq_interval`.`IntervalSerialNumber`, `loq_interval`.`Structure`, `loq_interval`.`Annotations`, `loq_interval`.`Tags`, `loq_interval`.`all_reads_mapped`, `loq_interval`.`sum_normReads`, `loq_interval`.`mapped_strand`, `loq_interval`.`Link` FROM `loq_interval` WHERE `loq_interval`.`mirName` = 'dme-mir-966' ; args=('dme-mir-966',)\n"
       ]
      },
      {
       "output_type": "stream",
       "stream": "stderr",
       "text": [
        "DEBUG:django.db.backends:(0.000) SELECT (1) AS `a` FROM `loq_interval` WHERE `loq_interval`.`id` = 18  LIMIT 1; args=(18,)\n"
       ]
      },
      {
       "output_type": "stream",
       "stream": "stderr",
       "text": [
        "DEBUG:django.db.backends:(0.001) UPDATE `loq_interval` SET `chr` = 'chr2L', `start` = 6045626, `stop` = 6045713, `mirName` = 'dme-mir-966', `NeatName` = 'chr2L:6045627-6045713', `IntervalSize` = 87, `IntervalSerialNumber` = 18, `Structure` = '..((((.(((((.((((.(((((((.(((((.(((((............)))))))))).))))))).))))))))))).)).....', `Annotations` = '', `Tags` = '', `all_reads_mapped` = 38, `sum_normReads` = 15.6737, `mapped_strand` = '-', `Link` = 'http://genome.cbis.nus.edu.sg/cgi-bin/hgTracks?db=dm3&position=chr2L:6045627-6045713' WHERE `loq_interval`.`id` = 18 ; args=(u'chr2L', 6045626, 6045713, u'dme-mir-966', u'chr2L:6045627-6045713', 87, 18, u'..((((.(((((.((((.(((((((.(((((.(((((............)))))))))).))))))).))))))))))).)).....', u'', u'', 38, 15.6737, '-', u'http://genome.cbis.nus.edu.sg/cgi-bin/hgTracks?db=dm3&position=chr2L:6045627-6045713', 18)\n"
       ]
      },
      {
       "output_type": "stream",
       "stream": "stderr",
       "text": [
        "DEBUG:django.db.backends:(0.001) SELECT `loq_interval`.`id`, `loq_interval`.`chr`, `loq_interval`.`start`, `loq_interval`.`stop`, `loq_interval`.`mirName`, `loq_interval`.`NeatName`, `loq_interval`.`IntervalSize`, `loq_interval`.`IntervalSerialNumber`, `loq_interval`.`Structure`, `loq_interval`.`Annotations`, `loq_interval`.`Tags`, `loq_interval`.`all_reads_mapped`, `loq_interval`.`sum_normReads`, `loq_interval`.`mapped_strand`, `loq_interval`.`Link` FROM `loq_interval` WHERE `loq_interval`.`mirName` = 'dme-mir-932' ; args=('dme-mir-932',)\n"
       ]
      },
      {
       "output_type": "stream",
       "stream": "stderr",
       "text": [
        "DEBUG:django.db.backends:(0.000) SELECT (1) AS `a` FROM `loq_interval` WHERE `loq_interval`.`id` = 19  LIMIT 1; args=(19,)\n"
       ]
      },
      {
       "output_type": "stream",
       "stream": "stderr",
       "text": [
        "DEBUG:django.db.backends:(0.001) UPDATE `loq_interval` SET `chr` = 'chr2L', `start` = 6902061, `stop` = 6902152, `mirName` = 'dme-mir-932', `NeatName` = 'chr2L:6902062-6902152', `IntervalSize` = 91, `IntervalSerialNumber` = 19, `Structure` = '..((((((((((((.((((.((((((((((.((((((((.((......)).)))))))))))))))))).)))).)))))))).))))...', `Annotations` = '', `Tags` = '', `all_reads_mapped` = 60, `sum_normReads` = 174.2176, `mapped_strand` = '+', `Link` = 'http://genome.cbis.nus.edu.sg/cgi-bin/hgTracks?db=dm3&position=chr2L:6902062-6902152' WHERE `loq_interval`.`id` = 19 ; args=(u'chr2L', 6902061, 6902152, u'dme-mir-932', u'chr2L:6902062-6902152', 91, 19, u'..((((((((((((.((((.((((((((((.((((((((.((......)).)))))))))))))))))).)))).)))))))).))))...', u'', u'', 60, 174.2176, '+', u'http://genome.cbis.nus.edu.sg/cgi-bin/hgTracks?db=dm3&position=chr2L:6902062-6902152', 19)\n"
       ]
      },
      {
       "output_type": "stream",
       "stream": "stdout",
       "text": [
        "\n",
        "dme-mir-932+\n",
        "\n",
        "dme-mir-275+\n"
       ]
      },
      {
       "output_type": "stream",
       "stream": "stderr",
       "text": [
        "DEBUG:django.db.backends:(0.001) SELECT `loq_interval`.`id`, `loq_interval`.`chr`, `loq_interval`.`start`, `loq_interval`.`stop`, `loq_interval`.`mirName`, `loq_interval`.`NeatName`, `loq_interval`.`IntervalSize`, `loq_interval`.`IntervalSerialNumber`, `loq_interval`.`Structure`, `loq_interval`.`Annotations`, `loq_interval`.`Tags`, `loq_interval`.`all_reads_mapped`, `loq_interval`.`sum_normReads`, `loq_interval`.`mapped_strand`, `loq_interval`.`Link` FROM `loq_interval` WHERE `loq_interval`.`mirName` = 'dme-mir-275' ; args=('dme-mir-275',)\n"
       ]
      },
      {
       "output_type": "stream",
       "stream": "stderr",
       "text": [
        "DEBUG:django.db.backends:(0.000) SELECT (1) AS `a` FROM `loq_interval` WHERE `loq_interval`.`id` = 20  LIMIT 1; args=(20,)\n"
       ]
      },
      {
       "output_type": "stream",
       "stream": "stderr",
       "text": [
        "DEBUG:django.db.backends:(0.001) UPDATE `loq_interval` SET `chr` = 'chr2L', `start` = 7425794, `stop` = 7425892, `mirName` = 'dme-mir-275', `NeatName` = 'chr2L:7425795-7425892', `IntervalSize` = 98, `IntervalSerialNumber` = 20, `Structure` = '......((((.(((((.(((((((((.((((..(((..(((((..(......)..))))).)))..))))..))))))))).))))).))))......', `Annotations` = '', `Tags` = '', `all_reads_mapped` = 347, `sum_normReads` = 35516.2339, `mapped_strand` = '+', `Link` = 'http://genome.cbis.nus.edu.sg/cgi-bin/hgTracks?db=dm3&position=chr2L:7425795-7425892' WHERE `loq_interval`.`id` = 20 ; args=(u'chr2L', 7425794, 7425892, u'dme-mir-275', u'chr2L:7425795-7425892', 98, 20, u'......((((.(((((.(((((((((.((((..(((..(((((..(......)..))))).)))..))))..))))))))).))))).))))......', u'', u'', 347, 35516.2339, '+', u'http://genome.cbis.nus.edu.sg/cgi-bin/hgTracks?db=dm3&position=chr2L:7425795-7425892', 20)\n"
       ]
      },
      {
       "output_type": "stream",
       "stream": "stderr",
       "text": [
        "DEBUG:django.db.backends:(0.001) SELECT `loq_interval`.`id`, `loq_interval`.`chr`, `loq_interval`.`start`, `loq_interval`.`stop`, `loq_interval`.`mirName`, `loq_interval`.`NeatName`, `loq_interval`.`IntervalSize`, `loq_interval`.`IntervalSerialNumber`, `loq_interval`.`Structure`, `loq_interval`.`Annotations`, `loq_interval`.`Tags`, `loq_interval`.`all_reads_mapped`, `loq_interval`.`sum_normReads`, `loq_interval`.`mapped_strand`, `loq_interval`.`Link` FROM `loq_interval` WHERE `loq_interval`.`mirName` = 'dme-mir-305' ; args=('dme-mir-305',)\n"
       ]
      },
      {
       "output_type": "stream",
       "stream": "stderr",
       "text": [
        "DEBUG:django.db.backends:(0.000) SELECT (1) AS `a` FROM `loq_interval` WHERE `loq_interval`.`id` = 21  LIMIT 1; args=(21,)\n"
       ]
      },
      {
       "output_type": "stream",
       "stream": "stderr",
       "text": [
        "DEBUG:django.db.backends:(0.000) UPDATE `loq_interval` SET `chr` = 'chr2L', `start` = 7425971, `stop` = 7426044, `mirName` = 'dme-mir-305', `NeatName` = 'chr2L:7425972-7426044', `IntervalSize` = 73, `IntervalSerialNumber` = 21, `Structure` = '(((((....(((((((((.((.(((((..((.((........))))))))).)).)))))))))....)))))', `Annotations` = '', `Tags` = '', `all_reads_mapped` = 438, `sum_normReads` = 34763.9971000001, `mapped_strand` = '+', `Link` = 'http://genome.cbis.nus.edu.sg/cgi-bin/hgTracks?db=dm3&position=chr2L:7425972-7426044' WHERE `loq_interval`.`id` = 21 ; args=(u'chr2L', 7425971, 7426044, u'dme-mir-305', u'chr2L:7425972-7426044', 73, 21, u'(((((....(((((((((.((.(((((..((.((........))))))))).)).)))))))))....)))))', u'', u'', 438, 34763.9971000001, '+', u'http://genome.cbis.nus.edu.sg/cgi-bin/hgTracks?db=dm3&position=chr2L:7425972-7426044', 21)\n"
       ]
      },
      {
       "output_type": "stream",
       "stream": "stdout",
       "text": [
        "\n",
        "dme-mir-305+\n",
        "\n",
        "dme-mir-4984-\n"
       ]
      },
      {
       "output_type": "stream",
       "stream": "stderr",
       "text": [
        "DEBUG:django.db.backends:(0.001) SELECT `loq_interval`.`id`, `loq_interval`.`chr`, `loq_interval`.`start`, `loq_interval`.`stop`, `loq_interval`.`mirName`, `loq_interval`.`NeatName`, `loq_interval`.`IntervalSize`, `loq_interval`.`IntervalSerialNumber`, `loq_interval`.`Structure`, `loq_interval`.`Annotations`, `loq_interval`.`Tags`, `loq_interval`.`all_reads_mapped`, `loq_interval`.`sum_normReads`, `loq_interval`.`mapped_strand`, `loq_interval`.`Link` FROM `loq_interval` WHERE `loq_interval`.`mirName` = 'dme-mir-4984' ; args=('dme-mir-4984',)\n"
       ]
      },
      {
       "output_type": "stream",
       "stream": "stderr",
       "text": [
        "DEBUG:django.db.backends:(0.000) SELECT (1) AS `a` FROM `loq_interval` WHERE `loq_interval`.`id` = 22  LIMIT 1; args=(22,)\n"
       ]
      },
      {
       "output_type": "stream",
       "stream": "stderr",
       "text": [
        "DEBUG:django.db.backends:(0.001) UPDATE `loq_interval` SET `chr` = 'chr2L', `start` = 8141539, `stop` = 8141662, `mirName` = 'dme-mir-4984', `NeatName` = 'chr2L:8141540-8141662', `IntervalSize` = 123, `IntervalSerialNumber` = 22, `Structure` = '...(((..((.(((((((.....(((((((((((((((((.(..(((.....((((.((........)).))))..)))..).))))))))))))))))).......)))).))).))..)))', `Annotations` = '', `Tags` = '', `all_reads_mapped` = 4, `sum_normReads` = 0.8754, `mapped_strand` = '-', `Link` = 'http://genome.cbis.nus.edu.sg/cgi-bin/hgTracks?db=dm3&position=chr2L:8141540-8141662' WHERE `loq_interval`.`id` = 22 ; args=(u'chr2L', 8141539, 8141662, u'dme-mir-4984', u'chr2L:8141540-8141662', 123, 22, u'...(((..((.(((((((.....(((((((((((((((((.(..(((.....((((.((........)).))))..)))..).))))))))))))))))).......)))).))).))..)))', u'', u'', 4, 0.8754, '-', u'http://genome.cbis.nus.edu.sg/cgi-bin/hgTracks?db=dm3&position=chr2L:8141540-8141662', 22)\n"
       ]
      },
      {
       "output_type": "stream",
       "stream": "stderr",
       "text": [
        "DEBUG:django.db.backends:(0.001) SELECT `loq_interval`.`id`, `loq_interval`.`chr`, `loq_interval`.`start`, `loq_interval`.`stop`, `loq_interval`.`mirName`, `loq_interval`.`NeatName`, `loq_interval`.`IntervalSize`, `loq_interval`.`IntervalSerialNumber`, `loq_interval`.`Structure`, `loq_interval`.`Annotations`, `loq_interval`.`Tags`, `loq_interval`.`all_reads_mapped`, `loq_interval`.`sum_normReads`, `loq_interval`.`mapped_strand`, `loq_interval`.`Link` FROM `loq_interval` WHERE `loq_interval`.`mirName` = 'dme-mir-2b-1' ; args=('dme-mir-2b-1',)\n"
       ]
      },
      {
       "output_type": "stream",
       "stream": "stderr",
       "text": [
        "DEBUG:django.db.backends:(0.000) SELECT (1) AS `a` FROM `loq_interval` WHERE `loq_interval`.`id` = 23  LIMIT 1; args=(23,)\n"
       ]
      },
      {
       "output_type": "stream",
       "stream": "stderr",
       "text": [
        "DEBUG:django.db.backends:(0.000) UPDATE `loq_interval` SET `chr` = 'chr2L', `start` = 8258615, `stop` = 8258692, `mirName` = 'dme-mir-2b-1', `NeatName` = 'chr2L:8258616-8258692', `IntervalSize` = 77, `IntervalSerialNumber` = 23, `Structure` = '...((((..(((((((((((((.((((.((((((....)))))).....)))).)))).)))))))))..))))...', `Annotations` = '', `Tags` = '', `all_reads_mapped` = 414, `sum_normReads` = 70748.9382999999, `mapped_strand` = '-', `Link` = 'http://genome.cbis.nus.edu.sg/cgi-bin/hgTracks?db=dm3&position=chr2L:8258616-8258692' WHERE `loq_interval`.`id` = 23 ; args=(u'chr2L', 8258615, 8258692, u'dme-mir-2b-1', u'chr2L:8258616-8258692', 77, 23, u'...((((..(((((((((((((.((((.((((((....)))))).....)))).)))).)))))))))..))))...', u'', u'', 414, 70748.9382999999, '-', u'http://genome.cbis.nus.edu.sg/cgi-bin/hgTracks?db=dm3&position=chr2L:8258616-8258692', 23)\n"
       ]
      },
      {
       "output_type": "stream",
       "stream": "stdout",
       "text": [
        "\n",
        "dme-mir-2b-1-\n",
        "\n",
        "dme-mir-87-\n"
       ]
      },
      {
       "output_type": "stream",
       "stream": "stderr",
       "text": [
        "DEBUG:django.db.backends:(0.001) SELECT `loq_interval`.`id`, `loq_interval`.`chr`, `loq_interval`.`start`, `loq_interval`.`stop`, `loq_interval`.`mirName`, `loq_interval`.`NeatName`, `loq_interval`.`IntervalSize`, `loq_interval`.`IntervalSerialNumber`, `loq_interval`.`Structure`, `loq_interval`.`Annotations`, `loq_interval`.`Tags`, `loq_interval`.`all_reads_mapped`, `loq_interval`.`sum_normReads`, `loq_interval`.`mapped_strand`, `loq_interval`.`Link` FROM `loq_interval` WHERE `loq_interval`.`mirName` = 'dme-mir-87' ; args=('dme-mir-87',)\n"
       ]
      },
      {
       "output_type": "stream",
       "stream": "stderr",
       "text": [
        "DEBUG:django.db.backends:(0.000) SELECT (1) AS `a` FROM `loq_interval` WHERE `loq_interval`.`id` = 24  LIMIT 1; args=(24,)\n"
       ]
      },
      {
       "output_type": "stream",
       "stream": "stderr",
       "text": [
        "DEBUG:django.db.backends:(0.001) UPDATE `loq_interval` SET `chr` = 'chr2L', `start` = 9950417, `stop` = 9950516, `mirName` = 'dme-mir-87', `NeatName` = 'chr2L:9950418-9950516', `IntervalSize` = 99, `IntervalSerialNumber` = 24, `Structure` = '((((((((((.(.((((((((.((.(((((.(((((..((((...))))........))))).))))).))..)))))))).).)))))))))).....', `Annotations` = '', `Tags` = '', `all_reads_mapped` = 12, `sum_normReads` = 1.5254, `mapped_strand` = '-', `Link` = 'http://genome.cbis.nus.edu.sg/cgi-bin/hgTracks?db=dm3&position=chr2L:9950418-9950516' WHERE `loq_interval`.`id` = 24 ; args=(u'chr2L', 9950417, 9950516, u'dme-mir-87', u'chr2L:9950418-9950516', 99, 24, u'((((((((((.(.((((((((.((.(((((.(((((..((((...))))........))))).))))).))..)))))))).).)))))))))).....', u'', u'', 12, 1.5254, '-', u'http://genome.cbis.nus.edu.sg/cgi-bin/hgTracks?db=dm3&position=chr2L:9950418-9950516', 24)\n"
       ]
      },
      {
       "output_type": "stream",
       "stream": "stderr",
       "text": [
        "DEBUG:django.db.backends:(0.001) SELECT `loq_interval`.`id`, `loq_interval`.`chr`, `loq_interval`.`start`, `loq_interval`.`stop`, `loq_interval`.`mirName`, `loq_interval`.`NeatName`, `loq_interval`.`IntervalSize`, `loq_interval`.`IntervalSerialNumber`, `loq_interval`.`Structure`, `loq_interval`.`Annotations`, `loq_interval`.`Tags`, `loq_interval`.`all_reads_mapped`, `loq_interval`.`sum_normReads`, `loq_interval`.`mapped_strand`, `loq_interval`.`Link` FROM `loq_interval` WHERE `loq_interval`.`mirName` = 'dme-mir-4970' ; args=('dme-mir-4970',)\n"
       ]
      },
      {
       "output_type": "stream",
       "stream": "stderr",
       "text": [
        "DEBUG:django.db.backends:(0.000) SELECT (1) AS `a` FROM `loq_interval` WHERE `loq_interval`.`id` = 25  LIMIT 1; args=(25,)\n"
       ]
      },
      {
       "output_type": "stream",
       "stream": "stderr",
       "text": [
        "DEBUG:django.db.backends:(0.000) UPDATE `loq_interval` SET `chr` = 'chr2L', `start` = 10741884, `stop` = 10741987, `mirName` = 'dme-mir-4970', `NeatName` = 'chr2L:10741885-10741987', `IntervalSize` = 103, `IntervalSerialNumber` = 25, `Structure` = '.....((.(((.((..((((.(((((((((.(((.(((.((((..................)))).))).))).))))))))).))))..)).))).))....', `Annotations` = '', `Tags` = '', `all_reads_mapped` = 5, `sum_normReads` = 0.5443, `mapped_strand` = '+', `Link` = 'http://genome.cbis.nus.edu.sg/cgi-bin/hgTracks?db=dm3&position=chr2L:10741885-10741987' WHERE `loq_interval`.`id` = 25 ; args=(u'chr2L', 10741884, 10741987, u'dme-mir-4970', u'chr2L:10741885-10741987', 103, 25, u'.....((.(((.((..((((.(((((((((.(((.(((.((((..................)))).))).))).))))))))).))))..)).))).))....', u'', u'', 5, 0.5443, '+', u'http://genome.cbis.nus.edu.sg/cgi-bin/hgTracks?db=dm3&position=chr2L:10741885-10741987', 25)\n"
       ]
      },
      {
       "output_type": "stream",
       "stream": "stdout",
       "text": [
        "\n",
        "dme-mir-4970+\n",
        "\n",
        "dme-mir-4987-\n"
       ]
      },
      {
       "output_type": "stream",
       "stream": "stderr",
       "text": [
        "DEBUG:django.db.backends:(0.001) SELECT `loq_interval`.`id`, `loq_interval`.`chr`, `loq_interval`.`start`, `loq_interval`.`stop`, `loq_interval`.`mirName`, `loq_interval`.`NeatName`, `loq_interval`.`IntervalSize`, `loq_interval`.`IntervalSerialNumber`, `loq_interval`.`Structure`, `loq_interval`.`Annotations`, `loq_interval`.`Tags`, `loq_interval`.`all_reads_mapped`, `loq_interval`.`sum_normReads`, `loq_interval`.`mapped_strand`, `loq_interval`.`Link` FROM `loq_interval` WHERE `loq_interval`.`mirName` = 'dme-mir-4987' ; args=('dme-mir-4987',)\n"
       ]
      },
      {
       "output_type": "stream",
       "stream": "stderr",
       "text": [
        "DEBUG:django.db.backends:(0.000) SELECT (1) AS `a` FROM `loq_interval` WHERE `loq_interval`.`id` = 26  LIMIT 1; args=(26,)\n"
       ]
      },
      {
       "output_type": "stream",
       "stream": "stderr",
       "text": [
        "DEBUG:django.db.backends:(0.001) UPDATE `loq_interval` SET `chr` = 'chr2L', `start` = 10840344, `stop` = 10840476, `mirName` = 'dme-mir-4987', `NeatName` = 'chr2L:10840345-10840476', `IntervalSize` = 132, `IntervalSerialNumber` = 26, `Structure` = '((((((.(((((.((....))))))).((((((((..(((.(((((.(((((......((.((((....)))).)).....)))))))))))))..)))))))).))))))((((((.......))))))..', `Annotations` = '', `Tags` = '', `all_reads_mapped` = 2, `sum_normReads` = 0.2564, `mapped_strand` = '-', `Link` = 'http://genome.cbis.nus.edu.sg/cgi-bin/hgTracks?db=dm3&position=chr2L:10840345-10840476' WHERE `loq_interval`.`id` = 26 ; args=(u'chr2L', 10840344, 10840476, u'dme-mir-4987', u'chr2L:10840345-10840476', 132, 26, u'((((((.(((((.((....))))))).((((((((..(((.(((((.(((((......((.((((....)))).)).....)))))))))))))..)))))))).))))))((((((.......))))))..', u'', u'', 2, 0.2564, '-', u'http://genome.cbis.nus.edu.sg/cgi-bin/hgTracks?db=dm3&position=chr2L:10840345-10840476', 26)\n"
       ]
      },
      {
       "output_type": "stream",
       "stream": "stderr",
       "text": [
        "DEBUG:django.db.backends:(0.001) SELECT `loq_interval`.`id`, `loq_interval`.`chr`, `loq_interval`.`start`, `loq_interval`.`stop`, `loq_interval`.`mirName`, `loq_interval`.`NeatName`, `loq_interval`.`IntervalSize`, `loq_interval`.`IntervalSerialNumber`, `loq_interval`.`Structure`, `loq_interval`.`Annotations`, `loq_interval`.`Tags`, `loq_interval`.`all_reads_mapped`, `loq_interval`.`sum_normReads`, `loq_interval`.`mapped_strand`, `loq_interval`.`Link` FROM `loq_interval` WHERE `loq_interval`.`mirName` = 'dme-mir-263a' ; args=('dme-mir-263a',)\n"
       ]
      },
      {
       "output_type": "stream",
       "stream": "stderr",
       "text": [
        "DEBUG:django.db.backends:(0.000) SELECT (1) AS `a` FROM `loq_interval` WHERE `loq_interval`.`id` = 27  LIMIT 1; args=(27,)\n"
       ]
      },
      {
       "output_type": "stream",
       "stream": "stderr",
       "text": [
        "DEBUG:django.db.backends:(0.000) UPDATE `loq_interval` SET `chr` = 'chr2L', `start` = 11953409, `stop` = 11953503, `mirName` = 'dme-mir-263a', `NeatName` = 'chr2L:11953410-11953503', `IntervalSize` = 94, `IntervalSerialNumber` = 27, `Structure` = '....(((((.(((.((..(((.((((((.(((..(((((((...............)))))))))).)))))).)))..)).))))))))....', `Annotations` = '', `Tags` = '', `all_reads_mapped` = 88, `sum_normReads` = 987.1074, `mapped_strand` = '-', `Link` = 'http://genome.cbis.nus.edu.sg/cgi-bin/hgTracks?db=dm3&position=chr2L:11953410-11953503' WHERE `loq_interval`.`id` = 27 ; args=(u'chr2L', 11953409, 11953503, u'dme-mir-263a', u'chr2L:11953410-11953503', 94, 27, u'....(((((.(((.((..(((.((((((.(((..(((((((...............)))))))))).)))))).)))..)).))))))))....', u'', u'', 88, 987.1074, '-', u'http://genome.cbis.nus.edu.sg/cgi-bin/hgTracks?db=dm3&position=chr2L:11953410-11953503', 27)\n"
       ]
      },
      {
       "output_type": "stream",
       "stream": "stdout",
       "text": [
        "\n",
        "dme-mir-263a-\n",
        "\n",
        "dme-mir-967-\n"
       ]
      },
      {
       "output_type": "stream",
       "stream": "stderr",
       "text": [
        "DEBUG:django.db.backends:(0.001) SELECT `loq_interval`.`id`, `loq_interval`.`chr`, `loq_interval`.`start`, `loq_interval`.`stop`, `loq_interval`.`mirName`, `loq_interval`.`NeatName`, `loq_interval`.`IntervalSize`, `loq_interval`.`IntervalSerialNumber`, `loq_interval`.`Structure`, `loq_interval`.`Annotations`, `loq_interval`.`Tags`, `loq_interval`.`all_reads_mapped`, `loq_interval`.`sum_normReads`, `loq_interval`.`mapped_strand`, `loq_interval`.`Link` FROM `loq_interval` WHERE `loq_interval`.`mirName` = 'dme-mir-967' ; args=('dme-mir-967',)\n"
       ]
      },
      {
       "output_type": "stream",
       "stream": "stderr",
       "text": [
        "DEBUG:django.db.backends:(0.000) SELECT (1) AS `a` FROM `loq_interval` WHERE `loq_interval`.`id` = 28  LIMIT 1; args=(28,)\n"
       ]
      },
      {
       "output_type": "stream",
       "stream": "stderr",
       "text": [
        "DEBUG:django.db.backends:(0.001) UPDATE `loq_interval` SET `chr` = 'chr2L', `start` = 12460003, `stop` = 12460100, `mirName` = 'dme-mir-967', `NeatName` = 'chr2L:12460004-12460100', `IntervalSize` = 97, `IntervalSerialNumber` = 28, `Structure` = '...((((((.((((((((((.((((((((((.((..((((.......))))........)).))))))))))...))))))))))))))))......', `Annotations` = '', `Tags` = '', `all_reads_mapped` = 27, `sum_normReads` = 13.2504, `mapped_strand` = '-', `Link` = 'http://genome.cbis.nus.edu.sg/cgi-bin/hgTracks?db=dm3&position=chr2L:12460004-12460100' WHERE `loq_interval`.`id` = 28 ; args=(u'chr2L', 12460003, 12460100, u'dme-mir-967', u'chr2L:12460004-12460100', 97, 28, u'...((((((.((((((((((.((((((((((.((..((((.......))))........)).))))))))))...))))))))))))))))......', u'', u'', 27, 13.2504, '-', u'http://genome.cbis.nus.edu.sg/cgi-bin/hgTracks?db=dm3&position=chr2L:12460004-12460100', 28)\n"
       ]
      },
      {
       "output_type": "stream",
       "stream": "stderr",
       "text": [
        "DEBUG:django.db.backends:(0.001) SELECT `loq_interval`.`id`, `loq_interval`.`chr`, `loq_interval`.`start`, `loq_interval`.`stop`, `loq_interval`.`mirName`, `loq_interval`.`NeatName`, `loq_interval`.`IntervalSize`, `loq_interval`.`IntervalSerialNumber`, `loq_interval`.`Structure`, `loq_interval`.`Annotations`, `loq_interval`.`Tags`, `loq_interval`.`all_reads_mapped`, `loq_interval`.`sum_normReads`, `loq_interval`.`mapped_strand`, `loq_interval`.`Link` FROM `loq_interval` WHERE `loq_interval`.`mirName` = 'dme-mir-2489' ; args=('dme-mir-2489',)\n"
       ]
      },
      {
       "output_type": "stream",
       "stream": "stderr",
       "text": [
        "DEBUG:django.db.backends:(0.000) SELECT (1) AS `a` FROM `loq_interval` WHERE `loq_interval`.`id` = 29  LIMIT 1; args=(29,)\n"
       ]
      },
      {
       "output_type": "stream",
       "stream": "stderr",
       "text": [
        "DEBUG:django.db.backends:(0.000) UPDATE `loq_interval` SET `chr` = 'chr2L', `start` = 13609973, `stop` = 13610068, `mirName` = 'dme-mir-2489', `NeatName` = 'chr2L:13609974-13610068', `IntervalSize` = 95, `IntervalSerialNumber` = 29, `Structure` = '((.((..((.(((((((((((((((.((((((..((((((((((....))))))..).)))..))))))))))))))))).)))).)).)).)).', `Annotations` = '', `Tags` = '', `all_reads_mapped` = 18, `sum_normReads` = 2.9758, `mapped_strand` = '+', `Link` = 'http://genome.cbis.nus.edu.sg/cgi-bin/hgTracks?db=dm3&position=chr2L:13609974-13610068' WHERE `loq_interval`.`id` = 29 ; args=(u'chr2L', 13609973, 13610068, u'dme-mir-2489', u'chr2L:13609974-13610068', 95, 29, u'((.((..((.(((((((((((((((.((((((..((((((((((....))))))..).)))..))))))))))))))))).)))).)).)).)).', u'', u'', 18, 2.9758, '+', u'http://genome.cbis.nus.edu.sg/cgi-bin/hgTracks?db=dm3&position=chr2L:13609974-13610068', 29)\n"
       ]
      },
      {
       "output_type": "stream",
       "stream": "stdout",
       "text": [
        "\n",
        "dme-mir-2489+\n",
        "\n",
        "dme-mir-1002-\n"
       ]
      },
      {
       "output_type": "stream",
       "stream": "stderr",
       "text": [
        "DEBUG:django.db.backends:(0.001) SELECT `loq_interval`.`id`, `loq_interval`.`chr`, `loq_interval`.`start`, `loq_interval`.`stop`, `loq_interval`.`mirName`, `loq_interval`.`NeatName`, `loq_interval`.`IntervalSize`, `loq_interval`.`IntervalSerialNumber`, `loq_interval`.`Structure`, `loq_interval`.`Annotations`, `loq_interval`.`Tags`, `loq_interval`.`all_reads_mapped`, `loq_interval`.`sum_normReads`, `loq_interval`.`mapped_strand`, `loq_interval`.`Link` FROM `loq_interval` WHERE `loq_interval`.`mirName` = 'dme-mir-1002' ; args=('dme-mir-1002',)\n"
       ]
      },
      {
       "output_type": "stream",
       "stream": "stderr",
       "text": [
        "DEBUG:django.db.backends:(0.000) SELECT (1) AS `a` FROM `loq_interval` WHERE `loq_interval`.`id` = 30  LIMIT 1; args=(30,)\n"
       ]
      },
      {
       "output_type": "stream",
       "stream": "stderr",
       "text": [
        "DEBUG:django.db.backends:(0.001) UPDATE `loq_interval` SET `chr` = 'chr2L', `start` = 13747608, `stop` = 13747697, `mirName` = 'dme-mir-1002', `NeatName` = 'chr2L:13747609-13747697', `IntervalSize` = 89, `IntervalSerialNumber` = 30, `Structure` = '..(((((((..((.((((((((...((((((...(((((.............))))).))))))...)))))))).))..)))))))..', `Annotations` = '', `Tags` = '', `all_reads_mapped` = 3, `sum_normReads` = 0.2175, `mapped_strand` = '-', `Link` = 'http://genome.cbis.nus.edu.sg/cgi-bin/hgTracks?db=dm3&position=chr2L:13747609-13747697' WHERE `loq_interval`.`id` = 30 ; args=(u'chr2L', 13747608, 13747697, u'dme-mir-1002', u'chr2L:13747609-13747697', 89, 30, u'..(((((((..((.((((((((...((((((...(((((.............))))).))))))...)))))))).))..)))))))..', u'', u'', 3, 0.2175, '-', u'http://genome.cbis.nus.edu.sg/cgi-bin/hgTracks?db=dm3&position=chr2L:13747609-13747697', 30)\n"
       ]
      },
      {
       "output_type": "stream",
       "stream": "stderr",
       "text": [
        "DEBUG:django.db.backends:(0.001) SELECT `loq_interval`.`id`, `loq_interval`.`chr`, `loq_interval`.`start`, `loq_interval`.`stop`, `loq_interval`.`mirName`, `loq_interval`.`NeatName`, `loq_interval`.`IntervalSize`, `loq_interval`.`IntervalSerialNumber`, `loq_interval`.`Structure`, `loq_interval`.`Annotations`, `loq_interval`.`Tags`, `loq_interval`.`all_reads_mapped`, `loq_interval`.`sum_normReads`, `loq_interval`.`mapped_strand`, `loq_interval`.`Link` FROM `loq_interval` WHERE `loq_interval`.`mirName` = 'dme-mir-968' ; args=('dme-mir-968',)\n"
       ]
      },
      {
       "output_type": "stream",
       "stream": "stderr",
       "text": [
        "DEBUG:django.db.backends:(0.000) SELECT (1) AS `a` FROM `loq_interval` WHERE `loq_interval`.`id` = 31  LIMIT 1; args=(31,)\n"
       ]
      },
      {
       "output_type": "stream",
       "stream": "stderr",
       "text": [
        "DEBUG:django.db.backends:(0.000) UPDATE `loq_interval` SET `chr` = 'chr2L', `start` = 13747747, `stop` = 13747839, `mirName` = 'dme-mir-968', `NeatName` = 'chr2L:13747748-13747839', `IntervalSize` = 92, `IntervalSerialNumber` = 31, `Structure` = '...((((.(.(((...((((((((..(((((((((((((................)))))))))))))))))))))...))).)))))....', `Annotations` = '', `Tags` = '', `all_reads_mapped` = 21, `sum_normReads` = 3.8183, `mapped_strand` = '-', `Link` = 'http://genome.cbis.nus.edu.sg/cgi-bin/hgTracks?db=dm3&position=chr2L:13747748-13747839' WHERE `loq_interval`.`id` = 31 ; args=(u'chr2L', 13747747, 13747839, u'dme-mir-968', u'chr2L:13747748-13747839', 92, 31, u'...((((.(.(((...((((((((..(((((((((((((................)))))))))))))))))))))...))).)))))....', u'', u'', 21, 3.8183, '-', u'http://genome.cbis.nus.edu.sg/cgi-bin/hgTracks?db=dm3&position=chr2L:13747748-13747839', 31)\n"
       ]
      },
      {
       "output_type": "stream",
       "stream": "stdout",
       "text": [
        "\n",
        "dme-mir-968-\n",
        "\n",
        "dme-mir-4943-\n"
       ]
      },
      {
       "output_type": "stream",
       "stream": "stderr",
       "text": [
        "DEBUG:django.db.backends:(0.001) SELECT `loq_interval`.`id`, `loq_interval`.`chr`, `loq_interval`.`start`, `loq_interval`.`stop`, `loq_interval`.`mirName`, `loq_interval`.`NeatName`, `loq_interval`.`IntervalSize`, `loq_interval`.`IntervalSerialNumber`, `loq_interval`.`Structure`, `loq_interval`.`Annotations`, `loq_interval`.`Tags`, `loq_interval`.`all_reads_mapped`, `loq_interval`.`sum_normReads`, `loq_interval`.`mapped_strand`, `loq_interval`.`Link` FROM `loq_interval` WHERE `loq_interval`.`mirName` = 'dme-mir-4943' ; args=('dme-mir-4943',)\n"
       ]
      },
      {
       "output_type": "stream",
       "stream": "stderr",
       "text": [
        "DEBUG:django.db.backends:(0.000) SELECT (1) AS `a` FROM `loq_interval` WHERE `loq_interval`.`id` = 32  LIMIT 1; args=(32,)\n"
       ]
      },
      {
       "output_type": "stream",
       "stream": "stderr",
       "text": [
        "DEBUG:django.db.backends:(0.001) UPDATE `loq_interval` SET `chr` = 'chr2L', `start` = 16528374, `stop` = 16528491, `mirName` = 'dme-mir-4943', `NeatName` = 'chr2L:16528375-16528491', `IntervalSize` = 117, `IntervalSerialNumber` = 32, `Structure` = '...((.((.(((((.((.......(((((((((((((.(.((((((((...(((.......)))...)))))))).)..))))))))))))).......)).)))).).)).))...', `Annotations` = '', `Tags` = '', `all_reads_mapped` = 20, `sum_normReads` = 3.1317, `mapped_strand` = '-', `Link` = 'http://genome.cbis.nus.edu.sg/cgi-bin/hgTracks?db=dm3&position=chr2L:16528375-16528491' WHERE `loq_interval`.`id` = 32 ; args=(u'chr2L', 16528374, 16528491, u'dme-mir-4943', u'chr2L:16528375-16528491', 117, 32, u'...((.((.(((((.((.......(((((((((((((.(.((((((((...(((.......)))...)))))))).)..))))))))))))).......)).)))).).)).))...', u'', u'', 20, 3.1317, '-', u'http://genome.cbis.nus.edu.sg/cgi-bin/hgTracks?db=dm3&position=chr2L:16528375-16528491', 32)\n"
       ]
      },
      {
       "output_type": "stream",
       "stream": "stderr",
       "text": [
        "DEBUG:django.db.backends:(0.001) SELECT `loq_interval`.`id`, `loq_interval`.`chr`, `loq_interval`.`start`, `loq_interval`.`stop`, `loq_interval`.`mirName`, `loq_interval`.`NeatName`, `loq_interval`.`IntervalSize`, `loq_interval`.`IntervalSerialNumber`, `loq_interval`.`Structure`, `loq_interval`.`Annotations`, `loq_interval`.`Tags`, `loq_interval`.`all_reads_mapped`, `loq_interval`.`sum_normReads`, `loq_interval`.`mapped_strand`, `loq_interval`.`Link` FROM `loq_interval` WHERE `loq_interval`.`mirName` = 'dme-mir-2497' ; args=('dme-mir-2497',)\n"
       ]
      },
      {
       "output_type": "stream",
       "stream": "stderr",
       "text": [
        "DEBUG:django.db.backends:(0.000) SELECT (1) AS `a` FROM `loq_interval` WHERE `loq_interval`.`id` = 33  LIMIT 1; args=(33,)\n"
       ]
      },
      {
       "output_type": "stream",
       "stream": "stderr",
       "text": [
        "DEBUG:django.db.backends:(0.000) UPDATE `loq_interval` SET `chr` = 'chr2L', `start` = 16678239, `stop` = 16678335, `mirName` = 'dme-mir-2497', `NeatName` = 'chr2L:16678240-16678335', `IntervalSize` = 96, `IntervalSerialNumber` = 33, `Structure` = '((.(((((.(((.(((.(((((((.((((((((((((................))))))))...))))...))))))))))....))).)))))))', `Annotations` = '', `Tags` = '', `all_reads_mapped` = 29, `sum_normReads` = 23.3741, `mapped_strand` = '+', `Link` = 'http://genome.cbis.nus.edu.sg/cgi-bin/hgTracks?db=dm3&position=chr2L:16678240-16678335' WHERE `loq_interval`.`id` = 33 ; args=(u'chr2L', 16678239, 16678335, u'dme-mir-2497', u'chr2L:16678240-16678335', 96, 33, u'((.(((((.(((.(((.(((((((.((((((((((((................))))))))...))))...))))))))))....))).)))))))', u'', u'', 29, 23.3741, '+', u'http://genome.cbis.nus.edu.sg/cgi-bin/hgTracks?db=dm3&position=chr2L:16678240-16678335', 33)\n"
       ]
      },
      {
       "output_type": "stream",
       "stream": "stdout",
       "text": [
        "\n",
        "dme-mir-2497+\n",
        "\n",
        "dme-mir-9c+\n"
       ]
      },
      {
       "output_type": "stream",
       "stream": "stderr",
       "text": [
        "DEBUG:django.db.backends:(0.001) SELECT `loq_interval`.`id`, `loq_interval`.`chr`, `loq_interval`.`start`, `loq_interval`.`stop`, `loq_interval`.`mirName`, `loq_interval`.`NeatName`, `loq_interval`.`IntervalSize`, `loq_interval`.`IntervalSerialNumber`, `loq_interval`.`Structure`, `loq_interval`.`Annotations`, `loq_interval`.`Tags`, `loq_interval`.`all_reads_mapped`, `loq_interval`.`sum_normReads`, `loq_interval`.`mapped_strand`, `loq_interval`.`Link` FROM `loq_interval` WHERE `loq_interval`.`mirName` = 'dme-mir-9c' ; args=('dme-mir-9c',)\n"
       ]
      },
      {
       "output_type": "stream",
       "stream": "stderr",
       "text": [
        "DEBUG:django.db.backends:(0.000) SELECT (1) AS `a` FROM `loq_interval` WHERE `loq_interval`.`id` = 34  LIMIT 1; args=(34,)\n"
       ]
      },
      {
       "output_type": "stream",
       "stream": "stderr",
       "text": [
        "DEBUG:django.db.backends:(0.000) UPDATE `loq_interval` SET `chr` = 'chr2L', `start` = 16697923, `stop` = 16698015, `mirName` = 'dme-mir-9c', `NeatName` = 'chr2L:16697924-16698015', `IntervalSize` = 92, `IntervalSerialNumber` = 34, `Structure` = '', `Annotations` = '', `Tags` = '', `all_reads_mapped` = 343, `sum_normReads` = 8453.2166, `mapped_strand` = '+', `Link` = 'http://genome.cbis.nus.edu.sg/cgi-bin/hgTracks?db=dm3&position=chr2L:16697924-16698015' WHERE `loq_interval`.`id` = 34 ; args=(u'chr2L', 16697923, 16698015, u'dme-mir-9c', u'chr2L:16697924-16698015', 92, 34, u'', u'', u'', 343, 8453.2166, '+', u'http://genome.cbis.nus.edu.sg/cgi-bin/hgTracks?db=dm3&position=chr2L:16697924-16698015', 34)\n"
       ]
      },
      {
       "output_type": "stream",
       "stream": "stderr",
       "text": [
        "DEBUG:django.db.backends:(0.001) SELECT `loq_interval`.`id`, `loq_interval`.`chr`, `loq_interval`.`start`, `loq_interval`.`stop`, `loq_interval`.`mirName`, `loq_interval`.`NeatName`, `loq_interval`.`IntervalSize`, `loq_interval`.`IntervalSerialNumber`, `loq_interval`.`Structure`, `loq_interval`.`Annotations`, `loq_interval`.`Tags`, `loq_interval`.`all_reads_mapped`, `loq_interval`.`sum_normReads`, `loq_interval`.`mapped_strand`, `loq_interval`.`Link` FROM `loq_interval` WHERE `loq_interval`.`mirName` = 'dme-mir-306' ; args=('dme-mir-306',)\n"
       ]
      },
      {
       "output_type": "stream",
       "stream": "stderr",
       "text": [
        "DEBUG:django.db.backends:(0.000) SELECT (1) AS `a` FROM `loq_interval` WHERE `loq_interval`.`id` = 35  LIMIT 1; args=(35,)\n"
       ]
      },
      {
       "output_type": "stream",
       "stream": "stderr",
       "text": [
        "DEBUG:django.db.backends:(0.000) UPDATE `loq_interval` SET `chr` = 'chr2L', `start` = 16698403, `stop` = 16698488, `mirName` = 'dme-mir-306', `NeatName` = 'chr2L:16698404-16698488', `IntervalSize` = 85, `IntervalSerialNumber` = 35, `Structure` = '.((((((.(.((((.(((((((..(((((((((((((((....).)))..)))))))))))..))))))).))))).))))))..', `Annotations` = '', `Tags` = '', `all_reads_mapped` = 348, `sum_normReads` = 34056.6682000001, `mapped_strand` = '+', `Link` = 'http://genome.cbis.nus.edu.sg/cgi-bin/hgTracks?db=dm3&position=chr2L:16698404-16698488' WHERE `loq_interval`.`id` = 35 ; args=(u'chr2L', 16698403, 16698488, u'dme-mir-306', u'chr2L:16698404-16698488', 85, 35, u'.((((((.(.((((.(((((((..(((((((((((((((....).)))..)))))))))))..))))))).))))).))))))..', u'', u'', 348, 34056.6682000001, '+', u'http://genome.cbis.nus.edu.sg/cgi-bin/hgTracks?db=dm3&position=chr2L:16698404-16698488', 35)\n"
       ]
      },
      {
       "output_type": "stream",
       "stream": "stdout",
       "text": [
        "\n",
        "dme-mir-306+\n",
        "\n",
        "dme-mir-79+\n"
       ]
      },
      {
       "output_type": "stream",
       "stream": "stderr",
       "text": [
        "DEBUG:django.db.backends:(0.001) SELECT `loq_interval`.`id`, `loq_interval`.`chr`, `loq_interval`.`start`, `loq_interval`.`stop`, `loq_interval`.`mirName`, `loq_interval`.`NeatName`, `loq_interval`.`IntervalSize`, `loq_interval`.`IntervalSerialNumber`, `loq_interval`.`Structure`, `loq_interval`.`Annotations`, `loq_interval`.`Tags`, `loq_interval`.`all_reads_mapped`, `loq_interval`.`sum_normReads`, `loq_interval`.`mapped_strand`, `loq_interval`.`Link` FROM `loq_interval` WHERE `loq_interval`.`mirName` = 'dme-mir-79' ; args=('dme-mir-79',)\n"
       ]
      },
      {
       "output_type": "stream",
       "stream": "stderr",
       "text": [
        "DEBUG:django.db.backends:(0.000) SELECT (1) AS `a` FROM `loq_interval` WHERE `loq_interval`.`id` = 36  LIMIT 1; args=(36,)\n"
       ]
      },
      {
       "output_type": "stream",
       "stream": "stderr",
       "text": [
        "DEBUG:django.db.backends:(0.000) UPDATE `loq_interval` SET `chr` = 'chr2L', `start` = 16698553, `stop` = 16698650, `mirName` = 'dme-mir-79', `NeatName` = 'chr2L:16698554-16698650', `IntervalSize` = 97, `IntervalSerialNumber` = 36, `Structure` = '(((..(((....((((.((((((((...(((((((.((((((((.......)))..))))).)))))))...)))))))).)))).....))).)))', `Annotations` = '', `Tags` = '', `all_reads_mapped` = 338, `sum_normReads` = 5490.30189999999, `mapped_strand` = '+', `Link` = 'http://genome.cbis.nus.edu.sg/cgi-bin/hgTracks?db=dm3&position=chr2L:16698554-16698650' WHERE `loq_interval`.`id` = 36 ; args=(u'chr2L', 16698553, 16698650, u'dme-mir-79', u'chr2L:16698554-16698650', 97, 36, u'(((..(((....((((.((((((((...(((((((.((((((((.......)))..))))).)))))))...)))))))).)))).....))).)))', u'', u'', 338, 5490.30189999999, '+', u'http://genome.cbis.nus.edu.sg/cgi-bin/hgTracks?db=dm3&position=chr2L:16698554-16698650', 36)\n"
       ]
      },
      {
       "output_type": "stream",
       "stream": "stderr",
       "text": [
        "DEBUG:django.db.backends:(0.001) SELECT `loq_interval`.`id`, `loq_interval`.`chr`, `loq_interval`.`start`, `loq_interval`.`stop`, `loq_interval`.`mirName`, `loq_interval`.`NeatName`, `loq_interval`.`IntervalSize`, `loq_interval`.`IntervalSerialNumber`, `loq_interval`.`Structure`, `loq_interval`.`Annotations`, `loq_interval`.`Tags`, `loq_interval`.`all_reads_mapped`, `loq_interval`.`sum_normReads`, `loq_interval`.`mapped_strand`, `loq_interval`.`Link` FROM `loq_interval` WHERE `loq_interval`.`mirName` = 'dme-mir-9b' ; args=('dme-mir-9b',)\n"
       ]
      },
      {
       "output_type": "stream",
       "stream": "stderr",
       "text": [
        "DEBUG:django.db.backends:(0.000) SELECT (1) AS `a` FROM `loq_interval` WHERE `loq_interval`.`id` = 37  LIMIT 1; args=(37,)\n"
       ]
      },
      {
       "output_type": "stream",
       "stream": "stderr",
       "text": [
        "DEBUG:django.db.backends:(0.000) UPDATE `loq_interval` SET `chr` = 'chr2L', `start` = 16698743, `stop` = 16698834, `mirName` = 'dme-mir-9b', `NeatName` = 'chr2L:16698744-16698834', `IntervalSize` = 91, `IntervalSerialNumber` = 37, `Structure` = '', `Annotations` = '', `Tags` = '', `all_reads_mapped` = 394, `sum_normReads` = 10849.5445, `mapped_strand` = '+', `Link` = 'http://genome.cbis.nus.edu.sg/cgi-bin/hgTracks?db=dm3&position=chr2L:16698744-16698834' WHERE `loq_interval`.`id` = 37 ; args=(u'chr2L', 16698743, 16698834, u'dme-mir-9b', u'chr2L:16698744-16698834', 91, 37, u'', u'', u'', 394, 10849.5445, '+', u'http://genome.cbis.nus.edu.sg/cgi-bin/hgTracks?db=dm3&position=chr2L:16698744-16698834', 37)\n"
       ]
      },
      {
       "output_type": "stream",
       "stream": "stdout",
       "text": [
        "\n",
        "dme-mir-9b+\n",
        "\n",
        "dme-mir-1006-\n"
       ]
      },
      {
       "output_type": "stream",
       "stream": "stderr",
       "text": [
        "DEBUG:django.db.backends:(0.001) SELECT `loq_interval`.`id`, `loq_interval`.`chr`, `loq_interval`.`start`, `loq_interval`.`stop`, `loq_interval`.`mirName`, `loq_interval`.`NeatName`, `loq_interval`.`IntervalSize`, `loq_interval`.`IntervalSerialNumber`, `loq_interval`.`Structure`, `loq_interval`.`Annotations`, `loq_interval`.`Tags`, `loq_interval`.`all_reads_mapped`, `loq_interval`.`sum_normReads`, `loq_interval`.`mapped_strand`, `loq_interval`.`Link` FROM `loq_interval` WHERE `loq_interval`.`mirName` = 'dme-mir-1006' ; args=('dme-mir-1006',)\n"
       ]
      },
      {
       "output_type": "stream",
       "stream": "stderr",
       "text": [
        "DEBUG:django.db.backends:(0.000) SELECT (1) AS `a` FROM `loq_interval` WHERE `loq_interval`.`id` = 38  LIMIT 1; args=(38,)\n"
       ]
      },
      {
       "output_type": "stream",
       "stream": "stderr",
       "text": [
        "DEBUG:django.db.backends:(0.000) UPDATE `loq_interval` SET `chr` = 'chr2L', `start` = 16724794, `stop` = 16724858, `mirName` = 'dme-mir-1006', `NeatName` = 'chr2L:16724795-16724858', `IntervalSize` = 64, `IntervalSerialNumber` = 38, `Structure` = '((((((..(((((((((.....((((((((.....))))))))..)))))))))..))))))..', `Annotations` = '', `Tags` = '', `all_reads_mapped` = 111, `sum_normReads` = 78.4077, `mapped_strand` = '-', `Link` = 'http://genome.cbis.nus.edu.sg/cgi-bin/hgTracks?db=dm3&position=chr2L:16724795-16724858' WHERE `loq_interval`.`id` = 38 ; args=(u'chr2L', 16724794, 16724858, u'dme-mir-1006', u'chr2L:16724795-16724858', 64, 38, u'((((((..(((((((((.....((((((((.....))))))))..)))))))))..))))))..', u'', u'', 111, 78.4077, '-', u'http://genome.cbis.nus.edu.sg/cgi-bin/hgTracks?db=dm3&position=chr2L:16724795-16724858', 38)\n"
       ]
      },
      {
       "output_type": "stream",
       "stream": "stderr",
       "text": [
        "DEBUG:django.db.backends:(0.001) SELECT `loq_interval`.`id`, `loq_interval`.`chr`, `loq_interval`.`start`, `loq_interval`.`stop`, `loq_interval`.`mirName`, `loq_interval`.`NeatName`, `loq_interval`.`IntervalSize`, `loq_interval`.`IntervalSerialNumber`, `loq_interval`.`Structure`, `loq_interval`.`Annotations`, `loq_interval`.`Tags`, `loq_interval`.`all_reads_mapped`, `loq_interval`.`sum_normReads`, `loq_interval`.`mapped_strand`, `loq_interval`.`Link` FROM `loq_interval` WHERE `loq_interval`.`mirName` = 'dme-mir-124' ; args=('dme-mir-124',)\n"
       ]
      },
      {
       "output_type": "stream",
       "stream": "stderr",
       "text": [
        "DEBUG:django.db.backends:(0.000) SELECT (1) AS `a` FROM `loq_interval` WHERE `loq_interval`.`id` = 39  LIMIT 1; args=(39,)\n"
       ]
      },
      {
       "output_type": "stream",
       "stream": "stderr",
       "text": [
        "DEBUG:django.db.backends:(0.000) UPDATE `loq_interval` SET `chr` = 'chr2L', `start` = 17566369, `stop` = 17566469, `mirName` = 'dme-mir-124', `NeatName` = 'chr2L:17566370-17566469', `IntervalSize` = 100, `IntervalSerialNumber` = 39, `Structure` = '..........(((((..(((.((((((.((((((..((((.((((.........))))))))..)))))).)))))).))).))))).............', `Annotations` = '', `Tags` = '', `all_reads_mapped` = 49, `sum_normReads` = 27.4422, `mapped_strand` = '+', `Link` = 'http://genome.cbis.nus.edu.sg/cgi-bin/hgTracks?db=dm3&position=chr2L:17566370-17566469' WHERE `loq_interval`.`id` = 39 ; args=(u'chr2L', 17566369, 17566469, u'dme-mir-124', u'chr2L:17566370-17566469', 100, 39, u'..........(((((..(((.((((((.((((((..((((.((((.........))))))))..)))))).)))))).))).))))).............', u'', u'', 49, 27.4422, '+', u'http://genome.cbis.nus.edu.sg/cgi-bin/hgTracks?db=dm3&position=chr2L:17566370-17566469', 39)\n"
       ]
      },
      {
       "output_type": "stream",
       "stream": "stdout",
       "text": [
        "\n",
        "dme-mir-124+\n",
        "\n",
        "dme-mir-287+\n"
       ]
      },
      {
       "output_type": "stream",
       "stream": "stderr",
       "text": [
        "DEBUG:django.db.backends:(0.001) SELECT `loq_interval`.`id`, `loq_interval`.`chr`, `loq_interval`.`start`, `loq_interval`.`stop`, `loq_interval`.`mirName`, `loq_interval`.`NeatName`, `loq_interval`.`IntervalSize`, `loq_interval`.`IntervalSerialNumber`, `loq_interval`.`Structure`, `loq_interval`.`Annotations`, `loq_interval`.`Tags`, `loq_interval`.`all_reads_mapped`, `loq_interval`.`sum_normReads`, `loq_interval`.`mapped_strand`, `loq_interval`.`Link` FROM `loq_interval` WHERE `loq_interval`.`mirName` = 'dme-mir-287' ; args=('dme-mir-287',)\n"
       ]
      },
      {
       "output_type": "stream",
       "stream": "stderr",
       "text": [
        "DEBUG:django.db.backends:(0.000) SELECT (1) AS `a` FROM `loq_interval` WHERE `loq_interval`.`id` = 40  LIMIT 1; args=(40,)\n"
       ]
      },
      {
       "output_type": "stream",
       "stream": "stderr",
       "text": [
        "DEBUG:django.db.backends:(0.001) UPDATE `loq_interval` SET `chr` = 'chr2L', `start` = 17574609, `stop` = 17574702, `mirName` = 'dme-mir-287', `NeatName` = 'chr2L:17574610-17574702', `IntervalSize` = 93, `IntervalSerialNumber` = 40, `Structure` = '..(((((.(.......).))))).((.(((((((((((((..((((((((((((...))))))))))))..)))...)))).)).)))).)).', `Annotations` = '', `Tags` = '', `all_reads_mapped` = 0, `sum_normReads` = NULL, `mapped_strand` = '+', `Link` = 'http://genome.cbis.nus.edu.sg/cgi-bin/hgTracks?db=dm3&position=chr2L:17574610-17574702' WHERE `loq_interval`.`id` = 40 ; args=(u'chr2L', 17574609, 17574702, u'dme-mir-287', u'chr2L:17574610-17574702', 93, 40, u'..(((((.(.......).))))).((.(((((((((((((..((((((((((((...))))))))))))..)))...)))).)).)))).)).', u'', u'', 0, '+', u'http://genome.cbis.nus.edu.sg/cgi-bin/hgTracks?db=dm3&position=chr2L:17574610-17574702', 40)\n"
       ]
      },
      {
       "output_type": "stream",
       "stream": "stderr",
       "text": [
        "DEBUG:django.db.backends:(0.001) SELECT `loq_interval`.`id`, `loq_interval`.`chr`, `loq_interval`.`start`, `loq_interval`.`stop`, `loq_interval`.`mirName`, `loq_interval`.`NeatName`, `loq_interval`.`IntervalSize`, `loq_interval`.`IntervalSerialNumber`, `loq_interval`.`Structure`, `loq_interval`.`Annotations`, `loq_interval`.`Tags`, `loq_interval`.`all_reads_mapped`, `loq_interval`.`sum_normReads`, `loq_interval`.`mapped_strand`, `loq_interval`.`Link` FROM `loq_interval` WHERE `loq_interval`.`mirName` = 'dme-mir-100' ; args=('dme-mir-100',)\n"
       ]
      },
      {
       "output_type": "stream",
       "stream": "stderr",
       "text": [
        "DEBUG:django.db.backends:(0.000) SELECT (1) AS `a` FROM `loq_interval` WHERE `loq_interval`.`id` = 41  LIMIT 1; args=(41,)\n"
       ]
      },
      {
       "output_type": "stream",
       "stream": "stderr",
       "text": [
        "DEBUG:django.db.backends:(0.000) UPDATE `loq_interval` SET `chr` = 'chr2L', `start` = 18471433, `stop` = 18471533, `mirName` = 'dme-mir-100', `NeatName` = 'chr2L:18471434-18471533', `IntervalSize` = 100, `IntervalSerialNumber` = 41, `Structure` = '.((((.(((((..(((((((..(((..(((((((.(........).).))))))..)))..)))))))..))))).))))....................', `Annotations` = '', `Tags` = '', `all_reads_mapped` = 42, `sum_normReads` = 22.0228, `mapped_strand` = '+', `Link` = 'http://genome.cbis.nus.edu.sg/cgi-bin/hgTracks?db=dm3&position=chr2L:18471434-18471533' WHERE `loq_interval`.`id` = 41 ; args=(u'chr2L', 18471433, 18471533, u'dme-mir-100', u'chr2L:18471434-18471533', 100, 41, u'.((((.(((((..(((((((..(((..(((((((.(........).).))))))..)))..)))))))..))))).))))....................', u'', u'', 42, 22.0228, '+', u'http://genome.cbis.nus.edu.sg/cgi-bin/hgTracks?db=dm3&position=chr2L:18471434-18471533', 41)\n"
       ]
      },
      {
       "output_type": "stream",
       "stream": "stdout",
       "text": [
        "\n",
        "dme-mir-100+\n",
        "\n",
        "dme-let-7+\n"
       ]
      },
      {
       "output_type": "stream",
       "stream": "stderr",
       "text": [
        "DEBUG:django.db.backends:(0.001) SELECT `loq_interval`.`id`, `loq_interval`.`chr`, `loq_interval`.`start`, `loq_interval`.`stop`, `loq_interval`.`mirName`, `loq_interval`.`NeatName`, `loq_interval`.`IntervalSize`, `loq_interval`.`IntervalSerialNumber`, `loq_interval`.`Structure`, `loq_interval`.`Annotations`, `loq_interval`.`Tags`, `loq_interval`.`all_reads_mapped`, `loq_interval`.`sum_normReads`, `loq_interval`.`mapped_strand`, `loq_interval`.`Link` FROM `loq_interval` WHERE `loq_interval`.`mirName` = 'dme-let-7' ; args=('dme-let-7',)\n"
       ]
      },
      {
       "output_type": "stream",
       "stream": "stderr",
       "text": [
        "DEBUG:django.db.backends:(0.000) SELECT (1) AS `a` FROM `loq_interval` WHERE `loq_interval`.`id` = 42  LIMIT 1; args=(42,)\n"
       ]
      },
      {
       "output_type": "stream",
       "stream": "stderr",
       "text": [
        "DEBUG:django.db.backends:(0.001) UPDATE `loq_interval` SET `chr` = 'chr2L', `start` = 18472033, `stop` = 18472111, `mirName` = 'dme-let-7', `NeatName` = 'chr2L:18472034-18472111', `IntervalSize` = 78, `IntervalSerialNumber` = 42, `Structure` = '((.((((((..(((.(((((.(((((((((((..............))))))))))).))))).)))..)))))).))', `Annotations` = '', `Tags` = '', `all_reads_mapped` = 60, `sum_normReads` = 295.3519, `mapped_strand` = '+', `Link` = 'http://genome.cbis.nus.edu.sg/cgi-bin/hgTracks?db=dm3&position=chr2L:18472034-18472111' WHERE `loq_interval`.`id` = 42 ; args=(u'chr2L', 18472033, 18472111, u'dme-let-7', u'chr2L:18472034-18472111', 78, 42, u'((.((((((..(((.(((((.(((((((((((..............))))))))))).))))).)))..)))))).))', u'', u'', 60, 295.3519, '+', u'http://genome.cbis.nus.edu.sg/cgi-bin/hgTracks?db=dm3&position=chr2L:18472034-18472111', 42)\n"
       ]
      },
      {
       "output_type": "stream",
       "stream": "stderr",
       "text": [
        "DEBUG:django.db.backends:(0.001) SELECT `loq_interval`.`id`, `loq_interval`.`chr`, `loq_interval`.`start`, `loq_interval`.`stop`, `loq_interval`.`mirName`, `loq_interval`.`NeatName`, `loq_interval`.`IntervalSize`, `loq_interval`.`IntervalSerialNumber`, `loq_interval`.`Structure`, `loq_interval`.`Annotations`, `loq_interval`.`Tags`, `loq_interval`.`all_reads_mapped`, `loq_interval`.`sum_normReads`, `loq_interval`.`mapped_strand`, `loq_interval`.`Link` FROM `loq_interval` WHERE `loq_interval`.`mirName` = 'dme-mir-125' ; args=('dme-mir-125',)\n"
       ]
      },
      {
       "output_type": "stream",
       "stream": "stderr",
       "text": [
        "DEBUG:django.db.backends:(0.000) SELECT (1) AS `a` FROM `loq_interval` WHERE `loq_interval`.`id` = 43  LIMIT 1; args=(43,)\n"
       ]
      },
      {
       "output_type": "stream",
       "stream": "stderr",
       "text": [
        "DEBUG:django.db.backends:(0.001) UPDATE `loq_interval` SET `chr` = 'chr2L', `start` = 18472314, `stop` = 18472424, `mirName` = 'dme-mir-125', `NeatName` = 'chr2L:18472315-18472424', `IntervalSize` = 110, `IntervalSerialNumber` = 43, `Structure` = '(((((..((((..((((((....(((((..((.((((.(..(((((((((...............)))))))))..).)))).)).)))))..))))))))))..)))))', `Annotations` = '', `Tags` = '', `all_reads_mapped` = 39, `sum_normReads` = 23.9306, `mapped_strand` = '+', `Link` = 'http://genome.cbis.nus.edu.sg/cgi-bin/hgTracks?db=dm3&position=chr2L:18472315-18472424' WHERE `loq_interval`.`id` = 43 ; args=(u'chr2L', 18472314, 18472424, u'dme-mir-125', u'chr2L:18472315-18472424', 110, 43, u'(((((..((((..((((((....(((((..((.((((.(..(((((((((...............)))))))))..).)))).)).)))))..))))))))))..)))))', u'', u'', 39, 23.9306, '+', u'http://genome.cbis.nus.edu.sg/cgi-bin/hgTracks?db=dm3&position=chr2L:18472315-18472424', 43)\n"
       ]
      },
      {
       "output_type": "stream",
       "stream": "stdout",
       "text": [
        "\n",
        "dme-mir-125+\n",
        "\n",
        "dme-mir-4946-\n"
       ]
      },
      {
       "output_type": "stream",
       "stream": "stderr",
       "text": [
        "DEBUG:django.db.backends:(0.001) SELECT `loq_interval`.`id`, `loq_interval`.`chr`, `loq_interval`.`start`, `loq_interval`.`stop`, `loq_interval`.`mirName`, `loq_interval`.`NeatName`, `loq_interval`.`IntervalSize`, `loq_interval`.`IntervalSerialNumber`, `loq_interval`.`Structure`, `loq_interval`.`Annotations`, `loq_interval`.`Tags`, `loq_interval`.`all_reads_mapped`, `loq_interval`.`sum_normReads`, `loq_interval`.`mapped_strand`, `loq_interval`.`Link` FROM `loq_interval` WHERE `loq_interval`.`mirName` = 'dme-mir-4946' ; args=('dme-mir-4946',)\n"
       ]
      },
      {
       "output_type": "stream",
       "stream": "stderr",
       "text": [
        "DEBUG:django.db.backends:(0.000) SELECT (1) AS `a` FROM `loq_interval` WHERE `loq_interval`.`id` = 44  LIMIT 1; args=(44,)\n"
       ]
      },
      {
       "output_type": "stream",
       "stream": "stderr",
       "text": [
        "DEBUG:django.db.backends:(0.000) UPDATE `loq_interval` SET `chr` = 'chr2L', `start` = 18867045, `stop` = 18867161, `mirName` = 'dme-mir-4946', `NeatName` = 'chr2L:18867046-18867161', `IntervalSize` = 116, `IntervalSerialNumber` = 44, `Structure` = '(((.(((....((..(((.((.((((((((((((((((((((((.((((...............)))).)))))..)))))))))))))..)))).)).)))))..))))))....', `Annotations` = '', `Tags` = '', `all_reads_mapped` = 0, `sum_normReads` = NULL, `mapped_strand` = '-', `Link` = 'http://genome.cbis.nus.edu.sg/cgi-bin/hgTracks?db=dm3&position=chr2L:18867046-18867161' WHERE `loq_interval`.`id` = 44 ; args=(u'chr2L', 18867045, 18867161, u'dme-mir-4946', u'chr2L:18867046-18867161', 116, 44, u'(((.(((....((..(((.((.((((((((((((((((((((((.((((...............)))).)))))..)))))))))))))..)))).)).)))))..))))))....', u'', u'', 0, '-', u'http://genome.cbis.nus.edu.sg/cgi-bin/hgTracks?db=dm3&position=chr2L:18867046-18867161', 44)\n"
       ]
      },
      {
       "output_type": "stream",
       "stream": "stderr",
       "text": [
        "DEBUG:django.db.backends:(0.001) SELECT `loq_interval`.`id`, `loq_interval`.`chr`, `loq_interval`.`start`, `loq_interval`.`stop`, `loq_interval`.`mirName`, `loq_interval`.`NeatName`, `loq_interval`.`IntervalSize`, `loq_interval`.`IntervalSerialNumber`, `loq_interval`.`Structure`, `loq_interval`.`Annotations`, `loq_interval`.`Tags`, `loq_interval`.`all_reads_mapped`, `loq_interval`.`sum_normReads`, `loq_interval`.`mapped_strand`, `loq_interval`.`Link` FROM `loq_interval` WHERE `loq_interval`.`mirName` = 'dme-mir-2a-2' ; args=('dme-mir-2a-2',)\n"
       ]
      },
      {
       "output_type": "stream",
       "stream": "stderr",
       "text": [
        "DEBUG:django.db.backends:(0.000) SELECT (1) AS `a` FROM `loq_interval` WHERE `loq_interval`.`id` = 45  LIMIT 1; args=(45,)\n"
       ]
      },
      {
       "output_type": "stream",
       "stream": "stderr",
       "text": [
        "DEBUG:django.db.backends:(0.001) UPDATE `loq_interval` SET `chr` = 'chr2L', `start` = 19569489, `stop` = 19569561, `mirName` = 'dme-mir-2a-2', `NeatName` = 'chr2L:19569490-19569561', `IntervalSize` = 72, `IntervalSerialNumber` = 45, `Structure` = '((((.(((.(((((((((((((((((((((...........)))))))))))))..))))))))))).))))', `Annotations` = '', `Tags` = '', `all_reads_mapped` = 533, `sum_normReads` = 180439.959899999, `mapped_strand` = '-', `Link` = 'http://genome.cbis.nus.edu.sg/cgi-bin/hgTracks?db=dm3&position=chr2L:19569490-19569561' WHERE `loq_interval`.`id` = 45 ; args=(u'chr2L', 19569489, 19569561, u'dme-mir-2a-2', u'chr2L:19569490-19569561', 72, 45, u'((((.(((.(((((((((((((((((((((...........)))))))))))))..))))))))))).))))', u'', u'', 533, 180439.959899999, '-', u'http://genome.cbis.nus.edu.sg/cgi-bin/hgTracks?db=dm3&position=chr2L:19569490-19569561', 45)\n"
       ]
      },
      {
       "output_type": "stream",
       "stream": "stdout",
       "text": [
        "\n",
        "dme-mir-2a-2-\n",
        "\n",
        "dme-mir-2a-1-\n"
       ]
      },
      {
       "output_type": "stream",
       "stream": "stderr",
       "text": [
        "DEBUG:django.db.backends:(0.001) SELECT `loq_interval`.`id`, `loq_interval`.`chr`, `loq_interval`.`start`, `loq_interval`.`stop`, `loq_interval`.`mirName`, `loq_interval`.`NeatName`, `loq_interval`.`IntervalSize`, `loq_interval`.`IntervalSerialNumber`, `loq_interval`.`Structure`, `loq_interval`.`Annotations`, `loq_interval`.`Tags`, `loq_interval`.`all_reads_mapped`, `loq_interval`.`sum_normReads`, `loq_interval`.`mapped_strand`, `loq_interval`.`Link` FROM `loq_interval` WHERE `loq_interval`.`mirName` = 'dme-mir-2a-1' ; args=('dme-mir-2a-1',)\n"
       ]
      },
      {
       "output_type": "stream",
       "stream": "stderr",
       "text": [
        "DEBUG:django.db.backends:(0.000) SELECT (1) AS `a` FROM `loq_interval` WHERE `loq_interval`.`id` = 46  LIMIT 1; args=(46,)\n"
       ]
      },
      {
       "output_type": "stream",
       "stream": "stderr",
       "text": [
        "DEBUG:django.db.backends:(0.001) UPDATE `loq_interval` SET `chr` = 'chr2L', `start` = 19569896, `stop` = 19569972, `mirName` = 'dme-mir-2a-1', `NeatName` = 'chr2L:19569897-19569972', `IntervalSize` = 76, `IntervalSerialNumber` = 46, `Structure` = '((((((((((((((((((((((((.((((.....(((.....))))))).))))))))).)))))).)))))))))', `Annotations` = '', `Tags` = '', `all_reads_mapped` = 428, `sum_normReads` = 181371.1246, `mapped_strand` = '-', `Link` = 'http://genome.cbis.nus.edu.sg/cgi-bin/hgTracks?db=dm3&position=chr2L:19569897-19569972' WHERE `loq_interval`.`id` = 46 ; args=(u'chr2L', 19569896, 19569972, u'dme-mir-2a-1', u'chr2L:19569897-19569972', 76, 46, u'((((((((((((((((((((((((.((((.....(((.....))))))).))))))))).)))))).)))))))))', u'', u'', 428, 181371.1246, '-', u'http://genome.cbis.nus.edu.sg/cgi-bin/hgTracks?db=dm3&position=chr2L:19569897-19569972', 46)\n"
       ]
      },
      {
       "output_type": "stream",
       "stream": "stdout",
       "text": [
        "\n",
        "dme-mir-2b-2-\n"
       ]
      },
      {
       "output_type": "stream",
       "stream": "stderr",
       "text": [
        "DEBUG:django.db.backends:(0.001) SELECT `loq_interval`.`id`, `loq_interval`.`chr`, `loq_interval`.`start`, `loq_interval`.`stop`, `loq_interval`.`mirName`, `loq_interval`.`NeatName`, `loq_interval`.`IntervalSize`, `loq_interval`.`IntervalSerialNumber`, `loq_interval`.`Structure`, `loq_interval`.`Annotations`, `loq_interval`.`Tags`, `loq_interval`.`all_reads_mapped`, `loq_interval`.`sum_normReads`, `loq_interval`.`mapped_strand`, `loq_interval`.`Link` FROM `loq_interval` WHERE `loq_interval`.`mirName` = 'dme-mir-2b-2' ; args=('dme-mir-2b-2',)\n"
       ]
      },
      {
       "output_type": "stream",
       "stream": "stderr",
       "text": [
        "DEBUG:django.db.backends:(0.000) SELECT (1) AS `a` FROM `loq_interval` WHERE `loq_interval`.`id` = 47  LIMIT 1; args=(47,)\n"
       ]
      },
      {
       "output_type": "stream",
       "stream": "stderr",
       "text": [
        "DEBUG:django.db.backends:(0.001) UPDATE `loq_interval` SET `chr` = 'chr2L', `start` = 19570181, `stop` = 19570264, `mirName` = 'dme-mir-2b-2', `NeatName` = 'chr2L:19570182-19570264', `IntervalSize` = 83, `IntervalSerialNumber` = 47, `Structure` = '(((((((.(((((((((((((((((((.(((...((........)).....))).))))))))).)))))))))).)))))))', `Annotations` = '', `Tags` = '', `all_reads_mapped` = 482, `sum_normReads` = 67512.7479, `mapped_strand` = '-', `Link` = 'http://genome.cbis.nus.edu.sg/cgi-bin/hgTracks?db=dm3&position=chr2L:19570182-19570264' WHERE `loq_interval`.`id` = 47 ; args=(u'chr2L', 19570181, 19570264, u'dme-mir-2b-2', u'chr2L:19570182-19570264', 83, 47, u'(((((((.(((((((((((((((((((.(((...((........)).....))).))))))))).)))))))))).)))))))', u'', u'', 482, 67512.7479, '-', u'http://genome.cbis.nus.edu.sg/cgi-bin/hgTracks?db=dm3&position=chr2L:19570182-19570264', 47)\n"
       ]
      },
      {
       "output_type": "stream",
       "stream": "stdout",
       "text": [
        "\n",
        "dme-mir-1+\n"
       ]
      },
      {
       "output_type": "stream",
       "stream": "stderr",
       "text": [
        "DEBUG:django.db.backends:(0.001) SELECT `loq_interval`.`id`, `loq_interval`.`chr`, `loq_interval`.`start`, `loq_interval`.`stop`, `loq_interval`.`mirName`, `loq_interval`.`NeatName`, `loq_interval`.`IntervalSize`, `loq_interval`.`IntervalSerialNumber`, `loq_interval`.`Structure`, `loq_interval`.`Annotations`, `loq_interval`.`Tags`, `loq_interval`.`all_reads_mapped`, `loq_interval`.`sum_normReads`, `loq_interval`.`mapped_strand`, `loq_interval`.`Link` FROM `loq_interval` WHERE `loq_interval`.`mirName` = 'dme-mir-1' ; args=('dme-mir-1',)\n"
       ]
      },
      {
       "output_type": "stream",
       "stream": "stderr",
       "text": [
        "DEBUG:django.db.backends:(0.000) SELECT (1) AS `a` FROM `loq_interval` WHERE `loq_interval`.`id` = 48  LIMIT 1; args=(48,)\n"
       ]
      },
      {
       "output_type": "stream",
       "stream": "stderr",
       "text": [
        "DEBUG:django.db.backends:(0.001) UPDATE `loq_interval` SET `chr` = 'chr2L', `start` = 20487440, `stop` = 20487531, `mirName` = 'dme-mir-1', `NeatName` = 'chr2L:20487441-20487531', `IntervalSize` = 91, `IntervalSerialNumber` = 48, `Structure` = '....(((.......((((((((((((.((((((((.((((((.......))).))).)))))))).)))))))))))).......)))...', `Annotations` = '', `Tags` = '', `all_reads_mapped` = 28, `sum_normReads` = 47.482, `mapped_strand` = '+', `Link` = 'http://genome.cbis.nus.edu.sg/cgi-bin/hgTracks?db=dm3&position=chr2L:20487441-20487531' WHERE `loq_interval`.`id` = 48 ; args=(u'chr2L', 20487440, 20487531, u'dme-mir-1', u'chr2L:20487441-20487531', 91, 48, u'....(((.......((((((((((((.((((((((.((((((.......))).))).)))))))).)))))))))))).......)))...', u'', u'', 28, 47.482, '+', u'http://genome.cbis.nus.edu.sg/cgi-bin/hgTracks?db=dm3&position=chr2L:20487441-20487531', 48)\n"
       ]
      },
      {
       "output_type": "stream",
       "stream": "stdout",
       "text": [
        "\n",
        "dme-mir-4973+\n"
       ]
      },
      {
       "output_type": "stream",
       "stream": "stderr",
       "text": [
        "DEBUG:django.db.backends:(0.001) SELECT `loq_interval`.`id`, `loq_interval`.`chr`, `loq_interval`.`start`, `loq_interval`.`stop`, `loq_interval`.`mirName`, `loq_interval`.`NeatName`, `loq_interval`.`IntervalSize`, `loq_interval`.`IntervalSerialNumber`, `loq_interval`.`Structure`, `loq_interval`.`Annotations`, `loq_interval`.`Tags`, `loq_interval`.`all_reads_mapped`, `loq_interval`.`sum_normReads`, `loq_interval`.`mapped_strand`, `loq_interval`.`Link` FROM `loq_interval` WHERE `loq_interval`.`mirName` = 'dme-mir-4973' ; args=('dme-mir-4973',)\n"
       ]
      },
      {
       "output_type": "stream",
       "stream": "stderr",
       "text": [
        "DEBUG:django.db.backends:(0.000) SELECT (1) AS `a` FROM `loq_interval` WHERE `loq_interval`.`id` = 49  LIMIT 1; args=(49,)\n"
       ]
      },
      {
       "output_type": "stream",
       "stream": "stderr",
       "text": [
        "DEBUG:django.db.backends:(0.001) UPDATE `loq_interval` SET `chr` = 'chr2L', `start` = 20562297, `stop` = 20562448, `mirName` = 'dme-mir-4973', `NeatName` = 'chr2L:20562298-20562448', `IntervalSize` = 151, `IntervalSerialNumber` = 49, `Structure` = '........(((((.((((.(((((((((((.((..(((.....(((((((....)))..))))................((((((.(((((.((....)).))))).))))))...))).)).))))))))))).)).)).))))).....', `Annotations` = '', `Tags` = '', `all_reads_mapped` = 2, `sum_normReads` = 0.0039, `mapped_strand` = '+', `Link` = 'http://genome.cbis.nus.edu.sg/cgi-bin/hgTracks?db=dm3&position=chr2L:20562298-20562448' WHERE `loq_interval`.`id` = 49 ; args=(u'chr2L', 20562297, 20562448, u'dme-mir-4973', u'chr2L:20562298-20562448', 151, 49, u'........(((((.((((.(((((((((((.((..(((.....(((((((....)))..))))................((((((.(((((.((....)).))))).))))))...))).)).))))))))))).)).)).))))).....', u'', u'', 2, 0.0039, '+', u'http://genome.cbis.nus.edu.sg/cgi-bin/hgTracks?db=dm3&position=chr2L:20562298-20562448', 49)\n"
       ]
      },
      {
       "output_type": "stream",
       "stream": "stdout",
       "text": [
        "\n",
        "dme-mir-133+\n"
       ]
      },
      {
       "output_type": "stream",
       "stream": "stderr",
       "text": [
        "DEBUG:django.db.backends:(0.001) SELECT `loq_interval`.`id`, `loq_interval`.`chr`, `loq_interval`.`start`, `loq_interval`.`stop`, `loq_interval`.`mirName`, `loq_interval`.`NeatName`, `loq_interval`.`IntervalSize`, `loq_interval`.`IntervalSerialNumber`, `loq_interval`.`Structure`, `loq_interval`.`Annotations`, `loq_interval`.`Tags`, `loq_interval`.`all_reads_mapped`, `loq_interval`.`sum_normReads`, `loq_interval`.`mapped_strand`, `loq_interval`.`Link` FROM `loq_interval` WHERE `loq_interval`.`mirName` = 'dme-mir-133' ; args=('dme-mir-133',)\n"
       ]
      },
      {
       "output_type": "stream",
       "stream": "stderr",
       "text": [
        "DEBUG:django.db.backends:(0.000) SELECT (1) AS `a` FROM `loq_interval` WHERE `loq_interval`.`id` = 50  LIMIT 1; args=(50,)\n"
       ]
      },
      {
       "output_type": "stream",
       "stream": "stderr",
       "text": [
        "DEBUG:django.db.backends:(0.000) UPDATE `loq_interval` SET `chr` = 'chr2L', `start` = 20616616, `stop` = 20616714, `mirName` = 'dme-mir-133', `NeatName` = 'chr2L:20616617-20616714', `IntervalSize` = 98, `IntervalSerialNumber` = 50, `Structure` = '.....((((((((..(((((((((((((....(((((((((((........)).)))))).)))..)))))))))))))..)))).))))........', `Annotations` = '', `Tags` = '', `all_reads_mapped` = 18, `sum_normReads` = 4.7972, `mapped_strand` = '+', `Link` = 'http://genome.cbis.nus.edu.sg/cgi-bin/hgTracks?db=dm3&position=chr2L:20616617-20616714' WHERE `loq_interval`.`id` = 50 ; args=(u'chr2L', 20616616, 20616714, u'dme-mir-133', u'chr2L:20616617-20616714', 98, 50, u'.....((((((((..(((((((((((((....(((((((((((........)).)))))).)))..)))))))))))))..)))).))))........', u'', u'', 18, 4.7972, '+', u'http://genome.cbis.nus.edu.sg/cgi-bin/hgTracks?db=dm3&position=chr2L:20616617-20616714', 50)\n"
       ]
      },
      {
       "output_type": "stream",
       "stream": "stdout",
       "text": [
        "\n",
        "dme-mir-288-\n"
       ]
      },
      {
       "output_type": "stream",
       "stream": "stderr",
       "text": [
        "DEBUG:django.db.backends:(0.001) SELECT `loq_interval`.`id`, `loq_interval`.`chr`, `loq_interval`.`start`, `loq_interval`.`stop`, `loq_interval`.`mirName`, `loq_interval`.`NeatName`, `loq_interval`.`IntervalSize`, `loq_interval`.`IntervalSerialNumber`, `loq_interval`.`Structure`, `loq_interval`.`Annotations`, `loq_interval`.`Tags`, `loq_interval`.`all_reads_mapped`, `loq_interval`.`sum_normReads`, `loq_interval`.`mapped_strand`, `loq_interval`.`Link` FROM `loq_interval` WHERE `loq_interval`.`mirName` = 'dme-mir-288' ; args=('dme-mir-288',)\n"
       ]
      },
      {
       "output_type": "stream",
       "stream": "stderr",
       "text": [
        "DEBUG:django.db.backends:(0.000) SELECT (1) AS `a` FROM `loq_interval` WHERE `loq_interval`.`id` = 51  LIMIT 1; args=(51,)\n"
       ]
      },
      {
       "output_type": "stream",
       "stream": "stderr",
       "text": [
        "DEBUG:django.db.backends:(0.001) UPDATE `loq_interval` SET `chr` = 'chr2L', `start` = 20618365, `stop` = 20618462, `mirName` = 'dme-mir-288', `NeatName` = 'chr2L:20618366-20618462', `IntervalSize` = 97, `IntervalSerialNumber` = 51, `Structure` = '(((((.((((((....((.((((..((((((.(((((((........((((....)))))))))))...)))))).)))).))..)))))).)))))', `Annotations` = '', `Tags` = '', `all_reads_mapped` = 0, `sum_normReads` = NULL, `mapped_strand` = '-', `Link` = 'http://genome.cbis.nus.edu.sg/cgi-bin/hgTracks?db=dm3&position=chr2L:20618366-20618462' WHERE `loq_interval`.`id` = 51 ; args=(u'chr2L', 20618365, 20618462, u'dme-mir-288', u'chr2L:20618366-20618462', 97, 51, u'(((((.((((((....((.((((..((((((.(((((((........((((....)))))))))))...)))))).)))).))..)))))).)))))', u'', u'', 0, '-', u'http://genome.cbis.nus.edu.sg/cgi-bin/hgTracks?db=dm3&position=chr2L:20618366-20618462', 51)\n"
       ]
      },
      {
       "output_type": "stream",
       "stream": "stdout",
       "text": [
        "\n",
        "dme-mir-4974+\n"
       ]
      },
      {
       "output_type": "stream",
       "stream": "stderr",
       "text": [
        "DEBUG:django.db.backends:(0.001) SELECT `loq_interval`.`id`, `loq_interval`.`chr`, `loq_interval`.`start`, `loq_interval`.`stop`, `loq_interval`.`mirName`, `loq_interval`.`NeatName`, `loq_interval`.`IntervalSize`, `loq_interval`.`IntervalSerialNumber`, `loq_interval`.`Structure`, `loq_interval`.`Annotations`, `loq_interval`.`Tags`, `loq_interval`.`all_reads_mapped`, `loq_interval`.`sum_normReads`, `loq_interval`.`mapped_strand`, `loq_interval`.`Link` FROM `loq_interval` WHERE `loq_interval`.`mirName` = 'dme-mir-4974' ; args=('dme-mir-4974',)\n"
       ]
      },
      {
       "output_type": "stream",
       "stream": "stderr",
       "text": [
        "DEBUG:django.db.backends:(0.000) SELECT (1) AS `a` FROM `loq_interval` WHERE `loq_interval`.`id` = 52  LIMIT 1; args=(52,)\n"
       ]
      },
      {
       "output_type": "stream",
       "stream": "stderr",
       "text": [
        "DEBUG:django.db.backends:(0.001) UPDATE `loq_interval` SET `chr` = 'chr2L', `start` = 21263932, `stop` = 21264034, `mirName` = 'dme-mir-4974', `NeatName` = 'chr2L:21263933-21264034', `IntervalSize` = 102, `IntervalSerialNumber` = 52, `Structure` = '...........(((((..((((((.((((((((..((((((.((((.(......).)))).))))))..))))))))))))))..)))))............', `Annotations` = '', `Tags` = '', `all_reads_mapped` = 16, `sum_normReads` = 3.0198, `mapped_strand` = '+', `Link` = 'http://genome.cbis.nus.edu.sg/cgi-bin/hgTracks?db=dm3&position=chr2L:21263933-21264034' WHERE `loq_interval`.`id` = 52 ; args=(u'chr2L', 21263932, 21264034, u'dme-mir-4974', u'chr2L:21263933-21264034', 102, 52, u'...........(((((..((((((.((((((((..((((((.((((.(......).)))).))))))..))))))))))))))..)))))............', u'', u'', 16, 3.0198, '+', u'http://genome.cbis.nus.edu.sg/cgi-bin/hgTracks?db=dm3&position=chr2L:21263933-21264034', 52)\n"
       ]
      },
      {
       "output_type": "stream",
       "stream": "stdout",
       "text": [
        "\n",
        "dme-mir-2490+\n"
       ]
      },
      {
       "output_type": "stream",
       "stream": "stderr",
       "text": [
        "DEBUG:django.db.backends:(0.001) SELECT `loq_interval`.`id`, `loq_interval`.`chr`, `loq_interval`.`start`, `loq_interval`.`stop`, `loq_interval`.`mirName`, `loq_interval`.`NeatName`, `loq_interval`.`IntervalSize`, `loq_interval`.`IntervalSerialNumber`, `loq_interval`.`Structure`, `loq_interval`.`Annotations`, `loq_interval`.`Tags`, `loq_interval`.`all_reads_mapped`, `loq_interval`.`sum_normReads`, `loq_interval`.`mapped_strand`, `loq_interval`.`Link` FROM `loq_interval` WHERE `loq_interval`.`mirName` = 'dme-mir-2490' ; args=('dme-mir-2490',)\n"
       ]
      },
      {
       "output_type": "stream",
       "stream": "stderr",
       "text": [
        "DEBUG:django.db.backends:(0.000) SELECT (1) AS `a` FROM `loq_interval` WHERE `loq_interval`.`id` = 53  LIMIT 1; args=(53,)\n"
       ]
      },
      {
       "output_type": "stream",
       "stream": "stderr",
       "text": [
        "DEBUG:django.db.backends:(0.001) UPDATE `loq_interval` SET `chr` = 'chr2LHet', `start` = 27335, `stop` = 27410, `mirName` = 'dme-mir-2490', `NeatName` = 'chr2LHet:27336-27410', `IntervalSize` = 75, `IntervalSerialNumber` = 53, `Structure` = '..(((((((.(((((((((((.(((..(((((..((......))))))).))).))))))))))).)))))))..', `Annotations` = '', `Tags` = '', `all_reads_mapped` = 2, `sum_normReads` = 0.0757, `mapped_strand` = '+', `Link` = 'http://genome.cbis.nus.edu.sg/cgi-bin/hgTracks?db=dm3&position=chr2LHet:27336-27410' WHERE `loq_interval`.`id` = 53 ; args=(u'chr2LHet', 27335, 27410, u'dme-mir-2490', u'chr2LHet:27336-27410', 75, 53, u'..(((((((.(((((((((((.(((..(((((..((......))))))).))).))))))))))).)))))))..', u'', u'', 2, 0.0757, '+', u'http://genome.cbis.nus.edu.sg/cgi-bin/hgTracks?db=dm3&position=chr2LHet:27336-27410', 53)\n"
       ]
      },
      {
       "output_type": "stream",
       "stream": "stdout",
       "text": [
        "\n",
        "dme-mir-4975-\n"
       ]
      },
      {
       "output_type": "stream",
       "stream": "stderr",
       "text": [
        "DEBUG:django.db.backends:(0.001) SELECT `loq_interval`.`id`, `loq_interval`.`chr`, `loq_interval`.`start`, `loq_interval`.`stop`, `loq_interval`.`mirName`, `loq_interval`.`NeatName`, `loq_interval`.`IntervalSize`, `loq_interval`.`IntervalSerialNumber`, `loq_interval`.`Structure`, `loq_interval`.`Annotations`, `loq_interval`.`Tags`, `loq_interval`.`all_reads_mapped`, `loq_interval`.`sum_normReads`, `loq_interval`.`mapped_strand`, `loq_interval`.`Link` FROM `loq_interval` WHERE `loq_interval`.`mirName` = 'dme-mir-4975' ; args=('dme-mir-4975',)\n"
       ]
      },
      {
       "output_type": "stream",
       "stream": "stderr",
       "text": [
        "DEBUG:django.db.backends:(0.000) SELECT (1) AS `a` FROM `loq_interval` WHERE `loq_interval`.`id` = 54  LIMIT 1; args=(54,)\n"
       ]
      },
      {
       "output_type": "stream",
       "stream": "stderr",
       "text": [
        "DEBUG:django.db.backends:(0.001) UPDATE `loq_interval` SET `chr` = 'chr2R', `start` = 2594667, `stop` = 2594778, `mirName` = 'dme-mir-4975', `NeatName` = 'chr2R:2594668-2594778', `IntervalSize` = 111, `IntervalSerialNumber` = 54, `Structure` = '((((((..........)))))).(((.((...(((.((((..(((((.((((.....))))...)))))...)))).))).)).)))............((((....))))', `Annotations` = '', `Tags` = '', `all_reads_mapped` = 0, `sum_normReads` = NULL, `mapped_strand` = '-', `Link` = 'http://genome.cbis.nus.edu.sg/cgi-bin/hgTracks?db=dm3&position=chr2R:2594668-2594778' WHERE `loq_interval`.`id` = 54 ; args=(u'chr2R', 2594667, 2594778, u'dme-mir-4975', u'chr2R:2594668-2594778', 111, 54, u'((((((..........)))))).(((.((...(((.((((..(((((.((((.....))))...)))))...)))).))).)).)))............((((....))))', u'', u'', 0, '-', u'http://genome.cbis.nus.edu.sg/cgi-bin/hgTracks?db=dm3&position=chr2R:2594668-2594778', 54)\n"
       ]
      },
      {
       "output_type": "stream",
       "stream": "stdout",
       "text": [
        "\n",
        "dme-mir-4976-\n"
       ]
      },
      {
       "output_type": "stream",
       "stream": "stderr",
       "text": [
        "DEBUG:django.db.backends:(0.002) SELECT `loq_interval`.`id`, `loq_interval`.`chr`, `loq_interval`.`start`, `loq_interval`.`stop`, `loq_interval`.`mirName`, `loq_interval`.`NeatName`, `loq_interval`.`IntervalSize`, `loq_interval`.`IntervalSerialNumber`, `loq_interval`.`Structure`, `loq_interval`.`Annotations`, `loq_interval`.`Tags`, `loq_interval`.`all_reads_mapped`, `loq_interval`.`sum_normReads`, `loq_interval`.`mapped_strand`, `loq_interval`.`Link` FROM `loq_interval` WHERE `loq_interval`.`mirName` = 'dme-mir-4976' ; args=('dme-mir-4976',)\n"
       ]
      },
      {
       "output_type": "stream",
       "stream": "stderr",
       "text": [
        "DEBUG:django.db.backends:(0.000) SELECT (1) AS `a` FROM `loq_interval` WHERE `loq_interval`.`id` = 55  LIMIT 1; args=(55,)\n"
       ]
      },
      {
       "output_type": "stream",
       "stream": "stderr",
       "text": [
        "DEBUG:django.db.backends:(0.001) UPDATE `loq_interval` SET `chr` = 'chr2R', `start` = 2723037, `stop` = 2723140, `mirName` = 'dme-mir-4976', `NeatName` = 'chr2R:2723038-2723140', `IntervalSize` = 103, `IntervalSerialNumber` = 55, `Structure` = '..(((.(.((((((((.(((((.(.(((((.(((((((.(((((.(((((...)))))..))))).))))))).))))).).))))).)))))))).))))..', `Annotations` = '', `Tags` = '', `all_reads_mapped` = 4, `sum_normReads` = 0.473, `mapped_strand` = '-', `Link` = 'http://genome.cbis.nus.edu.sg/cgi-bin/hgTracks?db=dm3&position=chr2R:2723038-2723140' WHERE `loq_interval`.`id` = 55 ; args=(u'chr2R', 2723037, 2723140, u'dme-mir-4976', u'chr2R:2723038-2723140', 103, 55, u'..(((.(.((((((((.(((((.(.(((((.(((((((.(((((.(((((...)))))..))))).))))))).))))).).))))).)))))))).))))..', u'', u'', 4, 0.473, '-', u'http://genome.cbis.nus.edu.sg/cgi-bin/hgTracks?db=dm3&position=chr2R:2723038-2723140', 55)\n"
       ]
      },
      {
       "output_type": "stream",
       "stream": "stdout",
       "text": [
        "\n",
        "dme-mir-4977-\n"
       ]
      },
      {
       "output_type": "stream",
       "stream": "stderr",
       "text": [
        "DEBUG:django.db.backends:(0.001) SELECT `loq_interval`.`id`, `loq_interval`.`chr`, `loq_interval`.`start`, `loq_interval`.`stop`, `loq_interval`.`mirName`, `loq_interval`.`NeatName`, `loq_interval`.`IntervalSize`, `loq_interval`.`IntervalSerialNumber`, `loq_interval`.`Structure`, `loq_interval`.`Annotations`, `loq_interval`.`Tags`, `loq_interval`.`all_reads_mapped`, `loq_interval`.`sum_normReads`, `loq_interval`.`mapped_strand`, `loq_interval`.`Link` FROM `loq_interval` WHERE `loq_interval`.`mirName` = 'dme-mir-4977' ; args=('dme-mir-4977',)\n"
       ]
      },
      {
       "output_type": "stream",
       "stream": "stderr",
       "text": [
        "DEBUG:django.db.backends:(0.000) SELECT (1) AS `a` FROM `loq_interval` WHERE `loq_interval`.`id` = 56  LIMIT 1; args=(56,)\n"
       ]
      },
      {
       "output_type": "stream",
       "stream": "stderr",
       "text": [
        "DEBUG:django.db.backends:(0.001) UPDATE `loq_interval` SET `chr` = 'chr2R', `start` = 3294237, `stop` = 3294342, `mirName` = 'dme-mir-4977', `NeatName` = 'chr2R:3294238-3294342', `IntervalSize` = 105, `IntervalSerialNumber` = 56, `Structure` = '.....((((((((.(.....((.(((((((((.(((((((((.((((((...))).))).))))).)))).))))))))).)).....).)))))..))).....', `Annotations` = '', `Tags` = '', `all_reads_mapped` = 9, `sum_normReads` = 0.9245, `mapped_strand` = '-', `Link` = 'http://genome.cbis.nus.edu.sg/cgi-bin/hgTracks?db=dm3&position=chr2R:3294238-3294342' WHERE `loq_interval`.`id` = 56 ; args=(u'chr2R', 3294237, 3294342, u'dme-mir-4977', u'chr2R:3294238-3294342', 105, 56, u'.....((((((((.(.....((.(((((((((.(((((((((.((((((...))).))).))))).)))).))))))))).)).....).)))))..))).....', u'', u'', 9, 0.9245, '-', u'http://genome.cbis.nus.edu.sg/cgi-bin/hgTracks?db=dm3&position=chr2R:3294238-3294342', 56)\n"
       ]
      },
      {
       "output_type": "stream",
       "stream": "stdout",
       "text": [
        "\n",
        "dme-mir-4909+\n"
       ]
      },
      {
       "output_type": "stream",
       "stream": "stderr",
       "text": [
        "DEBUG:django.db.backends:(0.001) SELECT `loq_interval`.`id`, `loq_interval`.`chr`, `loq_interval`.`start`, `loq_interval`.`stop`, `loq_interval`.`mirName`, `loq_interval`.`NeatName`, `loq_interval`.`IntervalSize`, `loq_interval`.`IntervalSerialNumber`, `loq_interval`.`Structure`, `loq_interval`.`Annotations`, `loq_interval`.`Tags`, `loq_interval`.`all_reads_mapped`, `loq_interval`.`sum_normReads`, `loq_interval`.`mapped_strand`, `loq_interval`.`Link` FROM `loq_interval` WHERE `loq_interval`.`mirName` = 'dme-mir-4909' ; args=('dme-mir-4909',)\n"
       ]
      },
      {
       "output_type": "stream",
       "stream": "stderr",
       "text": [
        "DEBUG:django.db.backends:(0.000) SELECT (1) AS `a` FROM `loq_interval` WHERE `loq_interval`.`id` = 57  LIMIT 1; args=(57,)\n"
       ]
      },
      {
       "output_type": "stream",
       "stream": "stderr",
       "text": [
        "DEBUG:django.db.backends:(0.001) UPDATE `loq_interval` SET `chr` = 'chr2R', `start` = 3598921, `stop` = 3598981, `mirName` = 'dme-mir-4909', `NeatName` = 'chr2R:3598922-3598981', `IntervalSize` = 60, `IntervalSerialNumber` = 57, `Structure` = '.((((.(((((((((((((((.(((((.....))))).))))))))))).)))).)))).', `Annotations` = '', `Tags` = '', `all_reads_mapped` = 0, `sum_normReads` = NULL, `mapped_strand` = '+', `Link` = 'http://genome.cbis.nus.edu.sg/cgi-bin/hgTracks?db=dm3&position=chr2R:3598922-3598981' WHERE `loq_interval`.`id` = 57 ; args=(u'chr2R', 3598921, 3598981, u'dme-mir-4909', u'chr2R:3598922-3598981', 60, 57, u'.((((.(((((((((((((((.(((((.....))))).))))))))))).)))).)))).', u'', u'', 0, '+', u'http://genome.cbis.nus.edu.sg/cgi-bin/hgTracks?db=dm3&position=chr2R:3598922-3598981', 57)\n"
       ]
      },
      {
       "output_type": "stream",
       "stream": "stdout",
       "text": [
        "\n",
        "dme-mir-4980+\n"
       ]
      },
      {
       "output_type": "stream",
       "stream": "stderr",
       "text": [
        "DEBUG:django.db.backends:(0.001) SELECT `loq_interval`.`id`, `loq_interval`.`chr`, `loq_interval`.`start`, `loq_interval`.`stop`, `loq_interval`.`mirName`, `loq_interval`.`NeatName`, `loq_interval`.`IntervalSize`, `loq_interval`.`IntervalSerialNumber`, `loq_interval`.`Structure`, `loq_interval`.`Annotations`, `loq_interval`.`Tags`, `loq_interval`.`all_reads_mapped`, `loq_interval`.`sum_normReads`, `loq_interval`.`mapped_strand`, `loq_interval`.`Link` FROM `loq_interval` WHERE `loq_interval`.`mirName` = 'dme-mir-4980' ; args=('dme-mir-4980',)\n"
       ]
      },
      {
       "output_type": "stream",
       "stream": "stderr",
       "text": [
        "DEBUG:django.db.backends:(0.000) SELECT (1) AS `a` FROM `loq_interval` WHERE `loq_interval`.`id` = 58  LIMIT 1; args=(58,)\n"
       ]
      },
      {
       "output_type": "stream",
       "stream": "stderr",
       "text": [
        "DEBUG:django.db.backends:(0.000) UPDATE `loq_interval` SET `chr` = 'chr2R', `start` = 3673826, `stop` = 3673948, `mirName` = 'dme-mir-4980', `NeatName` = 'chr2R:3673827-3673948', `IntervalSize` = 122, `IntervalSerialNumber` = 58, `Structure` = '..(((((..(((((.(((....((.(((.....(((((((((..((((((..(.(((((((....))).))))).))))))..)))))))))..)))))....)))..)))))....)))))', `Annotations` = '', `Tags` = '', `all_reads_mapped` = 7, `sum_normReads` = 0.7666, `mapped_strand` = '+', `Link` = 'http://genome.cbis.nus.edu.sg/cgi-bin/hgTracks?db=dm3&position=chr2R:3673827-3673948' WHERE `loq_interval`.`id` = 58 ; args=(u'chr2R', 3673826, 3673948, u'dme-mir-4980', u'chr2R:3673827-3673948', 122, 58, u'..(((((..(((((.(((....((.(((.....(((((((((..((((((..(.(((((((....))).))))).))))))..)))))))))..)))))....)))..)))))....)))))', u'', u'', 7, 0.7666, '+', u'http://genome.cbis.nus.edu.sg/cgi-bin/hgTracks?db=dm3&position=chr2R:3673827-3673948', 58)\n"
       ]
      },
      {
       "output_type": "stream",
       "stream": "stdout",
       "text": [
        "\n",
        "dme-mir-4981+\n"
       ]
      },
      {
       "output_type": "stream",
       "stream": "stderr",
       "text": [
        "DEBUG:django.db.backends:(0.001) SELECT `loq_interval`.`id`, `loq_interval`.`chr`, `loq_interval`.`start`, `loq_interval`.`stop`, `loq_interval`.`mirName`, `loq_interval`.`NeatName`, `loq_interval`.`IntervalSize`, `loq_interval`.`IntervalSerialNumber`, `loq_interval`.`Structure`, `loq_interval`.`Annotations`, `loq_interval`.`Tags`, `loq_interval`.`all_reads_mapped`, `loq_interval`.`sum_normReads`, `loq_interval`.`mapped_strand`, `loq_interval`.`Link` FROM `loq_interval` WHERE `loq_interval`.`mirName` = 'dme-mir-4981' ; args=('dme-mir-4981',)\n"
       ]
      },
      {
       "output_type": "stream",
       "stream": "stderr",
       "text": [
        "DEBUG:django.db.backends:(0.000) SELECT (1) AS `a` FROM `loq_interval` WHERE `loq_interval`.`id` = 59  LIMIT 1; args=(59,)\n"
       ]
      },
      {
       "output_type": "stream",
       "stream": "stderr",
       "text": [
        "DEBUG:django.db.backends:(0.000) UPDATE `loq_interval` SET `chr` = 'chr2R', `start` = 3902753, `stop` = 3902848, `mirName` = 'dme-mir-4981', `NeatName` = 'chr2R:3902754-3902848', `IntervalSize` = 95, `IntervalSerialNumber` = 59, `Structure` = '...(((((.((((.((((((((.((((((((((.((((((.(((...))).)))..)))))))))))))..)))))))).))..)).)))))...', `Annotations` = '', `Tags` = '', `all_reads_mapped` = 0, `sum_normReads` = NULL, `mapped_strand` = '+', `Link` = 'http://genome.cbis.nus.edu.sg/cgi-bin/hgTracks?db=dm3&position=chr2R:3902754-3902848' WHERE `loq_interval`.`id` = 59 ; args=(u'chr2R', 3902753, 3902848, u'dme-mir-4981', u'chr2R:3902754-3902848', 95, 59, u'...(((((.((((.((((((((.((((((((((.((((((.(((...))).)))..)))))))))))))..)))))))).))..)).)))))...', u'', u'', 0, '+', u'http://genome.cbis.nus.edu.sg/cgi-bin/hgTracks?db=dm3&position=chr2R:3902754-3902848', 59)\n"
       ]
      },
      {
       "output_type": "stream",
       "stream": "stdout",
       "text": [
        "\n",
        "dme-mir-280+\n"
       ]
      },
      {
       "output_type": "stream",
       "stream": "stderr",
       "text": [
        "DEBUG:django.db.backends:(0.001) SELECT `loq_interval`.`id`, `loq_interval`.`chr`, `loq_interval`.`start`, `loq_interval`.`stop`, `loq_interval`.`mirName`, `loq_interval`.`NeatName`, `loq_interval`.`IntervalSize`, `loq_interval`.`IntervalSerialNumber`, `loq_interval`.`Structure`, `loq_interval`.`Annotations`, `loq_interval`.`Tags`, `loq_interval`.`all_reads_mapped`, `loq_interval`.`sum_normReads`, `loq_interval`.`mapped_strand`, `loq_interval`.`Link` FROM `loq_interval` WHERE `loq_interval`.`mirName` = 'dme-mir-280' ; args=('dme-mir-280',)\n"
       ]
      },
      {
       "output_type": "stream",
       "stream": "stderr",
       "text": [
        "DEBUG:django.db.backends:(0.000) SELECT (1) AS `a` FROM `loq_interval` WHERE `loq_interval`.`id` = 60  LIMIT 1; args=(60,)\n"
       ]
      },
      {
       "output_type": "stream",
       "stream": "stderr",
       "text": [
        "DEBUG:django.db.backends:(0.000) UPDATE `loq_interval` SET `chr` = 'chr2R', `start` = 4185610, `stop` = 4185705, `mirName` = 'dme-mir-280', `NeatName` = 'chr2R:4185611-4185705', `IntervalSize` = 95, `IntervalSerialNumber` = 60, `Structure` = '.((((((..(((((.(((.((((((((((((((((...............))))))))))))))))))).)))))....))))))..........', `Annotations` = '', `Tags` = '', `all_reads_mapped` = 0, `sum_normReads` = NULL, `mapped_strand` = '+', `Link` = 'http://genome.cbis.nus.edu.sg/cgi-bin/hgTracks?db=dm3&position=chr2R:4185611-4185705' WHERE `loq_interval`.`id` = 60 ; args=(u'chr2R', 4185610, 4185705, u'dme-mir-280', u'chr2R:4185611-4185705', 95, 60, u'.((((((..(((((.(((.((((((((((((((((...............))))))))))))))))))).)))))....))))))..........', u'', u'', 0, '+', u'http://genome.cbis.nus.edu.sg/cgi-bin/hgTracks?db=dm3&position=chr2R:4185611-4185705', 60)\n"
       ]
      },
      {
       "output_type": "stream",
       "stream": "stdout",
       "text": [
        "\n",
        "dme-mir-986+\n"
       ]
      },
      {
       "output_type": "stream",
       "stream": "stderr",
       "text": [
        "DEBUG:django.db.backends:(0.001) SELECT `loq_interval`.`id`, `loq_interval`.`chr`, `loq_interval`.`start`, `loq_interval`.`stop`, `loq_interval`.`mirName`, `loq_interval`.`NeatName`, `loq_interval`.`IntervalSize`, `loq_interval`.`IntervalSerialNumber`, `loq_interval`.`Structure`, `loq_interval`.`Annotations`, `loq_interval`.`Tags`, `loq_interval`.`all_reads_mapped`, `loq_interval`.`sum_normReads`, `loq_interval`.`mapped_strand`, `loq_interval`.`Link` FROM `loq_interval` WHERE `loq_interval`.`mirName` = 'dme-mir-986' ; args=('dme-mir-986',)\n"
       ]
      },
      {
       "output_type": "stream",
       "stream": "stderr",
       "text": [
        "DEBUG:django.db.backends:(0.000) SELECT (1) AS `a` FROM `loq_interval` WHERE `loq_interval`.`id` = 61  LIMIT 1; args=(61,)\n"
       ]
      },
      {
       "output_type": "stream",
       "stream": "stderr",
       "text": [
        "DEBUG:django.db.backends:(0.001) UPDATE `loq_interval` SET `chr` = 'chr2R', `start` = 4332486, `stop` = 4332586, `mirName` = 'dme-mir-986', `NeatName` = 'chr2R:4332487-4332586', `IntervalSize` = 100, `IntervalSerialNumber` = 61, `Structure` = '....((((((((.(((...((.(((((((.((((..(((((.......((...))......)))))..)))).))))))).))...))).))))))))..', `Annotations` = '', `Tags` = '', `all_reads_mapped` = 73, `sum_normReads` = 235.3238, `mapped_strand` = '+', `Link` = 'http://genome.cbis.nus.edu.sg/cgi-bin/hgTracks?db=dm3&position=chr2R:4332487-4332586' WHERE `loq_interval`.`id` = 61 ; args=(u'chr2R', 4332486, 4332586, u'dme-mir-986', u'chr2R:4332487-4332586', 100, 61, u'....((((((((.(((...((.(((((((.((((..(((((.......((...))......)))))..)))).))))))).))...))).))))))))..', u'', u'', 73, 235.3238, '+', u'http://genome.cbis.nus.edu.sg/cgi-bin/hgTracks?db=dm3&position=chr2R:4332487-4332586', 61)\n"
       ]
      },
      {
       "output_type": "stream",
       "stream": "stdout",
       "text": [
        "\n",
        "dme-mir-987-\n"
       ]
      },
      {
       "output_type": "stream",
       "stream": "stderr",
       "text": [
        "DEBUG:django.db.backends:(0.001) SELECT `loq_interval`.`id`, `loq_interval`.`chr`, `loq_interval`.`start`, `loq_interval`.`stop`, `loq_interval`.`mirName`, `loq_interval`.`NeatName`, `loq_interval`.`IntervalSize`, `loq_interval`.`IntervalSerialNumber`, `loq_interval`.`Structure`, `loq_interval`.`Annotations`, `loq_interval`.`Tags`, `loq_interval`.`all_reads_mapped`, `loq_interval`.`sum_normReads`, `loq_interval`.`mapped_strand`, `loq_interval`.`Link` FROM `loq_interval` WHERE `loq_interval`.`mirName` = 'dme-mir-987' ; args=('dme-mir-987',)\n"
       ]
      },
      {
       "output_type": "stream",
       "stream": "stderr",
       "text": [
        "DEBUG:django.db.backends:(0.000) SELECT (1) AS `a` FROM `loq_interval` WHERE `loq_interval`.`id` = 62  LIMIT 1; args=(62,)\n"
       ]
      },
      {
       "output_type": "stream",
       "stream": "stderr",
       "text": [
        "DEBUG:django.db.backends:(0.000) UPDATE `loq_interval` SET `chr` = 'chr2R', `start` = 5200527, `stop` = 5200621, `mirName` = 'dme-mir-987', `NeatName` = 'chr2R:5200528-5200621', `IntervalSize` = 94, `IntervalSerialNumber` = 62, `Structure` = '((((((((((((((..((((((((.(((((..((((((((..(((....)))...))))))))))))))))))))).))).))))))).)))).', `Annotations` = '', `Tags` = '', `all_reads_mapped` = 67, `sum_normReads` = 49.8811, `mapped_strand` = '-', `Link` = 'http://genome.cbis.nus.edu.sg/cgi-bin/hgTracks?db=dm3&position=chr2R:5200528-5200621' WHERE `loq_interval`.`id` = 62 ; args=(u'chr2R', 5200527, 5200621, u'dme-mir-987', u'chr2R:5200528-5200621', 94, 62, u'((((((((((((((..((((((((.(((((..((((((((..(((....)))...))))))))))))))))))))).))).))))))).)))).', u'', u'', 67, 49.8811, '-', u'http://genome.cbis.nus.edu.sg/cgi-bin/hgTracks?db=dm3&position=chr2R:5200528-5200621', 62)\n"
       ]
      },
      {
       "output_type": "stream",
       "stream": "stdout",
       "text": [
        "\n",
        "dme-mir-14+\n"
       ]
      },
      {
       "output_type": "stream",
       "stream": "stderr",
       "text": [
        "DEBUG:django.db.backends:(0.001) SELECT `loq_interval`.`id`, `loq_interval`.`chr`, `loq_interval`.`start`, `loq_interval`.`stop`, `loq_interval`.`mirName`, `loq_interval`.`NeatName`, `loq_interval`.`IntervalSize`, `loq_interval`.`IntervalSerialNumber`, `loq_interval`.`Structure`, `loq_interval`.`Annotations`, `loq_interval`.`Tags`, `loq_interval`.`all_reads_mapped`, `loq_interval`.`sum_normReads`, `loq_interval`.`mapped_strand`, `loq_interval`.`Link` FROM `loq_interval` WHERE `loq_interval`.`mirName` = 'dme-mir-14' ; args=('dme-mir-14',)\n"
       ]
      },
      {
       "output_type": "stream",
       "stream": "stderr",
       "text": [
        "DEBUG:django.db.backends:(0.000) SELECT (1) AS `a` FROM `loq_interval` WHERE `loq_interval`.`id` = 63  LIMIT 1; args=(63,)\n"
       ]
      },
      {
       "output_type": "stream",
       "stream": "stderr",
       "text": [
        "DEBUG:django.db.backends:(0.000) UPDATE `loq_interval` SET `chr` = 'chr2R', `start` = 5441266, `stop` = 5441329, `mirName` = 'dme-mir-14', `NeatName` = 'chr2R:5441267-5441329', `IntervalSize` = 63, `IntervalSerialNumber` = 63, `Structure` = '((((((((.((((.(((((((.(((((.........))))).))))))).)))).))))))))', `Annotations` = '', `Tags` = '', `all_reads_mapped` = 399, `sum_normReads` = 649404.052000002, `mapped_strand` = '+', `Link` = 'http://genome.cbis.nus.edu.sg/cgi-bin/hgTracks?db=dm3&position=chr2R:5441267-5441329' WHERE `loq_interval`.`id` = 63 ; args=(u'chr2R', 5441266, 5441329, u'dme-mir-14', u'chr2R:5441267-5441329', 63, 63, u'((((((((.((((.(((((((.(((((.........))))).))))))).)))).))))))))', u'', u'', 399, 649404.052000002, '+', u'http://genome.cbis.nus.edu.sg/cgi-bin/hgTracks?db=dm3&position=chr2R:5441267-5441329', 63)\n"
       ]
      },
      {
       "output_type": "stream",
       "stream": "stdout",
       "text": [
        "\n",
        "dme-mir-307b+\n"
       ]
      },
      {
       "output_type": "stream",
       "stream": "stderr",
       "text": [
        "DEBUG:django.db.backends:(0.001) SELECT `loq_interval`.`id`, `loq_interval`.`chr`, `loq_interval`.`start`, `loq_interval`.`stop`, `loq_interval`.`mirName`, `loq_interval`.`NeatName`, `loq_interval`.`IntervalSize`, `loq_interval`.`IntervalSerialNumber`, `loq_interval`.`Structure`, `loq_interval`.`Annotations`, `loq_interval`.`Tags`, `loq_interval`.`all_reads_mapped`, `loq_interval`.`sum_normReads`, `loq_interval`.`mapped_strand`, `loq_interval`.`Link` FROM `loq_interval` WHERE `loq_interval`.`mirName` = 'dme-mir-307b' ; args=('dme-mir-307b',)\n"
       ]
      },
      {
       "output_type": "stream",
       "stream": "stderr",
       "text": [
        "DEBUG:django.db.backends:(0.000) SELECT (1) AS `a` FROM `loq_interval` WHERE `loq_interval`.`id` = 64  LIMIT 1; args=(64,)\n"
       ]
      },
      {
       "output_type": "stream",
       "stream": "stderr",
       "text": [
        "DEBUG:django.db.backends:(0.001) UPDATE `loq_interval` SET `chr` = 'chr2R', `start` = 5508738, `stop` = 5508858, `mirName` = 'dme-mir-307b', `NeatName` = 'chr2R:5508739-5508858', `IntervalSize` = 120, `IntervalSerialNumber` = 64, `Structure` = '.((((..((((......((((.((((...((((((((((...((.(((((((..................))))))).))...))))))))))...)))).)))).....)))).)))).', `Annotations` = '', `Tags` = '', `all_reads_mapped` = 1, `sum_normReads` = 0.1861, `mapped_strand` = '+', `Link` = 'http://genome.cbis.nus.edu.sg/cgi-bin/hgTracks?db=dm3&position=chr2R:5508739-5508858' WHERE `loq_interval`.`id` = 64 ; args=(u'chr2R', 5508738, 5508858, u'dme-mir-307b', u'chr2R:5508739-5508858', 120, 64, u'.((((..((((......((((.((((...((((((((((...((.(((((((..................))))))).))...))))))))))...)))).)))).....)))).)))).', u'', u'', 1, 0.1861, '+', u'http://genome.cbis.nus.edu.sg/cgi-bin/hgTracks?db=dm3&position=chr2R:5508739-5508858', 64)\n"
       ]
      },
      {
       "output_type": "stream",
       "stream": "stdout",
       "text": [
        "\n",
        "dme-mir-307a-\n"
       ]
      },
      {
       "output_type": "stream",
       "stream": "stderr",
       "text": [
        "DEBUG:django.db.backends:(0.001) SELECT `loq_interval`.`id`, `loq_interval`.`chr`, `loq_interval`.`start`, `loq_interval`.`stop`, `loq_interval`.`mirName`, `loq_interval`.`NeatName`, `loq_interval`.`IntervalSize`, `loq_interval`.`IntervalSerialNumber`, `loq_interval`.`Structure`, `loq_interval`.`Annotations`, `loq_interval`.`Tags`, `loq_interval`.`all_reads_mapped`, `loq_interval`.`sum_normReads`, `loq_interval`.`mapped_strand`, `loq_interval`.`Link` FROM `loq_interval` WHERE `loq_interval`.`mirName` = 'dme-mir-307a' ; args=('dme-mir-307a',)\n"
       ]
      },
      {
       "output_type": "stream",
       "stream": "stderr",
       "text": [
        "DEBUG:django.db.backends:(0.000) SELECT (1) AS `a` FROM `loq_interval` WHERE `loq_interval`.`id` = 65  LIMIT 1; args=(65,)\n"
       ]
      },
      {
       "output_type": "stream",
       "stream": "stderr",
       "text": [
        "DEBUG:django.db.backends:(0.000) UPDATE `loq_interval` SET `chr` = 'chr2R', `start` = 5508755, `stop` = 5508843, `mirName` = 'dme-mir-307a', `NeatName` = 'chr2R:5508756-5508843', `IntervalSize` = 88, `IntervalSerialNumber` = 65, `Structure` = '((((((((((((.(((((((((...((.(((((((.((((.......))))..))))))).))...)))))))))))).)))))))))', `Annotations` = '', `Tags` = '', `all_reads_mapped` = 137, `sum_normReads` = 174.5715, `mapped_strand` = '-', `Link` = 'http://genome.cbis.nus.edu.sg/cgi-bin/hgTracks?db=dm3&position=chr2R:5508756-5508843' WHERE `loq_interval`.`id` = 65 ; args=(u'chr2R', 5508755, 5508843, u'dme-mir-307a', u'chr2R:5508756-5508843', 88, 65, u'((((((((((((.(((((((((...((.(((((((.((((.......))))..))))))).))...)))))))))))).)))))))))', u'', u'', 137, 174.5715, '-', u'http://genome.cbis.nus.edu.sg/cgi-bin/hgTracks?db=dm3&position=chr2R:5508756-5508843', 65)\n"
       ]
      },
      {
       "output_type": "stream",
       "stream": "stdout",
       "text": [
        "\n",
        "dme-mir-4967-\n"
       ]
      },
      {
       "output_type": "stream",
       "stream": "stderr",
       "text": [
        "DEBUG:django.db.backends:(0.001) SELECT `loq_interval`.`id`, `loq_interval`.`chr`, `loq_interval`.`start`, `loq_interval`.`stop`, `loq_interval`.`mirName`, `loq_interval`.`NeatName`, `loq_interval`.`IntervalSize`, `loq_interval`.`IntervalSerialNumber`, `loq_interval`.`Structure`, `loq_interval`.`Annotations`, `loq_interval`.`Tags`, `loq_interval`.`all_reads_mapped`, `loq_interval`.`sum_normReads`, `loq_interval`.`mapped_strand`, `loq_interval`.`Link` FROM `loq_interval` WHERE `loq_interval`.`mirName` = 'dme-mir-4967' ; args=('dme-mir-4967',)\n"
       ]
      },
      {
       "output_type": "stream",
       "stream": "stderr",
       "text": [
        "DEBUG:django.db.backends:(0.000) SELECT (1) AS `a` FROM `loq_interval` WHERE `loq_interval`.`id` = 66  LIMIT 1; args=(66,)\n"
       ]
      },
      {
       "output_type": "stream",
       "stream": "stderr",
       "text": [
        "DEBUG:django.db.backends:(0.001) UPDATE `loq_interval` SET `chr` = 'chr2R', `start` = 5899597, `stop` = 5899704, `mirName` = 'dme-mir-4967', `NeatName` = 'chr2R:5899598-5899704', `IntervalSize` = 107, `IntervalSerialNumber` = 66, `Structure` = '.....(((((((..((((((((..(((((..(.((((.(((((.((.(...........).))))))).)))).)..)))))))))))))...))))..))).....', `Annotations` = '', `Tags` = '', `all_reads_mapped` = 1, `sum_normReads` = 0.1861, `mapped_strand` = '-', `Link` = 'http://genome.cbis.nus.edu.sg/cgi-bin/hgTracks?db=dm3&position=chr2R:5899598-5899704' WHERE `loq_interval`.`id` = 66 ; args=(u'chr2R', 5899597, 5899704, u'dme-mir-4967', u'chr2R:5899598-5899704', 107, 66, u'.....(((((((..((((((((..(((((..(.((((.(((((.((.(...........).))))))).)))).)..)))))))))))))...))))..))).....', u'', u'', 1, 0.1861, '-', u'http://genome.cbis.nus.edu.sg/cgi-bin/hgTracks?db=dm3&position=chr2R:5899598-5899704', 66)\n"
       ]
      },
      {
       "output_type": "stream",
       "stream": "stdout",
       "text": [
        "\n",
        "dme-mir-1008+\n"
       ]
      },
      {
       "output_type": "stream",
       "stream": "stderr",
       "text": [
        "DEBUG:django.db.backends:(0.002) SELECT `loq_interval`.`id`, `loq_interval`.`chr`, `loq_interval`.`start`, `loq_interval`.`stop`, `loq_interval`.`mirName`, `loq_interval`.`NeatName`, `loq_interval`.`IntervalSize`, `loq_interval`.`IntervalSerialNumber`, `loq_interval`.`Structure`, `loq_interval`.`Annotations`, `loq_interval`.`Tags`, `loq_interval`.`all_reads_mapped`, `loq_interval`.`sum_normReads`, `loq_interval`.`mapped_strand`, `loq_interval`.`Link` FROM `loq_interval` WHERE `loq_interval`.`mirName` = 'dme-mir-1008' ; args=('dme-mir-1008',)\n"
       ]
      },
      {
       "output_type": "stream",
       "stream": "stderr",
       "text": [
        "DEBUG:django.db.backends:(0.000) SELECT (1) AS `a` FROM `loq_interval` WHERE `loq_interval`.`id` = 67  LIMIT 1; args=(67,)\n"
       ]
      },
      {
       "output_type": "stream",
       "stream": "stderr",
       "text": [
        "DEBUG:django.db.backends:(0.001) UPDATE `loq_interval` SET `chr` = 'chr2R', `start` = 6773037, `stop` = 6773094, `mirName` = 'dme-mir-1008', `NeatName` = 'chr2R:6773038-6773094', `IntervalSize` = 57, `IntervalSerialNumber` = 67, `Structure` = '((((((((..(((((((.(((((.((...)))))))..)))))))..))))))))..', `Annotations` = '', `Tags` = '', `all_reads_mapped` = 41, `sum_normReads` = 28.8895, `mapped_strand` = '+', `Link` = 'http://genome.cbis.nus.edu.sg/cgi-bin/hgTracks?db=dm3&position=chr2R:6773038-6773094' WHERE `loq_interval`.`id` = 67 ; args=(u'chr2R', 6773037, 6773094, u'dme-mir-1008', u'chr2R:6773038-6773094', 57, 67, u'((((((((..(((((((.(((((.((...)))))))..)))))))..))))))))..', u'', u'', 41, 28.8895, '+', u'http://genome.cbis.nus.edu.sg/cgi-bin/hgTracks?db=dm3&position=chr2R:6773038-6773094', 67)\n"
       ]
      },
      {
       "output_type": "stream",
       "stream": "stdout",
       "text": [
        "\n",
        "dme-mir-988-\n"
       ]
      },
      {
       "output_type": "stream",
       "stream": "stderr",
       "text": [
        "DEBUG:django.db.backends:(0.001) SELECT `loq_interval`.`id`, `loq_interval`.`chr`, `loq_interval`.`start`, `loq_interval`.`stop`, `loq_interval`.`mirName`, `loq_interval`.`NeatName`, `loq_interval`.`IntervalSize`, `loq_interval`.`IntervalSerialNumber`, `loq_interval`.`Structure`, `loq_interval`.`Annotations`, `loq_interval`.`Tags`, `loq_interval`.`all_reads_mapped`, `loq_interval`.`sum_normReads`, `loq_interval`.`mapped_strand`, `loq_interval`.`Link` FROM `loq_interval` WHERE `loq_interval`.`mirName` = 'dme-mir-988' ; args=('dme-mir-988',)\n"
       ]
      },
      {
       "output_type": "stream",
       "stream": "stderr",
       "text": [
        "DEBUG:django.db.backends:(0.000) SELECT (1) AS `a` FROM `loq_interval` WHERE `loq_interval`.`id` = 68  LIMIT 1; args=(68,)\n"
       ]
      },
      {
       "output_type": "stream",
       "stream": "stderr",
       "text": [
        "DEBUG:django.db.backends:(0.000) UPDATE `loq_interval` SET `chr` = 'chr2R', `start` = 8046376, `stop` = 8046475, `mirName` = 'dme-mir-988', `NeatName` = 'chr2R:8046377-8046475', `IntervalSize` = 99, `IntervalSerialNumber` = 68, `Structure` = '...........((((((((((.((((((.(.((((((((((.(((((.........)))))....)))))))))).).)))))).)))))).))))...', `Annotations` = '', `Tags` = '', `all_reads_mapped` = 276, `sum_normReads` = 7275.20629999999, `mapped_strand` = '-', `Link` = 'http://genome.cbis.nus.edu.sg/cgi-bin/hgTracks?db=dm3&position=chr2R:8046377-8046475' WHERE `loq_interval`.`id` = 68 ; args=(u'chr2R', 8046376, 8046475, u'dme-mir-988', u'chr2R:8046377-8046475', 99, 68, u'...........((((((((((.((((((.(.((((((((((.(((((.........)))))....)))))))))).).)))))).)))))).))))...', u'', u'', 276, 7275.20629999999, '-', u'http://genome.cbis.nus.edu.sg/cgi-bin/hgTracks?db=dm3&position=chr2R:8046377-8046475', 68)\n"
       ]
      },
      {
       "output_type": "stream",
       "stream": "stdout",
       "text": [
        "\n",
        "dme-mir-281-2-\n"
       ]
      },
      {
       "output_type": "stream",
       "stream": "stderr",
       "text": [
        "DEBUG:django.db.backends:(0.001) SELECT `loq_interval`.`id`, `loq_interval`.`chr`, `loq_interval`.`start`, `loq_interval`.`stop`, `loq_interval`.`mirName`, `loq_interval`.`NeatName`, `loq_interval`.`IntervalSize`, `loq_interval`.`IntervalSerialNumber`, `loq_interval`.`Structure`, `loq_interval`.`Annotations`, `loq_interval`.`Tags`, `loq_interval`.`all_reads_mapped`, `loq_interval`.`sum_normReads`, `loq_interval`.`mapped_strand`, `loq_interval`.`Link` FROM `loq_interval` WHERE `loq_interval`.`mirName` = 'dme-mir-281-2' ; args=('dme-mir-281-2',)\n"
       ]
      },
      {
       "output_type": "stream",
       "stream": "stderr",
       "text": [
        "DEBUG:django.db.backends:(0.000) SELECT (1) AS `a` FROM `loq_interval` WHERE `loq_interval`.`id` = 69  LIMIT 1; args=(69,)\n"
       ]
      },
      {
       "output_type": "stream",
       "stream": "stderr",
       "text": [
        "DEBUG:django.db.backends:(0.001) UPDATE `loq_interval` SET `chr` = 'chr2R', `start` = 8057657, `stop` = 8057749, `mirName` = 'dme-mir-281-2', `NeatName` = 'chr2R:8057658-8057749', `IntervalSize` = 92, `IntervalSerialNumber` = 69, `Structure` = '(((((.((...(((((((((((..(((((.((((((..((((......)))).....)))))))))))...)))))))))))...)))))))', `Annotations` = '', `Tags` = '', `all_reads_mapped` = 149, `sum_normReads` = 627.5131, `mapped_strand` = '-', `Link` = 'http://genome.cbis.nus.edu.sg/cgi-bin/hgTracks?db=dm3&position=chr2R:8057658-8057749' WHERE `loq_interval`.`id` = 69 ; args=(u'chr2R', 8057657, 8057749, u'dme-mir-281-2', u'chr2R:8057658-8057749', 92, 69, u'(((((.((...(((((((((((..(((((.((((((..((((......)))).....)))))))))))...)))))))))))...)))))))', u'', u'', 149, 627.5131, '-', u'http://genome.cbis.nus.edu.sg/cgi-bin/hgTracks?db=dm3&position=chr2R:8057658-8057749', 69)\n"
       ]
      },
      {
       "output_type": "stream",
       "stream": "stdout",
       "text": [
        "\n",
        "dme-mir-281-1-\n"
       ]
      },
      {
       "output_type": "stream",
       "stream": "stderr",
       "text": [
        "DEBUG:django.db.backends:(0.001) SELECT `loq_interval`.`id`, `loq_interval`.`chr`, `loq_interval`.`start`, `loq_interval`.`stop`, `loq_interval`.`mirName`, `loq_interval`.`NeatName`, `loq_interval`.`IntervalSize`, `loq_interval`.`IntervalSerialNumber`, `loq_interval`.`Structure`, `loq_interval`.`Annotations`, `loq_interval`.`Tags`, `loq_interval`.`all_reads_mapped`, `loq_interval`.`sum_normReads`, `loq_interval`.`mapped_strand`, `loq_interval`.`Link` FROM `loq_interval` WHERE `loq_interval`.`mirName` = 'dme-mir-281-1' ; args=('dme-mir-281-1',)\n"
       ]
      },
      {
       "output_type": "stream",
       "stream": "stderr",
       "text": [
        "DEBUG:django.db.backends:(0.000) SELECT (1) AS `a` FROM `loq_interval` WHERE `loq_interval`.`id` = 70  LIMIT 1; args=(70,)\n"
       ]
      },
      {
       "output_type": "stream",
       "stream": "stderr",
       "text": [
        "DEBUG:django.db.backends:(0.001) UPDATE `loq_interval` SET `chr` = 'chr2R', `start` = 8057877, `stop` = 8057967, `mirName` = 'dme-mir-281-1', `NeatName` = 'chr2R:8057878-8057967', `IntervalSize` = 90, `IntervalSerialNumber` = 70, `Structure` = '((((((.....(((((((((((..(((((.((((((...................)))))))))))...)))))))))))....))))))', `Annotations` = '', `Tags` = '', `all_reads_mapped` = 132, `sum_normReads` = 364.4752, `mapped_strand` = '-', `Link` = 'http://genome.cbis.nus.edu.sg/cgi-bin/hgTracks?db=dm3&position=chr2R:8057878-8057967' WHERE `loq_interval`.`id` = 70 ; args=(u'chr2R', 8057877, 8057967, u'dme-mir-281-1', u'chr2R:8057878-8057967', 90, 70, u'((((((.....(((((((((((..(((((.((((((...................)))))))))))...)))))))))))....))))))', u'', u'', 132, 364.4752, '-', u'http://genome.cbis.nus.edu.sg/cgi-bin/hgTracks?db=dm3&position=chr2R:8057878-8057967', 70)\n"
       ]
      },
      {
       "output_type": "stream",
       "stream": "stdout",
       "text": [
        "\n",
        "dme-mir-184-\n"
       ]
      },
      {
       "output_type": "stream",
       "stream": "stderr",
       "text": [
        "DEBUG:django.db.backends:(0.002) SELECT `loq_interval`.`id`, `loq_interval`.`chr`, `loq_interval`.`start`, `loq_interval`.`stop`, `loq_interval`.`mirName`, `loq_interval`.`NeatName`, `loq_interval`.`IntervalSize`, `loq_interval`.`IntervalSerialNumber`, `loq_interval`.`Structure`, `loq_interval`.`Annotations`, `loq_interval`.`Tags`, `loq_interval`.`all_reads_mapped`, `loq_interval`.`sum_normReads`, `loq_interval`.`mapped_strand`, `loq_interval`.`Link` FROM `loq_interval` WHERE `loq_interval`.`mirName` = 'dme-mir-184' ; args=('dme-mir-184',)\n"
       ]
      },
      {
       "output_type": "stream",
       "stream": "stderr",
       "text": [
        "DEBUG:django.db.backends:(0.000) SELECT (1) AS `a` FROM `loq_interval` WHERE `loq_interval`.`id` = 71  LIMIT 1; args=(71,)\n"
       ]
      },
      {
       "output_type": "stream",
       "stream": "stderr",
       "text": [
        "DEBUG:django.db.backends:(0.001) UPDATE `loq_interval` SET `chr` = 'chr2R', `start` = 9216906, `stop` = 9217006, `mirName` = 'dme-mir-184', `NeatName` = 'chr2R:9216907-9217006', `IntervalSize` = 100, `IntervalSerialNumber` = 71, `Structure` = '((....))((((.((.((..((((((((((((((.((((...(((..........)))...)).))))))).)))))))))..)).))))))........', `Annotations` = '', `Tags` = '', `all_reads_mapped` = 340, `sum_normReads` = 98859.5318, `mapped_strand` = '-', `Link` = 'http://genome.cbis.nus.edu.sg/cgi-bin/hgTracks?db=dm3&position=chr2R:9216907-9217006' WHERE `loq_interval`.`id` = 71 ; args=(u'chr2R', 9216906, 9217006, u'dme-mir-184', u'chr2R:9216907-9217006', 100, 71, u'((....))((((.((.((..((((((((((((((.((((...(((..........)))...)).))))))).)))))))))..)).))))))........', u'', u'', 340, 98859.5318, '-', u'http://genome.cbis.nus.edu.sg/cgi-bin/hgTracks?db=dm3&position=chr2R:9216907-9217006', 71)\n"
       ]
      },
      {
       "output_type": "stream",
       "stream": "stdout",
       "text": [
        "\n",
        "dme-mir-4978-\n"
       ]
      },
      {
       "output_type": "stream",
       "stream": "stderr",
       "text": [
        "DEBUG:django.db.backends:(0.001) SELECT `loq_interval`.`id`, `loq_interval`.`chr`, `loq_interval`.`start`, `loq_interval`.`stop`, `loq_interval`.`mirName`, `loq_interval`.`NeatName`, `loq_interval`.`IntervalSize`, `loq_interval`.`IntervalSerialNumber`, `loq_interval`.`Structure`, `loq_interval`.`Annotations`, `loq_interval`.`Tags`, `loq_interval`.`all_reads_mapped`, `loq_interval`.`sum_normReads`, `loq_interval`.`mapped_strand`, `loq_interval`.`Link` FROM `loq_interval` WHERE `loq_interval`.`mirName` = 'dme-mir-4978' ; args=('dme-mir-4978',)\n"
       ]
      },
      {
       "output_type": "stream",
       "stream": "stderr",
       "text": [
        "DEBUG:django.db.backends:(0.000) SELECT (1) AS `a` FROM `loq_interval` WHERE `loq_interval`.`id` = 72  LIMIT 1; args=(72,)\n"
       ]
      },
      {
       "output_type": "stream",
       "stream": "stderr",
       "text": [
        "DEBUG:django.db.backends:(0.001) UPDATE `loq_interval` SET `chr` = 'chr2R', `start` = 9893364, `stop` = 9893511, `mirName` = 'dme-mir-4978', `NeatName` = 'chr2R:9893365-9893511', `IntervalSize` = 147, `IntervalSerialNumber` = 72, `Structure` = '(..(((.((((((((((..(((.((((.(.(((((((..((((((((....(((.....)))((((..((((...)))).....)))).....))))))))...))))))).)))))....))).)))))))..))).)))..)...', `Annotations` = '', `Tags` = '', `all_reads_mapped` = 0, `sum_normReads` = NULL, `mapped_strand` = '-', `Link` = 'http://genome.cbis.nus.edu.sg/cgi-bin/hgTracks?db=dm3&position=chr2R:9893365-9893511' WHERE `loq_interval`.`id` = 72 ; args=(u'chr2R', 9893364, 9893511, u'dme-mir-4978', u'chr2R:9893365-9893511', 147, 72, u'(..(((.((((((((((..(((.((((.(.(((((((..((((((((....(((.....)))((((..((((...)))).....)))).....))))))))...))))))).)))))....))).)))))))..))).)))..)...', u'', u'', 0, '-', u'http://genome.cbis.nus.edu.sg/cgi-bin/hgTracks?db=dm3&position=chr2R:9893365-9893511', 72)\n"
       ]
      },
      {
       "output_type": "stream",
       "stream": "stdout",
       "text": [
        "\n",
        "dme-mir-989-\n"
       ]
      },
      {
       "output_type": "stream",
       "stream": "stderr",
       "text": [
        "DEBUG:django.db.backends:(0.001) SELECT `loq_interval`.`id`, `loq_interval`.`chr`, `loq_interval`.`start`, `loq_interval`.`stop`, `loq_interval`.`mirName`, `loq_interval`.`NeatName`, `loq_interval`.`IntervalSize`, `loq_interval`.`IntervalSerialNumber`, `loq_interval`.`Structure`, `loq_interval`.`Annotations`, `loq_interval`.`Tags`, `loq_interval`.`all_reads_mapped`, `loq_interval`.`sum_normReads`, `loq_interval`.`mapped_strand`, `loq_interval`.`Link` FROM `loq_interval` WHERE `loq_interval`.`mirName` = 'dme-mir-989' ; args=('dme-mir-989',)\n"
       ]
      },
      {
       "output_type": "stream",
       "stream": "stderr",
       "text": [
        "DEBUG:django.db.backends:(0.000) SELECT (1) AS `a` FROM `loq_interval` WHERE `loq_interval`.`id` = 73  LIMIT 1; args=(73,)\n"
       ]
      },
      {
       "output_type": "stream",
       "stream": "stderr",
       "text": [
        "DEBUG:django.db.backends:(0.001) UPDATE `loq_interval` SET `chr` = 'chr2R', `start` = 10032855, `stop` = 10033029, `mirName` = 'dme-mir-989', `NeatName` = 'chr2R:10032856-10033029', `IntervalSize` = 174, `IntervalSerialNumber` = 73, `Structure` = '...(((((((((......(((((((.(((((.(((((((((.(((((((.(((((((.((((((((((.(.(((..(.........)..))).)))).))))))).))).)))).))))))).)...........))))))))))))).)))))))......)))))))))...', `Annotations` = '', `Tags` = '', `all_reads_mapped` = 35, `sum_normReads` = 18.3443, `mapped_strand` = '-', `Link` = 'http://genome.cbis.nus.edu.sg/cgi-bin/hgTracks?db=dm3&position=chr2R:10032856-10033029' WHERE `loq_interval`.`id` = 73 ; args=(u'chr2R', 10032855, 10033029, u'dme-mir-989', u'chr2R:10032856-10033029', 174, 73, u'...(((((((((......(((((((.(((((.(((((((((.(((((((.(((((((.((((((((((.(.(((..(.........)..))).)))).))))))).))).)))).))))))).)...........))))))))))))).)))))))......)))))))))...', u'', u'', 35, 18.3443, '-', u'http://genome.cbis.nus.edu.sg/cgi-bin/hgTracks?db=dm3&position=chr2R:10032856-10033029', 73)\n"
       ]
      },
      {
       "output_type": "stream",
       "stream": "stdout",
       "text": [
        "\n",
        "dme-mir-308-\n"
       ]
      },
      {
       "output_type": "stream",
       "stream": "stderr",
       "text": [
        "DEBUG:django.db.backends:(0.001) SELECT `loq_interval`.`id`, `loq_interval`.`chr`, `loq_interval`.`start`, `loq_interval`.`stop`, `loq_interval`.`mirName`, `loq_interval`.`NeatName`, `loq_interval`.`IntervalSize`, `loq_interval`.`IntervalSerialNumber`, `loq_interval`.`Structure`, `loq_interval`.`Annotations`, `loq_interval`.`Tags`, `loq_interval`.`all_reads_mapped`, `loq_interval`.`sum_normReads`, `loq_interval`.`mapped_strand`, `loq_interval`.`Link` FROM `loq_interval` WHERE `loq_interval`.`mirName` = 'dme-mir-308' ; args=('dme-mir-308',)\n"
       ]
      },
      {
       "output_type": "stream",
       "stream": "stderr",
       "text": [
        "DEBUG:django.db.backends:(0.000) SELECT (1) AS `a` FROM `loq_interval` WHERE `loq_interval`.`id` = 74  LIMIT 1; args=(74,)\n"
       ]
      },
      {
       "output_type": "stream",
       "stream": "stderr",
       "text": [
        "DEBUG:django.db.backends:(0.000) UPDATE `loq_interval` SET `chr` = 'chr2R', `start` = 10103306, `stop` = 10103369, `mirName` = 'dme-mir-308', `NeatName` = 'chr2R:10103307-10103369', `IntervalSize` = 63, `IntervalSerialNumber` = 74, `Structure` = '(((((((((((.(((((((.((((..(.((...)).)..)))).))))))).)))))))))))', `Annotations` = '', `Tags` = '', `all_reads_mapped` = 209, `sum_normReads` = 573.4414, `mapped_strand` = '-', `Link` = 'http://genome.cbis.nus.edu.sg/cgi-bin/hgTracks?db=dm3&position=chr2R:10103307-10103369' WHERE `loq_interval`.`id` = 74 ; args=(u'chr2R', 10103306, 10103369, u'dme-mir-308', u'chr2R:10103307-10103369', 63, 74, u'(((((((((((.(((((((.((((..(.((...)).)..)))).))))))).)))))))))))', u'', u'', 209, 573.4414, '-', u'http://genome.cbis.nus.edu.sg/cgi-bin/hgTracks?db=dm3&position=chr2R:10103307-10103369', 74)\n"
       ]
      },
      {
       "output_type": "stream",
       "stream": "stdout",
       "text": [
        "\n",
        "dme-mir-1016-\n"
       ]
      },
      {
       "output_type": "stream",
       "stream": "stderr",
       "text": [
        "DEBUG:django.db.backends:(0.001) SELECT `loq_interval`.`id`, `loq_interval`.`chr`, `loq_interval`.`start`, `loq_interval`.`stop`, `loq_interval`.`mirName`, `loq_interval`.`NeatName`, `loq_interval`.`IntervalSize`, `loq_interval`.`IntervalSerialNumber`, `loq_interval`.`Structure`, `loq_interval`.`Annotations`, `loq_interval`.`Tags`, `loq_interval`.`all_reads_mapped`, `loq_interval`.`sum_normReads`, `loq_interval`.`mapped_strand`, `loq_interval`.`Link` FROM `loq_interval` WHERE `loq_interval`.`mirName` = 'dme-mir-1016' ; args=('dme-mir-1016',)\n"
       ]
      },
      {
       "output_type": "stream",
       "stream": "stderr",
       "text": [
        "DEBUG:django.db.backends:(0.000) SELECT (1) AS `a` FROM `loq_interval` WHERE `loq_interval`.`id` = 75  LIMIT 1; args=(75,)\n"
       ]
      },
      {
       "output_type": "stream",
       "stream": "stderr",
       "text": [
        "DEBUG:django.db.backends:(0.001) UPDATE `loq_interval` SET `chr` = 'chr2R', `start` = 10120634, `stop` = 10120692, `mirName` = 'dme-mir-1016', `NeatName` = 'chr2R:10120635-10120692', `IntervalSize` = 58, `IntervalSerialNumber` = 75, `Structure` = '.(((((((.((((((..((((((((......))))...)))).)))))).))))))).', `Annotations` = '', `Tags` = '', `all_reads_mapped` = 42, `sum_normReads` = 9.59039999999999, `mapped_strand` = '-', `Link` = 'http://genome.cbis.nus.edu.sg/cgi-bin/hgTracks?db=dm3&position=chr2R:10120635-10120692' WHERE `loq_interval`.`id` = 75 ; args=(u'chr2R', 10120634, 10120692, u'dme-mir-1016', u'chr2R:10120635-10120692', 58, 75, u'.(((((((.((((((..((((((((......))))...)))).)))))).))))))).', u'', u'', 42, 9.59039999999999, '-', u'http://genome.cbis.nus.edu.sg/cgi-bin/hgTracks?db=dm3&position=chr2R:10120635-10120692', 75)\n"
       ]
      },
      {
       "output_type": "stream",
       "stream": "stdout",
       "text": [
        "\n",
        "dme-mir-278+\n"
       ]
      },
      {
       "output_type": "stream",
       "stream": "stderr",
       "text": [
        "DEBUG:django.db.backends:(0.001) SELECT `loq_interval`.`id`, `loq_interval`.`chr`, `loq_interval`.`start`, `loq_interval`.`stop`, `loq_interval`.`mirName`, `loq_interval`.`NeatName`, `loq_interval`.`IntervalSize`, `loq_interval`.`IntervalSerialNumber`, `loq_interval`.`Structure`, `loq_interval`.`Annotations`, `loq_interval`.`Tags`, `loq_interval`.`all_reads_mapped`, `loq_interval`.`sum_normReads`, `loq_interval`.`mapped_strand`, `loq_interval`.`Link` FROM `loq_interval` WHERE `loq_interval`.`mirName` = 'dme-mir-278' ; args=('dme-mir-278',)\n"
       ]
      },
      {
       "output_type": "stream",
       "stream": "stderr",
       "text": [
        "DEBUG:django.db.backends:(0.000) SELECT (1) AS `a` FROM `loq_interval` WHERE `loq_interval`.`id` = 76  LIMIT 1; args=(76,)\n"
       ]
      },
      {
       "output_type": "stream",
       "stream": "stderr",
       "text": [
        "DEBUG:django.db.backends:(0.001) UPDATE `loq_interval` SET `chr` = 'chr2R', `start` = 11544570, `stop` = 11544668, `mirName` = 'dme-mir-278', `NeatName` = 'chr2R:11544571-11544668', `IntervalSize` = 98, `IntervalSerialNumber` = 76, `Structure` = '..((((((....(((((.(((((((.(((((.((.(((((.(((.......)))))))).))))))).))))))).)))))..)))))).........', `Annotations` = '', `Tags` = '', `all_reads_mapped` = 62, `sum_normReads` = 1085.9185, `mapped_strand` = '+', `Link` = 'http://genome.cbis.nus.edu.sg/cgi-bin/hgTracks?db=dm3&position=chr2R:11544571-11544668' WHERE `loq_interval`.`id` = 76 ; args=(u'chr2R', 11544570, 11544668, u'dme-mir-278', u'chr2R:11544571-11544668', 98, 76, u'..((((((....(((((.(((((((.(((((.((.(((((.(((.......)))))))).))))))).))))))).)))))..)))))).........', u'', u'', 62, 1085.9185, '+', u'http://genome.cbis.nus.edu.sg/cgi-bin/hgTracks?db=dm3&position=chr2R:11544571-11544668', 76)\n"
       ]
      },
      {
       "output_type": "stream",
       "stream": "stdout",
       "text": [
        "\n",
        "dme-mir-4919+\n"
       ]
      },
      {
       "output_type": "stream",
       "stream": "stderr",
       "text": [
        "DEBUG:django.db.backends:(0.002) SELECT `loq_interval`.`id`, `loq_interval`.`chr`, `loq_interval`.`start`, `loq_interval`.`stop`, `loq_interval`.`mirName`, `loq_interval`.`NeatName`, `loq_interval`.`IntervalSize`, `loq_interval`.`IntervalSerialNumber`, `loq_interval`.`Structure`, `loq_interval`.`Annotations`, `loq_interval`.`Tags`, `loq_interval`.`all_reads_mapped`, `loq_interval`.`sum_normReads`, `loq_interval`.`mapped_strand`, `loq_interval`.`Link` FROM `loq_interval` WHERE `loq_interval`.`mirName` = 'dme-mir-4919' ; args=('dme-mir-4919',)\n"
       ]
      },
      {
       "output_type": "stream",
       "stream": "stderr",
       "text": [
        "DEBUG:django.db.backends:(0.000) SELECT (1) AS `a` FROM `loq_interval` WHERE `loq_interval`.`id` = 77  LIMIT 1; args=(77,)\n"
       ]
      },
      {
       "output_type": "stream",
       "stream": "stderr",
       "text": [
        "DEBUG:django.db.backends:(0.001) UPDATE `loq_interval` SET `chr` = 'chr2R', `start` = 11833391, `stop` = 11833451, `mirName` = 'dme-mir-4919', `NeatName` = 'chr2R:11833392-11833451', `IntervalSize` = 60, `IntervalSerialNumber` = 77, `Structure` = '(((((((....(((((((((..................)))))))))....)))))))..', `Annotations` = '', `Tags` = '', `all_reads_mapped` = 4, `sum_normReads` = 0.4076, `mapped_strand` = '+', `Link` = 'http://genome.cbis.nus.edu.sg/cgi-bin/hgTracks?db=dm3&position=chr2R:11833392-11833451' WHERE `loq_interval`.`id` = 77 ; args=(u'chr2R', 11833391, 11833451, u'dme-mir-4919', u'chr2R:11833392-11833451', 60, 77, u'(((((((....(((((((((..................)))))))))....)))))))..', u'', u'', 4, 0.4076, '+', u'http://genome.cbis.nus.edu.sg/cgi-bin/hgTracks?db=dm3&position=chr2R:11833392-11833451', 77)\n"
       ]
      },
      {
       "output_type": "stream",
       "stream": "stdout",
       "text": [
        "\n",
        "dme-mir-137-\n"
       ]
      },
      {
       "output_type": "stream",
       "stream": "stderr",
       "text": [
        "DEBUG:django.db.backends:(0.001) SELECT `loq_interval`.`id`, `loq_interval`.`chr`, `loq_interval`.`start`, `loq_interval`.`stop`, `loq_interval`.`mirName`, `loq_interval`.`NeatName`, `loq_interval`.`IntervalSize`, `loq_interval`.`IntervalSerialNumber`, `loq_interval`.`Structure`, `loq_interval`.`Annotations`, `loq_interval`.`Tags`, `loq_interval`.`all_reads_mapped`, `loq_interval`.`sum_normReads`, `loq_interval`.`mapped_strand`, `loq_interval`.`Link` FROM `loq_interval` WHERE `loq_interval`.`mirName` = 'dme-mir-137' ; args=('dme-mir-137',)\n"
       ]
      },
      {
       "output_type": "stream",
       "stream": "stderr",
       "text": [
        "DEBUG:django.db.backends:(0.000) SELECT (1) AS `a` FROM `loq_interval` WHERE `loq_interval`.`id` = 78  LIMIT 1; args=(78,)\n"
       ]
      },
      {
       "output_type": "stream",
       "stream": "stderr",
       "text": [
        "DEBUG:django.db.backends:(0.001) UPDATE `loq_interval` SET `chr` = 'chr2R', `start` = 11952758, `stop` = 11952849, `mirName` = 'dme-mir-137', `NeatName` = 'chr2R:11952759-11952849', `IntervalSize` = 91, `IntervalSerialNumber` = 78, `Structure` = '.((((((....(((.((((((((.((((.(((.(((((.((.....))...))))).))))))).)))))))).)))....))))))....', `Annotations` = '', `Tags` = '', `all_reads_mapped` = 26, `sum_normReads` = 10.6887, `mapped_strand` = '-', `Link` = 'http://genome.cbis.nus.edu.sg/cgi-bin/hgTracks?db=dm3&position=chr2R:11952759-11952849' WHERE `loq_interval`.`id` = 78 ; args=(u'chr2R', 11952758, 11952849, u'dme-mir-137', u'chr2R:11952759-11952849', 91, 78, u'.((((((....(((.((((((((.((((.(((.(((((.((.....))...))))).))))))).)))))))).)))....))))))....', u'', u'', 26, 10.6887, '-', u'http://genome.cbis.nus.edu.sg/cgi-bin/hgTracks?db=dm3&position=chr2R:11952759-11952849', 78)\n"
       ]
      },
      {
       "output_type": "stream",
       "stream": "stderr",
       "text": [
        "DEBUG:django.db.backends:(0.001) SELECT `loq_interval`.`id`, `loq_interval`.`chr`, `loq_interval`.`start`, `loq_interval`.`stop`, `loq_interval`.`mirName`, `loq_interval`.`NeatName`, `loq_interval`.`IntervalSize`, `loq_interval`.`IntervalSerialNumber`, `loq_interval`.`Structure`, `loq_interval`.`Annotations`, `loq_interval`.`Tags`, `loq_interval`.`all_reads_mapped`, `loq_interval`.`sum_normReads`, `loq_interval`.`mapped_strand`, `loq_interval`.`Link` FROM `loq_interval` WHERE `loq_interval`.`mirName` = 'dme-mir-8' ; args=('dme-mir-8',)\n"
       ]
      },
      {
       "output_type": "stream",
       "stream": "stderr",
       "text": [
        "DEBUG:django.db.backends:(0.000) SELECT (1) AS `a` FROM `loq_interval` WHERE `loq_interval`.`id` = 79  LIMIT 1; args=(79,)\n"
       ]
      },
      {
       "output_type": "stream",
       "stream": "stderr",
       "text": [
        "DEBUG:django.db.backends:(0.000) UPDATE `loq_interval` SET `chr` = 'chr2R', `start` = 12718936, `stop` = 12719023, `mirName` = 'dme-mir-8', `NeatName` = 'chr2R:12718937-12719023', `IntervalSize` = 87, `IntervalSerialNumber` = 79, `Structure` = '.(((((((......((((((((((.(((((.((((((.............)))))).))))).))).))))))).....))))))).', `Annotations` = '', `Tags` = '', `all_reads_mapped` = 361, `sum_normReads` = 20763.7605, `mapped_strand` = '+', `Link` = 'http://genome.cbis.nus.edu.sg/cgi-bin/hgTracks?db=dm3&position=chr2R:12718937-12719023' WHERE `loq_interval`.`id` = 79 ; args=(u'chr2R', 12718936, 12719023, u'dme-mir-8', u'chr2R:12718937-12719023', 87, 79, u'.(((((((......((((((((((.(((((.((((((.............)))))).))))).))).))))))).....))))))).', u'', u'', 361, 20763.7605, '+', u'http://genome.cbis.nus.edu.sg/cgi-bin/hgTracks?db=dm3&position=chr2R:12718937-12719023', 79)\n"
       ]
      },
      {
       "output_type": "stream",
       "stream": "stdout",
       "text": [
        "\n",
        "dme-mir-8+\n",
        "\n",
        "dme-mir-990-\n"
       ]
      },
      {
       "output_type": "stream",
       "stream": "stderr",
       "text": [
        "DEBUG:django.db.backends:(0.001) SELECT `loq_interval`.`id`, `loq_interval`.`chr`, `loq_interval`.`start`, `loq_interval`.`stop`, `loq_interval`.`mirName`, `loq_interval`.`NeatName`, `loq_interval`.`IntervalSize`, `loq_interval`.`IntervalSerialNumber`, `loq_interval`.`Structure`, `loq_interval`.`Annotations`, `loq_interval`.`Tags`, `loq_interval`.`all_reads_mapped`, `loq_interval`.`sum_normReads`, `loq_interval`.`mapped_strand`, `loq_interval`.`Link` FROM `loq_interval` WHERE `loq_interval`.`mirName` = 'dme-mir-990' ; args=('dme-mir-990',)\n"
       ]
      },
      {
       "output_type": "stream",
       "stream": "stderr",
       "text": [
        "DEBUG:django.db.backends:(0.000) SELECT (1) AS `a` FROM `loq_interval` WHERE `loq_interval`.`id` = 80  LIMIT 1; args=(80,)\n"
       ]
      },
      {
       "output_type": "stream",
       "stream": "stderr",
       "text": [
        "DEBUG:django.db.backends:(0.001) UPDATE `loq_interval` SET `chr` = 'chr2R', `start` = 12782727, `stop` = 12782813, `mirName` = 'dme-mir-990', `NeatName` = 'chr2R:12782728-12782813', `IntervalSize` = 86, `IntervalSerialNumber` = 80, `Structure` = '..(((((.(.((....(((((..(((((((((((((........).))))))))..))))...))))).....)).)...))))).', `Annotations` = '', `Tags` = '', `all_reads_mapped` = 0, `sum_normReads` = NULL, `mapped_strand` = '-', `Link` = 'http://genome.cbis.nus.edu.sg/cgi-bin/hgTracks?db=dm3&position=chr2R:12782728-12782813' WHERE `loq_interval`.`id` = 80 ; args=(u'chr2R', 12782727, 12782813, u'dme-mir-990', u'chr2R:12782728-12782813', 86, 80, u'..(((((.(.((....(((((..(((((((((((((........).))))))))..))))...))))).....)).)...))))).', u'', u'', 0, '-', u'http://genome.cbis.nus.edu.sg/cgi-bin/hgTracks?db=dm3&position=chr2R:12782728-12782813', 80)\n"
       ]
      },
      {
       "output_type": "stream",
       "stream": "stderr",
       "text": [
        "DEBUG:django.db.backends:(0.001) SELECT `loq_interval`.`id`, `loq_interval`.`chr`, `loq_interval`.`start`, `loq_interval`.`stop`, `loq_interval`.`mirName`, `loq_interval`.`NeatName`, `loq_interval`.`IntervalSize`, `loq_interval`.`IntervalSerialNumber`, `loq_interval`.`Structure`, `loq_interval`.`Annotations`, `loq_interval`.`Tags`, `loq_interval`.`all_reads_mapped`, `loq_interval`.`sum_normReads`, `loq_interval`.`mapped_strand`, `loq_interval`.`Link` FROM `loq_interval` WHERE `loq_interval`.`mirName` = 'dme-mir-3643' ; args=('dme-mir-3643',)\n"
       ]
      },
      {
       "output_type": "stream",
       "stream": "stderr",
       "text": [
        "DEBUG:django.db.backends:(0.000) SELECT (1) AS `a` FROM `loq_interval` WHERE `loq_interval`.`id` = 81  LIMIT 1; args=(81,)\n"
       ]
      },
      {
       "output_type": "stream",
       "stream": "stderr",
       "text": [
        "DEBUG:django.db.backends:(0.000) UPDATE `loq_interval` SET `chr` = 'chr2R', `start` = 13653897, `stop` = 13653965, `mirName` = 'dme-mir-3643', `NeatName` = 'chr2R:13653898-13653965', `IntervalSize` = 68, `IntervalSerialNumber` = 81, `Structure` = '..((((.((..(((.((((.(.(((....))).).)))).)))..)).))))................', `Annotations` = '', `Tags` = '', `all_reads_mapped` = 21, `sum_normReads` = 3.0794, `mapped_strand` = '-', `Link` = 'http://genome.cbis.nus.edu.sg/cgi-bin/hgTracks?db=dm3&position=chr2R:13653898-13653965' WHERE `loq_interval`.`id` = 81 ; args=(u'chr2R', 13653897, 13653965, u'dme-mir-3643', u'chr2R:13653898-13653965', 68, 81, u'..((((.((..(((.((((.(.(((....))).).)))).)))..)).))))................', u'', u'', 21, 3.0794, '-', u'http://genome.cbis.nus.edu.sg/cgi-bin/hgTracks?db=dm3&position=chr2R:13653898-13653965', 81)\n"
       ]
      },
      {
       "output_type": "stream",
       "stream": "stdout",
       "text": [
        "\n",
        "dme-mir-3643-\n",
        "\n",
        "dme-mir-31a-\n"
       ]
      },
      {
       "output_type": "stream",
       "stream": "stderr",
       "text": [
        "DEBUG:django.db.backends:(0.001) SELECT `loq_interval`.`id`, `loq_interval`.`chr`, `loq_interval`.`start`, `loq_interval`.`stop`, `loq_interval`.`mirName`, `loq_interval`.`NeatName`, `loq_interval`.`IntervalSize`, `loq_interval`.`IntervalSerialNumber`, `loq_interval`.`Structure`, `loq_interval`.`Annotations`, `loq_interval`.`Tags`, `loq_interval`.`all_reads_mapped`, `loq_interval`.`sum_normReads`, `loq_interval`.`mapped_strand`, `loq_interval`.`Link` FROM `loq_interval` WHERE `loq_interval`.`mirName` = 'dme-mir-31a' ; args=('dme-mir-31a',)\n"
       ]
      },
      {
       "output_type": "stream",
       "stream": "stderr",
       "text": [
        "DEBUG:django.db.backends:(0.000) SELECT (1) AS `a` FROM `loq_interval` WHERE `loq_interval`.`id` = 82  LIMIT 1; args=(82,)\n"
       ]
      },
      {
       "output_type": "stream",
       "stream": "stderr",
       "text": [
        "DEBUG:django.db.backends:(0.000) UPDATE `loq_interval` SET `chr` = 'chr2R', `start` = 13671299, `stop` = 13671391, `mirName` = 'dme-mir-31a', `NeatName` = 'chr2R:13671300-13671391', `IntervalSize` = 92, `IntervalSerialNumber` = 82, `Structure` = '((((((((..(((((((.(((((.(((((((((.(...((.((((....)))).))...))))))))))))))).)))))))..))))))))', `Annotations` = '', `Tags` = '', `all_reads_mapped` = 20, `sum_normReads` = 13.5141, `mapped_strand` = '-', `Link` = 'http://genome.cbis.nus.edu.sg/cgi-bin/hgTracks?db=dm3&position=chr2R:13671300-13671391' WHERE `loq_interval`.`id` = 82 ; args=(u'chr2R', 13671299, 13671391, u'dme-mir-31a', u'chr2R:13671300-13671391', 92, 82, u'((((((((..(((((((.(((((.(((((((((.(...((.((((....)))).))...))))))))))))))).)))))))..))))))))', u'', u'', 20, 13.5141, '-', u'http://genome.cbis.nus.edu.sg/cgi-bin/hgTracks?db=dm3&position=chr2R:13671300-13671391', 82)\n"
       ]
      },
      {
       "output_type": "stream",
       "stream": "stderr",
       "text": [
        "DEBUG:django.db.backends:(0.001) SELECT `loq_interval`.`id`, `loq_interval`.`chr`, `loq_interval`.`start`, `loq_interval`.`stop`, `loq_interval`.`mirName`, `loq_interval`.`NeatName`, `loq_interval`.`IntervalSize`, `loq_interval`.`IntervalSerialNumber`, `loq_interval`.`Structure`, `loq_interval`.`Annotations`, `loq_interval`.`Tags`, `loq_interval`.`all_reads_mapped`, `loq_interval`.`sum_normReads`, `loq_interval`.`mapped_strand`, `loq_interval`.`Link` FROM `loq_interval` WHERE `loq_interval`.`mirName` = 'dme-mir-4982' ; args=('dme-mir-4982',)\n"
       ]
      },
      {
       "output_type": "stream",
       "stream": "stderr",
       "text": [
        "DEBUG:django.db.backends:(0.000) SELECT (1) AS `a` FROM `loq_interval` WHERE `loq_interval`.`id` = 83  LIMIT 1; args=(83,)\n"
       ]
      },
      {
       "output_type": "stream",
       "stream": "stderr",
       "text": [
        "DEBUG:django.db.backends:(0.000) UPDATE `loq_interval` SET `chr` = 'chr2R', `start` = 14607673, `stop` = 14607792, `mirName` = 'dme-mir-4982', `NeatName` = 'chr2R:14607674-14607792', `IntervalSize` = 119, `IntervalSerialNumber` = 83, `Structure` = '(((.(((.((.((((..(((((((.(((((((((((((((..(((..(((((............))))).)))..))))))))))))....)))))))))).))))))..))))))...', `Annotations` = '', `Tags` = '', `all_reads_mapped` = 0, `sum_normReads` = NULL, `mapped_strand` = '+', `Link` = 'http://genome.cbis.nus.edu.sg/cgi-bin/hgTracks?db=dm3&position=chr2R:14607674-14607792' WHERE `loq_interval`.`id` = 83 ; args=(u'chr2R', 14607673, 14607792, u'dme-mir-4982', u'chr2R:14607674-14607792', 119, 83, u'(((.(((.((.((((..(((((((.(((((((((((((((..(((..(((((............))))).)))..))))))))))))....)))))))))).))))))..))))))...', u'', u'', 0, '+', u'http://genome.cbis.nus.edu.sg/cgi-bin/hgTracks?db=dm3&position=chr2R:14607674-14607792', 83)\n"
       ]
      },
      {
       "output_type": "stream",
       "stream": "stdout",
       "text": [
        "\n",
        "dme-mir-4982+\n",
        "\n",
        "dme-mir-4983+\n"
       ]
      },
      {
       "output_type": "stream",
       "stream": "stderr",
       "text": [
        "DEBUG:django.db.backends:(0.001) SELECT `loq_interval`.`id`, `loq_interval`.`chr`, `loq_interval`.`start`, `loq_interval`.`stop`, `loq_interval`.`mirName`, `loq_interval`.`NeatName`, `loq_interval`.`IntervalSize`, `loq_interval`.`IntervalSerialNumber`, `loq_interval`.`Structure`, `loq_interval`.`Annotations`, `loq_interval`.`Tags`, `loq_interval`.`all_reads_mapped`, `loq_interval`.`sum_normReads`, `loq_interval`.`mapped_strand`, `loq_interval`.`Link` FROM `loq_interval` WHERE `loq_interval`.`mirName` = 'dme-mir-4983' ; args=('dme-mir-4983',)\n"
       ]
      },
      {
       "output_type": "stream",
       "stream": "stderr",
       "text": [
        "DEBUG:django.db.backends:(0.000) SELECT (1) AS `a` FROM `loq_interval` WHERE `loq_interval`.`id` = 84  LIMIT 1; args=(84,)\n"
       ]
      },
      {
       "output_type": "stream",
       "stream": "stderr",
       "text": [
        "DEBUG:django.db.backends:(0.001) UPDATE `loq_interval` SET `chr` = 'chr2R', `start` = 15524918, `stop` = 15525026, `mirName` = 'dme-mir-4983', `NeatName` = 'chr2R:15524919-15525026', `IntervalSize` = 108, `IntervalSerialNumber` = 84, `Structure` = '((.((((..((.((((.((((((((((...(.((((((((.....((..........)).....)))))))).)...)))))))))).)))).))....)))).))..', `Annotations` = '', `Tags` = '', `all_reads_mapped` = 0, `sum_normReads` = NULL, `mapped_strand` = '+', `Link` = 'http://genome.cbis.nus.edu.sg/cgi-bin/hgTracks?db=dm3&position=chr2R:15524919-15525026' WHERE `loq_interval`.`id` = 84 ; args=(u'chr2R', 15524918, 15525026, u'dme-mir-4983', u'chr2R:15524919-15525026', 108, 84, u'((.((((..((.((((.((((((((((...(.((((((((.....((..........)).....)))))))).)...)))))))))).)))).))....)))).))..', u'', u'', 0, '+', u'http://genome.cbis.nus.edu.sg/cgi-bin/hgTracks?db=dm3&position=chr2R:15524919-15525026', 84)\n"
       ]
      },
      {
       "output_type": "stream",
       "stream": "stderr",
       "text": [
        "DEBUG:django.db.backends:(0.001) SELECT `loq_interval`.`id`, `loq_interval`.`chr`, `loq_interval`.`start`, `loq_interval`.`stop`, `loq_interval`.`mirName`, `loq_interval`.`NeatName`, `loq_interval`.`IntervalSize`, `loq_interval`.`IntervalSerialNumber`, `loq_interval`.`Structure`, `loq_interval`.`Annotations`, `loq_interval`.`Tags`, `loq_interval`.`all_reads_mapped`, `loq_interval`.`sum_normReads`, `loq_interval`.`mapped_strand`, `loq_interval`.`Link` FROM `loq_interval` WHERE `loq_interval`.`mirName` = 'dme-mir-6-3' ; args=('dme-mir-6-3',)\n"
       ]
      },
      {
       "output_type": "stream",
       "stream": "stderr",
       "text": [
        "DEBUG:django.db.backends:(0.000) SELECT (1) AS `a` FROM `loq_interval` WHERE `loq_interval`.`id` = 85  LIMIT 1; args=(85,)\n"
       ]
      },
      {
       "output_type": "stream",
       "stream": "stderr",
       "text": [
        "DEBUG:django.db.backends:(0.001) UPDATE `loq_interval` SET `chr` = 'chr2R', `start` = 15548220, `stop` = 15548300, `mirName` = 'dme-mir-6-3', `NeatName` = 'chr2R:15548221-15548300', `IntervalSize` = 80, `IntervalSerialNumber` = 85, `Structure` = '((((.((((((((((((((((((.((((((((.(((.........))).)))))))))))))))))))))))))).))))', `Annotations` = '', `Tags` = '', `all_reads_mapped` = 50, `sum_normReads` = 33.1529, `mapped_strand` = '-', `Link` = 'http://genome.cbis.nus.edu.sg/cgi-bin/hgTracks?db=dm3&position=chr2R:15548221-15548300' WHERE `loq_interval`.`id` = 85 ; args=(u'chr2R', 15548220, 15548300, u'dme-mir-6-3', u'chr2R:15548221-15548300', 80, 85, u'((((.((((((((((((((((((.((((((((.(((.........))).)))))))))))))))))))))))))).))))', u'', u'', 50, 33.1529, '-', u'http://genome.cbis.nus.edu.sg/cgi-bin/hgTracks?db=dm3&position=chr2R:15548221-15548300', 85)\n"
       ]
      },
      {
       "output_type": "stream",
       "stream": "stdout",
       "text": [
        "\n",
        "dme-mir-6-3-\n",
        "\n",
        "dme-mir-6-2-\n"
       ]
      },
      {
       "output_type": "stream",
       "stream": "stderr",
       "text": [
        "DEBUG:django.db.backends:(0.001) SELECT `loq_interval`.`id`, `loq_interval`.`chr`, `loq_interval`.`start`, `loq_interval`.`stop`, `loq_interval`.`mirName`, `loq_interval`.`NeatName`, `loq_interval`.`IntervalSize`, `loq_interval`.`IntervalSerialNumber`, `loq_interval`.`Structure`, `loq_interval`.`Annotations`, `loq_interval`.`Tags`, `loq_interval`.`all_reads_mapped`, `loq_interval`.`sum_normReads`, `loq_interval`.`mapped_strand`, `loq_interval`.`Link` FROM `loq_interval` WHERE `loq_interval`.`mirName` = 'dme-mir-6-2' ; args=('dme-mir-6-2',)\n"
       ]
      },
      {
       "output_type": "stream",
       "stream": "stderr",
       "text": [
        "DEBUG:django.db.backends:(0.000) SELECT (1) AS `a` FROM `loq_interval` WHERE `loq_interval`.`id` = 86  LIMIT 1; args=(86,)\n"
       ]
      },
      {
       "output_type": "stream",
       "stream": "stderr",
       "text": [
        "DEBUG:django.db.backends:(0.001) UPDATE `loq_interval` SET `chr` = 'chr2R', `start` = 15548373, `stop` = 15548447, `mirName` = 'dme-mir-6-2', `NeatName` = 'chr2R:15548374-15548447', `IntervalSize` = 74, `IntervalSerialNumber` = 86, `Structure` = '(((((.((((((((..((((((.(((((((.((((....)).)).)))))))))))))..)))))))).)))))', `Annotations` = '', `Tags` = '', `all_reads_mapped` = 50, `sum_normReads` = 29.166, `mapped_strand` = '-', `Link` = 'http://genome.cbis.nus.edu.sg/cgi-bin/hgTracks?db=dm3&position=chr2R:15548374-15548447' WHERE `loq_interval`.`id` = 86 ; args=(u'chr2R', 15548373, 15548447, u'dme-mir-6-2', u'chr2R:15548374-15548447', 74, 86, u'(((((.((((((((..((((((.(((((((.((((....)).)).)))))))))))))..)))))))).)))))', u'', u'', 50, 29.166, '-', u'http://genome.cbis.nus.edu.sg/cgi-bin/hgTracks?db=dm3&position=chr2R:15548374-15548447', 86)\n"
       ]
      },
      {
       "output_type": "stream",
       "stream": "stderr",
       "text": [
        "DEBUG:django.db.backends:(0.001) SELECT `loq_interval`.`id`, `loq_interval`.`chr`, `loq_interval`.`start`, `loq_interval`.`stop`, `loq_interval`.`mirName`, `loq_interval`.`NeatName`, `loq_interval`.`IntervalSize`, `loq_interval`.`IntervalSerialNumber`, `loq_interval`.`Structure`, `loq_interval`.`Annotations`, `loq_interval`.`Tags`, `loq_interval`.`all_reads_mapped`, `loq_interval`.`sum_normReads`, `loq_interval`.`mapped_strand`, `loq_interval`.`Link` FROM `loq_interval` WHERE `loq_interval`.`mirName` = 'dme-mir-6-1' ; args=('dme-mir-6-1',)\n"
       ]
      },
      {
       "output_type": "stream",
       "stream": "stderr",
       "text": [
        "DEBUG:django.db.backends:(0.000) SELECT (1) AS `a` FROM `loq_interval` WHERE `loq_interval`.`id` = 87  LIMIT 1; args=(87,)\n"
       ]
      },
      {
       "output_type": "stream",
       "stream": "stderr",
       "text": [
        "DEBUG:django.db.backends:(0.000) UPDATE `loq_interval` SET `chr` = 'chr2R', `start` = 15548507, `stop` = 15548589, `mirName` = 'dme-mir-6-1', `NeatName` = 'chr2R:15548508-15548589', `IntervalSize` = 82, `IntervalSerialNumber` = 87, `Structure` = '.......((((((((((((((((((((.((((.((...........)).)))).))))))))))))))))))))........', `Annotations` = '', `Tags` = '', `all_reads_mapped` = 47, `sum_normReads` = 27.8028, `mapped_strand` = '-', `Link` = 'http://genome.cbis.nus.edu.sg/cgi-bin/hgTracks?db=dm3&position=chr2R:15548508-15548589' WHERE `loq_interval`.`id` = 87 ; args=(u'chr2R', 15548507, 15548589, u'dme-mir-6-1', u'chr2R:15548508-15548589', 82, 87, u'.......((((((((((((((((((((.((((.((...........)).)))).))))))))))))))))))))........', u'', u'', 47, 27.8028, '-', u'http://genome.cbis.nus.edu.sg/cgi-bin/hgTracks?db=dm3&position=chr2R:15548508-15548589', 87)\n"
       ]
      },
      {
       "output_type": "stream",
       "stream": "stdout",
       "text": [
        "\n",
        "dme-mir-6-1-\n",
        "\n",
        "dme-mir-5-\n"
       ]
      },
      {
       "output_type": "stream",
       "stream": "stderr",
       "text": [
        "DEBUG:django.db.backends:(0.001) SELECT `loq_interval`.`id`, `loq_interval`.`chr`, `loq_interval`.`start`, `loq_interval`.`stop`, `loq_interval`.`mirName`, `loq_interval`.`NeatName`, `loq_interval`.`IntervalSize`, `loq_interval`.`IntervalSerialNumber`, `loq_interval`.`Structure`, `loq_interval`.`Annotations`, `loq_interval`.`Tags`, `loq_interval`.`all_reads_mapped`, `loq_interval`.`sum_normReads`, `loq_interval`.`mapped_strand`, `loq_interval`.`Link` FROM `loq_interval` WHERE `loq_interval`.`mirName` = 'dme-mir-5' ; args=('dme-mir-5',)\n"
       ]
      },
      {
       "output_type": "stream",
       "stream": "stderr",
       "text": [
        "DEBUG:django.db.backends:(0.000) SELECT (1) AS `a` FROM `loq_interval` WHERE `loq_interval`.`id` = 88  LIMIT 1; args=(88,)\n"
       ]
      },
      {
       "output_type": "stream",
       "stream": "stderr",
       "text": [
        "DEBUG:django.db.backends:(0.001) UPDATE `loq_interval` SET `chr` = 'chr2R', `start` = 15548662, `stop` = 15548731, `mirName` = 'dme-mir-5', `NeatName` = 'chr2R:15548663-15548731', `IntervalSize` = 69, `IntervalSerialNumber` = 88, `Structure` = '....(((((((.(((((((((((((((.............)))))))))))))))))))))).......', `Annotations` = '', `Tags` = '', `all_reads_mapped` = 78, `sum_normReads` = 164.7956, `mapped_strand` = '-', `Link` = 'http://genome.cbis.nus.edu.sg/cgi-bin/hgTracks?db=dm3&position=chr2R:15548663-15548731' WHERE `loq_interval`.`id` = 88 ; args=(u'chr2R', 15548662, 15548731, u'dme-mir-5', u'chr2R:15548663-15548731', 69, 88, u'....(((((((.(((((((((((((((.............)))))))))))))))))))))).......', u'', u'', 78, 164.7956, '-', u'http://genome.cbis.nus.edu.sg/cgi-bin/hgTracks?db=dm3&position=chr2R:15548663-15548731', 88)\n"
       ]
      },
      {
       "output_type": "stream",
       "stream": "stderr",
       "text": [
        "DEBUG:django.db.backends:(0.001) SELECT `loq_interval`.`id`, `loq_interval`.`chr`, `loq_interval`.`start`, `loq_interval`.`stop`, `loq_interval`.`mirName`, `loq_interval`.`NeatName`, `loq_interval`.`IntervalSize`, `loq_interval`.`IntervalSerialNumber`, `loq_interval`.`Structure`, `loq_interval`.`Annotations`, `loq_interval`.`Tags`, `loq_interval`.`all_reads_mapped`, `loq_interval`.`sum_normReads`, `loq_interval`.`mapped_strand`, `loq_interval`.`Link` FROM `loq_interval` WHERE `loq_interval`.`mirName` = 'dme-mir-4' ; args=('dme-mir-4',)\n"
       ]
      },
      {
       "output_type": "stream",
       "stream": "stderr",
       "text": [
        "DEBUG:django.db.backends:(0.000) SELECT (1) AS `a` FROM `loq_interval` WHERE `loq_interval`.`id` = 89  LIMIT 1; args=(89,)\n"
       ]
      },
      {
       "output_type": "stream",
       "stream": "stderr",
       "text": [
        "DEBUG:django.db.backends:(0.000) UPDATE `loq_interval` SET `chr` = 'chr2R', `start` = 15548793, `stop` = 15548874, `mirName` = 'dme-mir-4', `NeatName` = 'chr2R:15548794-15548874', `IntervalSize` = 81, `IntervalSerialNumber` = 89, `Structure` = '..(((((.((((((..((((.(((.(((.((..((((((.....)))))).))))).))).))))..)))))).)))))..', `Annotations` = '', `Tags` = '', `all_reads_mapped` = 20, `sum_normReads` = 3.1745, `mapped_strand` = '-', `Link` = 'http://genome.cbis.nus.edu.sg/cgi-bin/hgTracks?db=dm3&position=chr2R:15548794-15548874' WHERE `loq_interval`.`id` = 89 ; args=(u'chr2R', 15548793, 15548874, u'dme-mir-4', u'chr2R:15548794-15548874', 81, 89, u'..(((((.((((((..((((.(((.(((.((..((((((.....)))))).))))).))).))))..)))))).)))))..', u'', u'', 20, 3.1745, '-', u'http://genome.cbis.nus.edu.sg/cgi-bin/hgTracks?db=dm3&position=chr2R:15548794-15548874', 89)\n"
       ]
      },
      {
       "output_type": "stream",
       "stream": "stdout",
       "text": [
        "\n",
        "dme-mir-4-\n",
        "\n",
        "dme-mir-286-\n"
       ]
      },
      {
       "output_type": "stream",
       "stream": "stderr",
       "text": [
        "DEBUG:django.db.backends:(0.001) SELECT `loq_interval`.`id`, `loq_interval`.`chr`, `loq_interval`.`start`, `loq_interval`.`stop`, `loq_interval`.`mirName`, `loq_interval`.`NeatName`, `loq_interval`.`IntervalSize`, `loq_interval`.`IntervalSerialNumber`, `loq_interval`.`Structure`, `loq_interval`.`Annotations`, `loq_interval`.`Tags`, `loq_interval`.`all_reads_mapped`, `loq_interval`.`sum_normReads`, `loq_interval`.`mapped_strand`, `loq_interval`.`Link` FROM `loq_interval` WHERE `loq_interval`.`mirName` = 'dme-mir-286' ; args=('dme-mir-286',)\n"
       ]
      },
      {
       "output_type": "stream",
       "stream": "stderr",
       "text": [
        "DEBUG:django.db.backends:(0.000) SELECT (1) AS `a` FROM `loq_interval` WHERE `loq_interval`.`id` = 90  LIMIT 1; args=(90,)\n"
       ]
      },
      {
       "output_type": "stream",
       "stream": "stderr",
       "text": [
        "DEBUG:django.db.backends:(0.001) UPDATE `loq_interval` SET `chr` = 'chr2R', `start` = 15548926, `stop` = 15549026, `mirName` = 'dme-mir-286', `NeatName` = 'chr2R:15548927-15549026', `IntervalSize` = 100, `IntervalSerialNumber` = 90, `Structure` = '(((((((((....((((.(((((((.(((((.((((......(((....)))........)))).))))).)))).))).))))....)))))))))...', `Annotations` = '', `Tags` = '', `all_reads_mapped` = 59, `sum_normReads` = 671.9963, `mapped_strand` = '-', `Link` = 'http://genome.cbis.nus.edu.sg/cgi-bin/hgTracks?db=dm3&position=chr2R:15548927-15549026' WHERE `loq_interval`.`id` = 90 ; args=(u'chr2R', 15548926, 15549026, u'dme-mir-286', u'chr2R:15548927-15549026', 100, 90, u'(((((((((....((((.(((((((.(((((.((((......(((....)))........)))).))))).)))).))).))))....)))))))))...', u'', u'', 59, 671.9963, '-', u'http://genome.cbis.nus.edu.sg/cgi-bin/hgTracks?db=dm3&position=chr2R:15548927-15549026', 90)\n"
       ]
      },
      {
       "output_type": "stream",
       "stream": "stderr",
       "text": [
        "DEBUG:django.db.backends:(0.001) SELECT `loq_interval`.`id`, `loq_interval`.`chr`, `loq_interval`.`start`, `loq_interval`.`stop`, `loq_interval`.`mirName`, `loq_interval`.`NeatName`, `loq_interval`.`IntervalSize`, `loq_interval`.`IntervalSerialNumber`, `loq_interval`.`Structure`, `loq_interval`.`Annotations`, `loq_interval`.`Tags`, `loq_interval`.`all_reads_mapped`, `loq_interval`.`sum_normReads`, `loq_interval`.`mapped_strand`, `loq_interval`.`Link` FROM `loq_interval` WHERE `loq_interval`.`mirName` = 'dme-mir-3' ; args=('dme-mir-3',)\n"
       ]
      },
      {
       "output_type": "stream",
       "stream": "stderr",
       "text": [
        "DEBUG:django.db.backends:(0.000) SELECT (1) AS `a` FROM `loq_interval` WHERE `loq_interval`.`id` = 91  LIMIT 1; args=(91,)\n"
       ]
      },
      {
       "output_type": "stream",
       "stream": "stderr",
       "text": [
        "DEBUG:django.db.backends:(0.001) UPDATE `loq_interval` SET `chr` = 'chr2R', `start` = 15549099, `stop` = 15549168, `mirName` = 'dme-mir-3', `NeatName` = 'chr2R:15549100-15549168', `IntervalSize` = 69, `IntervalSerialNumber` = 91, `Structure` = '((((.((((((((((.((((.((((.((((.........)))).)))).)))).)))))))))).))))', `Annotations` = '', `Tags` = '', `all_reads_mapped` = 25, `sum_normReads` = 36.2572, `mapped_strand` = '-', `Link` = 'http://genome.cbis.nus.edu.sg/cgi-bin/hgTracks?db=dm3&position=chr2R:15549100-15549168' WHERE `loq_interval`.`id` = 91 ; args=(u'chr2R', 15549099, 15549168, u'dme-mir-3', u'chr2R:15549100-15549168', 69, 91, u'((((.((((((((((.((((.((((.((((.........)))).)))).)))).)))))))))).))))', u'', u'', 25, 36.2572, '-', u'http://genome.cbis.nus.edu.sg/cgi-bin/hgTracks?db=dm3&position=chr2R:15549100-15549168', 91)\n"
       ]
      },
      {
       "output_type": "stream",
       "stream": "stdout",
       "text": [
        "\n",
        "dme-mir-3-\n",
        "\n",
        "dme-mir-309-\n"
       ]
      },
      {
       "output_type": "stream",
       "stream": "stderr",
       "text": [
        "DEBUG:django.db.backends:(0.001) SELECT `loq_interval`.`id`, `loq_interval`.`chr`, `loq_interval`.`start`, `loq_interval`.`stop`, `loq_interval`.`mirName`, `loq_interval`.`NeatName`, `loq_interval`.`IntervalSize`, `loq_interval`.`IntervalSerialNumber`, `loq_interval`.`Structure`, `loq_interval`.`Annotations`, `loq_interval`.`Tags`, `loq_interval`.`all_reads_mapped`, `loq_interval`.`sum_normReads`, `loq_interval`.`mapped_strand`, `loq_interval`.`Link` FROM `loq_interval` WHERE `loq_interval`.`mirName` = 'dme-mir-309' ; args=('dme-mir-309',)\n"
       ]
      },
      {
       "output_type": "stream",
       "stream": "stderr",
       "text": [
        "DEBUG:django.db.backends:(0.000) SELECT (1) AS `a` FROM `loq_interval` WHERE `loq_interval`.`id` = 92  LIMIT 1; args=(92,)\n"
       ]
      },
      {
       "output_type": "stream",
       "stream": "stderr",
       "text": [
        "DEBUG:django.db.backends:(0.001) UPDATE `loq_interval` SET `chr` = 'chr2R', `start` = 15549210, `stop` = 15549279, `mirName` = 'dme-mir-309', `NeatName` = 'chr2R:15549211-15549279', `IntervalSize` = 69, `IntervalSerialNumber` = 92, `Structure` = '((((((.(((((((.(((((((((.(((.(.........).))).))))))))).))))))).))))))', `Annotations` = '', `Tags` = '', `all_reads_mapped` = 9, `sum_normReads` = 2.0091, `mapped_strand` = '-', `Link` = 'http://genome.cbis.nus.edu.sg/cgi-bin/hgTracks?db=dm3&position=chr2R:15549211-15549279' WHERE `loq_interval`.`id` = 92 ; args=(u'chr2R', 15549210, 15549279, u'dme-mir-309', u'chr2R:15549211-15549279', 69, 92, u'((((((.(((((((.(((((((((.(((.(.........).))).))))))))).))))))).))))))', u'', u'', 9, 2.0091, '-', u'http://genome.cbis.nus.edu.sg/cgi-bin/hgTracks?db=dm3&position=chr2R:15549211-15549279', 92)\n"
       ]
      },
      {
       "output_type": "stream",
       "stream": "stderr",
       "text": [
        "DEBUG:django.db.backends:(0.001) SELECT `loq_interval`.`id`, `loq_interval`.`chr`, `loq_interval`.`start`, `loq_interval`.`stop`, `loq_interval`.`mirName`, `loq_interval`.`NeatName`, `loq_interval`.`IntervalSize`, `loq_interval`.`IntervalSerialNumber`, `loq_interval`.`Structure`, `loq_interval`.`Annotations`, `loq_interval`.`Tags`, `loq_interval`.`all_reads_mapped`, `loq_interval`.`sum_normReads`, `loq_interval`.`mapped_strand`, `loq_interval`.`Link` FROM `loq_interval` WHERE `loq_interval`.`mirName` = 'dme-mir-310' ; args=('dme-mir-310',)\n"
       ]
      },
      {
       "output_type": "stream",
       "stream": "stderr",
       "text": [
        "DEBUG:django.db.backends:(0.000) SELECT (1) AS `a` FROM `loq_interval` WHERE `loq_interval`.`id` = 93  LIMIT 1; args=(93,)\n"
       ]
      },
      {
       "output_type": "stream",
       "stream": "stderr",
       "text": [
        "DEBUG:django.db.backends:(0.000) UPDATE `loq_interval` SET `chr` = 'chr2R', `start` = 16471256, `stop` = 16471345, `mirName` = 'dme-mir-310', `NeatName` = 'chr2R:16471257-16471345', `IntervalSize` = 89, `IntervalSerialNumber` = 93, `Structure` = '.((((..(((((((.(((.((((..(((((.(((((((.(((.....))).))))))))))))..)))).))).)))))))...)))).', `Annotations` = '', `Tags` = '', `all_reads_mapped` = 61, `sum_normReads` = 189.5671, `mapped_strand` = '-', `Link` = 'http://genome.cbis.nus.edu.sg/cgi-bin/hgTracks?db=dm3&position=chr2R:16471257-16471345' WHERE `loq_interval`.`id` = 93 ; args=(u'chr2R', 16471256, 16471345, u'dme-mir-310', u'chr2R:16471257-16471345', 89, 93, u'.((((..(((((((.(((.((((..(((((.(((((((.(((.....))).))))))))))))..)))).))).)))))))...)))).', u'', u'', 61, 189.5671, '-', u'http://genome.cbis.nus.edu.sg/cgi-bin/hgTracks?db=dm3&position=chr2R:16471257-16471345', 93)\n"
       ]
      },
      {
       "output_type": "stream",
       "stream": "stdout",
       "text": [
        "\n",
        "dme-mir-310-\n",
        "\n",
        "dme-mir-311-\n"
       ]
      },
      {
       "output_type": "stream",
       "stream": "stderr",
       "text": [
        "DEBUG:django.db.backends:(0.001) SELECT `loq_interval`.`id`, `loq_interval`.`chr`, `loq_interval`.`start`, `loq_interval`.`stop`, `loq_interval`.`mirName`, `loq_interval`.`NeatName`, `loq_interval`.`IntervalSize`, `loq_interval`.`IntervalSerialNumber`, `loq_interval`.`Structure`, `loq_interval`.`Annotations`, `loq_interval`.`Tags`, `loq_interval`.`all_reads_mapped`, `loq_interval`.`sum_normReads`, `loq_interval`.`mapped_strand`, `loq_interval`.`Link` FROM `loq_interval` WHERE `loq_interval`.`mirName` = 'dme-mir-311' ; args=('dme-mir-311',)\n"
       ]
      },
      {
       "output_type": "stream",
       "stream": "stderr",
       "text": [
        "DEBUG:django.db.backends:(0.000) SELECT (1) AS `a` FROM `loq_interval` WHERE `loq_interval`.`id` = 94  LIMIT 1; args=(94,)\n"
       ]
      },
      {
       "output_type": "stream",
       "stream": "stderr",
       "text": [
        "DEBUG:django.db.backends:(0.001) UPDATE `loq_interval` SET `chr` = 'chr2R', `start` = 16471381, `stop` = 16471465, `mirName` = 'dme-mir-311', `NeatName` = 'chr2R:16471382-16471465', `IntervalSize` = 84, `IntervalSerialNumber` = 94, `Structure` = '(((.(((.((((((.((.((((..(((.((.((((((((.......))).))))))).)))..)))).)).))))))))).)))', `Annotations` = '', `Tags` = '', `all_reads_mapped` = 49, `sum_normReads` = 46.319, `mapped_strand` = '-', `Link` = 'http://genome.cbis.nus.edu.sg/cgi-bin/hgTracks?db=dm3&position=chr2R:16471382-16471465' WHERE `loq_interval`.`id` = 94 ; args=(u'chr2R', 16471381, 16471465, u'dme-mir-311', u'chr2R:16471382-16471465', 84, 94, u'(((.(((.((((((.((.((((..(((.((.((((((((.......))).))))))).)))..)))).)).))))))))).)))', u'', u'', 49, 46.319, '-', u'http://genome.cbis.nus.edu.sg/cgi-bin/hgTracks?db=dm3&position=chr2R:16471382-16471465', 94)\n"
       ]
      },
      {
       "output_type": "stream",
       "stream": "stderr",
       "text": [
        "DEBUG:django.db.backends:(0.001) SELECT `loq_interval`.`id`, `loq_interval`.`chr`, `loq_interval`.`start`, `loq_interval`.`stop`, `loq_interval`.`mirName`, `loq_interval`.`NeatName`, `loq_interval`.`IntervalSize`, `loq_interval`.`IntervalSerialNumber`, `loq_interval`.`Structure`, `loq_interval`.`Annotations`, `loq_interval`.`Tags`, `loq_interval`.`all_reads_mapped`, `loq_interval`.`sum_normReads`, `loq_interval`.`mapped_strand`, `loq_interval`.`Link` FROM `loq_interval` WHERE `loq_interval`.`mirName` = 'dme-mir-312' ; args=('dme-mir-312',)\n"
       ]
      },
      {
       "output_type": "stream",
       "stream": "stderr",
       "text": [
        "DEBUG:django.db.backends:(0.000) SELECT (1) AS `a` FROM `loq_interval` WHERE `loq_interval`.`id` = 95  LIMIT 1; args=(95,)\n"
       ]
      },
      {
       "output_type": "stream",
       "stream": "stderr",
       "text": [
        "DEBUG:django.db.backends:(0.000) UPDATE `loq_interval` SET `chr` = 'chr2R', `start` = 16471560, `stop` = 16471626, `mirName` = 'dme-mir-312', `NeatName` = 'chr2R:16471561-16471626', `IntervalSize` = 66, `IntervalSerialNumber` = 95, `Structure` = '((((.(((.((((.((((.(((((.(((...........))).))))).)))).))))))).))))', `Annotations` = '', `Tags` = '', `all_reads_mapped` = 72, `sum_normReads` = 371.9804, `mapped_strand` = '-', `Link` = 'http://genome.cbis.nus.edu.sg/cgi-bin/hgTracks?db=dm3&position=chr2R:16471561-16471626' WHERE `loq_interval`.`id` = 95 ; args=(u'chr2R', 16471560, 16471626, u'dme-mir-312', u'chr2R:16471561-16471626', 66, 95, u'((((.(((.((((.((((.(((((.(((...........))).))))).)))).))))))).))))', u'', u'', 72, 371.9804, '-', u'http://genome.cbis.nus.edu.sg/cgi-bin/hgTracks?db=dm3&position=chr2R:16471561-16471626', 95)\n"
       ]
      },
      {
       "output_type": "stream",
       "stream": "stdout",
       "text": [
        "\n",
        "dme-mir-312-\n",
        "\n",
        "dme-mir-313-\n"
       ]
      },
      {
       "output_type": "stream",
       "stream": "stderr",
       "text": [
        "DEBUG:django.db.backends:(0.001) SELECT `loq_interval`.`id`, `loq_interval`.`chr`, `loq_interval`.`start`, `loq_interval`.`stop`, `loq_interval`.`mirName`, `loq_interval`.`NeatName`, `loq_interval`.`IntervalSize`, `loq_interval`.`IntervalSerialNumber`, `loq_interval`.`Structure`, `loq_interval`.`Annotations`, `loq_interval`.`Tags`, `loq_interval`.`all_reads_mapped`, `loq_interval`.`sum_normReads`, `loq_interval`.`mapped_strand`, `loq_interval`.`Link` FROM `loq_interval` WHERE `loq_interval`.`mirName` = 'dme-mir-313' ; args=('dme-mir-313',)\n"
       ]
      },
      {
       "output_type": "stream",
       "stream": "stderr",
       "text": [
        "DEBUG:django.db.backends:(0.000) SELECT (1) AS `a` FROM `loq_interval` WHERE `loq_interval`.`id` = 96  LIMIT 1; args=(96,)\n"
       ]
      },
      {
       "output_type": "stream",
       "stream": "stderr",
       "text": [
        "DEBUG:django.db.backends:(0.001) UPDATE `loq_interval` SET `chr` = 'chr2R', `start` = 16471694, `stop` = 16471765, `mirName` = 'dme-mir-313', `NeatName` = 'chr2R:16471695-16471765', `IntervalSize` = 71, `IntervalSerialNumber` = 96, `Structure` = '((((((.((((.(((.((..((((((((...............)))))))).)).))).))))..))))))', `Annotations` = '', `Tags` = '', `all_reads_mapped` = 44, `sum_normReads` = 35.2464, `mapped_strand` = '-', `Link` = 'http://genome.cbis.nus.edu.sg/cgi-bin/hgTracks?db=dm3&position=chr2R:16471695-16471765' WHERE `loq_interval`.`id` = 96 ; args=(u'chr2R', 16471694, 16471765, u'dme-mir-313', u'chr2R:16471695-16471765', 71, 96, u'((((((.((((.(((.((..((((((((...............)))))))).)).))).))))..))))))', u'', u'', 44, 35.2464, '-', u'http://genome.cbis.nus.edu.sg/cgi-bin/hgTracks?db=dm3&position=chr2R:16471695-16471765', 96)\n"
       ]
      },
      {
       "output_type": "stream",
       "stream": "stderr",
       "text": [
        "DEBUG:django.db.backends:(0.001) SELECT `loq_interval`.`id`, `loq_interval`.`chr`, `loq_interval`.`start`, `loq_interval`.`stop`, `loq_interval`.`mirName`, `loq_interval`.`NeatName`, `loq_interval`.`IntervalSize`, `loq_interval`.`IntervalSerialNumber`, `loq_interval`.`Structure`, `loq_interval`.`Annotations`, `loq_interval`.`Tags`, `loq_interval`.`all_reads_mapped`, `loq_interval`.`sum_normReads`, `loq_interval`.`mapped_strand`, `loq_interval`.`Link` FROM `loq_interval` WHERE `loq_interval`.`mirName` = 'dme-mir-2498' ; args=('dme-mir-2498',)\n"
       ]
      },
      {
       "output_type": "stream",
       "stream": "stderr",
       "text": [
        "DEBUG:django.db.backends:(0.000) SELECT (1) AS `a` FROM `loq_interval` WHERE `loq_interval`.`id` = 97  LIMIT 1; args=(97,)\n"
       ]
      },
      {
       "output_type": "stream",
       "stream": "stderr",
       "text": [
        "DEBUG:django.db.backends:(0.001) UPDATE `loq_interval` SET `chr` = 'chr2R', `start` = 16472213, `stop` = 16472325, `mirName` = 'dme-mir-2498', `NeatName` = 'chr2R:16472214-16472325', `IntervalSize` = 112, `IntervalSerialNumber` = 97, `Structure` = '(((.((((..........((.((((((((((.(((.(..(((((...(((((((.....)))))))..)))))..).))))))).)))))).))...........)))))))', `Annotations` = '', `Tags` = '', `all_reads_mapped` = 12, `sum_normReads` = 3.0142, `mapped_strand` = '-', `Link` = 'http://genome.cbis.nus.edu.sg/cgi-bin/hgTracks?db=dm3&position=chr2R:16472214-16472325' WHERE `loq_interval`.`id` = 97 ; args=(u'chr2R', 16472213, 16472325, u'dme-mir-2498', u'chr2R:16472214-16472325', 112, 97, u'(((.((((..........((.((((((((((.(((.(..(((((...(((((((.....)))))))..)))))..).))))))).)))))).))...........)))))))', u'', u'', 12, 3.0142, '-', u'http://genome.cbis.nus.edu.sg/cgi-bin/hgTracks?db=dm3&position=chr2R:16472214-16472325', 97)\n"
       ]
      },
      {
       "output_type": "stream",
       "stream": "stdout",
       "text": [
        "\n",
        "dme-mir-2498-\n",
        "\n",
        "dme-mir-991-\n"
       ]
      },
      {
       "output_type": "stream",
       "stream": "stderr",
       "text": [
        "DEBUG:django.db.backends:(0.001) SELECT `loq_interval`.`id`, `loq_interval`.`chr`, `loq_interval`.`start`, `loq_interval`.`stop`, `loq_interval`.`mirName`, `loq_interval`.`NeatName`, `loq_interval`.`IntervalSize`, `loq_interval`.`IntervalSerialNumber`, `loq_interval`.`Structure`, `loq_interval`.`Annotations`, `loq_interval`.`Tags`, `loq_interval`.`all_reads_mapped`, `loq_interval`.`sum_normReads`, `loq_interval`.`mapped_strand`, `loq_interval`.`Link` FROM `loq_interval` WHERE `loq_interval`.`mirName` = 'dme-mir-991' ; args=('dme-mir-991',)\n"
       ]
      },
      {
       "output_type": "stream",
       "stream": "stderr",
       "text": [
        "DEBUG:django.db.backends:(0.000) SELECT (1) AS `a` FROM `loq_interval` WHERE `loq_interval`.`id` = 98  LIMIT 1; args=(98,)\n"
       ]
      },
      {
       "output_type": "stream",
       "stream": "stderr",
       "text": [
        "DEBUG:django.db.backends:(0.001) UPDATE `loq_interval` SET `chr` = 'chr2R', `start` = 16472704, `stop` = 16472800, `mirName` = 'dme-mir-991', `NeatName` = 'chr2R:16472705-16472800', `IntervalSize` = 96, `IntervalSerialNumber` = 98, `Structure` = '......(((((..(((((.((((((.(((((((.((.((((((...............)))))))).))))))).)))))).)))))..)))))..', `Annotations` = '', `Tags` = '', `all_reads_mapped` = 30, `sum_normReads` = 30.872, `mapped_strand` = '-', `Link` = 'http://genome.cbis.nus.edu.sg/cgi-bin/hgTracks?db=dm3&position=chr2R:16472705-16472800' WHERE `loq_interval`.`id` = 98 ; args=(u'chr2R', 16472704, 16472800, u'dme-mir-991', u'chr2R:16472705-16472800', 96, 98, u'......(((((..(((((.((((((.(((((((.((.((((((...............)))))))).))))))).)))))).)))))..)))))..', u'', u'', 30, 30.872, '-', u'http://genome.cbis.nus.edu.sg/cgi-bin/hgTracks?db=dm3&position=chr2R:16472705-16472800', 98)\n"
       ]
      },
      {
       "output_type": "stream",
       "stream": "stderr",
       "text": [
        "DEBUG:django.db.backends:(0.001) SELECT `loq_interval`.`id`, `loq_interval`.`chr`, `loq_interval`.`start`, `loq_interval`.`stop`, `loq_interval`.`mirName`, `loq_interval`.`NeatName`, `loq_interval`.`IntervalSize`, `loq_interval`.`IntervalSerialNumber`, `loq_interval`.`Structure`, `loq_interval`.`Annotations`, `loq_interval`.`Tags`, `loq_interval`.`all_reads_mapped`, `loq_interval`.`sum_normReads`, `loq_interval`.`mapped_strand`, `loq_interval`.`Link` FROM `loq_interval` WHERE `loq_interval`.`mirName` = 'dme-mir-992' ; args=('dme-mir-992',)\n"
       ]
      },
      {
       "output_type": "stream",
       "stream": "stderr",
       "text": [
        "DEBUG:django.db.backends:(0.000) SELECT (1) AS `a` FROM `loq_interval` WHERE `loq_interval`.`id` = 99  LIMIT 1; args=(99,)\n"
       ]
      },
      {
       "output_type": "stream",
       "stream": "stderr",
       "text": [
        "DEBUG:django.db.backends:(0.001) UPDATE `loq_interval` SET `chr` = 'chr2R', `start` = 16472818, `stop` = 16472910, `mirName` = 'dme-mir-992', `NeatName` = 'chr2R:16472819-16472910', `IntervalSize` = 92, `IntervalSerialNumber` = 99, `Structure` = '(((((((.((((((.(((((((((.(((((((.(((((.(((....))).))))))))).)))))))))))).)))))).).))))))....', `Annotations` = '', `Tags` = '', `all_reads_mapped` = 10, `sum_normReads` = 1.1647, `mapped_strand` = '-', `Link` = 'http://genome.cbis.nus.edu.sg/cgi-bin/hgTracks?db=dm3&position=chr2R:16472819-16472910' WHERE `loq_interval`.`id` = 99 ; args=(u'chr2R', 16472818, 16472910, u'dme-mir-992', u'chr2R:16472819-16472910', 92, 99, u'(((((((.((((((.(((((((((.(((((((.(((((.(((....))).))))))))).)))))))))))).)))))).).))))))....', u'', u'', 10, 1.1647, '-', u'http://genome.cbis.nus.edu.sg/cgi-bin/hgTracks?db=dm3&position=chr2R:16472819-16472910', 99)\n"
       ]
      },
      {
       "output_type": "stream",
       "stream": "stdout",
       "text": [
        "\n",
        "dme-mir-992-\n",
        "\n",
        "dme-mir-7+\n"
       ]
      },
      {
       "output_type": "stream",
       "stream": "stderr",
       "text": [
        "DEBUG:django.db.backends:(0.001) SELECT `loq_interval`.`id`, `loq_interval`.`chr`, `loq_interval`.`start`, `loq_interval`.`stop`, `loq_interval`.`mirName`, `loq_interval`.`NeatName`, `loq_interval`.`IntervalSize`, `loq_interval`.`IntervalSerialNumber`, `loq_interval`.`Structure`, `loq_interval`.`Annotations`, `loq_interval`.`Tags`, `loq_interval`.`all_reads_mapped`, `loq_interval`.`sum_normReads`, `loq_interval`.`mapped_strand`, `loq_interval`.`Link` FROM `loq_interval` WHERE `loq_interval`.`mirName` = 'dme-mir-7' ; args=('dme-mir-7',)\n"
       ]
      },
      {
       "output_type": "stream",
       "stream": "stderr",
       "text": [
        "DEBUG:django.db.backends:(0.000) SELECT (1) AS `a` FROM `loq_interval` WHERE `loq_interval`.`id` = 100  LIMIT 1; args=(100,)\n"
       ]
      },
      {
       "output_type": "stream",
       "stream": "stderr",
       "text": [
        "DEBUG:django.db.backends:(0.000) UPDATE `loq_interval` SET `chr` = 'chr2R', `start` = 16493571, `stop` = 16493659, `mirName` = 'dme-mir-7', `NeatName` = 'chr2R:16493572-16493659', `IntervalSize` = 88, `IntervalSerialNumber` = 100, `Structure` = '((((((((.(((((.(((((((.((.(((((.((((((....(....)....))))))))))).)).)))))))))))).))))))))', `Annotations` = '', `Tags` = '', `all_reads_mapped` = 248, `sum_normReads` = 8734.89909999999, `mapped_strand` = '+', `Link` = 'http://genome.cbis.nus.edu.sg/cgi-bin/hgTracks?db=dm3&position=chr2R:16493572-16493659' WHERE `loq_interval`.`id` = 100 ; args=(u'chr2R', 16493571, 16493659, u'dme-mir-7', u'chr2R:16493572-16493659', 88, 100, u'((((((((.(((((.(((((((.((.(((((.((((((....(....)....))))))))))).)).)))))))))))).))))))))', u'', u'', 248, 8734.89909999999, '+', u'http://genome.cbis.nus.edu.sg/cgi-bin/hgTracks?db=dm3&position=chr2R:16493572-16493659', 100)\n"
       ]
      },
      {
       "output_type": "stream",
       "stream": "stderr",
       "text": [
        "DEBUG:django.db.backends:(0.001) SELECT `loq_interval`.`id`, `loq_interval`.`chr`, `loq_interval`.`start`, `loq_interval`.`stop`, `loq_interval`.`mirName`, `loq_interval`.`NeatName`, `loq_interval`.`IntervalSize`, `loq_interval`.`IntervalSerialNumber`, `loq_interval`.`Structure`, `loq_interval`.`Annotations`, `loq_interval`.`Tags`, `loq_interval`.`all_reads_mapped`, `loq_interval`.`sum_normReads`, `loq_interval`.`mapped_strand`, `loq_interval`.`Link` FROM `loq_interval` WHERE `loq_interval`.`mirName` = 'dme-mir-4939' ; args=('dme-mir-4939',)\n"
       ]
      },
      {
       "output_type": "stream",
       "stream": "stderr",
       "text": [
        "DEBUG:django.db.backends:(0.000) SELECT (1) AS `a` FROM `loq_interval` WHERE `loq_interval`.`id` = 101  LIMIT 1; args=(101,)\n"
       ]
      },
      {
       "output_type": "stream",
       "stream": "stderr",
       "text": [
        "DEBUG:django.db.backends:(0.000) UPDATE `loq_interval` SET `chr` = 'chr2R', `start` = 18872733, `stop` = 18872842, `mirName` = 'dme-mir-4939', `NeatName` = 'chr2R:18872734-18872842', `IntervalSize` = 109, `IntervalSerialNumber` = 101, `Structure` = '(((((....(((..((.(((((.((((((((((((((((((..((((((((...)))).)))).))))))))).))))))).)).))))).))..)))...)).)))..', `Annotations` = '', `Tags` = '', `all_reads_mapped` = 0, `sum_normReads` = NULL, `mapped_strand` = '-', `Link` = 'http://genome.cbis.nus.edu.sg/cgi-bin/hgTracks?db=dm3&position=chr2R:18872734-18872842' WHERE `loq_interval`.`id` = 101 ; args=(u'chr2R', 18872733, 18872842, u'dme-mir-4939', u'chr2R:18872734-18872842', 109, 101, u'(((((....(((..((.(((((.((((((((((((((((((..((((((((...)))).)))).))))))))).))))))).)).))))).))..)))...)).)))..', u'', u'', 0, '-', u'http://genome.cbis.nus.edu.sg/cgi-bin/hgTracks?db=dm3&position=chr2R:18872734-18872842', 101)\n"
       ]
      },
      {
       "output_type": "stream",
       "stream": "stdout",
       "text": [
        "\n",
        "dme-mir-4939-\n",
        "\n",
        "dme-mir-4979-\n"
       ]
      },
      {
       "output_type": "stream",
       "stream": "stderr",
       "text": [
        "DEBUG:django.db.backends:(0.001) SELECT `loq_interval`.`id`, `loq_interval`.`chr`, `loq_interval`.`start`, `loq_interval`.`stop`, `loq_interval`.`mirName`, `loq_interval`.`NeatName`, `loq_interval`.`IntervalSize`, `loq_interval`.`IntervalSerialNumber`, `loq_interval`.`Structure`, `loq_interval`.`Annotations`, `loq_interval`.`Tags`, `loq_interval`.`all_reads_mapped`, `loq_interval`.`sum_normReads`, `loq_interval`.`mapped_strand`, `loq_interval`.`Link` FROM `loq_interval` WHERE `loq_interval`.`mirName` = 'dme-mir-4979' ; args=('dme-mir-4979',)\n"
       ]
      },
      {
       "output_type": "stream",
       "stream": "stderr",
       "text": [
        "DEBUG:django.db.backends:(0.000) SELECT (1) AS `a` FROM `loq_interval` WHERE `loq_interval`.`id` = 102  LIMIT 1; args=(102,)\n"
       ]
      },
      {
       "output_type": "stream",
       "stream": "stderr",
       "text": [
        "DEBUG:django.db.backends:(0.001) UPDATE `loq_interval` SET `chr` = 'chr2R', `start` = 19621555, `stop` = 19621664, `mirName` = 'dme-mir-4979', `NeatName` = 'chr2R:19621556-19621664', `IntervalSize` = 109, `IntervalSerialNumber` = 102, `Structure` = '((.((((((.........(((.(((((((((((..((..((((((((..((.......))..)))))))).))..))))))))))).)))......)))))).))....', `Annotations` = '', `Tags` = '', `all_reads_mapped` = 1, `sum_normReads` = 0.0655, `mapped_strand` = '-', `Link` = 'http://genome.cbis.nus.edu.sg/cgi-bin/hgTracks?db=dm3&position=chr2R:19621556-19621664' WHERE `loq_interval`.`id` = 102 ; args=(u'chr2R', 19621555, 19621664, u'dme-mir-4979', u'chr2R:19621556-19621664', 109, 102, u'((.((((((.........(((.(((((((((((..((..((((((((..((.......))..)))))))).))..))))))))))).)))......)))))).))....', u'', u'', 1, 0.0655, '-', u'http://genome.cbis.nus.edu.sg/cgi-bin/hgTracks?db=dm3&position=chr2R:19621556-19621664', 102)\n"
       ]
      },
      {
       "output_type": "stream",
       "stream": "stderr",
       "text": [
        "DEBUG:django.db.backends:(0.001) SELECT `loq_interval`.`id`, `loq_interval`.`chr`, `loq_interval`.`start`, `loq_interval`.`stop`, `loq_interval`.`mirName`, `loq_interval`.`NeatName`, `loq_interval`.`IntervalSize`, `loq_interval`.`IntervalSerialNumber`, `loq_interval`.`Structure`, `loq_interval`.`Annotations`, `loq_interval`.`Tags`, `loq_interval`.`all_reads_mapped`, `loq_interval`.`sum_normReads`, `loq_interval`.`mapped_strand`, `loq_interval`.`Link` FROM `loq_interval` WHERE `loq_interval`.`mirName` = 'dme-mir-1009' ; args=('dme-mir-1009',)\n"
       ]
      },
      {
       "output_type": "stream",
       "stream": "stderr",
       "text": [
        "DEBUG:django.db.backends:(0.000) SELECT (1) AS `a` FROM `loq_interval` WHERE `loq_interval`.`id` = 103  LIMIT 1; args=(103,)\n"
       ]
      },
      {
       "output_type": "stream",
       "stream": "stderr",
       "text": [
        "DEBUG:django.db.backends:(0.000) UPDATE `loq_interval` SET `chr` = 'chr2R', `start` = 19880576, `stop` = 19880637, `mirName` = 'dme-mir-1009', `NeatName` = 'chr2R:19880577-19880637', `IntervalSize` = 61, `IntervalSerialNumber` = 103, `Structure` = '..((((((((.(.(((.(((((.(((.(.....).))).)))))))).).))))))))...', `Annotations` = '', `Tags` = '', `all_reads_mapped` = 17, `sum_normReads` = 3.9756, `mapped_strand` = '-', `Link` = 'http://genome.cbis.nus.edu.sg/cgi-bin/hgTracks?db=dm3&position=chr2R:19880577-19880637' WHERE `loq_interval`.`id` = 103 ; args=(u'chr2R', 19880576, 19880637, u'dme-mir-1009', u'chr2R:19880577-19880637', 61, 103, u'..((((((((.(.(((.(((((.(((.(.....).))).)))))))).).))))))))...', u'', u'', 17, 3.9756, '-', u'http://genome.cbis.nus.edu.sg/cgi-bin/hgTracks?db=dm3&position=chr2R:19880577-19880637', 103)\n"
       ]
      },
      {
       "output_type": "stream",
       "stream": "stdout",
       "text": [
        "\n",
        "dme-mir-1009-\n",
        "\n",
        "dme-mir-4985+\n"
       ]
      },
      {
       "output_type": "stream",
       "stream": "stderr",
       "text": [
        "DEBUG:django.db.backends:(0.001) SELECT `loq_interval`.`id`, `loq_interval`.`chr`, `loq_interval`.`start`, `loq_interval`.`stop`, `loq_interval`.`mirName`, `loq_interval`.`NeatName`, `loq_interval`.`IntervalSize`, `loq_interval`.`IntervalSerialNumber`, `loq_interval`.`Structure`, `loq_interval`.`Annotations`, `loq_interval`.`Tags`, `loq_interval`.`all_reads_mapped`, `loq_interval`.`sum_normReads`, `loq_interval`.`mapped_strand`, `loq_interval`.`Link` FROM `loq_interval` WHERE `loq_interval`.`mirName` = 'dme-mir-4985' ; args=('dme-mir-4985',)\n"
       ]
      },
      {
       "output_type": "stream",
       "stream": "stderr",
       "text": [
        "DEBUG:django.db.backends:(0.000) SELECT (1) AS `a` FROM `loq_interval` WHERE `loq_interval`.`id` = 104  LIMIT 1; args=(104,)\n"
       ]
      },
      {
       "output_type": "stream",
       "stream": "stderr",
       "text": [
        "DEBUG:django.db.backends:(0.000) UPDATE `loq_interval` SET `chr` = 'chr2R', `start` = 20181753, `stop` = 20181854, `mirName` = 'dme-mir-4985', `NeatName` = 'chr2R:20181754-20181854', `IntervalSize` = 101, `IntervalSerialNumber` = 104, `Structure` = '.(((((((..(((....))).....((((((.((((((.(.(((((((((...........)))))).))).).)))))).)))))).)))..))))....', `Annotations` = '', `Tags` = '', `all_reads_mapped` = 0, `sum_normReads` = NULL, `mapped_strand` = '+', `Link` = 'http://genome.cbis.nus.edu.sg/cgi-bin/hgTracks?db=dm3&position=chr2R:20181754-20181854' WHERE `loq_interval`.`id` = 104 ; args=(u'chr2R', 20181753, 20181854, u'dme-mir-4985', u'chr2R:20181754-20181854', 101, 104, u'.(((((((..(((....))).....((((((.((((((.(.(((((((((...........)))))).))).).)))))).)))))).)))..))))....', u'', u'', 0, '+', u'http://genome.cbis.nus.edu.sg/cgi-bin/hgTracks?db=dm3&position=chr2R:20181754-20181854', 104)\n"
       ]
      },
      {
       "output_type": "stream",
       "stream": "stderr",
       "text": [
        "DEBUG:django.db.backends:(0.001) SELECT `loq_interval`.`id`, `loq_interval`.`chr`, `loq_interval`.`start`, `loq_interval`.`stop`, `loq_interval`.`mirName`, `loq_interval`.`NeatName`, `loq_interval`.`IntervalSize`, `loq_interval`.`IntervalSerialNumber`, `loq_interval`.`Structure`, `loq_interval`.`Annotations`, `loq_interval`.`Tags`, `loq_interval`.`all_reads_mapped`, `loq_interval`.`sum_normReads`, `loq_interval`.`mapped_strand`, `loq_interval`.`Link` FROM `loq_interval` WHERE `loq_interval`.`mirName` = 'dme-mir-2279' ; args=('dme-mir-2279',)\n"
       ]
      },
      {
       "output_type": "stream",
       "stream": "stderr",
       "text": [
        "DEBUG:django.db.backends:(0.000) SELECT (1) AS `a` FROM `loq_interval` WHERE `loq_interval`.`id` = 105  LIMIT 1; args=(105,)\n"
       ]
      },
      {
       "output_type": "stream",
       "stream": "stderr",
       "text": [
        "DEBUG:django.db.backends:(0.001) UPDATE `loq_interval` SET `chr` = 'chr2RHet', `start` = 1322832, `stop` = 1322945, `mirName` = 'dme-mir-2279', `NeatName` = 'chr2RHet:1322833-1322945', `IntervalSize` = 113, `IntervalSerialNumber` = 105, `Structure` = '(((......((((((...(((((..(((((.(((((((((.((((((((((((.((....)).)))))))))))).))))))))).)))))...)))))..))))))..))).', `Annotations` = '', `Tags` = '', `all_reads_mapped` = 71, `sum_normReads` = 48.8434, `mapped_strand` = '-', `Link` = 'http://genome.cbis.nus.edu.sg/cgi-bin/hgTracks?db=dm3&position=chr2RHet:1322833-1322945' WHERE `loq_interval`.`id` = 105 ; args=(u'chr2RHet', 1322832, 1322945, u'dme-mir-2279', u'chr2RHet:1322833-1322945', 113, 105, u'(((......((((((...(((((..(((((.(((((((((.((((((((((((.((....)).)))))))))))).))))))))).)))))...)))))..))))))..))).', u'', u'', 71, 48.8434, '-', u'http://genome.cbis.nus.edu.sg/cgi-bin/hgTracks?db=dm3&position=chr2RHet:1322833-1322945', 105)\n"
       ]
      },
      {
       "output_type": "stream",
       "stream": "stdout",
       "text": [
        "\n",
        "dme-mir-2279-\n",
        "\n",
        "dme-bantam+\n"
       ]
      },
      {
       "output_type": "stream",
       "stream": "stderr",
       "text": [
        "DEBUG:django.db.backends:(0.001) SELECT `loq_interval`.`id`, `loq_interval`.`chr`, `loq_interval`.`start`, `loq_interval`.`stop`, `loq_interval`.`mirName`, `loq_interval`.`NeatName`, `loq_interval`.`IntervalSize`, `loq_interval`.`IntervalSerialNumber`, `loq_interval`.`Structure`, `loq_interval`.`Annotations`, `loq_interval`.`Tags`, `loq_interval`.`all_reads_mapped`, `loq_interval`.`sum_normReads`, `loq_interval`.`mapped_strand`, `loq_interval`.`Link` FROM `loq_interval` WHERE `loq_interval`.`mirName` = 'dme-bantam' ; args=('dme-bantam',)\n"
       ]
      },
      {
       "output_type": "stream",
       "stream": "stderr",
       "text": [
        "DEBUG:django.db.backends:(0.000) SELECT (1) AS `a` FROM `loq_interval` WHERE `loq_interval`.`id` = 106  LIMIT 1; args=(106,)\n"
       ]
      },
      {
       "output_type": "stream",
       "stream": "stderr",
       "text": [
        "DEBUG:django.db.backends:(0.001) UPDATE `loq_interval` SET `chr` = 'chr3L', `start` = 642207, `stop` = 642288, `mirName` = 'dme-bantam', `NeatName` = 'chr3L:642208-642288', `IntervalSize` = 81, `IntervalSerialNumber` = 106, `Structure` = '........((((((.((((((((((..((((((.(((((.......)).))).))))))..)))))))))).))))))...', `Annotations` = '', `Tags` = '', `all_reads_mapped` = 518, `sum_normReads` = 1276743.098, `mapped_strand` = '+', `Link` = 'http://genome.cbis.nus.edu.sg/cgi-bin/hgTracks?db=dm3&position=chr3L:642208-642288' WHERE `loq_interval`.`id` = 106 ; args=(u'chr3L', 642207, 642288, u'dme-bantam', u'chr3L:642208-642288', 81, 106, u'........((((((.((((((((((..((((((.(((((.......)).))).))))))..)))))))))).))))))...', u'', u'', 518, 1276743.098, '+', u'http://genome.cbis.nus.edu.sg/cgi-bin/hgTracks?db=dm3&position=chr3L:642208-642288', 106)\n"
       ]
      },
      {
       "output_type": "stream",
       "stream": "stdout",
       "text": [
        "\n",
        "dme-mir-282+\n"
       ]
      },
      {
       "output_type": "stream",
       "stream": "stderr",
       "text": [
        "DEBUG:django.db.backends:(0.001) SELECT `loq_interval`.`id`, `loq_interval`.`chr`, `loq_interval`.`start`, `loq_interval`.`stop`, `loq_interval`.`mirName`, `loq_interval`.`NeatName`, `loq_interval`.`IntervalSize`, `loq_interval`.`IntervalSerialNumber`, `loq_interval`.`Structure`, `loq_interval`.`Annotations`, `loq_interval`.`Tags`, `loq_interval`.`all_reads_mapped`, `loq_interval`.`sum_normReads`, `loq_interval`.`mapped_strand`, `loq_interval`.`Link` FROM `loq_interval` WHERE `loq_interval`.`mirName` = 'dme-mir-282' ; args=('dme-mir-282',)\n"
       ]
      },
      {
       "output_type": "stream",
       "stream": "stderr",
       "text": [
        "DEBUG:django.db.backends:(0.000) SELECT (1) AS `a` FROM `loq_interval` WHERE `loq_interval`.`id` = 107  LIMIT 1; args=(107,)\n"
       ]
      },
      {
       "output_type": "stream",
       "stream": "stderr",
       "text": [
        "DEBUG:django.db.backends:(0.001) UPDATE `loq_interval` SET `chr` = 'chr3L', `start` = 3251021, `stop` = 3251118, `mirName` = 'dme-mir-282', `NeatName` = 'chr3L:3251022-3251118', `IntervalSize` = 97, `IntervalSerialNumber` = 107, `Structure` = '.((((((((....(((((((((((..((((((.((((((..(...........)..)))))).))))))..))))))))))).....)))).)))).', `Annotations` = '', `Tags` = '', `all_reads_mapped` = 442, `sum_normReads` = 80528.7103000002, `mapped_strand` = '+', `Link` = 'http://genome.cbis.nus.edu.sg/cgi-bin/hgTracks?db=dm3&position=chr3L:3251022-3251118' WHERE `loq_interval`.`id` = 107 ; args=(u'chr3L', 3251021, 3251118, u'dme-mir-282', u'chr3L:3251022-3251118', 97, 107, u'.((((((((....(((((((((((..((((((.((((((..(...........)..)))))).))))))..))))))))))).....)))).)))).', u'', u'', 442, 80528.7103000002, '+', u'http://genome.cbis.nus.edu.sg/cgi-bin/hgTracks?db=dm3&position=chr3L:3251022-3251118', 107)\n"
       ]
      },
      {
       "output_type": "stream",
       "stream": "stdout",
       "text": [
        "\n",
        "dme-mir-955+\n"
       ]
      },
      {
       "output_type": "stream",
       "stream": "stderr",
       "text": [
        "DEBUG:django.db.backends:(0.001) SELECT `loq_interval`.`id`, `loq_interval`.`chr`, `loq_interval`.`start`, `loq_interval`.`stop`, `loq_interval`.`mirName`, `loq_interval`.`NeatName`, `loq_interval`.`IntervalSize`, `loq_interval`.`IntervalSerialNumber`, `loq_interval`.`Structure`, `loq_interval`.`Annotations`, `loq_interval`.`Tags`, `loq_interval`.`all_reads_mapped`, `loq_interval`.`sum_normReads`, `loq_interval`.`mapped_strand`, `loq_interval`.`Link` FROM `loq_interval` WHERE `loq_interval`.`mirName` = 'dme-mir-955' ; args=('dme-mir-955',)\n"
       ]
      },
      {
       "output_type": "stream",
       "stream": "stderr",
       "text": [
        "DEBUG:django.db.backends:(0.000) SELECT (1) AS `a` FROM `loq_interval` WHERE `loq_interval`.`id` = 108  LIMIT 1; args=(108,)\n"
       ]
      },
      {
       "output_type": "stream",
       "stream": "stderr",
       "text": [
        "DEBUG:django.db.backends:(0.001) UPDATE `loq_interval` SET `chr` = 'chr3L', `start` = 3299054, `stop` = 3299151, `mirName` = 'dme-mir-955', `NeatName` = 'chr3L:3299055-3299151', `IntervalSize` = 97, `IntervalSerialNumber` = 108, `Structure` = '....(((..((((.(((.(((((.((((((((.((((((..................)))))))))))))).))))).))).))))..)))......', `Annotations` = '', `Tags` = '', `all_reads_mapped` = 15, `sum_normReads` = 2.3813, `mapped_strand` = '+', `Link` = 'http://genome.cbis.nus.edu.sg/cgi-bin/hgTracks?db=dm3&position=chr3L:3299055-3299151' WHERE `loq_interval`.`id` = 108 ; args=(u'chr3L', 3299054, 3299151, u'dme-mir-955', u'chr3L:3299055-3299151', 97, 108, u'....(((..((((.(((.(((((.((((((((.((((((..................)))))))))))))).))))).))).))))..)))......', u'', u'', 15, 2.3813, '+', u'http://genome.cbis.nus.edu.sg/cgi-bin/hgTracks?db=dm3&position=chr3L:3299055-3299151', 108)\n"
       ]
      },
      {
       "output_type": "stream",
       "stream": "stdout",
       "text": [
        "\n",
        "dme-mir-2282-\n"
       ]
      },
      {
       "output_type": "stream",
       "stream": "stderr",
       "text": [
        "DEBUG:django.db.backends:(0.001) SELECT `loq_interval`.`id`, `loq_interval`.`chr`, `loq_interval`.`start`, `loq_interval`.`stop`, `loq_interval`.`mirName`, `loq_interval`.`NeatName`, `loq_interval`.`IntervalSize`, `loq_interval`.`IntervalSerialNumber`, `loq_interval`.`Structure`, `loq_interval`.`Annotations`, `loq_interval`.`Tags`, `loq_interval`.`all_reads_mapped`, `loq_interval`.`sum_normReads`, `loq_interval`.`mapped_strand`, `loq_interval`.`Link` FROM `loq_interval` WHERE `loq_interval`.`mirName` = 'dme-mir-2282' ; args=('dme-mir-2282',)\n"
       ]
      },
      {
       "output_type": "stream",
       "stream": "stderr",
       "text": [
        "DEBUG:django.db.backends:(0.000) SELECT (1) AS `a` FROM `loq_interval` WHERE `loq_interval`.`id` = 109  LIMIT 1; args=(109,)\n"
       ]
      },
      {
       "output_type": "stream",
       "stream": "stderr",
       "text": [
        "DEBUG:django.db.backends:(0.000) UPDATE `loq_interval` SET `chr` = 'chr3L', `start` = 3412144, `stop` = 3412251, `mirName` = 'dme-mir-2282', `NeatName` = 'chr3L:3412145-3412251', `IntervalSize` = 107, `IntervalSerialNumber` = 109, `Structure` = '.(((.......((.(((((...(((.((((((((((.((((((((.....(.(......).)....)))))))).))))))))))..)))..)))))))....))).', `Annotations` = '', `Tags` = '', `all_reads_mapped` = 34, `sum_normReads` = 7.5416, `mapped_strand` = '-', `Link` = 'http://genome.cbis.nus.edu.sg/cgi-bin/hgTracks?db=dm3&position=chr3L:3412145-3412251' WHERE `loq_interval`.`id` = 109 ; args=(u'chr3L', 3412144, 3412251, u'dme-mir-2282', u'chr3L:3412145-3412251', 107, 109, u'.(((.......((.(((((...(((.((((((((((.((((((((.....(.(......).)....)))))))).))))))))))..)))..)))))))....))).', u'', u'', 34, 7.5416, '-', u'http://genome.cbis.nus.edu.sg/cgi-bin/hgTracks?db=dm3&position=chr3L:3412145-3412251', 109)\n"
       ]
      },
      {
       "output_type": "stream",
       "stream": "stdout",
       "text": [
        "\n",
        "dme-mir-2501+\n"
       ]
      },
      {
       "output_type": "stream",
       "stream": "stderr",
       "text": [
        "DEBUG:django.db.backends:(0.001) SELECT `loq_interval`.`id`, `loq_interval`.`chr`, `loq_interval`.`start`, `loq_interval`.`stop`, `loq_interval`.`mirName`, `loq_interval`.`NeatName`, `loq_interval`.`IntervalSize`, `loq_interval`.`IntervalSerialNumber`, `loq_interval`.`Structure`, `loq_interval`.`Annotations`, `loq_interval`.`Tags`, `loq_interval`.`all_reads_mapped`, `loq_interval`.`sum_normReads`, `loq_interval`.`mapped_strand`, `loq_interval`.`Link` FROM `loq_interval` WHERE `loq_interval`.`mirName` = 'dme-mir-2501' ; args=('dme-mir-2501',)\n"
       ]
      },
      {
       "output_type": "stream",
       "stream": "stderr",
       "text": [
        "DEBUG:django.db.backends:(0.000) SELECT (1) AS `a` FROM `loq_interval` WHERE `loq_interval`.`id` = 110  LIMIT 1; args=(110,)\n"
       ]
      },
      {
       "output_type": "stream",
       "stream": "stderr",
       "text": [
        "DEBUG:django.db.backends:(0.000) UPDATE `loq_interval` SET `chr` = 'chr3L', `start` = 8104206, `stop` = 8104277, `mirName` = 'dme-mir-2501', `NeatName` = 'chr3L:8104207-8104277', `IntervalSize` = 71, `IntervalSerialNumber` = 110, `Structure` = '..((((((((..(((..(((.((((...(((......))).)))).)))..))).))))))))........', `Annotations` = '', `Tags` = '', `all_reads_mapped` = 27, `sum_normReads` = 5.0196, `mapped_strand` = '+', `Link` = 'http://genome.cbis.nus.edu.sg/cgi-bin/hgTracks?db=dm3&position=chr3L:8104207-8104277' WHERE `loq_interval`.`id` = 110 ; args=(u'chr3L', 8104206, 8104277, u'dme-mir-2501', u'chr3L:8104207-8104277', 71, 110, u'..((((((((..(((..(((.((((...(((......))).)))).)))..))).))))))))........', u'', u'', 27, 5.0196, '+', u'http://genome.cbis.nus.edu.sg/cgi-bin/hgTracks?db=dm3&position=chr3L:8104207-8104277', 110)\n"
       ]
      },
      {
       "output_type": "stream",
       "stream": "stdout",
       "text": [
        "\n",
        "dme-mir-4913-\n"
       ]
      },
      {
       "output_type": "stream",
       "stream": "stderr",
       "text": [
        "DEBUG:django.db.backends:(0.001) SELECT `loq_interval`.`id`, `loq_interval`.`chr`, `loq_interval`.`start`, `loq_interval`.`stop`, `loq_interval`.`mirName`, `loq_interval`.`NeatName`, `loq_interval`.`IntervalSize`, `loq_interval`.`IntervalSerialNumber`, `loq_interval`.`Structure`, `loq_interval`.`Annotations`, `loq_interval`.`Tags`, `loq_interval`.`all_reads_mapped`, `loq_interval`.`sum_normReads`, `loq_interval`.`mapped_strand`, `loq_interval`.`Link` FROM `loq_interval` WHERE `loq_interval`.`mirName` = 'dme-mir-4913' ; args=('dme-mir-4913',)\n"
       ]
      },
      {
       "output_type": "stream",
       "stream": "stderr",
       "text": [
        "DEBUG:django.db.backends:(0.000) SELECT (1) AS `a` FROM `loq_interval` WHERE `loq_interval`.`id` = 111  LIMIT 1; args=(111,)\n"
       ]
      },
      {
       "output_type": "stream",
       "stream": "stderr",
       "text": [
        "DEBUG:django.db.backends:(0.001) UPDATE `loq_interval` SET `chr` = 'chr3L', `start` = 8347283, `stop` = 8347341, `mirName` = 'dme-mir-4913', `NeatName` = 'chr3L:8347284-8347341', `IntervalSize` = 58, `IntervalSerialNumber` = 111, `Structure` = '.(((((((((((((.....((((((.....))))))....)))).))))...))))).', `Annotations` = '', `Tags` = '', `all_reads_mapped` = 1, `sum_normReads` = 0.0655, `mapped_strand` = '-', `Link` = 'http://genome.cbis.nus.edu.sg/cgi-bin/hgTracks?db=dm3&position=chr3L:8347284-8347341' WHERE `loq_interval`.`id` = 111 ; args=(u'chr3L', 8347283, 8347341, u'dme-mir-4913', u'chr3L:8347284-8347341', 58, 111, u'.(((((((((((((.....((((((.....))))))....)))).))))...))))).', u'', u'', 1, 0.0655, '-', u'http://genome.cbis.nus.edu.sg/cgi-bin/hgTracks?db=dm3&position=chr3L:8347284-8347341', 111)\n"
       ]
      },
      {
       "output_type": "stream",
       "stream": "stdout",
       "text": [
        "\n",
        "dme-mir-190+\n"
       ]
      },
      {
       "output_type": "stream",
       "stream": "stderr",
       "text": [
        "DEBUG:django.db.backends:(0.002) SELECT `loq_interval`.`id`, `loq_interval`.`chr`, `loq_interval`.`start`, `loq_interval`.`stop`, `loq_interval`.`mirName`, `loq_interval`.`NeatName`, `loq_interval`.`IntervalSize`, `loq_interval`.`IntervalSerialNumber`, `loq_interval`.`Structure`, `loq_interval`.`Annotations`, `loq_interval`.`Tags`, `loq_interval`.`all_reads_mapped`, `loq_interval`.`sum_normReads`, `loq_interval`.`mapped_strand`, `loq_interval`.`Link` FROM `loq_interval` WHERE `loq_interval`.`mirName` = 'dme-mir-190' ; args=('dme-mir-190',)\n"
       ]
      },
      {
       "output_type": "stream",
       "stream": "stderr",
       "text": [
        "DEBUG:django.db.backends:(0.000) SELECT (1) AS `a` FROM `loq_interval` WHERE `loq_interval`.`id` = 112  LIMIT 1; args=(112,)\n"
       ]
      },
      {
       "output_type": "stream",
       "stream": "stderr",
       "text": [
        "DEBUG:django.db.backends:(0.001) UPDATE `loq_interval` SET `chr` = 'chr3L', `start` = 8564898, `stop` = 8564998, `mirName` = 'dme-mir-190', `NeatName` = 'chr3L:8564899-8564998', `IntervalSize` = 100, `IntervalSerialNumber` = 112, `Structure` = '.........(((.((((.((((((((((((((((((..((((((.((...............)).)))))))))))))))))).)))))).)))).))).', `Annotations` = '', `Tags` = '', `all_reads_mapped` = 291, `sum_normReads` = 4490.22759999998, `mapped_strand` = '+', `Link` = 'http://genome.cbis.nus.edu.sg/cgi-bin/hgTracks?db=dm3&position=chr3L:8564899-8564998' WHERE `loq_interval`.`id` = 112 ; args=(u'chr3L', 8564898, 8564998, u'dme-mir-190', u'chr3L:8564899-8564998', 100, 112, u'.........(((.((((.((((((((((((((((((..((((((.((...............)).)))))))))))))))))).)))))).)))).))).', u'', u'', 291, 4490.22759999998, '+', u'http://genome.cbis.nus.edu.sg/cgi-bin/hgTracks?db=dm3&position=chr3L:8564899-8564998', 112)\n"
       ]
      },
      {
       "output_type": "stream",
       "stream": "stdout",
       "text": [
        "\n",
        "dme-mir-4940+\n"
       ]
      },
      {
       "output_type": "stream",
       "stream": "stderr",
       "text": [
        "DEBUG:django.db.backends:(0.001) SELECT `loq_interval`.`id`, `loq_interval`.`chr`, `loq_interval`.`start`, `loq_interval`.`stop`, `loq_interval`.`mirName`, `loq_interval`.`NeatName`, `loq_interval`.`IntervalSize`, `loq_interval`.`IntervalSerialNumber`, `loq_interval`.`Structure`, `loq_interval`.`Annotations`, `loq_interval`.`Tags`, `loq_interval`.`all_reads_mapped`, `loq_interval`.`sum_normReads`, `loq_interval`.`mapped_strand`, `loq_interval`.`Link` FROM `loq_interval` WHERE `loq_interval`.`mirName` = 'dme-mir-4940' ; args=('dme-mir-4940',)\n"
       ]
      },
      {
       "output_type": "stream",
       "stream": "stderr",
       "text": [
        "DEBUG:django.db.backends:(0.000) SELECT (1) AS `a` FROM `loq_interval` WHERE `loq_interval`.`id` = 113  LIMIT 1; args=(113,)\n"
       ]
      },
      {
       "output_type": "stream",
       "stream": "stderr",
       "text": [
        "DEBUG:django.db.backends:(0.001) UPDATE `loq_interval` SET `chr` = 'chr3L', `start` = 9137692, `stop` = 9137797, `mirName` = 'dme-mir-4940', `NeatName` = 'chr3L:9137693-9137797', `IntervalSize` = 105, `IntervalSerialNumber` = 113, `Structure` = '...(((.........(((((((((((.((.(((((((.(((......................)))))))))).)).)))))))))))..........)))....', `Annotations` = '', `Tags` = '', `all_reads_mapped` = 0, `sum_normReads` = NULL, `mapped_strand` = '+', `Link` = 'http://genome.cbis.nus.edu.sg/cgi-bin/hgTracks?db=dm3&position=chr3L:9137693-9137797' WHERE `loq_interval`.`id` = 113 ; args=(u'chr3L', 9137692, 9137797, u'dme-mir-4940', u'chr3L:9137693-9137797', 105, 113, u'...(((.........(((((((((((.((.(((((((.(((......................)))))))))).)).)))))))))))..........)))....', u'', u'', 0, '+', u'http://genome.cbis.nus.edu.sg/cgi-bin/hgTracks?db=dm3&position=chr3L:9137693-9137797', 113)\n"
       ]
      },
      {
       "output_type": "stream",
       "stream": "stdout",
       "text": [
        "\n",
        "dme-mir-4986-\n"
       ]
      },
      {
       "output_type": "stream",
       "stream": "stderr",
       "text": [
        "DEBUG:django.db.backends:(0.001) SELECT `loq_interval`.`id`, `loq_interval`.`chr`, `loq_interval`.`start`, `loq_interval`.`stop`, `loq_interval`.`mirName`, `loq_interval`.`NeatName`, `loq_interval`.`IntervalSize`, `loq_interval`.`IntervalSerialNumber`, `loq_interval`.`Structure`, `loq_interval`.`Annotations`, `loq_interval`.`Tags`, `loq_interval`.`all_reads_mapped`, `loq_interval`.`sum_normReads`, `loq_interval`.`mapped_strand`, `loq_interval`.`Link` FROM `loq_interval` WHERE `loq_interval`.`mirName` = 'dme-mir-4986' ; args=('dme-mir-4986',)\n"
       ]
      },
      {
       "output_type": "stream",
       "stream": "stderr",
       "text": [
        "DEBUG:django.db.backends:(0.000) SELECT (1) AS `a` FROM `loq_interval` WHERE `loq_interval`.`id` = 114  LIMIT 1; args=(114,)\n"
       ]
      },
      {
       "output_type": "stream",
       "stream": "stderr",
       "text": [
        "DEBUG:django.db.backends:(0.000) UPDATE `loq_interval` SET `chr` = 'chr3L', `start` = 9726758, `stop` = 9726880, `mirName` = 'dme-mir-4986', `NeatName` = 'chr3L:9726759-9726880', `IntervalSize` = 122, `IntervalSerialNumber` = 114, `Structure` = '((((((.((....)).((((((((.((((((((((((((((((.(((.((((.((.(........).))))))))))))).)))).))))).))))).))))))))......))))))....', `Annotations` = '', `Tags` = '', `all_reads_mapped` = 2, `sum_normReads` = 0.156, `mapped_strand` = '-', `Link` = 'http://genome.cbis.nus.edu.sg/cgi-bin/hgTracks?db=dm3&position=chr3L:9726759-9726880' WHERE `loq_interval`.`id` = 114 ; args=(u'chr3L', 9726758, 9726880, u'dme-mir-4986', u'chr3L:9726759-9726880', 122, 114, u'((((((.((....)).((((((((.((((((((((((((((((.(((.((((.((.(........).))))))))))))).)))).))))).))))).))))))))......))))))....', u'', u'', 2, 0.156, '-', u'http://genome.cbis.nus.edu.sg/cgi-bin/hgTracks?db=dm3&position=chr3L:9726759-9726880', 114)\n"
       ]
      },
      {
       "output_type": "stream",
       "stream": "stdout",
       "text": [
        "\n",
        "dme-mir-276b+\n"
       ]
      },
      {
       "output_type": "stream",
       "stream": "stderr",
       "text": [
        "DEBUG:django.db.backends:(0.001) SELECT `loq_interval`.`id`, `loq_interval`.`chr`, `loq_interval`.`start`, `loq_interval`.`stop`, `loq_interval`.`mirName`, `loq_interval`.`NeatName`, `loq_interval`.`IntervalSize`, `loq_interval`.`IntervalSerialNumber`, `loq_interval`.`Structure`, `loq_interval`.`Annotations`, `loq_interval`.`Tags`, `loq_interval`.`all_reads_mapped`, `loq_interval`.`sum_normReads`, `loq_interval`.`mapped_strand`, `loq_interval`.`Link` FROM `loq_interval` WHERE `loq_interval`.`mirName` = 'dme-mir-276b' ; args=('dme-mir-276b',)\n"
       ]
      },
      {
       "output_type": "stream",
       "stream": "stderr",
       "text": [
        "DEBUG:django.db.backends:(0.000) SELECT (1) AS `a` FROM `loq_interval` WHERE `loq_interval`.`id` = 115  LIMIT 1; args=(115,)\n"
       ]
      },
      {
       "output_type": "stream",
       "stream": "stderr",
       "text": [
        "DEBUG:django.db.backends:(0.001) UPDATE `loq_interval` SET `chr` = 'chr3L', `start` = 10312884, `stop` = 10312983, `mirName` = 'dme-mir-276b', `NeatName` = 'chr3L:10312885-10312983', `IntervalSize` = 99, `IntervalSerialNumber` = 115, `Structure` = '.....(((((((((....(((..((((.(((((.(((((((((((..............))))))))))).))))).))))..))))))))).)))...', `Annotations` = '', `Tags` = '', `all_reads_mapped` = 127, `sum_normReads` = 826.5823, `mapped_strand` = '+', `Link` = 'http://genome.cbis.nus.edu.sg/cgi-bin/hgTracks?db=dm3&position=chr3L:10312885-10312983' WHERE `loq_interval`.`id` = 115 ; args=(u'chr3L', 10312884, 10312983, u'dme-mir-276b', u'chr3L:10312885-10312983', 99, 115, u'.....(((((((((....(((..((((.(((((.(((((((((((..............))))))))))).))))).))))..))))))))).)))...', u'', u'', 127, 826.5823, '+', u'http://genome.cbis.nus.edu.sg/cgi-bin/hgTracks?db=dm3&position=chr3L:10312885-10312983', 115)\n"
       ]
      },
      {
       "output_type": "stream",
       "stream": "stdout",
       "text": [
        "\n",
        "dme-mir-276a+\n"
       ]
      },
      {
       "output_type": "stream",
       "stream": "stderr",
       "text": [
        "DEBUG:django.db.backends:(0.001) SELECT `loq_interval`.`id`, `loq_interval`.`chr`, `loq_interval`.`start`, `loq_interval`.`stop`, `loq_interval`.`mirName`, `loq_interval`.`NeatName`, `loq_interval`.`IntervalSize`, `loq_interval`.`IntervalSerialNumber`, `loq_interval`.`Structure`, `loq_interval`.`Annotations`, `loq_interval`.`Tags`, `loq_interval`.`all_reads_mapped`, `loq_interval`.`sum_normReads`, `loq_interval`.`mapped_strand`, `loq_interval`.`Link` FROM `loq_interval` WHERE `loq_interval`.`mirName` = 'dme-mir-276a' ; args=('dme-mir-276a',)\n"
       ]
      },
      {
       "output_type": "stream",
       "stream": "stderr",
       "text": [
        "DEBUG:django.db.backends:(0.000) SELECT (1) AS `a` FROM `loq_interval` WHERE `loq_interval`.`id` = 116  LIMIT 1; args=(116,)\n"
       ]
      },
      {
       "output_type": "stream",
       "stream": "stderr",
       "text": [
        "DEBUG:django.db.backends:(0.000) UPDATE `loq_interval` SET `chr` = 'chr3L', `start` = 10358327, `stop` = 10358425, `mirName` = 'dme-mir-276a', `NeatName` = 'chr3L:10358328-10358425', `IntervalSize` = 98, `IntervalSerialNumber` = 116, `Structure` = '..(((((((..(((..((((.(((((.(((((((((((.............))))))))))).))))).))))..)))))))))).............', `Annotations` = '', `Tags` = '', `all_reads_mapped` = 200, `sum_normReads` = 79523.1182999999, `mapped_strand` = '+', `Link` = 'http://genome.cbis.nus.edu.sg/cgi-bin/hgTracks?db=dm3&position=chr3L:10358328-10358425' WHERE `loq_interval`.`id` = 116 ; args=(u'chr3L', 10358327, 10358425, u'dme-mir-276a', u'chr3L:10358328-10358425', 98, 116, u'..(((((((..(((..((((.(((((.(((((((((((.............))))))))))).))))).))))..)))))))))).............', u'', u'', 200, 79523.1182999999, '+', u'http://genome.cbis.nus.edu.sg/cgi-bin/hgTracks?db=dm3&position=chr3L:10358328-10358425', 116)\n"
       ]
      },
      {
       "output_type": "stream",
       "stream": "stdout",
       "text": [
        "\n",
        "dme-mir-4968-\n"
       ]
      },
      {
       "output_type": "stream",
       "stream": "stderr",
       "text": [
        "DEBUG:django.db.backends:(0.001) SELECT `loq_interval`.`id`, `loq_interval`.`chr`, `loq_interval`.`start`, `loq_interval`.`stop`, `loq_interval`.`mirName`, `loq_interval`.`NeatName`, `loq_interval`.`IntervalSize`, `loq_interval`.`IntervalSerialNumber`, `loq_interval`.`Structure`, `loq_interval`.`Annotations`, `loq_interval`.`Tags`, `loq_interval`.`all_reads_mapped`, `loq_interval`.`sum_normReads`, `loq_interval`.`mapped_strand`, `loq_interval`.`Link` FROM `loq_interval` WHERE `loq_interval`.`mirName` = 'dme-mir-4968' ; args=('dme-mir-4968',)\n"
       ]
      },
      {
       "output_type": "stream",
       "stream": "stderr",
       "text": [
        "DEBUG:django.db.backends:(0.000) SELECT (1) AS `a` FROM `loq_interval` WHERE `loq_interval`.`id` = 117  LIMIT 1; args=(117,)\n"
       ]
      },
      {
       "output_type": "stream",
       "stream": "stderr",
       "text": [
        "DEBUG:django.db.backends:(0.001) UPDATE `loq_interval` SET `chr` = 'chr3L', `start` = 11545638, `stop` = 11545793, `mirName` = 'dme-mir-4968', `NeatName` = 'chr3L:11545639-11545793', `IntervalSize` = 155, `IntervalSerialNumber` = 117, `Structure` = '.....(((..(((.((...((((....(((....(((((((((((..((.(((((..(.(((.((((((.((.((........)).)).))))))))).)..)))))))..))))))))))).....)))....))))...)).)))..)))...', `Annotations` = '', `Tags` = '', `all_reads_mapped` = 33, `sum_normReads` = 2.1995, `mapped_strand` = '-', `Link` = 'http://genome.cbis.nus.edu.sg/cgi-bin/hgTracks?db=dm3&position=chr3L:11545639-11545793' WHERE `loq_interval`.`id` = 117 ; args=(u'chr3L', 11545638, 11545793, u'dme-mir-4968', u'chr3L:11545639-11545793', 155, 117, u'.....(((..(((.((...((((....(((....(((((((((((..((.(((((..(.(((.((((((.((.((........)).)).))))))))).)..)))))))..))))))))))).....)))....))))...)).)))..)))...', u'', u'', 33, 2.1995, '-', u'http://genome.cbis.nus.edu.sg/cgi-bin/hgTracks?db=dm3&position=chr3L:11545639-11545793', 117)\n"
       ]
      },
      {
       "output_type": "stream",
       "stream": "stdout",
       "text": [
        "\n",
        "dme-mir-3642+\n"
       ]
      },
      {
       "output_type": "stream",
       "stream": "stderr",
       "text": [
        "DEBUG:django.db.backends:(0.001) SELECT `loq_interval`.`id`, `loq_interval`.`chr`, `loq_interval`.`start`, `loq_interval`.`stop`, `loq_interval`.`mirName`, `loq_interval`.`NeatName`, `loq_interval`.`IntervalSize`, `loq_interval`.`IntervalSerialNumber`, `loq_interval`.`Structure`, `loq_interval`.`Annotations`, `loq_interval`.`Tags`, `loq_interval`.`all_reads_mapped`, `loq_interval`.`sum_normReads`, `loq_interval`.`mapped_strand`, `loq_interval`.`Link` FROM `loq_interval` WHERE `loq_interval`.`mirName` = 'dme-mir-3642' ; args=('dme-mir-3642',)\n"
       ]
      },
      {
       "output_type": "stream",
       "stream": "stderr",
       "text": [
        "DEBUG:django.db.backends:(0.000) SELECT (1) AS `a` FROM `loq_interval` WHERE `loq_interval`.`id` = 118  LIMIT 1; args=(118,)\n"
       ]
      },
      {
       "output_type": "stream",
       "stream": "stderr",
       "text": [
        "DEBUG:django.db.backends:(0.001) UPDATE `loq_interval` SET `chr` = 'chr3L', `start` = 11622604, `stop` = 11622680, `mirName` = 'dme-mir-3642', `NeatName` = 'chr3L:11622605-11622680', `IntervalSize` = 76, `IntervalSerialNumber` = 118, `Structure` = '..((((((((.(.(((...(((((..(((.....)))....)))))...))).))).)))))).............', `Annotations` = '', `Tags` = '', `all_reads_mapped` = 7, `sum_normReads` = 0.5701, `mapped_strand` = '+', `Link` = 'http://genome.cbis.nus.edu.sg/cgi-bin/hgTracks?db=dm3&position=chr3L:11622605-11622680' WHERE `loq_interval`.`id` = 118 ; args=(u'chr3L', 11622604, 11622680, u'dme-mir-3642', u'chr3L:11622605-11622680', 76, 118, u'..((((((((.(.(((...(((((..(((.....)))....)))))...))).))).)))))).............', u'', u'', 7, 0.5701, '+', u'http://genome.cbis.nus.edu.sg/cgi-bin/hgTracks?db=dm3&position=chr3L:11622605-11622680', 118)\n"
       ]
      },
      {
       "output_type": "stream",
       "stream": "stdout",
       "text": [
        "\n",
        "dme-mir-274+\n"
       ]
      },
      {
       "output_type": "stream",
       "stream": "stderr",
       "text": [
        "DEBUG:django.db.backends:(0.001) SELECT `loq_interval`.`id`, `loq_interval`.`chr`, `loq_interval`.`start`, `loq_interval`.`stop`, `loq_interval`.`mirName`, `loq_interval`.`NeatName`, `loq_interval`.`IntervalSize`, `loq_interval`.`IntervalSerialNumber`, `loq_interval`.`Structure`, `loq_interval`.`Annotations`, `loq_interval`.`Tags`, `loq_interval`.`all_reads_mapped`, `loq_interval`.`sum_normReads`, `loq_interval`.`mapped_strand`, `loq_interval`.`Link` FROM `loq_interval` WHERE `loq_interval`.`mirName` = 'dme-mir-274' ; args=('dme-mir-274',)\n"
       ]
      },
      {
       "output_type": "stream",
       "stream": "stderr",
       "text": [
        "DEBUG:django.db.backends:(0.001) SELECT (1) AS `a` FROM `loq_interval` WHERE `loq_interval`.`id` = 119  LIMIT 1; args=(119,)\n"
       ]
      },
      {
       "output_type": "stream",
       "stream": "stderr",
       "text": [
        "DEBUG:django.db.backends:(0.001) UPDATE `loq_interval` SET `chr` = 'chr3L', `start` = 11650017, `stop` = 11650117, `mirName` = 'dme-mir-274', `NeatName` = 'chr3L:11650018-11650117', `IntervalSize` = 100, `IntervalSerialNumber` = 119, `Structure` = '.....(((((((((((((((((((((.((.((..(((((((((((..((((...)))))))))))))))..)))).)))))))..)))))))))))))).', `Annotations` = '', `Tags` = '', `all_reads_mapped` = 10, `sum_normReads` = 1.7529, `mapped_strand` = '+', `Link` = 'http://genome.cbis.nus.edu.sg/cgi-bin/hgTracks?db=dm3&position=chr3L:11650018-11650117' WHERE `loq_interval`.`id` = 119 ; args=(u'chr3L', 11650017, 11650117, u'dme-mir-274', u'chr3L:11650018-11650117', 100, 119, u'.....(((((((((((((((((((((.((.((..(((((((((((..((((...)))))))))))))))..)))).)))))))..)))))))))))))).', u'', u'', 10, 1.7529, '+', u'http://genome.cbis.nus.edu.sg/cgi-bin/hgTracks?db=dm3&position=chr3L:11650018-11650117', 119)\n"
       ]
      },
      {
       "output_type": "stream",
       "stream": "stdout",
       "text": [
        "\n",
        "dme-mir-314+\n"
       ]
      },
      {
       "output_type": "stream",
       "stream": "stderr",
       "text": [
        "DEBUG:django.db.backends:(0.001) SELECT `loq_interval`.`id`, `loq_interval`.`chr`, `loq_interval`.`start`, `loq_interval`.`stop`, `loq_interval`.`mirName`, `loq_interval`.`NeatName`, `loq_interval`.`IntervalSize`, `loq_interval`.`IntervalSerialNumber`, `loq_interval`.`Structure`, `loq_interval`.`Annotations`, `loq_interval`.`Tags`, `loq_interval`.`all_reads_mapped`, `loq_interval`.`sum_normReads`, `loq_interval`.`mapped_strand`, `loq_interval`.`Link` FROM `loq_interval` WHERE `loq_interval`.`mirName` = 'dme-mir-314' ; args=('dme-mir-314',)\n"
       ]
      },
      {
       "output_type": "stream",
       "stream": "stderr",
       "text": [
        "DEBUG:django.db.backends:(0.000) SELECT (1) AS `a` FROM `loq_interval` WHERE `loq_interval`.`id` = 120  LIMIT 1; args=(120,)\n"
       ]
      },
      {
       "output_type": "stream",
       "stream": "stderr",
       "text": [
        "DEBUG:django.db.backends:(0.001) UPDATE `loq_interval` SET `chr` = 'chr3L', `start` = 11766111, `stop` = 11766201, `mirName` = 'dme-mir-314', `NeatName` = 'chr3L:11766112-11766201', `IntervalSize` = 90, `IntervalSerialNumber` = 120, `Structure` = '.((.(((((((.(((((.((((..((((.((.(((.((((..(((......))))))).))).))..)))))))))))))))))))))).', `Annotations` = '', `Tags` = '', `all_reads_mapped` = 22, `sum_normReads` = 5.8238, `mapped_strand` = '+', `Link` = 'http://genome.cbis.nus.edu.sg/cgi-bin/hgTracks?db=dm3&position=chr3L:11766112-11766201' WHERE `loq_interval`.`id` = 120 ; args=(u'chr3L', 11766111, 11766201, u'dme-mir-314', u'chr3L:11766112-11766201', 90, 120, u'.((.(((((((.(((((.((((..((((.((.(((.((((..(((......))))))).))).))..)))))))))))))))))))))).', u'', u'', 22, 5.8238, '+', u'http://genome.cbis.nus.edu.sg/cgi-bin/hgTracks?db=dm3&position=chr3L:11766112-11766201', 120)\n"
       ]
      },
      {
       "output_type": "stream",
       "stream": "stdout",
       "text": [
        "\n",
        "dme-mir-956-\n"
       ]
      },
      {
       "output_type": "stream",
       "stream": "stderr",
       "text": [
        "DEBUG:django.db.backends:(0.001) SELECT `loq_interval`.`id`, `loq_interval`.`chr`, `loq_interval`.`start`, `loq_interval`.`stop`, `loq_interval`.`mirName`, `loq_interval`.`NeatName`, `loq_interval`.`IntervalSize`, `loq_interval`.`IntervalSerialNumber`, `loq_interval`.`Structure`, `loq_interval`.`Annotations`, `loq_interval`.`Tags`, `loq_interval`.`all_reads_mapped`, `loq_interval`.`sum_normReads`, `loq_interval`.`mapped_strand`, `loq_interval`.`Link` FROM `loq_interval` WHERE `loq_interval`.`mirName` = 'dme-mir-956' ; args=('dme-mir-956',)\n"
       ]
      },
      {
       "output_type": "stream",
       "stream": "stderr",
       "text": [
        "DEBUG:django.db.backends:(0.000) SELECT (1) AS `a` FROM `loq_interval` WHERE `loq_interval`.`id` = 121  LIMIT 1; args=(121,)\n"
       ]
      },
      {
       "output_type": "stream",
       "stream": "stderr",
       "text": [
        "DEBUG:django.db.backends:(0.000) UPDATE `loq_interval` SET `chr` = 'chr3L', `start` = 11766830, `stop` = 11766978, `mirName` = 'dme-mir-956', `NeatName` = 'chr3L:11766831-11766978', `IntervalSize` = 148, `IntervalSerialNumber` = 121, `Structure` = '....(((...(((.(((((.((((((((..(((((.((.((.....((((((.((...((((((((....(((...)))..))....))))))...)).))))))...)).))))))).)))))))).)))))..)))...)))....', `Annotations` = '', `Tags` = '', `all_reads_mapped` = 24, `sum_normReads` = 27.1454, `mapped_strand` = '-', `Link` = 'http://genome.cbis.nus.edu.sg/cgi-bin/hgTracks?db=dm3&position=chr3L:11766831-11766978' WHERE `loq_interval`.`id` = 121 ; args=(u'chr3L', 11766830, 11766978, u'dme-mir-956', u'chr3L:11766831-11766978', 148, 121, u'....(((...(((.(((((.((((((((..(((((.((.((.....((((((.((...((((((((....(((...)))..))....))))))...)).))))))...)).))))))).)))))))).)))))..)))...)))....', u'', u'', 24, 27.1454, '-', u'http://genome.cbis.nus.edu.sg/cgi-bin/hgTracks?db=dm3&position=chr3L:11766831-11766978', 121)\n"
       ]
      },
      {
       "output_type": "stream",
       "stream": "stdout",
       "text": [
        "\n",
        "dme-mir-285-\n"
       ]
      },
      {
       "output_type": "stream",
       "stream": "stderr",
       "text": [
        "DEBUG:django.db.backends:(0.001) SELECT `loq_interval`.`id`, `loq_interval`.`chr`, `loq_interval`.`start`, `loq_interval`.`stop`, `loq_interval`.`mirName`, `loq_interval`.`NeatName`, `loq_interval`.`IntervalSize`, `loq_interval`.`IntervalSerialNumber`, `loq_interval`.`Structure`, `loq_interval`.`Annotations`, `loq_interval`.`Tags`, `loq_interval`.`all_reads_mapped`, `loq_interval`.`sum_normReads`, `loq_interval`.`mapped_strand`, `loq_interval`.`Link` FROM `loq_interval` WHERE `loq_interval`.`mirName` = 'dme-mir-285' ; args=('dme-mir-285',)\n"
       ]
      },
      {
       "output_type": "stream",
       "stream": "stderr",
       "text": [
        "DEBUG:django.db.backends:(0.000) SELECT (1) AS `a` FROM `loq_interval` WHERE `loq_interval`.`id` = 122  LIMIT 1; args=(122,)\n"
       ]
      },
      {
       "output_type": "stream",
       "stream": "stderr",
       "text": [
        "DEBUG:django.db.backends:(0.001) UPDATE `loq_interval` SET `chr` = 'chr3L', `start` = 11939192, `stop` = 11939291, `mirName` = 'dme-mir-285', `NeatName` = 'chr3L:11939193-11939291', `IntervalSize` = 99, `IntervalSerialNumber` = 122, `Structure` = '((..(((((((.(((((..((((.((((((.((((......(((......)))........)))))))))).))))..)))))..)))))))..))...', `Annotations` = '', `Tags` = '', `all_reads_mapped` = 1, `sum_normReads` = 0.0655, `mapped_strand` = '-', `Link` = 'http://genome.cbis.nus.edu.sg/cgi-bin/hgTracks?db=dm3&position=chr3L:11939193-11939291' WHERE `loq_interval`.`id` = 122 ; args=(u'chr3L', 11939192, 11939291, u'dme-mir-285', u'chr3L:11939193-11939291', 99, 122, u'((..(((((((.(((((..((((.((((((.((((......(((......)))........)))))))))).))))..)))))..)))))))..))...', u'', u'', 1, 0.0655, '-', u'http://genome.cbis.nus.edu.sg/cgi-bin/hgTracks?db=dm3&position=chr3L:11939193-11939291', 122)\n"
       ]
      },
      {
       "output_type": "stream",
       "stream": "stdout",
       "text": [
        "\n",
        "dme-mir-289+\n"
       ]
      },
      {
       "output_type": "stream",
       "stream": "stderr",
       "text": [
        "DEBUG:django.db.backends:(0.001) SELECT `loq_interval`.`id`, `loq_interval`.`chr`, `loq_interval`.`start`, `loq_interval`.`stop`, `loq_interval`.`mirName`, `loq_interval`.`NeatName`, `loq_interval`.`IntervalSize`, `loq_interval`.`IntervalSerialNumber`, `loq_interval`.`Structure`, `loq_interval`.`Annotations`, `loq_interval`.`Tags`, `loq_interval`.`all_reads_mapped`, `loq_interval`.`sum_normReads`, `loq_interval`.`mapped_strand`, `loq_interval`.`Link` FROM `loq_interval` WHERE `loq_interval`.`mirName` = 'dme-mir-289' ; args=('dme-mir-289',)\n"
       ]
      },
      {
       "output_type": "stream",
       "stream": "stderr",
       "text": [
        "DEBUG:django.db.backends:(0.000) SELECT (1) AS `a` FROM `loq_interval` WHERE `loq_interval`.`id` = 123  LIMIT 1; args=(123,)\n"
       ]
      },
      {
       "output_type": "stream",
       "stream": "stderr",
       "text": [
        "DEBUG:django.db.backends:(0.000) UPDATE `loq_interval` SET `chr` = 'chr3L', `start` = 13613921, `stop` = 13614020, `mirName` = 'dme-mir-289', `NeatName` = 'chr3L:13613922-13614020', `IntervalSize` = 99, `IntervalSerialNumber` = 123, `Structure` = '...(((((.((..(((((((.(((((((((.((((..(...((((((.....)))))))..))))...))))))))).)))))))...)))))))....', `Annotations` = '', `Tags` = '', `all_reads_mapped` = 0, `sum_normReads` = NULL, `mapped_strand` = '+', `Link` = 'http://genome.cbis.nus.edu.sg/cgi-bin/hgTracks?db=dm3&position=chr3L:13613922-13614020' WHERE `loq_interval`.`id` = 123 ; args=(u'chr3L', 13613921, 13614020, u'dme-mir-289', u'chr3L:13613922-13614020', 99, 123, u'...(((((.((..(((((((.(((((((((.((((..(...((((((.....)))))))..))))...))))))))).)))))))...)))))))....', u'', u'', 0, '+', u'http://genome.cbis.nus.edu.sg/cgi-bin/hgTracks?db=dm3&position=chr3L:13613922-13614020', 123)\n"
       ]
      },
      {
       "output_type": "stream",
       "stream": "stdout",
       "text": [
        "\n",
        "dme-mir-263b-\n"
       ]
      },
      {
       "output_type": "stream",
       "stream": "stderr",
       "text": [
        "DEBUG:django.db.backends:(0.001) SELECT `loq_interval`.`id`, `loq_interval`.`chr`, `loq_interval`.`start`, `loq_interval`.`stop`, `loq_interval`.`mirName`, `loq_interval`.`NeatName`, `loq_interval`.`IntervalSize`, `loq_interval`.`IntervalSerialNumber`, `loq_interval`.`Structure`, `loq_interval`.`Annotations`, `loq_interval`.`Tags`, `loq_interval`.`all_reads_mapped`, `loq_interval`.`sum_normReads`, `loq_interval`.`mapped_strand`, `loq_interval`.`Link` FROM `loq_interval` WHERE `loq_interval`.`mirName` = 'dme-mir-263b' ; args=('dme-mir-263b',)\n"
       ]
      },
      {
       "output_type": "stream",
       "stream": "stderr",
       "text": [
        "DEBUG:django.db.backends:(0.000) SELECT (1) AS `a` FROM `loq_interval` WHERE `loq_interval`.`id` = 124  LIMIT 1; args=(124,)\n"
       ]
      },
      {
       "output_type": "stream",
       "stream": "stderr",
       "text": [
        "DEBUG:django.db.backends:(0.000) UPDATE `loq_interval` SET `chr` = 'chr3L', `start` = 15836505, `stop` = 15836595, `mirName` = 'dme-mir-263b', `NeatName` = 'chr3L:15836506-15836595', `IntervalSize` = 90, `IntervalSerialNumber` = 124, `Structure` = '..((((..(((((((.((((((((.(.(((((.(((((..............)))))))))).).)))))))).)))))))...))))..', `Annotations` = '', `Tags` = '', `all_reads_mapped` = 3, `sum_normReads` = 0.3535, `mapped_strand` = '-', `Link` = 'http://genome.cbis.nus.edu.sg/cgi-bin/hgTracks?db=dm3&position=chr3L:15836506-15836595' WHERE `loq_interval`.`id` = 124 ; args=(u'chr3L', 15836505, 15836595, u'dme-mir-263b', u'chr3L:15836506-15836595', 90, 124, u'..((((..(((((((.((((((((.(.(((((.(((((..............)))))))))).).)))))))).)))))))...))))..', u'', u'', 3, 0.3535, '-', u'http://genome.cbis.nus.edu.sg/cgi-bin/hgTracks?db=dm3&position=chr3L:15836506-15836595', 124)\n"
       ]
      },
      {
       "output_type": "stream",
       "stream": "stdout",
       "text": [
        "\n",
        "dme-mir-4941+\n"
       ]
      },
      {
       "output_type": "stream",
       "stream": "stderr",
       "text": [
        "DEBUG:django.db.backends:(0.001) SELECT `loq_interval`.`id`, `loq_interval`.`chr`, `loq_interval`.`start`, `loq_interval`.`stop`, `loq_interval`.`mirName`, `loq_interval`.`NeatName`, `loq_interval`.`IntervalSize`, `loq_interval`.`IntervalSerialNumber`, `loq_interval`.`Structure`, `loq_interval`.`Annotations`, `loq_interval`.`Tags`, `loq_interval`.`all_reads_mapped`, `loq_interval`.`sum_normReads`, `loq_interval`.`mapped_strand`, `loq_interval`.`Link` FROM `loq_interval` WHERE `loq_interval`.`mirName` = 'dme-mir-4941' ; args=('dme-mir-4941',)\n"
       ]
      },
      {
       "output_type": "stream",
       "stream": "stderr",
       "text": [
        "DEBUG:django.db.backends:(0.000) SELECT (1) AS `a` FROM `loq_interval` WHERE `loq_interval`.`id` = 125  LIMIT 1; args=(125,)\n"
       ]
      },
      {
       "output_type": "stream",
       "stream": "stderr",
       "text": [
        "DEBUG:django.db.backends:(0.001) UPDATE `loq_interval` SET `chr` = 'chr3L', `start` = 16024288, `stop` = 16024391, `mirName` = 'dme-mir-4941', `NeatName` = 'chr3L:16024289-16024391', `IntervalSize` = 103, `IntervalSerialNumber` = 125, `Structure` = '......((((.(...(((((((((((.((((.((((((((((((((.......))..))))))))))..)).)))).)))))))).)))...).)))).....', `Annotations` = '', `Tags` = '', `all_reads_mapped` = 19, `sum_normReads` = 2.7124, `mapped_strand` = '+', `Link` = 'http://genome.cbis.nus.edu.sg/cgi-bin/hgTracks?db=dm3&position=chr3L:16024289-16024391' WHERE `loq_interval`.`id` = 125 ; args=(u'chr3L', 16024288, 16024391, u'dme-mir-4941', u'chr3L:16024289-16024391', 103, 125, u'......((((.(...(((((((((((.((((.((((((((((((((.......))..))))))))))..)).)))).)))))))).)))...).)))).....', u'', u'', 19, 2.7124, '+', u'http://genome.cbis.nus.edu.sg/cgi-bin/hgTracks?db=dm3&position=chr3L:16024289-16024391', 125)\n"
       ]
      },
      {
       "output_type": "stream",
       "stream": "stdout",
       "text": [
        "\n",
        "dme-mir-2500-\n"
       ]
      },
      {
       "output_type": "stream",
       "stream": "stderr",
       "text": [
        "DEBUG:django.db.backends:(0.001) SELECT `loq_interval`.`id`, `loq_interval`.`chr`, `loq_interval`.`start`, `loq_interval`.`stop`, `loq_interval`.`mirName`, `loq_interval`.`NeatName`, `loq_interval`.`IntervalSize`, `loq_interval`.`IntervalSerialNumber`, `loq_interval`.`Structure`, `loq_interval`.`Annotations`, `loq_interval`.`Tags`, `loq_interval`.`all_reads_mapped`, `loq_interval`.`sum_normReads`, `loq_interval`.`mapped_strand`, `loq_interval`.`Link` FROM `loq_interval` WHERE `loq_interval`.`mirName` = 'dme-mir-2500' ; args=('dme-mir-2500',)\n"
       ]
      },
      {
       "output_type": "stream",
       "stream": "stderr",
       "text": [
        "DEBUG:django.db.backends:(0.000) SELECT (1) AS `a` FROM `loq_interval` WHERE `loq_interval`.`id` = 126  LIMIT 1; args=(126,)\n"
       ]
      },
      {
       "output_type": "stream",
       "stream": "stderr",
       "text": [
        "DEBUG:django.db.backends:(0.001) UPDATE `loq_interval` SET `chr` = 'chr3L', `start` = 16991556, `stop` = 16991624, `mirName` = 'dme-mir-2500', `NeatName` = 'chr3L:16991557-16991624', `IntervalSize` = 68, `IntervalSerialNumber` = 126, `Structure` = '...(((..((((((((...(((.((((((((...)))))).....))))).))))))))..)))....', `Annotations` = '', `Tags` = '', `all_reads_mapped` = 7, `sum_normReads` = 0.9762, `mapped_strand` = '-', `Link` = 'http://genome.cbis.nus.edu.sg/cgi-bin/hgTracks?db=dm3&position=chr3L:16991557-16991624' WHERE `loq_interval`.`id` = 126 ; args=(u'chr3L', 16991556, 16991624, u'dme-mir-2500', u'chr3L:16991557-16991624', 68, 126, u'...(((..((((((((...(((.((((((((...)))))).....))))).))))))))..)))....', u'', u'', 7, 0.9762, '-', u'http://genome.cbis.nus.edu.sg/cgi-bin/hgTracks?db=dm3&position=chr3L:16991557-16991624', 126)\n"
       ]
      },
      {
       "output_type": "stream",
       "stream": "stdout",
       "text": [
        "\n",
        "dme-mir-219+\n"
       ]
      },
      {
       "output_type": "stream",
       "stream": "stderr",
       "text": [
        "DEBUG:django.db.backends:(0.001) SELECT `loq_interval`.`id`, `loq_interval`.`chr`, `loq_interval`.`start`, `loq_interval`.`stop`, `loq_interval`.`mirName`, `loq_interval`.`NeatName`, `loq_interval`.`IntervalSize`, `loq_interval`.`IntervalSerialNumber`, `loq_interval`.`Structure`, `loq_interval`.`Annotations`, `loq_interval`.`Tags`, `loq_interval`.`all_reads_mapped`, `loq_interval`.`sum_normReads`, `loq_interval`.`mapped_strand`, `loq_interval`.`Link` FROM `loq_interval` WHERE `loq_interval`.`mirName` = 'dme-mir-219' ; args=('dme-mir-219',)\n"
       ]
      },
      {
       "output_type": "stream",
       "stream": "stderr",
       "text": [
        "DEBUG:django.db.backends:(0.000) SELECT (1) AS `a` FROM `loq_interval` WHERE `loq_interval`.`id` = 127  LIMIT 1; args=(127,)\n"
       ]
      },
      {
       "output_type": "stream",
       "stream": "stderr",
       "text": [
        "DEBUG:django.db.backends:(0.001) UPDATE `loq_interval` SET `chr` = 'chr3L', `start` = 17308105, `stop` = 17308205, `mirName` = 'dme-mir-219', `NeatName` = 'chr3L:17308106-17308205', `IntervalSize` = 100, `IntervalSerialNumber` = 127, `Structure` = '..((((.(((((.((((.((((.(((((..(((((((((((..(((((...))))))))))))))))..))))))))).)))).)))))..)))).....', `Annotations` = '', `Tags` = '', `all_reads_mapped` = 12, `sum_normReads` = 1.5024, `mapped_strand` = '+', `Link` = 'http://genome.cbis.nus.edu.sg/cgi-bin/hgTracks?db=dm3&position=chr3L:17308106-17308205' WHERE `loq_interval`.`id` = 127 ; args=(u'chr3L', 17308105, 17308205, u'dme-mir-219', u'chr3L:17308106-17308205', 100, 127, u'..((((.(((((.((((.((((.(((((..(((((((((((..(((((...))))))))))))))))..))))))))).)))).)))))..)))).....', u'', u'', 12, 1.5024, '+', u'http://genome.cbis.nus.edu.sg/cgi-bin/hgTracks?db=dm3&position=chr3L:17308106-17308205', 127)\n"
       ]
      },
      {
       "output_type": "stream",
       "stream": "stdout",
       "text": [
        "\n",
        "dme-mir-315+\n"
       ]
      },
      {
       "output_type": "stream",
       "stream": "stderr",
       "text": [
        "DEBUG:django.db.backends:(0.001) SELECT `loq_interval`.`id`, `loq_interval`.`chr`, `loq_interval`.`start`, `loq_interval`.`stop`, `loq_interval`.`mirName`, `loq_interval`.`NeatName`, `loq_interval`.`IntervalSize`, `loq_interval`.`IntervalSerialNumber`, `loq_interval`.`Structure`, `loq_interval`.`Annotations`, `loq_interval`.`Tags`, `loq_interval`.`all_reads_mapped`, `loq_interval`.`sum_normReads`, `loq_interval`.`mapped_strand`, `loq_interval`.`Link` FROM `loq_interval` WHERE `loq_interval`.`mirName` = 'dme-mir-315' ; args=('dme-mir-315',)\n"
       ]
      },
      {
       "output_type": "stream",
       "stream": "stderr",
       "text": [
        "DEBUG:django.db.backends:(0.000) SELECT (1) AS `a` FROM `loq_interval` WHERE `loq_interval`.`id` = 128  LIMIT 1; args=(128,)\n"
       ]
      },
      {
       "output_type": "stream",
       "stream": "stderr",
       "text": [
        "DEBUG:django.db.backends:(0.001) UPDATE `loq_interval` SET `chr` = 'chr3L', `start` = 18854070, `stop` = 18854154, `mirName` = 'dme-mir-315', `NeatName` = 'chr3L:18854071-18854154', `IntervalSize` = 84, `IntervalSerialNumber` = 128, `Structure` = '(((((((....(((((((((((((((.(((((((...((((.....)))).))))))))))))))))))))))....)))))))', `Annotations` = '', `Tags` = '', `all_reads_mapped` = 68, `sum_normReads` = 361.4893, `mapped_strand` = '+', `Link` = 'http://genome.cbis.nus.edu.sg/cgi-bin/hgTracks?db=dm3&position=chr3L:18854071-18854154' WHERE `loq_interval`.`id` = 128 ; args=(u'chr3L', 18854070, 18854154, u'dme-mir-315', u'chr3L:18854071-18854154', 84, 128, u'(((((((....(((((((((((((((.(((((((...((((.....)))).))))))))))))))))))))))....)))))))', u'', u'', 68, 361.4893, '+', u'http://genome.cbis.nus.edu.sg/cgi-bin/hgTracks?db=dm3&position=chr3L:18854071-18854154', 128)\n"
       ]
      },
      {
       "output_type": "stream",
       "stream": "stdout",
       "text": [
        "\n",
        "dme-mir-9a+\n"
       ]
      },
      {
       "output_type": "stream",
       "stream": "stderr",
       "text": [
        "DEBUG:django.db.backends:(0.001) SELECT `loq_interval`.`id`, `loq_interval`.`chr`, `loq_interval`.`start`, `loq_interval`.`stop`, `loq_interval`.`mirName`, `loq_interval`.`NeatName`, `loq_interval`.`IntervalSize`, `loq_interval`.`IntervalSerialNumber`, `loq_interval`.`Structure`, `loq_interval`.`Annotations`, `loq_interval`.`Tags`, `loq_interval`.`all_reads_mapped`, `loq_interval`.`sum_normReads`, `loq_interval`.`mapped_strand`, `loq_interval`.`Link` FROM `loq_interval` WHERE `loq_interval`.`mirName` = 'dme-mir-9a' ; args=('dme-mir-9a',)\n"
       ]
      },
      {
       "output_type": "stream",
       "stream": "stderr",
       "text": [
        "DEBUG:django.db.backends:(0.000) SELECT (1) AS `a` FROM `loq_interval` WHERE `loq_interval`.`id` = 129  LIMIT 1; args=(129,)\n"
       ]
      },
      {
       "output_type": "stream",
       "stream": "stderr",
       "text": [
        "DEBUG:django.db.backends:(0.001) UPDATE `loq_interval` SET `chr` = 'chr3L', `start` = 19558230, `stop` = 19558308, `mirName` = 'dme-mir-9a', `NeatName` = 'chr3L:19558231-19558308', `IntervalSize` = 78, `IntervalSerialNumber` = 129, `Structure` = '', `Annotations` = '', `Tags` = '', `all_reads_mapped` = 49, `sum_normReads` = 56.7358, `mapped_strand` = '+', `Link` = 'http://genome.cbis.nus.edu.sg/cgi-bin/hgTracks?db=dm3&position=chr3L:19558231-19558308' WHERE `loq_interval`.`id` = 129 ; args=(u'chr3L', 19558230, 19558308, u'dme-mir-9a', u'chr3L:19558231-19558308', 78, 129, u'', u'', u'', 49, 56.7358, '+', u'http://genome.cbis.nus.edu.sg/cgi-bin/hgTracks?db=dm3&position=chr3L:19558231-19558308', 129)\n"
       ]
      },
      {
       "output_type": "stream",
       "stream": "stdout",
       "text": [
        "\n",
        "dme-mir-33+\n"
       ]
      },
      {
       "output_type": "stream",
       "stream": "stderr",
       "text": [
        "DEBUG:django.db.backends:(0.001) SELECT `loq_interval`.`id`, `loq_interval`.`chr`, `loq_interval`.`start`, `loq_interval`.`stop`, `loq_interval`.`mirName`, `loq_interval`.`NeatName`, `loq_interval`.`IntervalSize`, `loq_interval`.`IntervalSerialNumber`, `loq_interval`.`Structure`, `loq_interval`.`Annotations`, `loq_interval`.`Tags`, `loq_interval`.`all_reads_mapped`, `loq_interval`.`sum_normReads`, `loq_interval`.`mapped_strand`, `loq_interval`.`Link` FROM `loq_interval` WHERE `loq_interval`.`mirName` = 'dme-mir-33' ; args=('dme-mir-33',)\n"
       ]
      },
      {
       "output_type": "stream",
       "stream": "stderr",
       "text": [
        "DEBUG:django.db.backends:(0.000) SELECT (1) AS `a` FROM `loq_interval` WHERE `loq_interval`.`id` = 130  LIMIT 1; args=(130,)\n"
       ]
      },
      {
       "output_type": "stream",
       "stream": "stderr",
       "text": [
        "DEBUG:django.db.backends:(0.001) UPDATE `loq_interval` SET `chr` = 'chr3L', `start` = 19791060, `stop` = 19791159, `mirName` = 'dme-mir-33', `NeatName` = 'chr3L:19791061-19791159', `IntervalSize` = 99, `IntervalSerialNumber` = 130, `Structure` = '...........((((((.((((.((.(((((((.(((.(.((((((((............)))))))).).))).)))))))..)).))))))))))..', `Annotations` = '', `Tags` = '', `all_reads_mapped` = 384, `sum_normReads` = 42184.3916000001, `mapped_strand` = '+', `Link` = 'http://genome.cbis.nus.edu.sg/cgi-bin/hgTracks?db=dm3&position=chr3L:19791061-19791159' WHERE `loq_interval`.`id` = 130 ; args=(u'chr3L', 19791060, 19791159, u'dme-mir-33', u'chr3L:19791061-19791159', 99, 130, u'...........((((((.((((.((.(((((((.(((.(.((((((((............)))))))).).))).)))))))..)).))))))))))..', u'', u'', 384, 42184.3916000001, '+', u'http://genome.cbis.nus.edu.sg/cgi-bin/hgTracks?db=dm3&position=chr3L:19791061-19791159', 130)\n"
       ]
      },
      {
       "output_type": "stream",
       "stream": "stdout",
       "text": [
        "\n",
        "dme-mir-193+\n"
       ]
      },
      {
       "output_type": "stream",
       "stream": "stderr",
       "text": [
        "DEBUG:django.db.backends:(0.001) SELECT `loq_interval`.`id`, `loq_interval`.`chr`, `loq_interval`.`start`, `loq_interval`.`stop`, `loq_interval`.`mirName`, `loq_interval`.`NeatName`, `loq_interval`.`IntervalSize`, `loq_interval`.`IntervalSerialNumber`, `loq_interval`.`Structure`, `loq_interval`.`Annotations`, `loq_interval`.`Tags`, `loq_interval`.`all_reads_mapped`, `loq_interval`.`sum_normReads`, `loq_interval`.`mapped_strand`, `loq_interval`.`Link` FROM `loq_interval` WHERE `loq_interval`.`mirName` = 'dme-mir-193' ; args=('dme-mir-193',)\n"
       ]
      },
      {
       "output_type": "stream",
       "stream": "stderr",
       "text": [
        "DEBUG:django.db.backends:(0.000) SELECT (1) AS `a` FROM `loq_interval` WHERE `loq_interval`.`id` = 131  LIMIT 1; args=(131,)\n"
       ]
      },
      {
       "output_type": "stream",
       "stream": "stderr",
       "text": [
        "DEBUG:django.db.backends:(0.001) UPDATE `loq_interval` SET `chr` = 'chr3L', `start` = 21567113, `stop` = 21567221, `mirName` = 'dme-mir-193', `NeatName` = 'chr3L:21567114-21567221', `IntervalSize` = 108, `IntervalSerialNumber` = 131, `Structure` = '....(((.(((((((((.(((((((((..(((...((((.....)))).....((((..................)))))))..)))))))))))))))))).)))..', `Annotations` = '', `Tags` = '', `all_reads_mapped` = 82, `sum_normReads` = 39.3743, `mapped_strand` = '+', `Link` = 'http://genome.cbis.nus.edu.sg/cgi-bin/hgTracks?db=dm3&position=chr3L:21567114-21567221' WHERE `loq_interval`.`id` = 131 ; args=(u'chr3L', 21567113, 21567221, u'dme-mir-193', u'chr3L:21567114-21567221', 108, 131, u'....(((.(((((((((.(((((((((..(((...((((.....)))).....((((..................)))))))..)))))))))))))))))).)))..', u'', u'', 82, 39.3743, '+', u'http://genome.cbis.nus.edu.sg/cgi-bin/hgTracks?db=dm3&position=chr3L:21567114-21567221', 131)\n"
       ]
      },
      {
       "output_type": "stream",
       "stream": "stdout",
       "text": [
        "\n",
        "dme-mir-316-\n"
       ]
      },
      {
       "output_type": "stream",
       "stream": "stderr",
       "text": [
        "DEBUG:django.db.backends:(0.001) SELECT `loq_interval`.`id`, `loq_interval`.`chr`, `loq_interval`.`start`, `loq_interval`.`stop`, `loq_interval`.`mirName`, `loq_interval`.`NeatName`, `loq_interval`.`IntervalSize`, `loq_interval`.`IntervalSerialNumber`, `loq_interval`.`Structure`, `loq_interval`.`Annotations`, `loq_interval`.`Tags`, `loq_interval`.`all_reads_mapped`, `loq_interval`.`sum_normReads`, `loq_interval`.`mapped_strand`, `loq_interval`.`Link` FROM `loq_interval` WHERE `loq_interval`.`mirName` = 'dme-mir-316' ; args=('dme-mir-316',)\n"
       ]
      },
      {
       "output_type": "stream",
       "stream": "stderr",
       "text": [
        "DEBUG:django.db.backends:(0.000) SELECT (1) AS `a` FROM `loq_interval` WHERE `loq_interval`.`id` = 132  LIMIT 1; args=(132,)\n"
       ]
      },
      {
       "output_type": "stream",
       "stream": "stderr",
       "text": [
        "DEBUG:django.db.backends:(0.000) UPDATE `loq_interval` SET `chr` = 'chr3L', `start` = 21661813, `stop` = 21661902, `mirName` = 'dme-mir-316', `NeatName` = 'chr3L:21661814-21661902', `IntervalSize` = 89, `IntervalSerialNumber` = 132, `Structure` = '.(((((((((.(((.(((((((((((.(((.(((.((((..........)))).)))..)))))))))))))).))).)))).))))).', `Annotations` = '', `Tags` = '', `all_reads_mapped` = 20, `sum_normReads` = 3.002, `mapped_strand` = '-', `Link` = 'http://genome.cbis.nus.edu.sg/cgi-bin/hgTracks?db=dm3&position=chr3L:21661814-21661902' WHERE `loq_interval`.`id` = 132 ; args=(u'chr3L', 21661813, 21661902, u'dme-mir-316', u'chr3L:21661814-21661902', 89, 132, u'.(((((((((.(((.(((((((((((.(((.(((.((((..........)))).)))..)))))))))))))).))).)))).))))).', u'', u'', 20, 3.002, '-', u'http://genome.cbis.nus.edu.sg/cgi-bin/hgTracks?db=dm3&position=chr3L:21661814-21661902', 132)\n"
       ]
      },
      {
       "output_type": "stream",
       "stream": "stdout",
       "text": [
        "\n",
        "dme-mir-957-\n"
       ]
      },
      {
       "output_type": "stream",
       "stream": "stderr",
       "text": [
        "DEBUG:django.db.backends:(0.001) SELECT `loq_interval`.`id`, `loq_interval`.`chr`, `loq_interval`.`start`, `loq_interval`.`stop`, `loq_interval`.`mirName`, `loq_interval`.`NeatName`, `loq_interval`.`IntervalSize`, `loq_interval`.`IntervalSerialNumber`, `loq_interval`.`Structure`, `loq_interval`.`Annotations`, `loq_interval`.`Tags`, `loq_interval`.`all_reads_mapped`, `loq_interval`.`sum_normReads`, `loq_interval`.`mapped_strand`, `loq_interval`.`Link` FROM `loq_interval` WHERE `loq_interval`.`mirName` = 'dme-mir-957' ; args=('dme-mir-957',)\n"
       ]
      },
      {
       "output_type": "stream",
       "stream": "stderr",
       "text": [
        "DEBUG:django.db.backends:(0.000) SELECT (1) AS `a` FROM `loq_interval` WHERE `loq_interval`.`id` = 133  LIMIT 1; args=(133,)\n"
       ]
      },
      {
       "output_type": "stream",
       "stream": "stderr",
       "text": [
        "DEBUG:django.db.backends:(0.001) UPDATE `loq_interval` SET `chr` = 'chr3L', `start` = 22511295, `stop` = 22511391, `mirName` = 'dme-mir-957', `NeatName` = 'chr3L:22511296-22511391', `IntervalSize` = 96, `IntervalSerialNumber` = 133, `Structure` = '.(((((((...(.((((((((((.((((.(((((((.....(.((((......)))).)))))))))))).)))))))))).)...)))).)))..', `Annotations` = '', `Tags` = '', `all_reads_mapped` = 2, `sum_normReads` = 0.317, `mapped_strand` = '-', `Link` = 'http://genome.cbis.nus.edu.sg/cgi-bin/hgTracks?db=dm3&position=chr3L:22511296-22511391' WHERE `loq_interval`.`id` = 133 ; args=(u'chr3L', 22511295, 22511391, u'dme-mir-957', u'chr3L:22511296-22511391', 96, 133, u'.(((((((...(.((((((((((.((((.(((((((.....(.((((......)))).)))))))))))).)))))))))).)...)))).)))..', u'', u'', 2, 0.317, '-', u'http://genome.cbis.nus.edu.sg/cgi-bin/hgTracks?db=dm3&position=chr3L:22511296-22511391', 133)\n"
       ]
      },
      {
       "output_type": "stream",
       "stream": "stdout",
       "text": [
        "\n",
        "dme-mir-958-\n"
       ]
      },
      {
       "output_type": "stream",
       "stream": "stderr",
       "text": [
        "DEBUG:django.db.backends:(0.001) SELECT `loq_interval`.`id`, `loq_interval`.`chr`, `loq_interval`.`start`, `loq_interval`.`stop`, `loq_interval`.`mirName`, `loq_interval`.`NeatName`, `loq_interval`.`IntervalSize`, `loq_interval`.`IntervalSerialNumber`, `loq_interval`.`Structure`, `loq_interval`.`Annotations`, `loq_interval`.`Tags`, `loq_interval`.`all_reads_mapped`, `loq_interval`.`sum_normReads`, `loq_interval`.`mapped_strand`, `loq_interval`.`Link` FROM `loq_interval` WHERE `loq_interval`.`mirName` = 'dme-mir-958' ; args=('dme-mir-958',)\n"
       ]
      },
      {
       "output_type": "stream",
       "stream": "stderr",
       "text": [
        "DEBUG:django.db.backends:(0.000) SELECT (1) AS `a` FROM `loq_interval` WHERE `loq_interval`.`id` = 134  LIMIT 1; args=(134,)\n"
       ]
      },
      {
       "output_type": "stream",
       "stream": "stderr",
       "text": [
        "DEBUG:django.db.backends:(0.001) UPDATE `loq_interval` SET `chr` = 'chr3L', `start` = 22662388, `stop` = 22662480, `mirName` = 'dme-mir-958', `NeatName` = 'chr3L:22662389-22662480', `IntervalSize` = 92, `IntervalSerialNumber` = 134, `Structure` = '((.((((...(((.(((((((((((.(((....(((((.((............)))))))....)))))))))))))))))...))))))..', `Annotations` = '', `Tags` = '', `all_reads_mapped` = 11, `sum_normReads` = 5.7849, `mapped_strand` = '-', `Link` = 'http://genome.cbis.nus.edu.sg/cgi-bin/hgTracks?db=dm3&position=chr3L:22662389-22662480' WHERE `loq_interval`.`id` = 134 ; args=(u'chr3L', 22662388, 22662480, u'dme-mir-958', u'chr3L:22662389-22662480', 92, 134, u'((.((((...(((.(((((((((((.(((....(((((.((............)))))))....)))))))))))))))))...))))))..', u'', u'', 11, 5.7849, '-', u'http://genome.cbis.nus.edu.sg/cgi-bin/hgTracks?db=dm3&position=chr3L:22662389-22662480', 134)\n"
       ]
      },
      {
       "output_type": "stream",
       "stream": "stdout",
       "text": [
        "\n",
        "dme-mir-4942+\n"
       ]
      },
      {
       "output_type": "stream",
       "stream": "stderr",
       "text": [
        "DEBUG:django.db.backends:(0.001) SELECT `loq_interval`.`id`, `loq_interval`.`chr`, `loq_interval`.`start`, `loq_interval`.`stop`, `loq_interval`.`mirName`, `loq_interval`.`NeatName`, `loq_interval`.`IntervalSize`, `loq_interval`.`IntervalSerialNumber`, `loq_interval`.`Structure`, `loq_interval`.`Annotations`, `loq_interval`.`Tags`, `loq_interval`.`all_reads_mapped`, `loq_interval`.`sum_normReads`, `loq_interval`.`mapped_strand`, `loq_interval`.`Link` FROM `loq_interval` WHERE `loq_interval`.`mirName` = 'dme-mir-4942' ; args=('dme-mir-4942',)\n"
       ]
      },
      {
       "output_type": "stream",
       "stream": "stderr",
       "text": [
        "DEBUG:django.db.backends:(0.000) SELECT (1) AS `a` FROM `loq_interval` WHERE `loq_interval`.`id` = 135  LIMIT 1; args=(135,)\n"
       ]
      },
      {
       "output_type": "stream",
       "stream": "stderr",
       "text": [
        "DEBUG:django.db.backends:(0.001) UPDATE `loq_interval` SET `chr` = 'chr3L', `start` = 23332327, `stop` = 23332437, `mirName` = 'dme-mir-4942', `NeatName` = 'chr3L:23332328-23332437', `IntervalSize` = 110, `IntervalSerialNumber` = 135, `Structure` = '.......(((((((((..((((((((((((((((.(((((((.((((((((...)))))))).)))).))).))))))).))))).......))))...))))))).)).', `Annotations` = '', `Tags` = '', `all_reads_mapped` = 10, `sum_normReads` = 1.5418, `mapped_strand` = '+', `Link` = 'http://genome.cbis.nus.edu.sg/cgi-bin/hgTracks?db=dm3&position=chr3L:23332328-23332437' WHERE `loq_interval`.`id` = 135 ; args=(u'chr3L', 23332327, 23332437, u'dme-mir-4942', u'chr3L:23332328-23332437', 110, 135, u'.......(((((((((..((((((((((((((((.(((((((.((((((((...)))))))).)))).))).))))))).))))).......))))...))))))).)).', u'', u'', 10, 1.5418, '+', u'http://genome.cbis.nus.edu.sg/cgi-bin/hgTracks?db=dm3&position=chr3L:23332328-23332437', 135)\n"
       ]
      },
      {
       "output_type": "stream",
       "stream": "stdout",
       "text": [
        "\n",
        "dme-mir-929+\n"
       ]
      },
      {
       "output_type": "stream",
       "stream": "stderr",
       "text": [
        "DEBUG:django.db.backends:(0.001) SELECT `loq_interval`.`id`, `loq_interval`.`chr`, `loq_interval`.`start`, `loq_interval`.`stop`, `loq_interval`.`mirName`, `loq_interval`.`NeatName`, `loq_interval`.`IntervalSize`, `loq_interval`.`IntervalSerialNumber`, `loq_interval`.`Structure`, `loq_interval`.`Annotations`, `loq_interval`.`Tags`, `loq_interval`.`all_reads_mapped`, `loq_interval`.`sum_normReads`, `loq_interval`.`mapped_strand`, `loq_interval`.`Link` FROM `loq_interval` WHERE `loq_interval`.`mirName` = 'dme-mir-929' ; args=('dme-mir-929',)\n"
       ]
      },
      {
       "output_type": "stream",
       "stream": "stderr",
       "text": [
        "DEBUG:django.db.backends:(0.000) SELECT (1) AS `a` FROM `loq_interval` WHERE `loq_interval`.`id` = 136  LIMIT 1; args=(136,)\n"
       ]
      },
      {
       "output_type": "stream",
       "stream": "stderr",
       "text": [
        "DEBUG:django.db.backends:(0.000) UPDATE `loq_interval` SET `chr` = 'chr3R', `start` = 121090, `stop` = 121178, `mirName` = 'dme-mir-929', `NeatName` = 'chr3R:121091-121178', `IntervalSize` = 88, `IntervalSerialNumber` = 136, `Structure` = '..((((..((.(((((((.((((((((..((((((((((((....))).)))))))))..)))))))).))))))).)).))))....', `Annotations` = '', `Tags` = '', `all_reads_mapped` = 14, `sum_normReads` = 4.7704, `mapped_strand` = '+', `Link` = 'http://genome.cbis.nus.edu.sg/cgi-bin/hgTracks?db=dm3&position=chr3R:121091-121178' WHERE `loq_interval`.`id` = 136 ; args=(u'chr3R', 121090, 121178, u'dme-mir-929', u'chr3R:121091-121178', 88, 136, u'..((((..((.(((((((.((((((((..((((((((((((....))).)))))))))..)))))))).))))))).)).))))....', u'', u'', 14, 4.7704, '+', u'http://genome.cbis.nus.edu.sg/cgi-bin/hgTracks?db=dm3&position=chr3R:121091-121178', 136)\n"
       ]
      },
      {
       "output_type": "stream",
       "stream": "stdout",
       "text": [
        "\n",
        "dme-mir-993+\n"
       ]
      },
      {
       "output_type": "stream",
       "stream": "stderr",
       "text": [
        "DEBUG:django.db.backends:(0.001) SELECT `loq_interval`.`id`, `loq_interval`.`chr`, `loq_interval`.`start`, `loq_interval`.`stop`, `loq_interval`.`mirName`, `loq_interval`.`NeatName`, `loq_interval`.`IntervalSize`, `loq_interval`.`IntervalSerialNumber`, `loq_interval`.`Structure`, `loq_interval`.`Annotations`, `loq_interval`.`Tags`, `loq_interval`.`all_reads_mapped`, `loq_interval`.`sum_normReads`, `loq_interval`.`mapped_strand`, `loq_interval`.`Link` FROM `loq_interval` WHERE `loq_interval`.`mirName` = 'dme-mir-993' ; args=('dme-mir-993',)\n"
       ]
      },
      {
       "output_type": "stream",
       "stream": "stderr",
       "text": [
        "DEBUG:django.db.backends:(0.001) SELECT (1) AS `a` FROM `loq_interval` WHERE `loq_interval`.`id` = 137  LIMIT 1; args=(137,)\n"
       ]
      },
      {
       "output_type": "stream",
       "stream": "stderr",
       "text": [
        "DEBUG:django.db.backends:(0.001) UPDATE `loq_interval` SET `chr` = 'chr3R', `start` = 2602054, `stop` = 2602173, `mirName` = 'dme-mir-993', `NeatName` = 'chr3R:2602055-2602173', `IntervalSize` = 119, `IntervalSerialNumber` = 137, `Structure` = '....(((((((((..((((.(((((...((((((((((......((((((((((((...)))))))).))))..........))))))))))...)))))))))..)))).))).))..', `Annotations` = '', `Tags` = '', `all_reads_mapped` = 13, `sum_normReads` = 1.3386, `mapped_strand` = '+', `Link` = 'http://genome.cbis.nus.edu.sg/cgi-bin/hgTracks?db=dm3&position=chr3R:2602055-2602173' WHERE `loq_interval`.`id` = 137 ; args=(u'chr3R', 2602054, 2602173, u'dme-mir-993', u'chr3R:2602055-2602173', 119, 137, u'....(((((((((..((((.(((((...((((((((((......((((((((((((...)))))))).))))..........))))))))))...)))))))))..)))).))).))..', u'', u'', 13, 1.3386, '+', u'http://genome.cbis.nus.edu.sg/cgi-bin/hgTracks?db=dm3&position=chr3R:2602055-2602173', 137)\n"
       ]
      },
      {
       "output_type": "stream",
       "stream": "stdout",
       "text": [
        "\n",
        "dme-mir-10-\n"
       ]
      },
      {
       "output_type": "stream",
       "stream": "stderr",
       "text": [
        "DEBUG:django.db.backends:(0.001) SELECT `loq_interval`.`id`, `loq_interval`.`chr`, `loq_interval`.`start`, `loq_interval`.`stop`, `loq_interval`.`mirName`, `loq_interval`.`NeatName`, `loq_interval`.`IntervalSize`, `loq_interval`.`IntervalSerialNumber`, `loq_interval`.`Structure`, `loq_interval`.`Annotations`, `loq_interval`.`Tags`, `loq_interval`.`all_reads_mapped`, `loq_interval`.`sum_normReads`, `loq_interval`.`mapped_strand`, `loq_interval`.`Link` FROM `loq_interval` WHERE `loq_interval`.`mirName` = 'dme-mir-10' ; args=('dme-mir-10',)\n"
       ]
      },
      {
       "output_type": "stream",
       "stream": "stderr",
       "text": [
        "DEBUG:django.db.backends:(0.000) SELECT (1) AS `a` FROM `loq_interval` WHERE `loq_interval`.`id` = 138  LIMIT 1; args=(138,)\n"
       ]
      },
      {
       "output_type": "stream",
       "stream": "stderr",
       "text": [
        "DEBUG:django.db.backends:(0.001) UPDATE `loq_interval` SET `chr` = 'chr3R', `start` = 2635227, `stop` = 2635304, `mirName` = 'dme-mir-10', `NeatName` = 'chr3R:2635228-2635304', `IntervalSize` = 77, `IntervalSerialNumber` = 138, `Structure` = '(((((...(((((.((((.(((((((((((((............))))))))))))).)))).)).)))...)))))', `Annotations` = '', `Tags` = '', `all_reads_mapped` = 190, `sum_normReads` = 3540.1035, `mapped_strand` = '-', `Link` = 'http://genome.cbis.nus.edu.sg/cgi-bin/hgTracks?db=dm3&position=chr3R:2635228-2635304' WHERE `loq_interval`.`id` = 138 ; args=(u'chr3R', 2635227, 2635304, u'dme-mir-10', u'chr3R:2635228-2635304', 77, 138, u'(((((...(((((.((((.(((((((((((((............))))))))))))).)))).)).)))...)))))', u'', u'', 190, 3540.1035, '-', u'http://genome.cbis.nus.edu.sg/cgi-bin/hgTracks?db=dm3&position=chr3R:2635228-2635304', 138)\n"
       ]
      },
      {
       "output_type": "stream",
       "stream": "stdout",
       "text": [
        "\n",
        "dme-mir-4950+\n"
       ]
      },
      {
       "output_type": "stream",
       "stream": "stderr",
       "text": [
        "DEBUG:django.db.backends:(0.001) SELECT `loq_interval`.`id`, `loq_interval`.`chr`, `loq_interval`.`start`, `loq_interval`.`stop`, `loq_interval`.`mirName`, `loq_interval`.`NeatName`, `loq_interval`.`IntervalSize`, `loq_interval`.`IntervalSerialNumber`, `loq_interval`.`Structure`, `loq_interval`.`Annotations`, `loq_interval`.`Tags`, `loq_interval`.`all_reads_mapped`, `loq_interval`.`sum_normReads`, `loq_interval`.`mapped_strand`, `loq_interval`.`Link` FROM `loq_interval` WHERE `loq_interval`.`mirName` = 'dme-mir-4950' ; args=('dme-mir-4950',)\n"
       ]
      },
      {
       "output_type": "stream",
       "stream": "stderr",
       "text": [
        "DEBUG:django.db.backends:(0.000) SELECT (1) AS `a` FROM `loq_interval` WHERE `loq_interval`.`id` = 139  LIMIT 1; args=(139,)\n"
       ]
      },
      {
       "output_type": "stream",
       "stream": "stderr",
       "text": [
        "DEBUG:django.db.backends:(0.001) UPDATE `loq_interval` SET `chr` = 'chr3R', `start` = 3277173, `stop` = 3277265, `mirName` = 'dme-mir-4950', `NeatName` = 'chr3R:3277174-3277265', `IntervalSize` = 92, `IntervalSerialNumber` = 139, `Structure` = '...((((((.((((((.(((.(((((.((((.((((((.(((.....))).)))))).)))).)))))..))))))))).)))...)))...', `Annotations` = '', `Tags` = '', `all_reads_mapped` = 48, `sum_normReads` = 18.1253, `mapped_strand` = '+', `Link` = 'http://genome.cbis.nus.edu.sg/cgi-bin/hgTracks?db=dm3&position=chr3R:3277174-3277265' WHERE `loq_interval`.`id` = 139 ; args=(u'chr3R', 3277173, 3277265, u'dme-mir-4950', u'chr3R:3277174-3277265', 92, 139, u'...((((((.((((((.(((.(((((.((((.((((((.(((.....))).)))))).)))).)))))..))))))))).)))...)))...', u'', u'', 48, 18.1253, '+', u'http://genome.cbis.nus.edu.sg/cgi-bin/hgTracks?db=dm3&position=chr3R:3277174-3277265', 139)\n"
       ]
      },
      {
       "output_type": "stream",
       "stream": "stdout",
       "text": [
        "\n",
        "dme-mir-4918-\n"
       ]
      },
      {
       "output_type": "stream",
       "stream": "stderr",
       "text": [
        "DEBUG:django.db.backends:(0.001) SELECT `loq_interval`.`id`, `loq_interval`.`chr`, `loq_interval`.`start`, `loq_interval`.`stop`, `loq_interval`.`mirName`, `loq_interval`.`NeatName`, `loq_interval`.`IntervalSize`, `loq_interval`.`IntervalSerialNumber`, `loq_interval`.`Structure`, `loq_interval`.`Annotations`, `loq_interval`.`Tags`, `loq_interval`.`all_reads_mapped`, `loq_interval`.`sum_normReads`, `loq_interval`.`mapped_strand`, `loq_interval`.`Link` FROM `loq_interval` WHERE `loq_interval`.`mirName` = 'dme-mir-4918' ; args=('dme-mir-4918',)\n"
       ]
      },
      {
       "output_type": "stream",
       "stream": "stderr",
       "text": [
        "DEBUG:django.db.backends:(0.000) SELECT (1) AS `a` FROM `loq_interval` WHERE `loq_interval`.`id` = 140  LIMIT 1; args=(140,)\n"
       ]
      },
      {
       "output_type": "stream",
       "stream": "stderr",
       "text": [
        "DEBUG:django.db.backends:(0.001) UPDATE `loq_interval` SET `chr` = 'chr3R', `start` = 4134152, `stop` = 4134207, `mirName` = 'dme-mir-4918', `NeatName` = 'chr3R:4134153-4134207', `IntervalSize` = 55, `IntervalSerialNumber` = 140, `Structure` = '(((.(((....(((...(((((((((....)))))))))....)))))).)))..', `Annotations` = '', `Tags` = '', `all_reads_mapped` = 5, `sum_normReads` = 0.5209, `mapped_strand` = '-', `Link` = 'http://genome.cbis.nus.edu.sg/cgi-bin/hgTracks?db=dm3&position=chr3R:4134153-4134207' WHERE `loq_interval`.`id` = 140 ; args=(u'chr3R', 4134152, 4134207, u'dme-mir-4918', u'chr3R:4134153-4134207', 55, 140, u'(((.(((....(((...(((((((((....)))))))))....)))))).)))..', u'', u'', 5, 0.5209, '-', u'http://genome.cbis.nus.edu.sg/cgi-bin/hgTracks?db=dm3&position=chr3R:4134153-4134207', 140)\n"
       ]
      },
      {
       "output_type": "stream",
       "stream": "stdout",
       "text": [
        "\n",
        "dme-mir-2283+\n"
       ]
      },
      {
       "output_type": "stream",
       "stream": "stderr",
       "text": [
        "DEBUG:django.db.backends:(0.001) SELECT `loq_interval`.`id`, `loq_interval`.`chr`, `loq_interval`.`start`, `loq_interval`.`stop`, `loq_interval`.`mirName`, `loq_interval`.`NeatName`, `loq_interval`.`IntervalSize`, `loq_interval`.`IntervalSerialNumber`, `loq_interval`.`Structure`, `loq_interval`.`Annotations`, `loq_interval`.`Tags`, `loq_interval`.`all_reads_mapped`, `loq_interval`.`sum_normReads`, `loq_interval`.`mapped_strand`, `loq_interval`.`Link` FROM `loq_interval` WHERE `loq_interval`.`mirName` = 'dme-mir-2283' ; args=('dme-mir-2283',)\n"
       ]
      },
      {
       "output_type": "stream",
       "stream": "stderr",
       "text": [
        "DEBUG:django.db.backends:(0.000) SELECT (1) AS `a` FROM `loq_interval` WHERE `loq_interval`.`id` = 141  LIMIT 1; args=(141,)\n"
       ]
      },
      {
       "output_type": "stream",
       "stream": "stderr",
       "text": [
        "DEBUG:django.db.backends:(0.000) UPDATE `loq_interval` SET `chr` = 'chr3R', `start` = 5343245, `stop` = 5343321, `mirName` = 'dme-mir-2283', `NeatName` = 'chr3R:5343246-5343321', `IntervalSize` = 76, `IntervalSerialNumber` = 141, `Structure` = '(((((((((.(((((((((((.((((...(((.(((....))).)))..)))).))))))))))).))))))))).', `Annotations` = '', `Tags` = '', `all_reads_mapped` = 0, `sum_normReads` = NULL, `mapped_strand` = '+', `Link` = 'http://genome.cbis.nus.edu.sg/cgi-bin/hgTracks?db=dm3&position=chr3R:5343246-5343321' WHERE `loq_interval`.`id` = 141 ; args=(u'chr3R', 5343245, 5343321, u'dme-mir-2283', u'chr3R:5343246-5343321', 76, 141, u'(((((((((.(((((((((((.((((...(((.(((....))).)))..)))).))))))))))).))))))))).', u'', u'', 0, '+', u'http://genome.cbis.nus.edu.sg/cgi-bin/hgTracks?db=dm3&position=chr3R:5343246-5343321', 141)\n"
       ]
      },
      {
       "output_type": "stream",
       "stream": "stdout",
       "text": [
        "\n",
        "dme-mir-317+\n"
       ]
      },
      {
       "output_type": "stream",
       "stream": "stderr",
       "text": [
        "DEBUG:django.db.backends:(0.001) SELECT `loq_interval`.`id`, `loq_interval`.`chr`, `loq_interval`.`start`, `loq_interval`.`stop`, `loq_interval`.`mirName`, `loq_interval`.`NeatName`, `loq_interval`.`IntervalSize`, `loq_interval`.`IntervalSerialNumber`, `loq_interval`.`Structure`, `loq_interval`.`Annotations`, `loq_interval`.`Tags`, `loq_interval`.`all_reads_mapped`, `loq_interval`.`sum_normReads`, `loq_interval`.`mapped_strand`, `loq_interval`.`Link` FROM `loq_interval` WHERE `loq_interval`.`mirName` = 'dme-mir-317' ; args=('dme-mir-317',)\n"
       ]
      },
      {
       "output_type": "stream",
       "stream": "stderr",
       "text": [
        "DEBUG:django.db.backends:(0.000) SELECT (1) AS `a` FROM `loq_interval` WHERE `loq_interval`.`id` = 142  LIMIT 1; args=(142,)\n"
       ]
      },
      {
       "output_type": "stream",
       "stream": "stderr",
       "text": [
        "DEBUG:django.db.backends:(0.001) UPDATE `loq_interval` SET `chr` = 'chr3R', `start` = 5916847, `stop` = 5916939, `mirName` = 'dme-mir-317', `NeatName` = 'chr3R:5916848-5916939', `IntervalSize` = 92, `IntervalSerialNumber` = 142, `Structure` = '(((((((.(((((((((...(((((((((.((((((.(..((.....))..))))))).)))))..))))...))))))))).)))..))))', `Annotations` = '', `Tags` = '', `all_reads_mapped` = 412, `sum_normReads` = 211143.7383, `mapped_strand` = '+', `Link` = 'http://genome.cbis.nus.edu.sg/cgi-bin/hgTracks?db=dm3&position=chr3R:5916848-5916939' WHERE `loq_interval`.`id` = 142 ; args=(u'chr3R', 5916847, 5916939, u'dme-mir-317', u'chr3R:5916848-5916939', 92, 142, u'(((((((.(((((((((...(((((((((.((((((.(..((.....))..))))))).)))))..))))...))))))))).)))..))))', u'', u'', 412, 211143.7383, '+', u'http://genome.cbis.nus.edu.sg/cgi-bin/hgTracks?db=dm3&position=chr3R:5916848-5916939', 142)\n"
       ]
      },
      {
       "output_type": "stream",
       "stream": "stdout",
       "text": [
        "\n",
        "dme-mir-277+\n"
       ]
      },
      {
       "output_type": "stream",
       "stream": "stderr",
       "text": [
        "DEBUG:django.db.backends:(0.001) SELECT `loq_interval`.`id`, `loq_interval`.`chr`, `loq_interval`.`start`, `loq_interval`.`stop`, `loq_interval`.`mirName`, `loq_interval`.`NeatName`, `loq_interval`.`IntervalSize`, `loq_interval`.`IntervalSerialNumber`, `loq_interval`.`Structure`, `loq_interval`.`Annotations`, `loq_interval`.`Tags`, `loq_interval`.`all_reads_mapped`, `loq_interval`.`sum_normReads`, `loq_interval`.`mapped_strand`, `loq_interval`.`Link` FROM `loq_interval` WHERE `loq_interval`.`mirName` = 'dme-mir-277' ; args=('dme-mir-277',)\n"
       ]
      },
      {
       "output_type": "stream",
       "stream": "stderr",
       "text": [
        "DEBUG:django.db.backends:(0.000) SELECT (1) AS `a` FROM `loq_interval` WHERE `loq_interval`.`id` = 143  LIMIT 1; args=(143,)\n"
       ]
      },
      {
       "output_type": "stream",
       "stream": "stderr",
       "text": [
        "DEBUG:django.db.backends:(0.001) UPDATE `loq_interval` SET `chr` = 'chr3R', `start` = 5925743, `stop` = 5925843, `mirName` = 'dme-mir-277', `NeatName` = 'chr3R:5925744-5925843', `IntervalSize` = 100, `IntervalSerialNumber` = 143, `Structure` = '(((.(.((((((((.(((((((((((((((((((((((.((...(.....)...)))))))))))))).))))))))).)).)))))))).).)))....', `Annotations` = '', `Tags` = '', `all_reads_mapped` = 211, `sum_normReads` = 16571.2402, `mapped_strand` = '+', `Link` = 'http://genome.cbis.nus.edu.sg/cgi-bin/hgTracks?db=dm3&position=chr3R:5925744-5925843' WHERE `loq_interval`.`id` = 143 ; args=(u'chr3R', 5925743, 5925843, u'dme-mir-277', u'chr3R:5925744-5925843', 100, 143, u'(((.(.((((((((.(((((((((((((((((((((((.((...(.....)...)))))))))))))).))))))))).)).)))))))).).)))....', u'', u'', 211, 16571.2402, '+', u'http://genome.cbis.nus.edu.sg/cgi-bin/hgTracks?db=dm3&position=chr3R:5925744-5925843', 143)\n"
       ]
      },
      {
       "output_type": "stream",
       "stream": "stdout",
       "text": [
        "\n",
        "dme-mir-34+\n"
       ]
      },
      {
       "output_type": "stream",
       "stream": "stderr",
       "text": [
        "DEBUG:django.db.backends:(0.001) SELECT `loq_interval`.`id`, `loq_interval`.`chr`, `loq_interval`.`start`, `loq_interval`.`stop`, `loq_interval`.`mirName`, `loq_interval`.`NeatName`, `loq_interval`.`IntervalSize`, `loq_interval`.`IntervalSerialNumber`, `loq_interval`.`Structure`, `loq_interval`.`Annotations`, `loq_interval`.`Tags`, `loq_interval`.`all_reads_mapped`, `loq_interval`.`sum_normReads`, `loq_interval`.`mapped_strand`, `loq_interval`.`Link` FROM `loq_interval` WHERE `loq_interval`.`mirName` = 'dme-mir-34' ; args=('dme-mir-34',)\n"
       ]
      },
      {
       "output_type": "stream",
       "stream": "stderr",
       "text": [
        "DEBUG:django.db.backends:(0.000) SELECT (1) AS `a` FROM `loq_interval` WHERE `loq_interval`.`id` = 144  LIMIT 1; args=(144,)\n"
       ]
      },
      {
       "output_type": "stream",
       "stream": "stderr",
       "text": [
        "DEBUG:django.db.backends:(0.001) UPDATE `loq_interval` SET `chr` = 'chr3R', `start` = 5926657, `stop` = 5926756, `mirName` = 'dme-mir-34', `NeatName` = 'chr3R:5926658-5926756', `IntervalSize` = 99, `IntervalSerialNumber` = 144, `Structure` = '.....(((.(((((..((((((((.((.(((.((((((((..(.((((.......)))).)....))))))))))).)).))))))))..))).)))))', `Annotations` = '', `Tags` = '', `all_reads_mapped` = 584, `sum_normReads` = 158306.508999999, `mapped_strand` = '+', `Link` = 'http://genome.cbis.nus.edu.sg/cgi-bin/hgTracks?db=dm3&position=chr3R:5926658-5926756' WHERE `loq_interval`.`id` = 144 ; args=(u'chr3R', 5926657, 5926756, u'dme-mir-34', u'chr3R:5926658-5926756', 99, 144, u'.....(((.(((((..((((((((.((.(((.((((((((..(.((((.......)))).)....))))))))))).)).))))))))..))).)))))', u'', u'', 584, 158306.508999999, '+', u'http://genome.cbis.nus.edu.sg/cgi-bin/hgTracks?db=dm3&position=chr3R:5926658-5926756', 144)\n"
       ]
      },
      {
       "output_type": "stream",
       "stream": "stdout",
       "text": [
        "\n",
        "dme-mir-994+\n"
       ]
      },
      {
       "output_type": "stream",
       "stream": "stderr",
       "text": [
        "DEBUG:django.db.backends:(0.001) SELECT `loq_interval`.`id`, `loq_interval`.`chr`, `loq_interval`.`start`, `loq_interval`.`stop`, `loq_interval`.`mirName`, `loq_interval`.`NeatName`, `loq_interval`.`IntervalSize`, `loq_interval`.`IntervalSerialNumber`, `loq_interval`.`Structure`, `loq_interval`.`Annotations`, `loq_interval`.`Tags`, `loq_interval`.`all_reads_mapped`, `loq_interval`.`sum_normReads`, `loq_interval`.`mapped_strand`, `loq_interval`.`Link` FROM `loq_interval` WHERE `loq_interval`.`mirName` = 'dme-mir-994' ; args=('dme-mir-994',)\n"
       ]
      },
      {
       "output_type": "stream",
       "stream": "stderr",
       "text": [
        "DEBUG:django.db.backends:(0.000) SELECT (1) AS `a` FROM `loq_interval` WHERE `loq_interval`.`id` = 145  LIMIT 1; args=(145,)\n"
       ]
      },
      {
       "output_type": "stream",
       "stream": "stderr",
       "text": [
        "DEBUG:django.db.backends:(0.001) UPDATE `loq_interval` SET `chr` = 'chr3R', `start` = 6233858, `stop` = 6233949, `mirName` = 'dme-mir-994', `NeatName` = 'chr3R:6233859-6233949', `IntervalSize` = 91, `IntervalSerialNumber` = 145, `Structure` = '....(((((((((((((((((((((((.(((((......................))))).))))))))))).))))))))))))......', `Annotations` = '', `Tags` = '', `all_reads_mapped` = 32, `sum_normReads` = 7.856, `mapped_strand` = '+', `Link` = 'http://genome.cbis.nus.edu.sg/cgi-bin/hgTracks?db=dm3&position=chr3R:6233859-6233949' WHERE `loq_interval`.`id` = 145 ; args=(u'chr3R', 6233858, 6233949, u'dme-mir-994', u'chr3R:6233859-6233949', 91, 145, u'....(((((((((((((((((((((((.(((((......................))))).))))))))))).))))))))))))......', u'', u'', 32, 7.856, '+', u'http://genome.cbis.nus.edu.sg/cgi-bin/hgTracks?db=dm3&position=chr3R:6233859-6233949', 145)\n"
       ]
      },
      {
       "output_type": "stream",
       "stream": "stderr",
       "text": [
        "DEBUG:django.db.backends:(0.001) SELECT `loq_interval`.`id`, `loq_interval`.`chr`, `loq_interval`.`start`, `loq_interval`.`stop`, `loq_interval`.`mirName`, `loq_interval`.`NeatName`, `loq_interval`.`IntervalSize`, `loq_interval`.`IntervalSerialNumber`, `loq_interval`.`Structure`, `loq_interval`.`Annotations`, `loq_interval`.`Tags`, `loq_interval`.`all_reads_mapped`, `loq_interval`.`sum_normReads`, `loq_interval`.`mapped_strand`, `loq_interval`.`Link` FROM `loq_interval` WHERE `loq_interval`.`mirName` = 'dme-mir-318' ; args=('dme-mir-318',)\n"
       ]
      },
      {
       "output_type": "stream",
       "stream": "stderr",
       "text": [
        "DEBUG:django.db.backends:(0.000) SELECT (1) AS `a` FROM `loq_interval` WHERE `loq_interval`.`id` = 146  LIMIT 1; args=(146,)\n"
       ]
      },
      {
       "output_type": "stream",
       "stream": "stderr",
       "text": [
        "DEBUG:django.db.backends:(0.000) UPDATE `loq_interval` SET `chr` = 'chr3R', `start` = 6234023, `stop` = 6234091, `mirName` = 'dme-mir-318', `NeatName` = 'chr3R:6234024-6234091', `IntervalSize` = 68, `IntervalSerialNumber` = 146, `Structure` = '.((((((((((.(((.((((((((..(((..........)))..)))))))).))).)))))))))).', `Annotations` = '', `Tags` = '', `all_reads_mapped` = 22, `sum_normReads` = 19.2044, `mapped_strand` = '+', `Link` = 'http://genome.cbis.nus.edu.sg/cgi-bin/hgTracks?db=dm3&position=chr3R:6234024-6234091' WHERE `loq_interval`.`id` = 146 ; args=(u'chr3R', 6234023, 6234091, u'dme-mir-318', u'chr3R:6234024-6234091', 68, 146, u'.((((((((((.(((.((((((((..(((..........)))..)))))))).))).)))))))))).', u'', u'', 22, 19.2044, '+', u'http://genome.cbis.nus.edu.sg/cgi-bin/hgTracks?db=dm3&position=chr3R:6234024-6234091', 146)\n"
       ]
      },
      {
       "output_type": "stream",
       "stream": "stdout",
       "text": [
        "\n",
        "dme-mir-318+\n",
        "\n",
        "dme-mir-4944-\n"
       ]
      },
      {
       "output_type": "stream",
       "stream": "stderr",
       "text": [
        "DEBUG:django.db.backends:(0.002) SELECT `loq_interval`.`id`, `loq_interval`.`chr`, `loq_interval`.`start`, `loq_interval`.`stop`, `loq_interval`.`mirName`, `loq_interval`.`NeatName`, `loq_interval`.`IntervalSize`, `loq_interval`.`IntervalSerialNumber`, `loq_interval`.`Structure`, `loq_interval`.`Annotations`, `loq_interval`.`Tags`, `loq_interval`.`all_reads_mapped`, `loq_interval`.`sum_normReads`, `loq_interval`.`mapped_strand`, `loq_interval`.`Link` FROM `loq_interval` WHERE `loq_interval`.`mirName` = 'dme-mir-4944' ; args=('dme-mir-4944',)\n"
       ]
      },
      {
       "output_type": "stream",
       "stream": "stderr",
       "text": [
        "DEBUG:django.db.backends:(0.000) SELECT (1) AS `a` FROM `loq_interval` WHERE `loq_interval`.`id` = 147  LIMIT 1; args=(147,)\n"
       ]
      },
      {
       "output_type": "stream",
       "stream": "stderr",
       "text": [
        "DEBUG:django.db.backends:(0.001) UPDATE `loq_interval` SET `chr` = 'chr3R', `start` = 6338726, `stop` = 6338855, `mirName` = 'dme-mir-4944', `NeatName` = 'chr3R:6338727-6338855', `IntervalSize` = 129, `IntervalSerialNumber` = 147, `Structure` = '......((((((((....)))..)))))..((((((((((((((..(((..(((((((.................)))))))..)))..)))))))))))))).....(((((.........)))))..', `Annotations` = '', `Tags` = '', `all_reads_mapped` = 17, `sum_normReads` = 1.9452, `mapped_strand` = '-', `Link` = 'http://genome.cbis.nus.edu.sg/cgi-bin/hgTracks?db=dm3&position=chr3R:6338727-6338855' WHERE `loq_interval`.`id` = 147 ; args=(u'chr3R', 6338726, 6338855, u'dme-mir-4944', u'chr3R:6338727-6338855', 129, 147, u'......((((((((....)))..)))))..((((((((((((((..(((..(((((((.................)))))))..)))..)))))))))))))).....(((((.........)))))..', u'', u'', 17, 1.9452, '-', u'http://genome.cbis.nus.edu.sg/cgi-bin/hgTracks?db=dm3&position=chr3R:6338727-6338855', 147)\n"
       ]
      },
      {
       "output_type": "stream",
       "stream": "stderr",
       "text": [
        "DEBUG:django.db.backends:(0.001) SELECT `loq_interval`.`id`, `loq_interval`.`chr`, `loq_interval`.`start`, `loq_interval`.`stop`, `loq_interval`.`mirName`, `loq_interval`.`NeatName`, `loq_interval`.`IntervalSize`, `loq_interval`.`IntervalSerialNumber`, `loq_interval`.`Structure`, `loq_interval`.`Annotations`, `loq_interval`.`Tags`, `loq_interval`.`all_reads_mapped`, `loq_interval`.`sum_normReads`, `loq_interval`.`mapped_strand`, `loq_interval`.`Link` FROM `loq_interval` WHERE `loq_interval`.`mirName` = 'dme-mir-4945' ; args=('dme-mir-4945',)\n"
       ]
      },
      {
       "output_type": "stream",
       "stream": "stderr",
       "text": [
        "DEBUG:django.db.backends:(0.000) SELECT (1) AS `a` FROM `loq_interval` WHERE `loq_interval`.`id` = 148  LIMIT 1; args=(148,)\n"
       ]
      },
      {
       "output_type": "stream",
       "stream": "stderr",
       "text": [
        "DEBUG:django.db.backends:(0.000) UPDATE `loq_interval` SET `chr` = 'chr3R', `start` = 7267913, `stop` = 7268028, `mirName` = 'dme-mir-4945', `NeatName` = 'chr3R:7267914-7268028', `IntervalSize` = 115, `IntervalSerialNumber` = 148, `Structure` = '.....((((((....(((...(((((((..(((((((.(((..((((((((((((...........))))))))))))..))).)))))))..)))))))..)))..))))))..', `Annotations` = '', `Tags` = '', `all_reads_mapped` = 5, `sum_normReads` = 0.1111, `mapped_strand` = '-', `Link` = 'http://genome.cbis.nus.edu.sg/cgi-bin/hgTracks?db=dm3&position=chr3R:7267914-7268028' WHERE `loq_interval`.`id` = 148 ; args=(u'chr3R', 7267913, 7268028, u'dme-mir-4945', u'chr3R:7267914-7268028', 115, 148, u'.....((((((....(((...(((((((..(((((((.(((..((((((((((((...........))))))))))))..))).)))))))..)))))))..)))..))))))..', u'', u'', 5, 0.1111, '-', u'http://genome.cbis.nus.edu.sg/cgi-bin/hgTracks?db=dm3&position=chr3R:7267914-7268028', 148)\n"
       ]
      },
      {
       "output_type": "stream",
       "stream": "stdout",
       "text": [
        "\n",
        "dme-mir-4945-\n",
        "\n",
        "dme-mir-284-\n"
       ]
      },
      {
       "output_type": "stream",
       "stream": "stderr",
       "text": [
        "DEBUG:django.db.backends:(0.001) SELECT `loq_interval`.`id`, `loq_interval`.`chr`, `loq_interval`.`start`, `loq_interval`.`stop`, `loq_interval`.`mirName`, `loq_interval`.`NeatName`, `loq_interval`.`IntervalSize`, `loq_interval`.`IntervalSerialNumber`, `loq_interval`.`Structure`, `loq_interval`.`Annotations`, `loq_interval`.`Tags`, `loq_interval`.`all_reads_mapped`, `loq_interval`.`sum_normReads`, `loq_interval`.`mapped_strand`, `loq_interval`.`Link` FROM `loq_interval` WHERE `loq_interval`.`mirName` = 'dme-mir-284' ; args=('dme-mir-284',)\n"
       ]
      },
      {
       "output_type": "stream",
       "stream": "stderr",
       "text": [
        "DEBUG:django.db.backends:(0.000) SELECT (1) AS `a` FROM `loq_interval` WHERE `loq_interval`.`id` = 149  LIMIT 1; args=(149,)\n"
       ]
      },
      {
       "output_type": "stream",
       "stream": "stderr",
       "text": [
        "DEBUG:django.db.backends:(0.001) UPDATE `loq_interval` SET `chr` = 'chr3R', `start` = 8377236, `stop` = 8377336, `mirName` = 'dme-mir-284', `NeatName` = 'chr3R:8377237-8377336', `IntervalSize` = 100, `IntervalSerialNumber` = 149, `Structure` = '(((((((((.((((((((((((((.(((....((((....))))..(((.........)))........))))))))))))))))).)))))))))....', `Annotations` = '', `Tags` = '', `all_reads_mapped` = 26, `sum_normReads` = 9.6225, `mapped_strand` = '-', `Link` = 'http://genome.cbis.nus.edu.sg/cgi-bin/hgTracks?db=dm3&position=chr3R:8377237-8377336' WHERE `loq_interval`.`id` = 149 ; args=(u'chr3R', 8377236, 8377336, u'dme-mir-284', u'chr3R:8377237-8377336', 100, 149, u'(((((((((.((((((((((((((.(((....((((....))))..(((.........)))........))))))))))))))))).)))))))))....', u'', u'', 26, 9.6225, '-', u'http://genome.cbis.nus.edu.sg/cgi-bin/hgTracks?db=dm3&position=chr3R:8377237-8377336', 149)\n"
       ]
      },
      {
       "output_type": "stream",
       "stream": "stdout",
       "text": [
        "\n",
        "dme-mir-252-\n"
       ]
      },
      {
       "output_type": "stream",
       "stream": "stderr",
       "text": [
        "DEBUG:django.db.backends:(0.001) SELECT `loq_interval`.`id`, `loq_interval`.`chr`, `loq_interval`.`start`, `loq_interval`.`stop`, `loq_interval`.`mirName`, `loq_interval`.`NeatName`, `loq_interval`.`IntervalSize`, `loq_interval`.`IntervalSerialNumber`, `loq_interval`.`Structure`, `loq_interval`.`Annotations`, `loq_interval`.`Tags`, `loq_interval`.`all_reads_mapped`, `loq_interval`.`sum_normReads`, `loq_interval`.`mapped_strand`, `loq_interval`.`Link` FROM `loq_interval` WHERE `loq_interval`.`mirName` = 'dme-mir-252' ; args=('dme-mir-252',)\n"
       ]
      },
      {
       "output_type": "stream",
       "stream": "stderr",
       "text": [
        "DEBUG:django.db.backends:(0.000) SELECT (1) AS `a` FROM `loq_interval` WHERE `loq_interval`.`id` = 150  LIMIT 1; args=(150,)\n"
       ]
      },
      {
       "output_type": "stream",
       "stream": "stderr",
       "text": [
        "DEBUG:django.db.backends:(0.001) UPDATE `loq_interval` SET `chr` = 'chr3R', `start` = 9289940, `stop` = 9290033, `mirName` = 'dme-mir-252', `NeatName` = 'chr3R:9289941-9290033', `IntervalSize` = 93, `IntervalSerialNumber` = 150, `Structure` = '.......(((((((..((((((((.(.((.(((((((....(((((....)).)))..))))))).)).).))))))))..))))))).....', `Annotations` = '', `Tags` = '', `all_reads_mapped` = 56, `sum_normReads` = 26.5985, `mapped_strand` = '-', `Link` = 'http://genome.cbis.nus.edu.sg/cgi-bin/hgTracks?db=dm3&position=chr3R:9289941-9290033' WHERE `loq_interval`.`id` = 150 ; args=(u'chr3R', 9289940, 9290033, u'dme-mir-252', u'chr3R:9289941-9290033', 93, 150, u'.......(((((((..((((((((.(.((.(((((((....(((((....)).)))..))))))).)).).))))))))..))))))).....', u'', u'', 56, 26.5985, '-', u'http://genome.cbis.nus.edu.sg/cgi-bin/hgTracks?db=dm3&position=chr3R:9289941-9290033', 150)\n"
       ]
      },
      {
       "output_type": "stream",
       "stream": "stdout",
       "text": [
        "\n",
        "dme-mir-2281-\n"
       ]
      },
      {
       "output_type": "stream",
       "stream": "stderr",
       "text": [
        "DEBUG:django.db.backends:(0.001) SELECT `loq_interval`.`id`, `loq_interval`.`chr`, `loq_interval`.`start`, `loq_interval`.`stop`, `loq_interval`.`mirName`, `loq_interval`.`NeatName`, `loq_interval`.`IntervalSize`, `loq_interval`.`IntervalSerialNumber`, `loq_interval`.`Structure`, `loq_interval`.`Annotations`, `loq_interval`.`Tags`, `loq_interval`.`all_reads_mapped`, `loq_interval`.`sum_normReads`, `loq_interval`.`mapped_strand`, `loq_interval`.`Link` FROM `loq_interval` WHERE `loq_interval`.`mirName` = 'dme-mir-2281' ; args=('dme-mir-2281',)\n"
       ]
      },
      {
       "output_type": "stream",
       "stream": "stderr",
       "text": [
        "DEBUG:django.db.backends:(0.000) SELECT (1) AS `a` FROM `loq_interval` WHERE `loq_interval`.`id` = 151  LIMIT 1; args=(151,)\n"
       ]
      },
      {
       "output_type": "stream",
       "stream": "stderr",
       "text": [
        "DEBUG:django.db.backends:(0.000) UPDATE `loq_interval` SET `chr` = 'chr3R', `start` = 10222120, `stop` = 10222223, `mirName` = 'dme-mir-2281', `NeatName` = 'chr3R:10222121-10222223', `IntervalSize` = 103, `IntervalSerialNumber` = 151, `Structure` = '((((((.(((((((..(((((.((.((((((.((((((((((.(((......))).)))))))))).)))))))).))).))...))))))).....))))))', `Annotations` = '', `Tags` = '', `all_reads_mapped` = 3, `sum_normReads` = 0.0863, `mapped_strand` = '-', `Link` = 'http://genome.cbis.nus.edu.sg/cgi-bin/hgTracks?db=dm3&position=chr3R:10222121-10222223' WHERE `loq_interval`.`id` = 151 ; args=(u'chr3R', 10222120, 10222223, u'dme-mir-2281', u'chr3R:10222121-10222223', 103, 151, u'((((((.(((((((..(((((.((.((((((.((((((((((.(((......))).)))))))))).)))))))).))).))...))))))).....))))))', u'', u'', 3, 0.0863, '-', u'http://genome.cbis.nus.edu.sg/cgi-bin/hgTracks?db=dm3&position=chr3R:10222121-10222223', 151)\n"
       ]
      },
      {
       "output_type": "stream",
       "stream": "stderr",
       "text": [
        "DEBUG:django.db.backends:(0.001) SELECT `loq_interval`.`id`, `loq_interval`.`chr`, `loq_interval`.`start`, `loq_interval`.`stop`, `loq_interval`.`mirName`, `loq_interval`.`NeatName`, `loq_interval`.`IntervalSize`, `loq_interval`.`IntervalSerialNumber`, `loq_interval`.`Structure`, `loq_interval`.`Annotations`, `loq_interval`.`Tags`, `loq_interval`.`all_reads_mapped`, `loq_interval`.`sum_normReads`, `loq_interval`.`mapped_strand`, `loq_interval`.`Link` FROM `loq_interval` WHERE `loq_interval`.`mirName` = 'dme-mir-2493' ; args=('dme-mir-2493',)\n"
       ]
      },
      {
       "output_type": "stream",
       "stream": "stderr",
       "text": [
        "DEBUG:django.db.backends:(0.000) SELECT (1) AS `a` FROM `loq_interval` WHERE `loq_interval`.`id` = 152  LIMIT 1; args=(152,)\n"
       ]
      },
      {
       "output_type": "stream",
       "stream": "stderr",
       "text": [
        "DEBUG:django.db.backends:(0.000) UPDATE `loq_interval` SET `chr` = 'chr3R', `start` = 10956475, `stop` = 10956581, `mirName` = 'dme-mir-2493', `NeatName` = 'chr3R:10956476-10956581', `IntervalSize` = 106, `IntervalSerialNumber` = 152, `Structure` = '.(((....(((.(((..(((((((((.((((.((((((.(((((((((.....)))......)))))).))))))...)))).)).))))))).))).)))..)))', `Annotations` = '', `Tags` = '', `all_reads_mapped` = 16, `sum_normReads` = 3.367, `mapped_strand` = '-', `Link` = 'http://genome.cbis.nus.edu.sg/cgi-bin/hgTracks?db=dm3&position=chr3R:10956476-10956581' WHERE `loq_interval`.`id` = 152 ; args=(u'chr3R', 10956475, 10956581, u'dme-mir-2493', u'chr3R:10956476-10956581', 106, 152, u'.(((....(((.(((..(((((((((.((((.((((((.(((((((((.....)))......)))))).))))))...)))).)).))))))).))).)))..)))', u'', u'', 16, 3.367, '-', u'http://genome.cbis.nus.edu.sg/cgi-bin/hgTracks?db=dm3&position=chr3R:10956476-10956581', 152)\n"
       ]
      },
      {
       "output_type": "stream",
       "stream": "stdout",
       "text": [
        "\n",
        "dme-mir-2493-\n",
        "\n",
        "dme-mir-3644-\n"
       ]
      },
      {
       "output_type": "stream",
       "stream": "stderr",
       "text": [
        "DEBUG:django.db.backends:(0.001) SELECT `loq_interval`.`id`, `loq_interval`.`chr`, `loq_interval`.`start`, `loq_interval`.`stop`, `loq_interval`.`mirName`, `loq_interval`.`NeatName`, `loq_interval`.`IntervalSize`, `loq_interval`.`IntervalSerialNumber`, `loq_interval`.`Structure`, `loq_interval`.`Annotations`, `loq_interval`.`Tags`, `loq_interval`.`all_reads_mapped`, `loq_interval`.`sum_normReads`, `loq_interval`.`mapped_strand`, `loq_interval`.`Link` FROM `loq_interval` WHERE `loq_interval`.`mirName` = 'dme-mir-3644' ; args=('dme-mir-3644',)\n"
       ]
      },
      {
       "output_type": "stream",
       "stream": "stderr",
       "text": [
        "DEBUG:django.db.backends:(0.000) SELECT (1) AS `a` FROM `loq_interval` WHERE `loq_interval`.`id` = 153  LIMIT 1; args=(153,)\n"
       ]
      },
      {
       "output_type": "stream",
       "stream": "stderr",
       "text": [
        "DEBUG:django.db.backends:(0.000) UPDATE `loq_interval` SET `chr` = 'chr3R', `start` = 11018018, `stop` = 11018079, `mirName` = 'dme-mir-3644', `NeatName` = 'chr3R:11018019-11018079', `IntervalSize` = 61, `IntervalSerialNumber` = 153, `Structure` = '(((..(((.(((((((((.(((((....))))).))))))))).)))..))).........', `Annotations` = '', `Tags` = '', `all_reads_mapped` = 5, `sum_normReads` = 0.66, `mapped_strand` = '-', `Link` = 'http://genome.cbis.nus.edu.sg/cgi-bin/hgTracks?db=dm3&position=chr3R:11018019-11018079' WHERE `loq_interval`.`id` = 153 ; args=(u'chr3R', 11018018, 11018079, u'dme-mir-3644', u'chr3R:11018019-11018079', 61, 153, u'(((..(((.(((((((((.(((((....))))).))))))))).)))..))).........', u'', u'', 5, 0.66, '-', u'http://genome.cbis.nus.edu.sg/cgi-bin/hgTracks?db=dm3&position=chr3R:11018019-11018079', 153)\n"
       ]
      },
      {
       "output_type": "stream",
       "stream": "stderr",
       "text": [
        "DEBUG:django.db.backends:(0.001) SELECT `loq_interval`.`id`, `loq_interval`.`chr`, `loq_interval`.`start`, `loq_interval`.`stop`, `loq_interval`.`mirName`, `loq_interval`.`NeatName`, `loq_interval`.`IntervalSize`, `loq_interval`.`IntervalSerialNumber`, `loq_interval`.`Structure`, `loq_interval`.`Annotations`, `loq_interval`.`Tags`, `loq_interval`.`all_reads_mapped`, `loq_interval`.`sum_normReads`, `loq_interval`.`mapped_strand`, `loq_interval`.`Link` FROM `loq_interval` WHERE `loq_interval`.`mirName` = 'dme-mir-13b-1' ; args=('dme-mir-13b-1',)\n"
       ]
      },
      {
       "output_type": "stream",
       "stream": "stderr",
       "text": [
        "DEBUG:django.db.backends:(0.000) SELECT (1) AS `a` FROM `loq_interval` WHERE `loq_interval`.`id` = 154  LIMIT 1; args=(154,)\n"
       ]
      },
      {
       "output_type": "stream",
       "stream": "stderr",
       "text": [
        "DEBUG:django.db.backends:(0.000) UPDATE `loq_interval` SET `chr` = 'chr3R', `start` = 11243129, `stop` = 11243197, `mirName` = 'dme-mir-13b-1', `NeatName` = 'chr3R:11243130-11243197', `IntervalSize` = 68, `IntervalSerialNumber` = 154, `Structure` = '(((..(((((((((((.((((((...((((..........)))))))))).)))))))))))...)))', `Annotations` = '', `Tags` = '', `all_reads_mapped` = 247, `sum_normReads` = 82184.2999, `mapped_strand` = '-', `Link` = 'http://genome.cbis.nus.edu.sg/cgi-bin/hgTracks?db=dm3&position=chr3R:11243130-11243197' WHERE `loq_interval`.`id` = 154 ; args=(u'chr3R', 11243129, 11243197, u'dme-mir-13b-1', u'chr3R:11243130-11243197', 68, 154, u'(((..(((((((((((.((((((...((((..........)))))))))).)))))))))))...)))', u'', u'', 247, 82184.2999, '-', u'http://genome.cbis.nus.edu.sg/cgi-bin/hgTracks?db=dm3&position=chr3R:11243130-11243197', 154)\n"
       ]
      },
      {
       "output_type": "stream",
       "stream": "stdout",
       "text": [
        "\n",
        "dme-mir-13b-1-\n",
        "\n",
        "dme-mir-13a-\n"
       ]
      },
      {
       "output_type": "stream",
       "stream": "stderr",
       "text": [
        "DEBUG:django.db.backends:(0.001) SELECT `loq_interval`.`id`, `loq_interval`.`chr`, `loq_interval`.`start`, `loq_interval`.`stop`, `loq_interval`.`mirName`, `loq_interval`.`NeatName`, `loq_interval`.`IntervalSize`, `loq_interval`.`IntervalSerialNumber`, `loq_interval`.`Structure`, `loq_interval`.`Annotations`, `loq_interval`.`Tags`, `loq_interval`.`all_reads_mapped`, `loq_interval`.`sum_normReads`, `loq_interval`.`mapped_strand`, `loq_interval`.`Link` FROM `loq_interval` WHERE `loq_interval`.`mirName` = 'dme-mir-13a' ; args=('dme-mir-13a',)\n"
       ]
      },
      {
       "output_type": "stream",
       "stream": "stderr",
       "text": [
        "DEBUG:django.db.backends:(0.000) SELECT (1) AS `a` FROM `loq_interval` WHERE `loq_interval`.`id` = 155  LIMIT 1; args=(155,)\n"
       ]
      },
      {
       "output_type": "stream",
       "stream": "stderr",
       "text": [
        "DEBUG:django.db.backends:(0.000) UPDATE `loq_interval` SET `chr` = 'chr3R', `start` = 11243263, `stop` = 11243338, `mirName` = 'dme-mir-13a', `NeatName` = 'chr3R:11243264-11243338', `IntervalSize` = 75, `IntervalSerialNumber` = 155, `Structure` = '((((.(((((.((((((((((((((.(((................))).)))))))).)))))).))))).))))', `Annotations` = '', `Tags` = '', `all_reads_mapped` = 72, `sum_normReads` = 306.2587, `mapped_strand` = '-', `Link` = 'http://genome.cbis.nus.edu.sg/cgi-bin/hgTracks?db=dm3&position=chr3R:11243264-11243338' WHERE `loq_interval`.`id` = 155 ; args=(u'chr3R', 11243263, 11243338, u'dme-mir-13a', u'chr3R:11243264-11243338', 75, 155, u'((((.(((((.((((((((((((((.(((................))).)))))))).)))))).))))).))))', u'', u'', 72, 306.2587, '-', u'http://genome.cbis.nus.edu.sg/cgi-bin/hgTracks?db=dm3&position=chr3R:11243264-11243338', 155)\n"
       ]
      },
      {
       "output_type": "stream",
       "stream": "stderr",
       "text": [
        "DEBUG:django.db.backends:(0.001) SELECT `loq_interval`.`id`, `loq_interval`.`chr`, `loq_interval`.`start`, `loq_interval`.`stop`, `loq_interval`.`mirName`, `loq_interval`.`NeatName`, `loq_interval`.`IntervalSize`, `loq_interval`.`IntervalSerialNumber`, `loq_interval`.`Structure`, `loq_interval`.`Annotations`, `loq_interval`.`Tags`, `loq_interval`.`all_reads_mapped`, `loq_interval`.`sum_normReads`, `loq_interval`.`mapped_strand`, `loq_interval`.`Link` FROM `loq_interval` WHERE `loq_interval`.`mirName` = 'dme-mir-2c' ; args=('dme-mir-2c',)\n"
       ]
      },
      {
       "output_type": "stream",
       "stream": "stderr",
       "text": [
        "DEBUG:django.db.backends:(0.000) SELECT (1) AS `a` FROM `loq_interval` WHERE `loq_interval`.`id` = 156  LIMIT 1; args=(156,)\n"
       ]
      },
      {
       "output_type": "stream",
       "stream": "stderr",
       "text": [
        "DEBUG:django.db.backends:(0.001) UPDATE `loq_interval` SET `chr` = 'chr3R', `start` = 11243465, `stop` = 11243567, `mirName` = 'dme-mir-2c', `NeatName` = 'chr3R:11243466-11243567', `IntervalSize` = 102, `IntervalSerialNumber` = 156, `Structure` = '((((..((((.((.(((((((((((((...(((((......((((((((.......)))..))))).)))))...)))))).))))))).))))))..))))', `Annotations` = '', `Tags` = '', `all_reads_mapped` = 110, `sum_normReads` = 1294.3434, `mapped_strand` = '-', `Link` = 'http://genome.cbis.nus.edu.sg/cgi-bin/hgTracks?db=dm3&position=chr3R:11243466-11243567' WHERE `loq_interval`.`id` = 156 ; args=(u'chr3R', 11243465, 11243567, u'dme-mir-2c', u'chr3R:11243466-11243567', 102, 156, u'((((..((((.((.(((((((((((((...(((((......((((((((.......)))..))))).)))))...)))))).))))))).))))))..))))', u'', u'', 110, 1294.3434, '-', u'http://genome.cbis.nus.edu.sg/cgi-bin/hgTracks?db=dm3&position=chr3R:11243466-11243567', 156)\n"
       ]
      },
      {
       "output_type": "stream",
       "stream": "stdout",
       "text": [
        "\n",
        "dme-mir-2c-\n",
        "\n",
        "dme-mir-4911-\n"
       ]
      },
      {
       "output_type": "stream",
       "stream": "stderr",
       "text": [
        "DEBUG:django.db.backends:(0.001) SELECT `loq_interval`.`id`, `loq_interval`.`chr`, `loq_interval`.`start`, `loq_interval`.`stop`, `loq_interval`.`mirName`, `loq_interval`.`NeatName`, `loq_interval`.`IntervalSize`, `loq_interval`.`IntervalSerialNumber`, `loq_interval`.`Structure`, `loq_interval`.`Annotations`, `loq_interval`.`Tags`, `loq_interval`.`all_reads_mapped`, `loq_interval`.`sum_normReads`, `loq_interval`.`mapped_strand`, `loq_interval`.`Link` FROM `loq_interval` WHERE `loq_interval`.`mirName` = 'dme-mir-4911' ; args=('dme-mir-4911',)\n"
       ]
      },
      {
       "output_type": "stream",
       "stream": "stderr",
       "text": [
        "DEBUG:django.db.backends:(0.000) SELECT (1) AS `a` FROM `loq_interval` WHERE `loq_interval`.`id` = 157  LIMIT 1; args=(157,)\n"
       ]
      },
      {
       "output_type": "stream",
       "stream": "stderr",
       "text": [
        "DEBUG:django.db.backends:(0.000) UPDATE `loq_interval` SET `chr` = 'chr3R', `start` = 11662008, `stop` = 11662076, `mirName` = 'dme-mir-4911', `NeatName` = 'chr3R:11662009-11662076', `IntervalSize` = 68, `IntervalSerialNumber` = 157, `Structure` = '(((.((.((.((((((.((.((......................)).)).)))))).)))))))....', `Annotations` = '', `Tags` = '', `all_reads_mapped` = 0, `sum_normReads` = NULL, `mapped_strand` = '-', `Link` = 'http://genome.cbis.nus.edu.sg/cgi-bin/hgTracks?db=dm3&position=chr3R:11662009-11662076' WHERE `loq_interval`.`id` = 157 ; args=(u'chr3R', 11662008, 11662076, u'dme-mir-4911', u'chr3R:11662009-11662076', 68, 157, u'(((.((.((.((((((.((.((......................)).)).)))))).)))))))....', u'', u'', 0, '-', u'http://genome.cbis.nus.edu.sg/cgi-bin/hgTracks?db=dm3&position=chr3R:11662009-11662076', 157)\n"
       ]
      },
      {
       "output_type": "stream",
       "stream": "stderr",
       "text": [
        "DEBUG:django.db.backends:(0.001) SELECT `loq_interval`.`id`, `loq_interval`.`chr`, `loq_interval`.`start`, `loq_interval`.`stop`, `loq_interval`.`mirName`, `loq_interval`.`NeatName`, `loq_interval`.`IntervalSize`, `loq_interval`.`IntervalSerialNumber`, `loq_interval`.`Structure`, `loq_interval`.`Annotations`, `loq_interval`.`Tags`, `loq_interval`.`all_reads_mapped`, `loq_interval`.`sum_normReads`, `loq_interval`.`mapped_strand`, `loq_interval`.`Link` FROM `loq_interval` WHERE `loq_interval`.`mirName` = 'dme-mir-2494' ; args=('dme-mir-2494',)\n"
       ]
      },
      {
       "output_type": "stream",
       "stream": "stderr",
       "text": [
        "DEBUG:django.db.backends:(0.000) SELECT (1) AS `a` FROM `loq_interval` WHERE `loq_interval`.`id` = 158  LIMIT 1; args=(158,)\n"
       ]
      },
      {
       "output_type": "stream",
       "stream": "stderr",
       "text": [
        "DEBUG:django.db.backends:(0.001) UPDATE `loq_interval` SET `chr` = 'chr3R', `start` = 12444487, `stop` = 12444604, `mirName` = 'dme-mir-2494', `NeatName` = 'chr3R:12444488-12444604', `IntervalSize` = 117, `IntervalSerialNumber` = 158, `Structure` = '(((((((((((((((((.....(((((((.((...((((((((((.......................))))))))))...)).))))))).....)))...))))))).)))))))', `Annotations` = '', `Tags` = '', `all_reads_mapped` = 1, `sum_normReads` = 0.0655, `mapped_strand` = '+', `Link` = 'http://genome.cbis.nus.edu.sg/cgi-bin/hgTracks?db=dm3&position=chr3R:12444488-12444604' WHERE `loq_interval`.`id` = 158 ; args=(u'chr3R', 12444487, 12444604, u'dme-mir-2494', u'chr3R:12444488-12444604', 117, 158, u'(((((((((((((((((.....(((((((.((...((((((((((.......................))))))))))...)).))))))).....)))...))))))).)))))))', u'', u'', 1, 0.0655, '+', u'http://genome.cbis.nus.edu.sg/cgi-bin/hgTracks?db=dm3&position=chr3R:12444488-12444604', 158)\n"
       ]
      },
      {
       "output_type": "stream",
       "stream": "stdout",
       "text": [
        "\n",
        "dme-mir-2494+\n",
        "\n",
        "dme-mir-iab-4+\n"
       ]
      },
      {
       "output_type": "stream",
       "stream": "stderr",
       "text": [
        "DEBUG:django.db.backends:(0.001) SELECT `loq_interval`.`id`, `loq_interval`.`chr`, `loq_interval`.`start`, `loq_interval`.`stop`, `loq_interval`.`mirName`, `loq_interval`.`NeatName`, `loq_interval`.`IntervalSize`, `loq_interval`.`IntervalSerialNumber`, `loq_interval`.`Structure`, `loq_interval`.`Annotations`, `loq_interval`.`Tags`, `loq_interval`.`all_reads_mapped`, `loq_interval`.`sum_normReads`, `loq_interval`.`mapped_strand`, `loq_interval`.`Link` FROM `loq_interval` WHERE `loq_interval`.`mirName` = 'dme-mir-iab-4' ; args=('dme-mir-iab-4',)\n"
       ]
      },
      {
       "output_type": "stream",
       "stream": "stderr",
       "text": [
        "DEBUG:django.db.backends:(0.000) SELECT (1) AS `a` FROM `loq_interval` WHERE `loq_interval`.`id` = 159  LIMIT 1; args=(159,)\n"
       ]
      },
      {
       "output_type": "stream",
       "stream": "stderr",
       "text": [
        "DEBUG:django.db.backends:(0.001) UPDATE `loq_interval` SET `chr` = 'chr3R', `start` = 12681996, `stop` = 12682064, `mirName` = 'dme-mir-iab-4', `NeatName` = 'chr3R:12681997-12682064', `IntervalSize` = 68, `IntervalSerialNumber` = 159, `Structure` = '', `Annotations` = '', `Tags` = '', `all_reads_mapped` = 13, `sum_normReads` = 2.1355, `mapped_strand` = '+', `Link` = 'http://genome.cbis.nus.edu.sg/cgi-bin/hgTracks?db=dm3&position=chr3R:12681997-12682064' WHERE `loq_interval`.`id` = 159 ; args=(u'chr3R', 12681996, 12682064, u'dme-mir-iab-4', u'chr3R:12681997-12682064', 68, 159, u'', u'', u'', 13, 2.1355, '+', u'http://genome.cbis.nus.edu.sg/cgi-bin/hgTracks?db=dm3&position=chr3R:12681997-12682064', 159)\n"
       ]
      },
      {
       "output_type": "stream",
       "stream": "stderr",
       "text": [
        "DEBUG:django.db.backends:(0.001) SELECT `loq_interval`.`id`, `loq_interval`.`chr`, `loq_interval`.`start`, `loq_interval`.`stop`, `loq_interval`.`mirName`, `loq_interval`.`NeatName`, `loq_interval`.`IntervalSize`, `loq_interval`.`IntervalSerialNumber`, `loq_interval`.`Structure`, `loq_interval`.`Annotations`, `loq_interval`.`Tags`, `loq_interval`.`all_reads_mapped`, `loq_interval`.`sum_normReads`, `loq_interval`.`mapped_strand`, `loq_interval`.`Link` FROM `loq_interval` WHERE `loq_interval`.`mirName` = 'dme-mir-iab-8' ; args=('dme-mir-iab-8',)\n"
       ]
      },
      {
       "ename": "DoesNotExist",
       "evalue": "Interval matching query does not exist.",
       "output_type": "pyerr",
       "traceback": [
        "\u001b[0;31m---------------------------------------------------------------------------\u001b[0m\n\u001b[0;31mDoesNotExist\u001b[0m                              Traceback (most recent call last)",
        "\u001b[0;32m<ipython-input-6-913cd9c018b7>\u001b[0m in \u001b[0;36m<module>\u001b[0;34m()\u001b[0m\n\u001b[1;32m      4\u001b[0m     \u001b[0mi\u001b[0m\u001b[0;34m=\u001b[0m\u001b[0mi\u001b[0m\u001b[0;34m.\u001b[0m\u001b[0msplit\u001b[0m\u001b[0;34m(\u001b[0m\u001b[0;34m'\\t'\u001b[0m\u001b[0;34m)\u001b[0m\u001b[0;34m\u001b[0m\u001b[0m\n\u001b[1;32m      5\u001b[0m     \u001b[0;32mprint\u001b[0m \u001b[0mi\u001b[0m\u001b[0;34m[\u001b[0m\u001b[0;36m3\u001b[0m\u001b[0;34m]\u001b[0m \u001b[0;34m+\u001b[0m \u001b[0mi\u001b[0m\u001b[0;34m[\u001b[0m\u001b[0;34m-\u001b[0m\u001b[0;36m1\u001b[0m\u001b[0;34m]\u001b[0m\u001b[0;34m\u001b[0m\u001b[0m\n\u001b[0;32m----> 6\u001b[0;31m     \u001b[0ma\u001b[0m\u001b[0;34m=\u001b[0m \u001b[0mInterval\u001b[0m\u001b[0;34m.\u001b[0m\u001b[0mobjects\u001b[0m\u001b[0;34m.\u001b[0m\u001b[0mget\u001b[0m\u001b[0;34m(\u001b[0m\u001b[0mmirName\u001b[0m\u001b[0;34m=\u001b[0m\u001b[0mstr\u001b[0m\u001b[0;34m(\u001b[0m\u001b[0mi\u001b[0m\u001b[0;34m[\u001b[0m\u001b[0;36m3\u001b[0m\u001b[0;34m]\u001b[0m\u001b[0;34m)\u001b[0m\u001b[0;34m)\u001b[0m\u001b[0;34m\u001b[0m\u001b[0m\n\u001b[0m\u001b[1;32m      7\u001b[0m     \u001b[0;31m#a.Structure = i[1]\u001b[0m\u001b[0;34m\u001b[0m\u001b[0;34m\u001b[0m\u001b[0m\n\u001b[1;32m      8\u001b[0m     \u001b[0ma\u001b[0m\u001b[0;34m.\u001b[0m\u001b[0mmapped_strand\u001b[0m \u001b[0;34m=\u001b[0m \u001b[0mi\u001b[0m\u001b[0;34m[\u001b[0m\u001b[0;34m-\u001b[0m\u001b[0;36m1\u001b[0m\u001b[0;34m]\u001b[0m\u001b[0;34m.\u001b[0m\u001b[0msplit\u001b[0m\u001b[0;34m(\u001b[0m\u001b[0;34m'\\n'\u001b[0m\u001b[0;34m)\u001b[0m\u001b[0;34m[\u001b[0m\u001b[0;36m0\u001b[0m\u001b[0;34m]\u001b[0m\u001b[0;34m\u001b[0m\u001b[0m\n",
        "\u001b[0;32m/usr/local/lib/python2.7/dist-packages/django/db/models/manager.pyc\u001b[0m in \u001b[0;36mget\u001b[0;34m(self, *args, **kwargs)\u001b[0m\n\u001b[1;32m    141\u001b[0m \u001b[0;34m\u001b[0m\u001b[0m\n\u001b[1;32m    142\u001b[0m     \u001b[0;32mdef\u001b[0m \u001b[0mget\u001b[0m\u001b[0;34m(\u001b[0m\u001b[0mself\u001b[0m\u001b[0;34m,\u001b[0m \u001b[0;34m*\u001b[0m\u001b[0margs\u001b[0m\u001b[0;34m,\u001b[0m \u001b[0;34m**\u001b[0m\u001b[0mkwargs\u001b[0m\u001b[0;34m)\u001b[0m\u001b[0;34m:\u001b[0m\u001b[0;34m\u001b[0m\u001b[0m\n\u001b[0;32m--> 143\u001b[0;31m         \u001b[0;32mreturn\u001b[0m \u001b[0mself\u001b[0m\u001b[0;34m.\u001b[0m\u001b[0mget_query_set\u001b[0m\u001b[0;34m(\u001b[0m\u001b[0;34m)\u001b[0m\u001b[0;34m.\u001b[0m\u001b[0mget\u001b[0m\u001b[0;34m(\u001b[0m\u001b[0;34m*\u001b[0m\u001b[0margs\u001b[0m\u001b[0;34m,\u001b[0m \u001b[0;34m**\u001b[0m\u001b[0mkwargs\u001b[0m\u001b[0;34m)\u001b[0m\u001b[0;34m\u001b[0m\u001b[0m\n\u001b[0m\u001b[1;32m    144\u001b[0m \u001b[0;34m\u001b[0m\u001b[0m\n\u001b[1;32m    145\u001b[0m     \u001b[0;32mdef\u001b[0m \u001b[0mget_or_create\u001b[0m\u001b[0;34m(\u001b[0m\u001b[0mself\u001b[0m\u001b[0;34m,\u001b[0m \u001b[0;34m**\u001b[0m\u001b[0mkwargs\u001b[0m\u001b[0;34m)\u001b[0m\u001b[0;34m:\u001b[0m\u001b[0;34m\u001b[0m\u001b[0m\n",
        "\u001b[0;32m/usr/local/lib/python2.7/dist-packages/django/db/models/query.pyc\u001b[0m in \u001b[0;36mget\u001b[0;34m(self, *args, **kwargs)\u001b[0m\n\u001b[1;32m    402\u001b[0m             raise self.model.DoesNotExist(\n\u001b[1;32m    403\u001b[0m                 \u001b[0;34m\"%s matching query does not exist.\"\u001b[0m \u001b[0;34m%\u001b[0m\u001b[0;34m\u001b[0m\u001b[0m\n\u001b[0;32m--> 404\u001b[0;31m                 self.model._meta.object_name)\n\u001b[0m\u001b[1;32m    405\u001b[0m         raise self.model.MultipleObjectsReturned(\n\u001b[1;32m    406\u001b[0m             \u001b[0;34m\"get() returned more than one %s -- it returned %s!\"\u001b[0m \u001b[0;34m%\u001b[0m\u001b[0;34m\u001b[0m\u001b[0m\n",
        "\u001b[0;31mDoesNotExist\u001b[0m: Interval matching query does not exist."
       ]
      },
      {
       "output_type": "stream",
       "stream": "stdout",
       "text": [
        "\n",
        "dme-mir-iab-8-\n",
        "\n"
       ]
      }
     ],
     "prompt_number": 6
    },
    {
     "cell_type": "code",
     "collapsed": false,
     "input": [
      "f = open('/home/alvin/Dropbox/djangosite/loq/static/dmeprecursor_statistics.fix2c.csv','r')\n",
      "\n",
      "for i in f:\n",
      "    i=i.split(',')\n",
      "    print i\n",
      "    a= Interval.objects.get(mirName=str(i[0]))\n",
      "    #a.Structure = i[1]\n",
      "    #a.save()"
     ],
     "language": "python",
     "metadata": {},
     "outputs": [
      {
       "output_type": "stream",
       "stream": "stderr",
       "text": [
        "DEBUG:django.db.backends:(0.001) SELECT `loq_interval`.`id`, `loq_interval`.`chr`, `loq_interval`.`start`, `loq_interval`.`stop`, `loq_interval`.`mirName`, `loq_interval`.`NeatName`, `loq_interval`.`IntervalSize`, `loq_interval`.`IntervalSerialNumber`, `loq_interval`.`Structure`, `loq_interval`.`Annotations`, `loq_interval`.`Tags`, `loq_interval`.`all_reads_mapped`, `loq_interval`.`sum_normReads`, `loq_interval`.`mapped_strand`, `loq_interval`.`Link` FROM `loq_interval` WHERE `loq_interval`.`mirName` = 'dme-bantam' ; args=('dme-bantam',)\n"
       ]
      },
      {
       "output_type": "stream",
       "stream": "stderr",
       "text": [
        "DEBUG:django.db.backends:(0.002) SELECT `loq_interval`.`id`, `loq_interval`.`chr`, `loq_interval`.`start`, `loq_interval`.`stop`, `loq_interval`.`mirName`, `loq_interval`.`NeatName`, `loq_interval`.`IntervalSize`, `loq_interval`.`IntervalSerialNumber`, `loq_interval`.`Structure`, `loq_interval`.`Annotations`, `loq_interval`.`Tags`, `loq_interval`.`all_reads_mapped`, `loq_interval`.`sum_normReads`, `loq_interval`.`mapped_strand`, `loq_interval`.`Link` FROM `loq_interval` WHERE `loq_interval`.`mirName` = 'dme-let-7' ; args=('dme-let-7',)\n"
       ]
      },
      {
       "output_type": "stream",
       "stream": "stderr",
       "text": [
        "DEBUG:django.db.backends:(0.002) SELECT `loq_interval`.`id`, `loq_interval`.`chr`, `loq_interval`.`start`, `loq_interval`.`stop`, `loq_interval`.`mirName`, `loq_interval`.`NeatName`, `loq_interval`.`IntervalSize`, `loq_interval`.`IntervalSerialNumber`, `loq_interval`.`Structure`, `loq_interval`.`Annotations`, `loq_interval`.`Tags`, `loq_interval`.`all_reads_mapped`, `loq_interval`.`sum_normReads`, `loq_interval`.`mapped_strand`, `loq_interval`.`Link` FROM `loq_interval` WHERE `loq_interval`.`mirName` = 'dme-mir-1' ; args=('dme-mir-1',)\n"
       ]
      },
      {
       "output_type": "stream",
       "stream": "stderr",
       "text": [
        "DEBUG:django.db.backends:(0.001) SELECT `loq_interval`.`id`, `loq_interval`.`chr`, `loq_interval`.`start`, `loq_interval`.`stop`, `loq_interval`.`mirName`, `loq_interval`.`NeatName`, `loq_interval`.`IntervalSize`, `loq_interval`.`IntervalSerialNumber`, `loq_interval`.`Structure`, `loq_interval`.`Annotations`, `loq_interval`.`Tags`, `loq_interval`.`all_reads_mapped`, `loq_interval`.`sum_normReads`, `loq_interval`.`mapped_strand`, `loq_interval`.`Link` FROM `loq_interval` WHERE `loq_interval`.`mirName` = 'dme-mir-10' ; args=('dme-mir-10',)\n"
       ]
      },
      {
       "output_type": "stream",
       "stream": "stderr",
       "text": [
        "DEBUG:django.db.backends:(0.001) SELECT `loq_interval`.`id`, `loq_interval`.`chr`, `loq_interval`.`start`, `loq_interval`.`stop`, `loq_interval`.`mirName`, `loq_interval`.`NeatName`, `loq_interval`.`IntervalSize`, `loq_interval`.`IntervalSerialNumber`, `loq_interval`.`Structure`, `loq_interval`.`Annotations`, `loq_interval`.`Tags`, `loq_interval`.`all_reads_mapped`, `loq_interval`.`sum_normReads`, `loq_interval`.`mapped_strand`, `loq_interval`.`Link` FROM `loq_interval` WHERE `loq_interval`.`mirName` = 'dme-mir-100' ; args=('dme-mir-100',)\n"
       ]
      },
      {
       "output_type": "stream",
       "stream": "stderr",
       "text": [
        "DEBUG:django.db.backends:(0.001) SELECT `loq_interval`.`id`, `loq_interval`.`chr`, `loq_interval`.`start`, `loq_interval`.`stop`, `loq_interval`.`mirName`, `loq_interval`.`NeatName`, `loq_interval`.`IntervalSize`, `loq_interval`.`IntervalSerialNumber`, `loq_interval`.`Structure`, `loq_interval`.`Annotations`, `loq_interval`.`Tags`, `loq_interval`.`all_reads_mapped`, `loq_interval`.`sum_normReads`, `loq_interval`.`mapped_strand`, `loq_interval`.`Link` FROM `loq_interval` WHERE `loq_interval`.`mirName` = 'dme-mir-1000' ; args=('dme-mir-1000',)\n"
       ]
      },
      {
       "output_type": "stream",
       "stream": "stderr",
       "text": [
        "DEBUG:django.db.backends:(0.001) SELECT `loq_interval`.`id`, `loq_interval`.`chr`, `loq_interval`.`start`, `loq_interval`.`stop`, `loq_interval`.`mirName`, `loq_interval`.`NeatName`, `loq_interval`.`IntervalSize`, `loq_interval`.`IntervalSerialNumber`, `loq_interval`.`Structure`, `loq_interval`.`Annotations`, `loq_interval`.`Tags`, `loq_interval`.`all_reads_mapped`, `loq_interval`.`sum_normReads`, `loq_interval`.`mapped_strand`, `loq_interval`.`Link` FROM `loq_interval` WHERE `loq_interval`.`mirName` = 'dme-mir-1001' ; args=('dme-mir-1001',)\n"
       ]
      },
      {
       "output_type": "stream",
       "stream": "stderr",
       "text": [
        "DEBUG:django.db.backends:(0.001) SELECT `loq_interval`.`id`, `loq_interval`.`chr`, `loq_interval`.`start`, `loq_interval`.`stop`, `loq_interval`.`mirName`, `loq_interval`.`NeatName`, `loq_interval`.`IntervalSize`, `loq_interval`.`IntervalSerialNumber`, `loq_interval`.`Structure`, `loq_interval`.`Annotations`, `loq_interval`.`Tags`, `loq_interval`.`all_reads_mapped`, `loq_interval`.`sum_normReads`, `loq_interval`.`mapped_strand`, `loq_interval`.`Link` FROM `loq_interval` WHERE `loq_interval`.`mirName` = 'dme-mir-1002' ; args=('dme-mir-1002',)\n"
       ]
      },
      {
       "output_type": "stream",
       "stream": "stderr",
       "text": [
        "DEBUG:django.db.backends:(0.001) SELECT `loq_interval`.`id`, `loq_interval`.`chr`, `loq_interval`.`start`, `loq_interval`.`stop`, `loq_interval`.`mirName`, `loq_interval`.`NeatName`, `loq_interval`.`IntervalSize`, `loq_interval`.`IntervalSerialNumber`, `loq_interval`.`Structure`, `loq_interval`.`Annotations`, `loq_interval`.`Tags`, `loq_interval`.`all_reads_mapped`, `loq_interval`.`sum_normReads`, `loq_interval`.`mapped_strand`, `loq_interval`.`Link` FROM `loq_interval` WHERE `loq_interval`.`mirName` = 'dme-mir-1003' ; args=('dme-mir-1003',)\n"
       ]
      },
      {
       "output_type": "stream",
       "stream": "stderr",
       "text": [
        "DEBUG:django.db.backends:(0.001) SELECT `loq_interval`.`id`, `loq_interval`.`chr`, `loq_interval`.`start`, `loq_interval`.`stop`, `loq_interval`.`mirName`, `loq_interval`.`NeatName`, `loq_interval`.`IntervalSize`, `loq_interval`.`IntervalSerialNumber`, `loq_interval`.`Structure`, `loq_interval`.`Annotations`, `loq_interval`.`Tags`, `loq_interval`.`all_reads_mapped`, `loq_interval`.`sum_normReads`, `loq_interval`.`mapped_strand`, `loq_interval`.`Link` FROM `loq_interval` WHERE `loq_interval`.`mirName` = 'dme-mir-1004' ; args=('dme-mir-1004',)\n"
       ]
      },
      {
       "output_type": "stream",
       "stream": "stderr",
       "text": [
        "DEBUG:django.db.backends:(0.001) SELECT `loq_interval`.`id`, `loq_interval`.`chr`, `loq_interval`.`start`, `loq_interval`.`stop`, `loq_interval`.`mirName`, `loq_interval`.`NeatName`, `loq_interval`.`IntervalSize`, `loq_interval`.`IntervalSerialNumber`, `loq_interval`.`Structure`, `loq_interval`.`Annotations`, `loq_interval`.`Tags`, `loq_interval`.`all_reads_mapped`, `loq_interval`.`sum_normReads`, `loq_interval`.`mapped_strand`, `loq_interval`.`Link` FROM `loq_interval` WHERE `loq_interval`.`mirName` = 'dme-mir-1005' ; args=('dme-mir-1005',)\n"
       ]
      },
      {
       "output_type": "stream",
       "stream": "stderr",
       "text": [
        "DEBUG:django.db.backends:(0.001) SELECT `loq_interval`.`id`, `loq_interval`.`chr`, `loq_interval`.`start`, `loq_interval`.`stop`, `loq_interval`.`mirName`, `loq_interval`.`NeatName`, `loq_interval`.`IntervalSize`, `loq_interval`.`IntervalSerialNumber`, `loq_interval`.`Structure`, `loq_interval`.`Annotations`, `loq_interval`.`Tags`, `loq_interval`.`all_reads_mapped`, `loq_interval`.`sum_normReads`, `loq_interval`.`mapped_strand`, `loq_interval`.`Link` FROM `loq_interval` WHERE `loq_interval`.`mirName` = 'dme-mir-1006' ; args=('dme-mir-1006',)\n"
       ]
      },
      {
       "output_type": "stream",
       "stream": "stderr",
       "text": [
        "DEBUG:django.db.backends:(0.001) SELECT `loq_interval`.`id`, `loq_interval`.`chr`, `loq_interval`.`start`, `loq_interval`.`stop`, `loq_interval`.`mirName`, `loq_interval`.`NeatName`, `loq_interval`.`IntervalSize`, `loq_interval`.`IntervalSerialNumber`, `loq_interval`.`Structure`, `loq_interval`.`Annotations`, `loq_interval`.`Tags`, `loq_interval`.`all_reads_mapped`, `loq_interval`.`sum_normReads`, `loq_interval`.`mapped_strand`, `loq_interval`.`Link` FROM `loq_interval` WHERE `loq_interval`.`mirName` = 'dme-mir-1007' ; args=('dme-mir-1007',)\n"
       ]
      },
      {
       "output_type": "stream",
       "stream": "stderr",
       "text": [
        "DEBUG:django.db.backends:(0.001) SELECT `loq_interval`.`id`, `loq_interval`.`chr`, `loq_interval`.`start`, `loq_interval`.`stop`, `loq_interval`.`mirName`, `loq_interval`.`NeatName`, `loq_interval`.`IntervalSize`, `loq_interval`.`IntervalSerialNumber`, `loq_interval`.`Structure`, `loq_interval`.`Annotations`, `loq_interval`.`Tags`, `loq_interval`.`all_reads_mapped`, `loq_interval`.`sum_normReads`, `loq_interval`.`mapped_strand`, `loq_interval`.`Link` FROM `loq_interval` WHERE `loq_interval`.`mirName` = 'dme-mir-1008' ; args=('dme-mir-1008',)\n"
       ]
      },
      {
       "output_type": "stream",
       "stream": "stdout",
       "text": [
        "['dme-bantam', '........((((((.((((((((((..((((((.(((((.......)).))).))))))..)))))))))).))))))...', '81', '40', '1', '42', 'auuugacuacgaaaccgguuuucgauuugguuugacuguuuuucauacaagugagaucauuuugaaagcugauuuugucaa\\n']\n",
        "['dme-let-7', '((.((((((..(((.(((((.(((((((((((..............))))))))))).))))).)))..)))))).))', '78', '39', '1', '38', 'ucuggcaaauugagguaguagguuguauaguaguaauuacacaucauacuauacaaugugcuagcuuucuuugcuuga\\n']\n",
        "['dme-mir-1', '....(((.......((((((((((((.((((((((.((((((.......))).))).)))))))).)))))))))))).......)))...', '91', '45', '1', '45', 'uucagccuuugagaguuccaugcuuccuugcauucaauaguuauauucaagcauauggaauguaaagaaguauggagcgaaaucuggcgag\\n']\n",
        "['dme-mir-10', '(((((...(((((.((((.(((((((((((((............))))))))))))).)))).)).)))...)))))', '77', '38', '1', '37', 'ccacgucuacccuguagauccgaauuuguuuuauacuagcuuuaaggacaaauucgguucuagagagguuugugugg\\n']\n",
        "['dme-mir-100', '.((((.(((((..(((((((..(((..(((((((.(........).).))))))..)))..)))))))..))))).))))....................', '100', '50', '1', '39', 'ccauuaacagaaacccguaaauccgaacuugugcuguuuuauaucuguuacaagaccggcauuaugggagucugucaaugcaaacaacugguuuuuggca\\n']\n",
        "['dme-mir-1000', '((((((((.((.((.((.(((((((.(.((((((((((((((.......)))))))..))))))).).))))))).)).)).)).)))))))).......', '100', '50', '1', '45', 'gacgcuugccauugauauuguccugucacagcaguauuguaacacuauauuauaguuuacugcugggucggggcauuaacauuguugagcgucauuagca\\n']\n",
        "['dme-mir-1001', '..((((((((((((..(((((....((((((((((.((............)).))))))))))....)))))..)))).))))))))...', '90', '45', '1', '43', 'aagcuggccugucccuggguaaacucccaaggaucagguggagauugaaucccgauccuuggguuucugcucucgggcaaggucaguagu\\n']\n",
        "['dme-mir-1002', '..(((((((..((.((((((((...((((((...(((((.............))))).))))))...)))))))).))..)))))))..', '89', '44', '1', '45', 'uagaaauuauauauuuaaguaguggauacaaagggcgauuugauauaaaagugucgcauuguaugaccuacuuaacuagcugauuuugu\\n']\n",
        "['dme-mir-1003', '((((((((.(((((((((..((((.....))))..).)))))))).))))))))..', '56', '28', '1', '26', 'guggguaucuggaugugguuggcucuggcgguccucucacauuuacauauucacag\\n']\n",
        "['dme-mir-1004', '..(((((((...((((...(((((..(.((((.....)))))..)))))...))))..)))))))...', '68', '34', '1', '34', 'guugggggacauugaucucggagacggcgguuuaacugauccauucucucacaucacuucccucacag\\n']\n",
        "['dme-mir-1005', '(((((((((..((((((.((((((((.....)))....))))))))))).)))))))))..', '61', '30', '1', '28', 'gugaguugaucgauuucgagguuuuggcacacgaauauaaucuggaaucuuuaauucgcag\\n']\n",
        "['dme-mir-1006', '((((((..(((((((((.....((((((((.....))))))))..)))))))))..))))))..', '64', '32', '1', '32', 'gugaguuugaaauugaaaugcguaaauuguuugguacaauuuaaauucgauuucuuauucauag\\n']\n",
        "['dme-mir-1007', '(((((((((..((((.((..(((..((((....))).)..))).)).))))...)))))))))..', '65', '32', '1', '30', 'guaagcaguguuugaacucgaucuugguucuuggacucuugauaagcucaauuaacuguuugcag\\n']\n",
        "['dme-mir-1008', '((((((((..(((((((.(((((.((...)))))))..)))))))..))))))))..', '57', '28', '1', '27', 'guaaauaucuaaaguugaacuuggccaauggcaagucacagcuuuuuguguuuacag\\n']\n",
        "['dme-mir-1009', '..((((((((.(.(((.(((((.(((.(.....).))).)))))))).).))))))))...', '61', '30', '1', '30', 'guaaguguaagacuuucuugaguuacccgcgaugaguaucucaaaaauuguuacauuucag\\n']"
       ]
      },
      {
       "output_type": "stream",
       "stream": "stderr",
       "text": [
        "DEBUG:django.db.backends:(0.001) SELECT `loq_interval`.`id`, `loq_interval`.`chr`, `loq_interval`.`start`, `loq_interval`.`stop`, `loq_interval`.`mirName`, `loq_interval`.`NeatName`, `loq_interval`.`IntervalSize`, `loq_interval`.`IntervalSerialNumber`, `loq_interval`.`Structure`, `loq_interval`.`Annotations`, `loq_interval`.`Tags`, `loq_interval`.`all_reads_mapped`, `loq_interval`.`sum_normReads`, `loq_interval`.`mapped_strand`, `loq_interval`.`Link` FROM `loq_interval` WHERE `loq_interval`.`mirName` = 'dme-mir-1009' ; args=('dme-mir-1009',)\n"
       ]
      },
      {
       "output_type": "stream",
       "stream": "stderr",
       "text": [
        "DEBUG:django.db.backends:(0.001) SELECT `loq_interval`.`id`, `loq_interval`.`chr`, `loq_interval`.`start`, `loq_interval`.`stop`, `loq_interval`.`mirName`, `loq_interval`.`NeatName`, `loq_interval`.`IntervalSize`, `loq_interval`.`IntervalSerialNumber`, `loq_interval`.`Structure`, `loq_interval`.`Annotations`, `loq_interval`.`Tags`, `loq_interval`.`all_reads_mapped`, `loq_interval`.`sum_normReads`, `loq_interval`.`mapped_strand`, `loq_interval`.`Link` FROM `loq_interval` WHERE `loq_interval`.`mirName` = 'dme-mir-1010' ; args=('dme-mir-1010',)\n"
       ]
      },
      {
       "output_type": "stream",
       "stream": "stderr",
       "text": [
        "DEBUG:django.db.backends:(0.001) SELECT `loq_interval`.`id`, `loq_interval`.`chr`, `loq_interval`.`start`, `loq_interval`.`stop`, `loq_interval`.`mirName`, `loq_interval`.`NeatName`, `loq_interval`.`IntervalSize`, `loq_interval`.`IntervalSerialNumber`, `loq_interval`.`Structure`, `loq_interval`.`Annotations`, `loq_interval`.`Tags`, `loq_interval`.`all_reads_mapped`, `loq_interval`.`sum_normReads`, `loq_interval`.`mapped_strand`, `loq_interval`.`Link` FROM `loq_interval` WHERE `loq_interval`.`mirName` = 'dme-mir-1011' ; args=('dme-mir-1011',)\n"
       ]
      },
      {
       "output_type": "stream",
       "stream": "stderr",
       "text": [
        "DEBUG:django.db.backends:(0.001) SELECT `loq_interval`.`id`, `loq_interval`.`chr`, `loq_interval`.`start`, `loq_interval`.`stop`, `loq_interval`.`mirName`, `loq_interval`.`NeatName`, `loq_interval`.`IntervalSize`, `loq_interval`.`IntervalSerialNumber`, `loq_interval`.`Structure`, `loq_interval`.`Annotations`, `loq_interval`.`Tags`, `loq_interval`.`all_reads_mapped`, `loq_interval`.`sum_normReads`, `loq_interval`.`mapped_strand`, `loq_interval`.`Link` FROM `loq_interval` WHERE `loq_interval`.`mirName` = 'dme-mir-1012' ; args=('dme-mir-1012',)\n"
       ]
      },
      {
       "output_type": "stream",
       "stream": "stderr",
       "text": [
        "DEBUG:django.db.backends:(0.001) SELECT `loq_interval`.`id`, `loq_interval`.`chr`, `loq_interval`.`start`, `loq_interval`.`stop`, `loq_interval`.`mirName`, `loq_interval`.`NeatName`, `loq_interval`.`IntervalSize`, `loq_interval`.`IntervalSerialNumber`, `loq_interval`.`Structure`, `loq_interval`.`Annotations`, `loq_interval`.`Tags`, `loq_interval`.`all_reads_mapped`, `loq_interval`.`sum_normReads`, `loq_interval`.`mapped_strand`, `loq_interval`.`Link` FROM `loq_interval` WHERE `loq_interval`.`mirName` = 'dme-mir-1013' ; args=('dme-mir-1013',)\n"
       ]
      },
      {
       "output_type": "stream",
       "stream": "stderr",
       "text": [
        "DEBUG:django.db.backends:(0.001) SELECT `loq_interval`.`id`, `loq_interval`.`chr`, `loq_interval`.`start`, `loq_interval`.`stop`, `loq_interval`.`mirName`, `loq_interval`.`NeatName`, `loq_interval`.`IntervalSize`, `loq_interval`.`IntervalSerialNumber`, `loq_interval`.`Structure`, `loq_interval`.`Annotations`, `loq_interval`.`Tags`, `loq_interval`.`all_reads_mapped`, `loq_interval`.`sum_normReads`, `loq_interval`.`mapped_strand`, `loq_interval`.`Link` FROM `loq_interval` WHERE `loq_interval`.`mirName` = 'dme-mir-1014' ; args=('dme-mir-1014',)\n"
       ]
      },
      {
       "output_type": "stream",
       "stream": "stderr",
       "text": [
        "DEBUG:django.db.backends:(0.001) SELECT `loq_interval`.`id`, `loq_interval`.`chr`, `loq_interval`.`start`, `loq_interval`.`stop`, `loq_interval`.`mirName`, `loq_interval`.`NeatName`, `loq_interval`.`IntervalSize`, `loq_interval`.`IntervalSerialNumber`, `loq_interval`.`Structure`, `loq_interval`.`Annotations`, `loq_interval`.`Tags`, `loq_interval`.`all_reads_mapped`, `loq_interval`.`sum_normReads`, `loq_interval`.`mapped_strand`, `loq_interval`.`Link` FROM `loq_interval` WHERE `loq_interval`.`mirName` = 'dme-mir-1015' ; args=('dme-mir-1015',)\n"
       ]
      },
      {
       "output_type": "stream",
       "stream": "stderr",
       "text": [
        "DEBUG:django.db.backends:(0.001) SELECT `loq_interval`.`id`, `loq_interval`.`chr`, `loq_interval`.`start`, `loq_interval`.`stop`, `loq_interval`.`mirName`, `loq_interval`.`NeatName`, `loq_interval`.`IntervalSize`, `loq_interval`.`IntervalSerialNumber`, `loq_interval`.`Structure`, `loq_interval`.`Annotations`, `loq_interval`.`Tags`, `loq_interval`.`all_reads_mapped`, `loq_interval`.`sum_normReads`, `loq_interval`.`mapped_strand`, `loq_interval`.`Link` FROM `loq_interval` WHERE `loq_interval`.`mirName` = 'dme-mir-1016' ; args=('dme-mir-1016',)\n"
       ]
      },
      {
       "output_type": "stream",
       "stream": "stderr",
       "text": [
        "DEBUG:django.db.backends:(0.001) SELECT `loq_interval`.`id`, `loq_interval`.`chr`, `loq_interval`.`start`, `loq_interval`.`stop`, `loq_interval`.`mirName`, `loq_interval`.`NeatName`, `loq_interval`.`IntervalSize`, `loq_interval`.`IntervalSerialNumber`, `loq_interval`.`Structure`, `loq_interval`.`Annotations`, `loq_interval`.`Tags`, `loq_interval`.`all_reads_mapped`, `loq_interval`.`sum_normReads`, `loq_interval`.`mapped_strand`, `loq_interval`.`Link` FROM `loq_interval` WHERE `loq_interval`.`mirName` = 'dme-mir-1017' ; args=('dme-mir-1017',)\n"
       ]
      },
      {
       "output_type": "stream",
       "stream": "stderr",
       "text": [
        "DEBUG:django.db.backends:(0.001) SELECT `loq_interval`.`id`, `loq_interval`.`chr`, `loq_interval`.`start`, `loq_interval`.`stop`, `loq_interval`.`mirName`, `loq_interval`.`NeatName`, `loq_interval`.`IntervalSize`, `loq_interval`.`IntervalSerialNumber`, `loq_interval`.`Structure`, `loq_interval`.`Annotations`, `loq_interval`.`Tags`, `loq_interval`.`all_reads_mapped`, `loq_interval`.`sum_normReads`, `loq_interval`.`mapped_strand`, `loq_interval`.`Link` FROM `loq_interval` WHERE `loq_interval`.`mirName` = 'dme-mir-11' ; args=('dme-mir-11',)\n"
       ]
      },
      {
       "output_type": "stream",
       "stream": "stderr",
       "text": [
        "DEBUG:django.db.backends:(0.001) SELECT `loq_interval`.`id`, `loq_interval`.`chr`, `loq_interval`.`start`, `loq_interval`.`stop`, `loq_interval`.`mirName`, `loq_interval`.`NeatName`, `loq_interval`.`IntervalSize`, `loq_interval`.`IntervalSerialNumber`, `loq_interval`.`Structure`, `loq_interval`.`Annotations`, `loq_interval`.`Tags`, `loq_interval`.`all_reads_mapped`, `loq_interval`.`sum_normReads`, `loq_interval`.`mapped_strand`, `loq_interval`.`Link` FROM `loq_interval` WHERE `loq_interval`.`mirName` = 'dme-mir-12' ; args=('dme-mir-12',)\n"
       ]
      },
      {
       "output_type": "stream",
       "stream": "stderr",
       "text": [
        "DEBUG:django.db.backends:(0.001) SELECT `loq_interval`.`id`, `loq_interval`.`chr`, `loq_interval`.`start`, `loq_interval`.`stop`, `loq_interval`.`mirName`, `loq_interval`.`NeatName`, `loq_interval`.`IntervalSize`, `loq_interval`.`IntervalSerialNumber`, `loq_interval`.`Structure`, `loq_interval`.`Annotations`, `loq_interval`.`Tags`, `loq_interval`.`all_reads_mapped`, `loq_interval`.`sum_normReads`, `loq_interval`.`mapped_strand`, `loq_interval`.`Link` FROM `loq_interval` WHERE `loq_interval`.`mirName` = 'dme-mir-124' ; args=('dme-mir-124',)\n"
       ]
      },
      {
       "output_type": "stream",
       "stream": "stderr",
       "text": [
        "DEBUG:django.db.backends:(0.001) SELECT `loq_interval`.`id`, `loq_interval`.`chr`, `loq_interval`.`start`, `loq_interval`.`stop`, `loq_interval`.`mirName`, `loq_interval`.`NeatName`, `loq_interval`.`IntervalSize`, `loq_interval`.`IntervalSerialNumber`, `loq_interval`.`Structure`, `loq_interval`.`Annotations`, `loq_interval`.`Tags`, `loq_interval`.`all_reads_mapped`, `loq_interval`.`sum_normReads`, `loq_interval`.`mapped_strand`, `loq_interval`.`Link` FROM `loq_interval` WHERE `loq_interval`.`mirName` = 'dme-mir-125' ; args=('dme-mir-125',)\n"
       ]
      },
      {
       "output_type": "stream",
       "stream": "stderr",
       "text": [
        "DEBUG:django.db.backends:(0.001) SELECT `loq_interval`.`id`, `loq_interval`.`chr`, `loq_interval`.`start`, `loq_interval`.`stop`, `loq_interval`.`mirName`, `loq_interval`.`NeatName`, `loq_interval`.`IntervalSize`, `loq_interval`.`IntervalSerialNumber`, `loq_interval`.`Structure`, `loq_interval`.`Annotations`, `loq_interval`.`Tags`, `loq_interval`.`all_reads_mapped`, `loq_interval`.`sum_normReads`, `loq_interval`.`mapped_strand`, `loq_interval`.`Link` FROM `loq_interval` WHERE `loq_interval`.`mirName` = 'dme-mir-133' ; args=('dme-mir-133',)\n"
       ]
      },
      {
       "output_type": "stream",
       "stream": "stderr",
       "text": [
        "DEBUG:django.db.backends:(0.001) SELECT `loq_interval`.`id`, `loq_interval`.`chr`, `loq_interval`.`start`, `loq_interval`.`stop`, `loq_interval`.`mirName`, `loq_interval`.`NeatName`, `loq_interval`.`IntervalSize`, `loq_interval`.`IntervalSerialNumber`, `loq_interval`.`Structure`, `loq_interval`.`Annotations`, `loq_interval`.`Tags`, `loq_interval`.`all_reads_mapped`, `loq_interval`.`sum_normReads`, `loq_interval`.`mapped_strand`, `loq_interval`.`Link` FROM `loq_interval` WHERE `loq_interval`.`mirName` = 'dme-mir-137' ; args=('dme-mir-137',)\n"
       ]
      },
      {
       "output_type": "stream",
       "stream": "stderr",
       "text": [
        "DEBUG:django.db.backends:(0.001) SELECT `loq_interval`.`id`, `loq_interval`.`chr`, `loq_interval`.`start`, `loq_interval`.`stop`, `loq_interval`.`mirName`, `loq_interval`.`NeatName`, `loq_interval`.`IntervalSize`, `loq_interval`.`IntervalSerialNumber`, `loq_interval`.`Structure`, `loq_interval`.`Annotations`, `loq_interval`.`Tags`, `loq_interval`.`all_reads_mapped`, `loq_interval`.`sum_normReads`, `loq_interval`.`mapped_strand`, `loq_interval`.`Link` FROM `loq_interval` WHERE `loq_interval`.`mirName` = 'dme-mir-13a' ; args=('dme-mir-13a',)\n"
       ]
      },
      {
       "output_type": "stream",
       "stream": "stdout",
       "text": [
        "\n",
        "['dme-mir-1010', '((((((((.((((.((((((((.....((((((....)))))).)))))))).))))....))))))))..', '71', '35', '1', '34', 'guaagugguguagaugaaacaaauuuaccaacaauuuuguuggauuguuucaccuaucguuccauuugcag\\n']\n",
        "['dme-mir-1011', '((((((.((((((((((.((((.......)))).))))))))))..))))))..', '54', '27', '1', '25', 'gugaguuuuugagccaggaauauaguucuuauuauugguucaaaucgcucgcag\\n']\n",
        "['dme-mir-1012', '(((((.((((((((((((((((((........)))))))))))))).)))).)))))..', '59', '29', '1', '27', 'guggguagaacuuugauuaauauugcuugaaaaauauuagucaaagauuuuccccauag\\n']\n",
        "['dme-mir-1013', '((((((((.(((.((((.((((((.((.....))))))))..)))).))).))))))))..', '61', '30', '1', '29', 'gugaguuucguacacuuaauuaauaggaucggccguuaauaaaaguaugccgaacucgcag\\n']\n",
        "['dme-mir-1014', '(((.(((((((((.(((((((((..(((.(((....))).))).))))))))).))))))))))))..', '68', '34', '1', '33', 'guauaauggaaauagauuuuaaucgcaggcgcgucagugguugaauuaaaauucauuuucauuugcag\\n']\n",
        "['dme-mir-1015', '..(((.(((((((((.(((((...))))).))(((((....)))))))).)))).)))......', '64', '32', '2', '38', 'gugagugaugcuccaguuagcuuggcugagugaggauuuaaguccugggacaucucucuugcag\\n']\n",
        "['dme-mir-1016', '.(((((((.((((((..((((((((......))))...)))).)))))).))))))).', '58', '29', '1', '27', 'guaaguauagagaggaugugauugguaaauuccaaaguucaccucucuccauacuuag\\n']\n",
        "['dme-mir-1017', '((((((((.(((((((((...........((((..........)))))))))))))..)))))))).....', '71', '35', '1', '37', 'gugaguuuaguggaguuuaaagcuucccaucgccagcaauuacgcgaaagcucuacccaaacucauccccc\\n']\n",
        "['dme-mir-11', '(((((((.(((((((((...((((((...(((.((........))))).))))))...))))))))).)))))))', '75', '37', '1', '38', 'gcacuugucaagaacuuucucugugacccgcguguacuuaaaagccgcaucacagucugaguucuugcugagugc\\n']\n",
        "['dme-mir-12', '((((((..(((((.((((.((((((((((((............)).)))))))))))))).)))))..))))))', '74', '37', '1', '36', 'uacgguugaguauuacaucagguacuggugugccuuaaauccaacaaccaguacuuaugucauacuacgccgug\\n']\n",
        "['dme-mir-124', '..........(((((..(((.((((((.((((((..((((.((((.........))))))))..)))))).)))))).))).))))).............', '100', '50', '1', '49', 'ucauuugguacguuuuucuccugguauccacuguaggccuauauguauuuccaccauaaggcacgcggugaaugccaagagcgaacgcaguucuacaaau\\n']\n",
        "['dme-mir-125', '(((((..((((..((((((....(((((..((.((((.(..(((((((((...............)))))))))..).)))).)).)))))..))))))))))..)))))', '110', '55', '1', '57', 'gacaugugcaaauguuuguauggcugauucccugagacccuaacuugugacuuuuaauaccaguuucacaaguuuugaucuccgguauuggacgcaaacuugcugauguu\\n']\n",
        "['dme-mir-133', '.....((((((((..(((((((((((((....(((((((((((........)).)))))).)))..)))))))))))))..)))).))))........', '98', '49', '1', '46', 'accugcaacacuguguguagcugguugacaucgggucagaucuguuuuucaagcauuugguccccuucaaccagcuguagccagugguugaugacaac\\n']\n",
        "['dme-mir-137', '.((((((....(((.((((((((.((((.(((.(((((.((.....))...))))).))))))).)))))))).)))....))))))....', '91', '45', '1', '43', 'caaucuccaauggccacguguaugcucguagcuauaaccugaaauccaaauguuauugcuugagaauacacguaguucaccgagauuuguu\\n']\n",
        "['dme-mir-13a', '((((.(((((.((((((((((((((.(((................))).)))))))).)))))).))))).))))', '75', '37', '1', '36', 'uacguaacuccucaaaggguugugaaaugucgacuauuaucuacucauaucacagccauuuugaugaguuucgug\\n']\n",
        "['dme-mir-13b-1', '(((..(((((((((((.((((((...((((..........)))))))))).)))))))))))...)))', '68', '34', '1', '34', 'ccaugucguuaaaauguuugugaacuuauguauucacaaucauaucacagccauuuugacgaguuugg\\n']"
       ]
      },
      {
       "output_type": "stream",
       "stream": "stderr",
       "text": [
        "DEBUG:django.db.backends:(0.001) SELECT `loq_interval`.`id`, `loq_interval`.`chr`, `loq_interval`.`start`, `loq_interval`.`stop`, `loq_interval`.`mirName`, `loq_interval`.`NeatName`, `loq_interval`.`IntervalSize`, `loq_interval`.`IntervalSerialNumber`, `loq_interval`.`Structure`, `loq_interval`.`Annotations`, `loq_interval`.`Tags`, `loq_interval`.`all_reads_mapped`, `loq_interval`.`sum_normReads`, `loq_interval`.`mapped_strand`, `loq_interval`.`Link` FROM `loq_interval` WHERE `loq_interval`.`mirName` = 'dme-mir-13b-1' ; args=('dme-mir-13b-1',)\n"
       ]
      },
      {
       "output_type": "stream",
       "stream": "stderr",
       "text": [
        "DEBUG:django.db.backends:(0.001) SELECT `loq_interval`.`id`, `loq_interval`.`chr`, `loq_interval`.`start`, `loq_interval`.`stop`, `loq_interval`.`mirName`, `loq_interval`.`NeatName`, `loq_interval`.`IntervalSize`, `loq_interval`.`IntervalSerialNumber`, `loq_interval`.`Structure`, `loq_interval`.`Annotations`, `loq_interval`.`Tags`, `loq_interval`.`all_reads_mapped`, `loq_interval`.`sum_normReads`, `loq_interval`.`mapped_strand`, `loq_interval`.`Link` FROM `loq_interval` WHERE `loq_interval`.`mirName` = 'dme-mir-13b-2' ; args=('dme-mir-13b-2',)\n"
       ]
      },
      {
       "output_type": "stream",
       "stream": "stderr",
       "text": [
        "DEBUG:django.db.backends:(0.001) SELECT `loq_interval`.`id`, `loq_interval`.`chr`, `loq_interval`.`start`, `loq_interval`.`stop`, `loq_interval`.`mirName`, `loq_interval`.`NeatName`, `loq_interval`.`IntervalSize`, `loq_interval`.`IntervalSerialNumber`, `loq_interval`.`Structure`, `loq_interval`.`Annotations`, `loq_interval`.`Tags`, `loq_interval`.`all_reads_mapped`, `loq_interval`.`sum_normReads`, `loq_interval`.`mapped_strand`, `loq_interval`.`Link` FROM `loq_interval` WHERE `loq_interval`.`mirName` = 'dme-mir-14' ; args=('dme-mir-14',)\n"
       ]
      },
      {
       "output_type": "stream",
       "stream": "stderr",
       "text": [
        "DEBUG:django.db.backends:(0.001) SELECT `loq_interval`.`id`, `loq_interval`.`chr`, `loq_interval`.`start`, `loq_interval`.`stop`, `loq_interval`.`mirName`, `loq_interval`.`NeatName`, `loq_interval`.`IntervalSize`, `loq_interval`.`IntervalSerialNumber`, `loq_interval`.`Structure`, `loq_interval`.`Annotations`, `loq_interval`.`Tags`, `loq_interval`.`all_reads_mapped`, `loq_interval`.`sum_normReads`, `loq_interval`.`mapped_strand`, `loq_interval`.`Link` FROM `loq_interval` WHERE `loq_interval`.`mirName` = 'dme-mir-184' ; args=('dme-mir-184',)\n"
       ]
      },
      {
       "output_type": "stream",
       "stream": "stderr",
       "text": [
        "DEBUG:django.db.backends:(0.001) SELECT `loq_interval`.`id`, `loq_interval`.`chr`, `loq_interval`.`start`, `loq_interval`.`stop`, `loq_interval`.`mirName`, `loq_interval`.`NeatName`, `loq_interval`.`IntervalSize`, `loq_interval`.`IntervalSerialNumber`, `loq_interval`.`Structure`, `loq_interval`.`Annotations`, `loq_interval`.`Tags`, `loq_interval`.`all_reads_mapped`, `loq_interval`.`sum_normReads`, `loq_interval`.`mapped_strand`, `loq_interval`.`Link` FROM `loq_interval` WHERE `loq_interval`.`mirName` = 'dme-mir-190' ; args=('dme-mir-190',)\n"
       ]
      },
      {
       "output_type": "stream",
       "stream": "stderr",
       "text": [
        "DEBUG:django.db.backends:(0.001) SELECT `loq_interval`.`id`, `loq_interval`.`chr`, `loq_interval`.`start`, `loq_interval`.`stop`, `loq_interval`.`mirName`, `loq_interval`.`NeatName`, `loq_interval`.`IntervalSize`, `loq_interval`.`IntervalSerialNumber`, `loq_interval`.`Structure`, `loq_interval`.`Annotations`, `loq_interval`.`Tags`, `loq_interval`.`all_reads_mapped`, `loq_interval`.`sum_normReads`, `loq_interval`.`mapped_strand`, `loq_interval`.`Link` FROM `loq_interval` WHERE `loq_interval`.`mirName` = 'dme-mir-193' ; args=('dme-mir-193',)\n"
       ]
      },
      {
       "output_type": "stream",
       "stream": "stderr",
       "text": [
        "DEBUG:django.db.backends:(0.001) SELECT `loq_interval`.`id`, `loq_interval`.`chr`, `loq_interval`.`start`, `loq_interval`.`stop`, `loq_interval`.`mirName`, `loq_interval`.`NeatName`, `loq_interval`.`IntervalSize`, `loq_interval`.`IntervalSerialNumber`, `loq_interval`.`Structure`, `loq_interval`.`Annotations`, `loq_interval`.`Tags`, `loq_interval`.`all_reads_mapped`, `loq_interval`.`sum_normReads`, `loq_interval`.`mapped_strand`, `loq_interval`.`Link` FROM `loq_interval` WHERE `loq_interval`.`mirName` = 'dme-mir-210' ; args=('dme-mir-210',)\n"
       ]
      },
      {
       "output_type": "stream",
       "stream": "stderr",
       "text": [
        "DEBUG:django.db.backends:(0.001) SELECT `loq_interval`.`id`, `loq_interval`.`chr`, `loq_interval`.`start`, `loq_interval`.`stop`, `loq_interval`.`mirName`, `loq_interval`.`NeatName`, `loq_interval`.`IntervalSize`, `loq_interval`.`IntervalSerialNumber`, `loq_interval`.`Structure`, `loq_interval`.`Annotations`, `loq_interval`.`Tags`, `loq_interval`.`all_reads_mapped`, `loq_interval`.`sum_normReads`, `loq_interval`.`mapped_strand`, `loq_interval`.`Link` FROM `loq_interval` WHERE `loq_interval`.`mirName` = 'dme-mir-219' ; args=('dme-mir-219',)\n"
       ]
      },
      {
       "output_type": "stream",
       "stream": "stderr",
       "text": [
        "DEBUG:django.db.backends:(0.001) SELECT `loq_interval`.`id`, `loq_interval`.`chr`, `loq_interval`.`start`, `loq_interval`.`stop`, `loq_interval`.`mirName`, `loq_interval`.`NeatName`, `loq_interval`.`IntervalSize`, `loq_interval`.`IntervalSerialNumber`, `loq_interval`.`Structure`, `loq_interval`.`Annotations`, `loq_interval`.`Tags`, `loq_interval`.`all_reads_mapped`, `loq_interval`.`sum_normReads`, `loq_interval`.`mapped_strand`, `loq_interval`.`Link` FROM `loq_interval` WHERE `loq_interval`.`mirName` = 'dme-mir-2279' ; args=('dme-mir-2279',)\n"
       ]
      },
      {
       "output_type": "stream",
       "stream": "stderr",
       "text": [
        "DEBUG:django.db.backends:(0.001) SELECT `loq_interval`.`id`, `loq_interval`.`chr`, `loq_interval`.`start`, `loq_interval`.`stop`, `loq_interval`.`mirName`, `loq_interval`.`NeatName`, `loq_interval`.`IntervalSize`, `loq_interval`.`IntervalSerialNumber`, `loq_interval`.`Structure`, `loq_interval`.`Annotations`, `loq_interval`.`Tags`, `loq_interval`.`all_reads_mapped`, `loq_interval`.`sum_normReads`, `loq_interval`.`mapped_strand`, `loq_interval`.`Link` FROM `loq_interval` WHERE `loq_interval`.`mirName` = 'dme-mir-2280' ; args=('dme-mir-2280',)\n"
       ]
      },
      {
       "output_type": "stream",
       "stream": "stderr",
       "text": [
        "DEBUG:django.db.backends:(0.001) SELECT `loq_interval`.`id`, `loq_interval`.`chr`, `loq_interval`.`start`, `loq_interval`.`stop`, `loq_interval`.`mirName`, `loq_interval`.`NeatName`, `loq_interval`.`IntervalSize`, `loq_interval`.`IntervalSerialNumber`, `loq_interval`.`Structure`, `loq_interval`.`Annotations`, `loq_interval`.`Tags`, `loq_interval`.`all_reads_mapped`, `loq_interval`.`sum_normReads`, `loq_interval`.`mapped_strand`, `loq_interval`.`Link` FROM `loq_interval` WHERE `loq_interval`.`mirName` = 'dme-mir-2281' ; args=('dme-mir-2281',)\n"
       ]
      },
      {
       "output_type": "stream",
       "stream": "stderr",
       "text": [
        "DEBUG:django.db.backends:(0.001) SELECT `loq_interval`.`id`, `loq_interval`.`chr`, `loq_interval`.`start`, `loq_interval`.`stop`, `loq_interval`.`mirName`, `loq_interval`.`NeatName`, `loq_interval`.`IntervalSize`, `loq_interval`.`IntervalSerialNumber`, `loq_interval`.`Structure`, `loq_interval`.`Annotations`, `loq_interval`.`Tags`, `loq_interval`.`all_reads_mapped`, `loq_interval`.`sum_normReads`, `loq_interval`.`mapped_strand`, `loq_interval`.`Link` FROM `loq_interval` WHERE `loq_interval`.`mirName` = 'dme-mir-2282' ; args=('dme-mir-2282',)\n"
       ]
      },
      {
       "output_type": "stream",
       "stream": "stderr",
       "text": [
        "DEBUG:django.db.backends:(0.001) SELECT `loq_interval`.`id`, `loq_interval`.`chr`, `loq_interval`.`start`, `loq_interval`.`stop`, `loq_interval`.`mirName`, `loq_interval`.`NeatName`, `loq_interval`.`IntervalSize`, `loq_interval`.`IntervalSerialNumber`, `loq_interval`.`Structure`, `loq_interval`.`Annotations`, `loq_interval`.`Tags`, `loq_interval`.`all_reads_mapped`, `loq_interval`.`sum_normReads`, `loq_interval`.`mapped_strand`, `loq_interval`.`Link` FROM `loq_interval` WHERE `loq_interval`.`mirName` = 'dme-mir-2283' ; args=('dme-mir-2283',)\n"
       ]
      },
      {
       "output_type": "stream",
       "stream": "stderr",
       "text": [
        "DEBUG:django.db.backends:(0.001) SELECT `loq_interval`.`id`, `loq_interval`.`chr`, `loq_interval`.`start`, `loq_interval`.`stop`, `loq_interval`.`mirName`, `loq_interval`.`NeatName`, `loq_interval`.`IntervalSize`, `loq_interval`.`IntervalSerialNumber`, `loq_interval`.`Structure`, `loq_interval`.`Annotations`, `loq_interval`.`Tags`, `loq_interval`.`all_reads_mapped`, `loq_interval`.`sum_normReads`, `loq_interval`.`mapped_strand`, `loq_interval`.`Link` FROM `loq_interval` WHERE `loq_interval`.`mirName` = 'dme-mir-2489' ; args=('dme-mir-2489',)\n"
       ]
      },
      {
       "output_type": "stream",
       "stream": "stderr",
       "text": [
        "DEBUG:django.db.backends:(0.001) SELECT `loq_interval`.`id`, `loq_interval`.`chr`, `loq_interval`.`start`, `loq_interval`.`stop`, `loq_interval`.`mirName`, `loq_interval`.`NeatName`, `loq_interval`.`IntervalSize`, `loq_interval`.`IntervalSerialNumber`, `loq_interval`.`Structure`, `loq_interval`.`Annotations`, `loq_interval`.`Tags`, `loq_interval`.`all_reads_mapped`, `loq_interval`.`sum_normReads`, `loq_interval`.`mapped_strand`, `loq_interval`.`Link` FROM `loq_interval` WHERE `loq_interval`.`mirName` = 'dme-mir-2490' ; args=('dme-mir-2490',)\n"
       ]
      },
      {
       "output_type": "stream",
       "stream": "stderr",
       "text": [
        "DEBUG:django.db.backends:(0.001) SELECT `loq_interval`.`id`, `loq_interval`.`chr`, `loq_interval`.`start`, `loq_interval`.`stop`, `loq_interval`.`mirName`, `loq_interval`.`NeatName`, `loq_interval`.`IntervalSize`, `loq_interval`.`IntervalSerialNumber`, `loq_interval`.`Structure`, `loq_interval`.`Annotations`, `loq_interval`.`Tags`, `loq_interval`.`all_reads_mapped`, `loq_interval`.`sum_normReads`, `loq_interval`.`mapped_strand`, `loq_interval`.`Link` FROM `loq_interval` WHERE `loq_interval`.`mirName` = 'dme-mir-2491' ; args=('dme-mir-2491',)\n"
       ]
      },
      {
       "output_type": "stream",
       "stream": "stderr",
       "text": [
        "DEBUG:django.db.backends:(0.001) SELECT `loq_interval`.`id`, `loq_interval`.`chr`, `loq_interval`.`start`, `loq_interval`.`stop`, `loq_interval`.`mirName`, `loq_interval`.`NeatName`, `loq_interval`.`IntervalSize`, `loq_interval`.`IntervalSerialNumber`, `loq_interval`.`Structure`, `loq_interval`.`Annotations`, `loq_interval`.`Tags`, `loq_interval`.`all_reads_mapped`, `loq_interval`.`sum_normReads`, `loq_interval`.`mapped_strand`, `loq_interval`.`Link` FROM `loq_interval` WHERE `loq_interval`.`mirName` = 'dme-mir-2492' ; args=('dme-mir-2492',)\n"
       ]
      },
      {
       "output_type": "stream",
       "stream": "stdout",
       "text": [
        "\n",
        "['dme-mir-13b-2', '....(((.((((((((((.((((((..((((.((......)).)))))))))).)))))))))).)))..', '70', '35', '1', '36', 'uauuaacgcgucaaaaugacugugagcuauguggauuugacuucauaucacagccauuuugacgaguuug\\n']\n",
        "['dme-mir-14', '((((((((.((((.(((((((.(((((.........))))).))))))).)))).))))))))', '63', '31', '1', '31', 'ugugggagcgagacggggacucacugugcuuauuaaauagucagucuuuuucucucuccuaua\\n']\n",
        "['dme-mir-184', '((....))((((.((.((..((((((((((((((.((((...(((..........)))...)).))))))).)))))))))..)).))))))........', '100', '50', '2', '49', 'gguuggccggugcauucguacccuuaucauucucucgccccgugugcacuuaaagacaacuggacggagaacugauaagggcucguaucaccaauucauc\\n']\n",
        "['dme-mir-190', '.........(((.((((.((((((((((((((((((..((((((.((...............)).)))))))))))))))))).)))))).)))).))).', '100', '50', '1', '54', 'cgaacuaauugaugguuccagugagauauguuugauauucuugguuguuucauucaaaaguucacccaggaaucaaacauauuauuacugugacccucgc\\n']\n",
        "['dme-mir-193', '....(((.(((((((((.(((((((((..(((...((((.....)))).....((((..................)))))))..)))))))))))))))))).)))..', '108', '54', '2', '65', 'ugugugcccuuauuaugguugggauuuuuuagaucagcaguuauugcuauauagccauauuuauaaaucuucuacuggccuacuaagucccaacauaaugagaguaaa\\n']\n",
        "['dme-mir-210', '...(((.(((((...((((((((..((((((((((((((........)).))))))))).))).))))))))...)))))..)))......((....)).', '100', '50', '2', '42', 'aaaggugcuuauugcagcugcuggccacugcacaagauuagacuuaagacucuugugcgugugacagcggcuauuguaagaggccauagaagcaacagcc\\n']\n",
        "['dme-mir-219', '..((((.(((((.((((.((((.(((((..(((((((((((..(((((...))))))))))))))))..))))))))).)))).)))))..)))).....', '100', '50', '1', '49', 'uaauucgauuuuuagcuaugauuguccaaacgcaauucuuguugauauucaauauucaaggguugcgacugggcaucgcggcucgaaauaagaauacaac\\n']\n",
        "['dme-mir-2279', '(((......((((((...(((((..(((((.(((((((((.((((((((((((.((....)).)))))))))))).))))))))).)))))...)))))..))))))..))).', '113', '56', '1', '57', 'cgggagaggauuaugaaagacaauuugaaauuaaauaucugugugugaaauuauuuaaaagauuaauuucacgcgaagauauuuauuuuuacauuugucccuauaauaaccgg\\n']\n",
        "['dme-mir-2280', '((((......(((..((((((((((.(((..(((((((((...((((.((((((((...)))..))))).))))...)))))))))..))).))))))))))..)))...)))).', '115', '57', '1', '57', 'ucguuuaagaugcugugaauaucccguuuucuuagcuuggcaauaaaauauuauucacagaaacuaguaauuuacuuccaagcuaacugaaggggauauucagugcaaccacgga\\n']\n",
        "['dme-mir-2281', '((((((.(((((((..(((((.((.((((((.((((((((((.(((......))).)))))))))).)))))))).))).))...))))))).....))))))', '103', '51', '1', '48', 'ggaugucgagcaguacacguauuaucugcagcugcagaugcaaauguauauguaucuguaucuguaucugcaguauugcaguaucgcugcuuuauucauaucc\\n']\n",
        "['dme-mir-2282', '.(((.......((.(((((...(((.((((((((((.((((((((.....(.(......).)....)))))))).))))))))))..)))..)))))))....))).', '107', '53', '1', '55', 'gccugcauaacgcuguggcuuuccgcuucuauuuuucguucacugccuugugcuucguuggaaaaucggugagcuaaaaauagaauucgguugccacgcuucaaggg\\n']\n",
        "['dme-mir-2283', '(((((((((.(((((((((((.((((...(((.(((....))).)))..)))).))))))))))).))))))))).', '76', '38', '1', '37', 'agcugcuccgaaaauaucaugaauacgacaauuaugugcacaucauuuaguauacgugauauuuuaggagcagcua\\n']\n",
        "['dme-mir-2489', '((.((..((.(((((((((((((((.((((((..((((((((((....))))))..).)))..))))))))))))))))).)))).)).)).)).', '95', '47', '1', '45', 'gcaauaaguuagacgugaguauggcuauacaaaucaucuggaacguaaguucuaauguauguauuguauguuguauuugcaguuuuaugauagca\\n']\n",
        "['dme-mir-2490', '..(((((((.(((((((((((.(((..(((((..((......))))))).))).))))))))))).)))))))..', '75', '37', '1', '38', 'gagcgaguugaagcgauaaagcagguugcaaacugcucucucgcuuugcucuuacuuuaucgcuuaaacucgcaa\\n']\n",
        "['dme-mir-2491', '(((((........((((.((((((((..((((.(((((((((....((((((((..((((...........))))..)))))))).............))))))))).))))..)))))))).)))))))))............', '144', '72', '1', '65', 'cgcgaaccacuuugugccgcuguugccuuugcaguugcuguuuuccauguugcuacugcggccaauuguugcgcaucagcaacaucaacaacaucaacaacagcagcagcaacugcaguagcagcacucgugauucacuuucga\\n']\n",
        "['dme-mir-2492', '(((((((((.((((.(((((.(((((((((................))))))))).))))).))))))))))))).', '76', '38', '1', '37', 'gaauuuuuuugggaucucuuuauaaagcguuuauuauuuauuuauuauguuuugucgagagcuuucaaaaaauuca\\n']\n",
        "['dme-mir-2493', '.(((....(((.(((..(((((((((.((((.((((((.(((((((((.....)))......)))))).))))))...)))).)).))))))).))).)))..)))', '106', '53', '1', '50', 'cgcuauuauuaaaacccccaacgcucacacacacacacagccaugugcauggagcaaaaaacuauggccguguguauuugugcgaggcguuggcguucugaccagc\\n']"
       ]
      },
      {
       "output_type": "stream",
       "stream": "stderr",
       "text": [
        "DEBUG:django.db.backends:(0.001) SELECT `loq_interval`.`id`, `loq_interval`.`chr`, `loq_interval`.`start`, `loq_interval`.`stop`, `loq_interval`.`mirName`, `loq_interval`.`NeatName`, `loq_interval`.`IntervalSize`, `loq_interval`.`IntervalSerialNumber`, `loq_interval`.`Structure`, `loq_interval`.`Annotations`, `loq_interval`.`Tags`, `loq_interval`.`all_reads_mapped`, `loq_interval`.`sum_normReads`, `loq_interval`.`mapped_strand`, `loq_interval`.`Link` FROM `loq_interval` WHERE `loq_interval`.`mirName` = 'dme-mir-2493' ; args=('dme-mir-2493',)\n"
       ]
      },
      {
       "output_type": "stream",
       "stream": "stderr",
       "text": [
        "DEBUG:django.db.backends:(0.001) SELECT `loq_interval`.`id`, `loq_interval`.`chr`, `loq_interval`.`start`, `loq_interval`.`stop`, `loq_interval`.`mirName`, `loq_interval`.`NeatName`, `loq_interval`.`IntervalSize`, `loq_interval`.`IntervalSerialNumber`, `loq_interval`.`Structure`, `loq_interval`.`Annotations`, `loq_interval`.`Tags`, `loq_interval`.`all_reads_mapped`, `loq_interval`.`sum_normReads`, `loq_interval`.`mapped_strand`, `loq_interval`.`Link` FROM `loq_interval` WHERE `loq_interval`.`mirName` = 'dme-mir-2494' ; args=('dme-mir-2494',)\n"
       ]
      },
      {
       "output_type": "stream",
       "stream": "stderr",
       "text": [
        "DEBUG:django.db.backends:(0.001) SELECT `loq_interval`.`id`, `loq_interval`.`chr`, `loq_interval`.`start`, `loq_interval`.`stop`, `loq_interval`.`mirName`, `loq_interval`.`NeatName`, `loq_interval`.`IntervalSize`, `loq_interval`.`IntervalSerialNumber`, `loq_interval`.`Structure`, `loq_interval`.`Annotations`, `loq_interval`.`Tags`, `loq_interval`.`all_reads_mapped`, `loq_interval`.`sum_normReads`, `loq_interval`.`mapped_strand`, `loq_interval`.`Link` FROM `loq_interval` WHERE `loq_interval`.`mirName` = 'dme-mir-2495' ; args=('dme-mir-2495',)\n"
       ]
      },
      {
       "output_type": "stream",
       "stream": "stderr",
       "text": [
        "DEBUG:django.db.backends:(0.001) SELECT `loq_interval`.`id`, `loq_interval`.`chr`, `loq_interval`.`start`, `loq_interval`.`stop`, `loq_interval`.`mirName`, `loq_interval`.`NeatName`, `loq_interval`.`IntervalSize`, `loq_interval`.`IntervalSerialNumber`, `loq_interval`.`Structure`, `loq_interval`.`Annotations`, `loq_interval`.`Tags`, `loq_interval`.`all_reads_mapped`, `loq_interval`.`sum_normReads`, `loq_interval`.`mapped_strand`, `loq_interval`.`Link` FROM `loq_interval` WHERE `loq_interval`.`mirName` = 'dme-mir-2496' ; args=('dme-mir-2496',)\n"
       ]
      },
      {
       "output_type": "stream",
       "stream": "stderr",
       "text": [
        "DEBUG:django.db.backends:(0.001) SELECT `loq_interval`.`id`, `loq_interval`.`chr`, `loq_interval`.`start`, `loq_interval`.`stop`, `loq_interval`.`mirName`, `loq_interval`.`NeatName`, `loq_interval`.`IntervalSize`, `loq_interval`.`IntervalSerialNumber`, `loq_interval`.`Structure`, `loq_interval`.`Annotations`, `loq_interval`.`Tags`, `loq_interval`.`all_reads_mapped`, `loq_interval`.`sum_normReads`, `loq_interval`.`mapped_strand`, `loq_interval`.`Link` FROM `loq_interval` WHERE `loq_interval`.`mirName` = 'dme-mir-2497' ; args=('dme-mir-2497',)\n"
       ]
      },
      {
       "output_type": "stream",
       "stream": "stderr",
       "text": [
        "DEBUG:django.db.backends:(0.001) SELECT `loq_interval`.`id`, `loq_interval`.`chr`, `loq_interval`.`start`, `loq_interval`.`stop`, `loq_interval`.`mirName`, `loq_interval`.`NeatName`, `loq_interval`.`IntervalSize`, `loq_interval`.`IntervalSerialNumber`, `loq_interval`.`Structure`, `loq_interval`.`Annotations`, `loq_interval`.`Tags`, `loq_interval`.`all_reads_mapped`, `loq_interval`.`sum_normReads`, `loq_interval`.`mapped_strand`, `loq_interval`.`Link` FROM `loq_interval` WHERE `loq_interval`.`mirName` = 'dme-mir-2498' ; args=('dme-mir-2498',)\n"
       ]
      },
      {
       "output_type": "stream",
       "stream": "stderr",
       "text": [
        "DEBUG:django.db.backends:(0.001) SELECT `loq_interval`.`id`, `loq_interval`.`chr`, `loq_interval`.`start`, `loq_interval`.`stop`, `loq_interval`.`mirName`, `loq_interval`.`NeatName`, `loq_interval`.`IntervalSize`, `loq_interval`.`IntervalSerialNumber`, `loq_interval`.`Structure`, `loq_interval`.`Annotations`, `loq_interval`.`Tags`, `loq_interval`.`all_reads_mapped`, `loq_interval`.`sum_normReads`, `loq_interval`.`mapped_strand`, `loq_interval`.`Link` FROM `loq_interval` WHERE `loq_interval`.`mirName` = 'dme-mir-2499' ; args=('dme-mir-2499',)\n"
       ]
      },
      {
       "output_type": "stream",
       "stream": "stderr",
       "text": [
        "DEBUG:django.db.backends:(0.001) SELECT `loq_interval`.`id`, `loq_interval`.`chr`, `loq_interval`.`start`, `loq_interval`.`stop`, `loq_interval`.`mirName`, `loq_interval`.`NeatName`, `loq_interval`.`IntervalSize`, `loq_interval`.`IntervalSerialNumber`, `loq_interval`.`Structure`, `loq_interval`.`Annotations`, `loq_interval`.`Tags`, `loq_interval`.`all_reads_mapped`, `loq_interval`.`sum_normReads`, `loq_interval`.`mapped_strand`, `loq_interval`.`Link` FROM `loq_interval` WHERE `loq_interval`.`mirName` = 'dme-mir-2500' ; args=('dme-mir-2500',)\n"
       ]
      },
      {
       "output_type": "stream",
       "stream": "stderr",
       "text": [
        "DEBUG:django.db.backends:(0.001) SELECT `loq_interval`.`id`, `loq_interval`.`chr`, `loq_interval`.`start`, `loq_interval`.`stop`, `loq_interval`.`mirName`, `loq_interval`.`NeatName`, `loq_interval`.`IntervalSize`, `loq_interval`.`IntervalSerialNumber`, `loq_interval`.`Structure`, `loq_interval`.`Annotations`, `loq_interval`.`Tags`, `loq_interval`.`all_reads_mapped`, `loq_interval`.`sum_normReads`, `loq_interval`.`mapped_strand`, `loq_interval`.`Link` FROM `loq_interval` WHERE `loq_interval`.`mirName` = 'dme-mir-2501' ; args=('dme-mir-2501',)\n"
       ]
      },
      {
       "output_type": "stream",
       "stream": "stderr",
       "text": [
        "DEBUG:django.db.backends:(0.001) SELECT `loq_interval`.`id`, `loq_interval`.`chr`, `loq_interval`.`start`, `loq_interval`.`stop`, `loq_interval`.`mirName`, `loq_interval`.`NeatName`, `loq_interval`.`IntervalSize`, `loq_interval`.`IntervalSerialNumber`, `loq_interval`.`Structure`, `loq_interval`.`Annotations`, `loq_interval`.`Tags`, `loq_interval`.`all_reads_mapped`, `loq_interval`.`sum_normReads`, `loq_interval`.`mapped_strand`, `loq_interval`.`Link` FROM `loq_interval` WHERE `loq_interval`.`mirName` = 'dme-mir-252' ; args=('dme-mir-252',)\n"
       ]
      },
      {
       "output_type": "stream",
       "stream": "stderr",
       "text": [
        "DEBUG:django.db.backends:(0.001) SELECT `loq_interval`.`id`, `loq_interval`.`chr`, `loq_interval`.`start`, `loq_interval`.`stop`, `loq_interval`.`mirName`, `loq_interval`.`NeatName`, `loq_interval`.`IntervalSize`, `loq_interval`.`IntervalSerialNumber`, `loq_interval`.`Structure`, `loq_interval`.`Annotations`, `loq_interval`.`Tags`, `loq_interval`.`all_reads_mapped`, `loq_interval`.`sum_normReads`, `loq_interval`.`mapped_strand`, `loq_interval`.`Link` FROM `loq_interval` WHERE `loq_interval`.`mirName` = 'dme-mir-2535b' ; args=('dme-mir-2535b',)\n"
       ]
      },
      {
       "output_type": "stream",
       "stream": "stderr",
       "text": [
        "DEBUG:django.db.backends:(0.001) SELECT `loq_interval`.`id`, `loq_interval`.`chr`, `loq_interval`.`start`, `loq_interval`.`stop`, `loq_interval`.`mirName`, `loq_interval`.`NeatName`, `loq_interval`.`IntervalSize`, `loq_interval`.`IntervalSerialNumber`, `loq_interval`.`Structure`, `loq_interval`.`Annotations`, `loq_interval`.`Tags`, `loq_interval`.`all_reads_mapped`, `loq_interval`.`sum_normReads`, `loq_interval`.`mapped_strand`, `loq_interval`.`Link` FROM `loq_interval` WHERE `loq_interval`.`mirName` = 'dme-mir-263a' ; args=('dme-mir-263a',)\n"
       ]
      },
      {
       "output_type": "stream",
       "stream": "stderr",
       "text": [
        "DEBUG:django.db.backends:(0.001) SELECT `loq_interval`.`id`, `loq_interval`.`chr`, `loq_interval`.`start`, `loq_interval`.`stop`, `loq_interval`.`mirName`, `loq_interval`.`NeatName`, `loq_interval`.`IntervalSize`, `loq_interval`.`IntervalSerialNumber`, `loq_interval`.`Structure`, `loq_interval`.`Annotations`, `loq_interval`.`Tags`, `loq_interval`.`all_reads_mapped`, `loq_interval`.`sum_normReads`, `loq_interval`.`mapped_strand`, `loq_interval`.`Link` FROM `loq_interval` WHERE `loq_interval`.`mirName` = 'dme-mir-263b' ; args=('dme-mir-263b',)\n"
       ]
      },
      {
       "output_type": "stream",
       "stream": "stderr",
       "text": [
        "DEBUG:django.db.backends:(0.001) SELECT `loq_interval`.`id`, `loq_interval`.`chr`, `loq_interval`.`start`, `loq_interval`.`stop`, `loq_interval`.`mirName`, `loq_interval`.`NeatName`, `loq_interval`.`IntervalSize`, `loq_interval`.`IntervalSerialNumber`, `loq_interval`.`Structure`, `loq_interval`.`Annotations`, `loq_interval`.`Tags`, `loq_interval`.`all_reads_mapped`, `loq_interval`.`sum_normReads`, `loq_interval`.`mapped_strand`, `loq_interval`.`Link` FROM `loq_interval` WHERE `loq_interval`.`mirName` = 'dme-mir-274' ; args=('dme-mir-274',)\n"
       ]
      },
      {
       "output_type": "stream",
       "stream": "stderr",
       "text": [
        "DEBUG:django.db.backends:(0.001) SELECT `loq_interval`.`id`, `loq_interval`.`chr`, `loq_interval`.`start`, `loq_interval`.`stop`, `loq_interval`.`mirName`, `loq_interval`.`NeatName`, `loq_interval`.`IntervalSize`, `loq_interval`.`IntervalSerialNumber`, `loq_interval`.`Structure`, `loq_interval`.`Annotations`, `loq_interval`.`Tags`, `loq_interval`.`all_reads_mapped`, `loq_interval`.`sum_normReads`, `loq_interval`.`mapped_strand`, `loq_interval`.`Link` FROM `loq_interval` WHERE `loq_interval`.`mirName` = 'dme-mir-275' ; args=('dme-mir-275',)\n"
       ]
      },
      {
       "output_type": "stream",
       "stream": "stderr",
       "text": [
        "DEBUG:django.db.backends:(0.001) SELECT `loq_interval`.`id`, `loq_interval`.`chr`, `loq_interval`.`start`, `loq_interval`.`stop`, `loq_interval`.`mirName`, `loq_interval`.`NeatName`, `loq_interval`.`IntervalSize`, `loq_interval`.`IntervalSerialNumber`, `loq_interval`.`Structure`, `loq_interval`.`Annotations`, `loq_interval`.`Tags`, `loq_interval`.`all_reads_mapped`, `loq_interval`.`sum_normReads`, `loq_interval`.`mapped_strand`, `loq_interval`.`Link` FROM `loq_interval` WHERE `loq_interval`.`mirName` = 'dme-mir-276a' ; args=('dme-mir-276a',)\n"
       ]
      },
      {
       "output_type": "stream",
       "stream": "stderr",
       "text": [
        "DEBUG:django.db.backends:(0.001) SELECT `loq_interval`.`id`, `loq_interval`.`chr`, `loq_interval`.`start`, `loq_interval`.`stop`, `loq_interval`.`mirName`, `loq_interval`.`NeatName`, `loq_interval`.`IntervalSize`, `loq_interval`.`IntervalSerialNumber`, `loq_interval`.`Structure`, `loq_interval`.`Annotations`, `loq_interval`.`Tags`, `loq_interval`.`all_reads_mapped`, `loq_interval`.`sum_normReads`, `loq_interval`.`mapped_strand`, `loq_interval`.`Link` FROM `loq_interval` WHERE `loq_interval`.`mirName` = 'dme-mir-276b' ; args=('dme-mir-276b',)\n"
       ]
      },
      {
       "output_type": "stream",
       "stream": "stderr",
       "text": [
        "DEBUG:django.db.backends:(0.001) SELECT `loq_interval`.`id`, `loq_interval`.`chr`, `loq_interval`.`start`, `loq_interval`.`stop`, `loq_interval`.`mirName`, `loq_interval`.`NeatName`, `loq_interval`.`IntervalSize`, `loq_interval`.`IntervalSerialNumber`, `loq_interval`.`Structure`, `loq_interval`.`Annotations`, `loq_interval`.`Tags`, `loq_interval`.`all_reads_mapped`, `loq_interval`.`sum_normReads`, `loq_interval`.`mapped_strand`, `loq_interval`.`Link` FROM `loq_interval` WHERE `loq_interval`.`mirName` = 'dme-mir-277' ; args=('dme-mir-277',)\n"
       ]
      },
      {
       "output_type": "stream",
       "stream": "stderr",
       "text": [
        "DEBUG:django.db.backends:(0.001) SELECT `loq_interval`.`id`, `loq_interval`.`chr`, `loq_interval`.`start`, `loq_interval`.`stop`, `loq_interval`.`mirName`, `loq_interval`.`NeatName`, `loq_interval`.`IntervalSize`, `loq_interval`.`IntervalSerialNumber`, `loq_interval`.`Structure`, `loq_interval`.`Annotations`, `loq_interval`.`Tags`, `loq_interval`.`all_reads_mapped`, `loq_interval`.`sum_normReads`, `loq_interval`.`mapped_strand`, `loq_interval`.`Link` FROM `loq_interval` WHERE `loq_interval`.`mirName` = 'dme-mir-278' ; args=('dme-mir-278',)\n"
       ]
      },
      {
       "output_type": "stream",
       "stream": "stderr",
       "text": [
        "DEBUG:django.db.backends:(0.001) SELECT `loq_interval`.`id`, `loq_interval`.`chr`, `loq_interval`.`start`, `loq_interval`.`stop`, `loq_interval`.`mirName`, `loq_interval`.`NeatName`, `loq_interval`.`IntervalSize`, `loq_interval`.`IntervalSerialNumber`, `loq_interval`.`Structure`, `loq_interval`.`Annotations`, `loq_interval`.`Tags`, `loq_interval`.`all_reads_mapped`, `loq_interval`.`sum_normReads`, `loq_interval`.`mapped_strand`, `loq_interval`.`Link` FROM `loq_interval` WHERE `loq_interval`.`mirName` = 'dme-mir-279' ; args=('dme-mir-279',)\n"
       ]
      },
      {
       "output_type": "stream",
       "stream": "stdout",
       "text": [
        "\n",
        "['dme-mir-2494', '(((((((((((((((((.....(((((((.((...((((((((((.......................))))))))))...)).))))))).....)))...))))))).)))))))', '117', '58', '1', '56', 'uccaucuuccgaccggcgaucaguaagugcaccagauugggaauaaccuucaaaagcugcaacuuaaauauucccaguaauguccacuuacaaggagccccugguuggaugggugga\\n']\n",
        "['dme-mir-2495', '(((.(((((..((((((((((.((((.((((.(((((((((((((.((((.((.....)).)))))))).)).))))))).)))))))).).))).)).))))...)))))))).', '115', '57', '1', '55', 'uguaugaucacauuggcuugugggcguggcacuucaauugggcugacuuugccuggcuggaaaagcggcaccuaauugaaaugcccgccgaucagugcucgauuacgaucgacac\\n']\n",
        "['dme-mir-2496', '((((((.((((((((((((((((..(((.((((((.....((((..(((.((((((..........))).))))))..)))).))))))))).))))))))))))))))..).)))))', '118', '59', '1', '60', 'gugcgccggugugcgugugugagaggccaucguaaaagccuuguuugcgugcggaauuuaacuguuuucucgccgucugcgaauugcggggcacucacacacgcauauucagccgcac\\n']\n",
        "['dme-mir-2497', '((.(((((.(((.(((.(((((((.((((((((((((................))))))))...))))...))))))))))....))).)))))))', '96', '48', '1', '44', 'gcacgucaucguaagcauugcaaaauguaguuguuaaauucgcucuucaaucauuaacaacauuuacaauguuugcaggcugucaacguugauggc\\n']\n",
        "['dme-mir-2498', '(((.((((..........((.((((((((((.(((.(..(((((...(((((((.....)))))))..)))))..).))))))).)))))).))...........)))))))', '112', '56', '1', '56', 'cacauuugccauaaucuccuuaaaauaguaaaggcuguuaugcuuauuuuuguguuuuuuacaaaacuggcauucccgucuuacuuauuuucagaaaacuuacaccaaagug\\n']\n",
        "['dme-mir-2499', '.......((((.((((((.((((.((((.((.((((.((((.((((..........))))))))..)))).)).)))).)))).)))))).)))).', '96', '48', '1', '50', 'uccuugcugugggugugguugcgugcguagacgucagcgcaaugccuuuguuuggcggcaugcggaugacauucacguccguauccgcacacacau\\n']\n",
        "['dme-mir-2500', '...(((..((((((((...(((.((((((((...)))))).....))))).))))))))..)))....', '68', '34', '1', '32', 'guaaggaacacacauauacaauaccguuugaauuucaaauaaucaggauuuuguguguggaccucaga\\n']\n",
        "['dme-mir-2501', '..((((((((..(((..(((.((((...(((......))).)))).)))..))).))))))))........', '71', '35', '1', '33', 'guaaguuuggagugccugggcuaagaacuuccauucugaaacuuaacucuugcaaucaaacuuucuuucag\\n']\n",
        "['dme-mir-252', '.......(((((((..((((((((.(.((.(((((((....(((((....)).)))..))))))).)).).))))))))..))))))).....', '93', '46', '1', '47', 'accaaguucgcuuuccuaaguacuagugccgcaggaguuagguucguguccgcaauaccuccugcugcccaagugcuuauuaaagcggcgagu\\n']\n",
        "['dme-mir-2535b', '((((((((..((((((.((..((((..................)))))).)))))).....))))))))..', '71', '35', '1', '33', 'guaagugacuaugccgggauugugguuauugaacuuagcgucuccacucacggcauuucauucacuugcag\\n']\n",
        "['dme-mir-263a', '....(((((.(((.((..(((.((((((.(((..(((((((...............)))))))))).)))))).)))..)).))))))))....', '94', '47', '1', '48', 'uagaucucggcacaguuaauggcacuggaagaauucacgggguaauuuuuauacaacccgugaucucuuaguggcaucuauggugcgagaauaa\\n']\n",
        "['dme-mir-263b', '..((((..(((((((.((((((((.(.(((((.(((((..............)))))))))).).)))))))).)))))))...))))..', '90', '45', '1', '44', 'uugcugacuuugagucuuggcacugggagaauucacaguugacuuuauuauucugugguucugcgggugccaaaacuuaaaaaccggcuu\\n']\n",
        "['dme-mir-274', '.....(((((((((((((((((((((.((.((..(((((((((((..((((...)))))))))))))))..)))).)))))))..)))))))))))))).', '100', '50', '1', '52', 'uccuguguugcaguuucguuuugugaccgacacuaacggguaauuguuuggccgccaggauuacucguuuuugcgaucacaaauuaugaaauugcagcaa\\n']\n",
        "['dme-mir-275', '......((((.(((((.(((((((((.((((..(((..(((((..(......)..))))).)))..))))..))))))))).))))).))))......', '98', '49', '1', '48', 'uguaaagucuccuaccuugcgcgcuaaucagugaccggggcugguuuuuuauauacagucagguaccugaaguagcgcgcgugguggcagacauauau\\n']\n",
        "['dme-mir-276a', '..(((((((..(((..((((.(((((.(((((((((((.............))))))))))).))))).))))..)))))))))).............', '98', '49', '1', '44', 'ccugguuuuugccaucagcgagguauagaguuccuacguucauuauaaacucguaggaacuucauaccgugcucuuggaagaccaaaaaacaaccaag\\n']\n",
        "['dme-mir-276b', '.....(((((((((....(((..((((.(((((.(((((((((((..............))))))))))).))))).))))..))))))))).)))...', '99', '49', '1', '51', 'aaaaccgaagucuuuuuaccaucagcgagguauagaguuccuacguuccuauauucagucguaggaacuuaauaccgugcucuuggaggacugucgacc\\n']\n",
        "['dme-mir-277', '(((.(.((((((((.(((((((((((((((((((((((.((...(.....)...)))))))))))))).))))))))).)).)))))))).).)))....', '100', '50', '1', '47', 'uugaagguuuugggcugcgugucaggagugcauuugcacugaaacuaucugaagcauguaaaugcacuaucugguacgacauuccagaacguacaaucuu\\n']\n",
        "['dme-mir-278', '..((((((....(((((.(((((((.(((((.((.(((((.(((.......)))))))).))))))).))))))).)))))..)))))).........', '98', '49', '1', '47', 'guaaugguacggugcgaccggaugaugguucacaacgaccgugucauuuaaacgggucggugggacuuucguccguuuguaacgccauuugucaacga\\n']\n",
        "['dme-mir-279', '.........(((((((((.((((((((((.(((((.((....(((((...(((.....)))...))))))).))))).)))))))))).)))))))))..', '100', '50', '1', '55', 'ggaauucauacuacuguuuuuaguggguggggguccaguguuucacauugauuuucuuaguauuugugacuagauccacacucauuaauaacgguaguuc\\n']\n",
        "['dme-mir-280', '.((((((..(((((.(((.((((((((((((((((...............))))))))))))))))))).)))))....))))))..........', '95', '47', '1', '42', 'uggcuuuuauguauuuacguugcauaugaaaugauauuuauaguaaacagauuauuuuauaugcagguauaugcaagucgagguccuccacacug\\n']"
       ]
      },
      {
       "output_type": "stream",
       "stream": "stderr",
       "text": [
        "DEBUG:django.db.backends:(0.001) SELECT `loq_interval`.`id`, `loq_interval`.`chr`, `loq_interval`.`start`, `loq_interval`.`stop`, `loq_interval`.`mirName`, `loq_interval`.`NeatName`, `loq_interval`.`IntervalSize`, `loq_interval`.`IntervalSerialNumber`, `loq_interval`.`Structure`, `loq_interval`.`Annotations`, `loq_interval`.`Tags`, `loq_interval`.`all_reads_mapped`, `loq_interval`.`sum_normReads`, `loq_interval`.`mapped_strand`, `loq_interval`.`Link` FROM `loq_interval` WHERE `loq_interval`.`mirName` = 'dme-mir-280' ; args=('dme-mir-280',)\n"
       ]
      },
      {
       "output_type": "stream",
       "stream": "stderr",
       "text": [
        "DEBUG:django.db.backends:(0.001) SELECT `loq_interval`.`id`, `loq_interval`.`chr`, `loq_interval`.`start`, `loq_interval`.`stop`, `loq_interval`.`mirName`, `loq_interval`.`NeatName`, `loq_interval`.`IntervalSize`, `loq_interval`.`IntervalSerialNumber`, `loq_interval`.`Structure`, `loq_interval`.`Annotations`, `loq_interval`.`Tags`, `loq_interval`.`all_reads_mapped`, `loq_interval`.`sum_normReads`, `loq_interval`.`mapped_strand`, `loq_interval`.`Link` FROM `loq_interval` WHERE `loq_interval`.`mirName` = 'dme-mir-281-1' ; args=('dme-mir-281-1',)\n"
       ]
      },
      {
       "output_type": "stream",
       "stream": "stderr",
       "text": [
        "DEBUG:django.db.backends:(0.001) SELECT `loq_interval`.`id`, `loq_interval`.`chr`, `loq_interval`.`start`, `loq_interval`.`stop`, `loq_interval`.`mirName`, `loq_interval`.`NeatName`, `loq_interval`.`IntervalSize`, `loq_interval`.`IntervalSerialNumber`, `loq_interval`.`Structure`, `loq_interval`.`Annotations`, `loq_interval`.`Tags`, `loq_interval`.`all_reads_mapped`, `loq_interval`.`sum_normReads`, `loq_interval`.`mapped_strand`, `loq_interval`.`Link` FROM `loq_interval` WHERE `loq_interval`.`mirName` = 'dme-mir-281-2' ; args=('dme-mir-281-2',)\n"
       ]
      },
      {
       "output_type": "stream",
       "stream": "stderr",
       "text": [
        "DEBUG:django.db.backends:(0.001) SELECT `loq_interval`.`id`, `loq_interval`.`chr`, `loq_interval`.`start`, `loq_interval`.`stop`, `loq_interval`.`mirName`, `loq_interval`.`NeatName`, `loq_interval`.`IntervalSize`, `loq_interval`.`IntervalSerialNumber`, `loq_interval`.`Structure`, `loq_interval`.`Annotations`, `loq_interval`.`Tags`, `loq_interval`.`all_reads_mapped`, `loq_interval`.`sum_normReads`, `loq_interval`.`mapped_strand`, `loq_interval`.`Link` FROM `loq_interval` WHERE `loq_interval`.`mirName` = 'dme-mir-282' ; args=('dme-mir-282',)\n"
       ]
      },
      {
       "output_type": "stream",
       "stream": "stderr",
       "text": [
        "DEBUG:django.db.backends:(0.001) SELECT `loq_interval`.`id`, `loq_interval`.`chr`, `loq_interval`.`start`, `loq_interval`.`stop`, `loq_interval`.`mirName`, `loq_interval`.`NeatName`, `loq_interval`.`IntervalSize`, `loq_interval`.`IntervalSerialNumber`, `loq_interval`.`Structure`, `loq_interval`.`Annotations`, `loq_interval`.`Tags`, `loq_interval`.`all_reads_mapped`, `loq_interval`.`sum_normReads`, `loq_interval`.`mapped_strand`, `loq_interval`.`Link` FROM `loq_interval` WHERE `loq_interval`.`mirName` = 'dme-mir-283' ; args=('dme-mir-283',)\n"
       ]
      },
      {
       "output_type": "stream",
       "stream": "stderr",
       "text": [
        "DEBUG:django.db.backends:(0.001) SELECT `loq_interval`.`id`, `loq_interval`.`chr`, `loq_interval`.`start`, `loq_interval`.`stop`, `loq_interval`.`mirName`, `loq_interval`.`NeatName`, `loq_interval`.`IntervalSize`, `loq_interval`.`IntervalSerialNumber`, `loq_interval`.`Structure`, `loq_interval`.`Annotations`, `loq_interval`.`Tags`, `loq_interval`.`all_reads_mapped`, `loq_interval`.`sum_normReads`, `loq_interval`.`mapped_strand`, `loq_interval`.`Link` FROM `loq_interval` WHERE `loq_interval`.`mirName` = 'dme-mir-284' ; args=('dme-mir-284',)\n"
       ]
      },
      {
       "output_type": "stream",
       "stream": "stderr",
       "text": [
        "DEBUG:django.db.backends:(0.001) SELECT `loq_interval`.`id`, `loq_interval`.`chr`, `loq_interval`.`start`, `loq_interval`.`stop`, `loq_interval`.`mirName`, `loq_interval`.`NeatName`, `loq_interval`.`IntervalSize`, `loq_interval`.`IntervalSerialNumber`, `loq_interval`.`Structure`, `loq_interval`.`Annotations`, `loq_interval`.`Tags`, `loq_interval`.`all_reads_mapped`, `loq_interval`.`sum_normReads`, `loq_interval`.`mapped_strand`, `loq_interval`.`Link` FROM `loq_interval` WHERE `loq_interval`.`mirName` = 'dme-mir-285' ; args=('dme-mir-285',)\n"
       ]
      },
      {
       "output_type": "stream",
       "stream": "stderr",
       "text": [
        "DEBUG:django.db.backends:(0.001) SELECT `loq_interval`.`id`, `loq_interval`.`chr`, `loq_interval`.`start`, `loq_interval`.`stop`, `loq_interval`.`mirName`, `loq_interval`.`NeatName`, `loq_interval`.`IntervalSize`, `loq_interval`.`IntervalSerialNumber`, `loq_interval`.`Structure`, `loq_interval`.`Annotations`, `loq_interval`.`Tags`, `loq_interval`.`all_reads_mapped`, `loq_interval`.`sum_normReads`, `loq_interval`.`mapped_strand`, `loq_interval`.`Link` FROM `loq_interval` WHERE `loq_interval`.`mirName` = 'dme-mir-286' ; args=('dme-mir-286',)\n"
       ]
      },
      {
       "output_type": "stream",
       "stream": "stderr",
       "text": [
        "DEBUG:django.db.backends:(0.001) SELECT `loq_interval`.`id`, `loq_interval`.`chr`, `loq_interval`.`start`, `loq_interval`.`stop`, `loq_interval`.`mirName`, `loq_interval`.`NeatName`, `loq_interval`.`IntervalSize`, `loq_interval`.`IntervalSerialNumber`, `loq_interval`.`Structure`, `loq_interval`.`Annotations`, `loq_interval`.`Tags`, `loq_interval`.`all_reads_mapped`, `loq_interval`.`sum_normReads`, `loq_interval`.`mapped_strand`, `loq_interval`.`Link` FROM `loq_interval` WHERE `loq_interval`.`mirName` = 'dme-mir-287' ; args=('dme-mir-287',)\n"
       ]
      },
      {
       "output_type": "stream",
       "stream": "stderr",
       "text": [
        "DEBUG:django.db.backends:(0.001) SELECT `loq_interval`.`id`, `loq_interval`.`chr`, `loq_interval`.`start`, `loq_interval`.`stop`, `loq_interval`.`mirName`, `loq_interval`.`NeatName`, `loq_interval`.`IntervalSize`, `loq_interval`.`IntervalSerialNumber`, `loq_interval`.`Structure`, `loq_interval`.`Annotations`, `loq_interval`.`Tags`, `loq_interval`.`all_reads_mapped`, `loq_interval`.`sum_normReads`, `loq_interval`.`mapped_strand`, `loq_interval`.`Link` FROM `loq_interval` WHERE `loq_interval`.`mirName` = 'dme-mir-288' ; args=('dme-mir-288',)\n"
       ]
      },
      {
       "output_type": "stream",
       "stream": "stderr",
       "text": [
        "DEBUG:django.db.backends:(0.001) SELECT `loq_interval`.`id`, `loq_interval`.`chr`, `loq_interval`.`start`, `loq_interval`.`stop`, `loq_interval`.`mirName`, `loq_interval`.`NeatName`, `loq_interval`.`IntervalSize`, `loq_interval`.`IntervalSerialNumber`, `loq_interval`.`Structure`, `loq_interval`.`Annotations`, `loq_interval`.`Tags`, `loq_interval`.`all_reads_mapped`, `loq_interval`.`sum_normReads`, `loq_interval`.`mapped_strand`, `loq_interval`.`Link` FROM `loq_interval` WHERE `loq_interval`.`mirName` = 'dme-mir-289' ; args=('dme-mir-289',)\n"
       ]
      },
      {
       "output_type": "stream",
       "stream": "stderr",
       "text": [
        "DEBUG:django.db.backends:(0.001) SELECT `loq_interval`.`id`, `loq_interval`.`chr`, `loq_interval`.`start`, `loq_interval`.`stop`, `loq_interval`.`mirName`, `loq_interval`.`NeatName`, `loq_interval`.`IntervalSize`, `loq_interval`.`IntervalSerialNumber`, `loq_interval`.`Structure`, `loq_interval`.`Annotations`, `loq_interval`.`Tags`, `loq_interval`.`all_reads_mapped`, `loq_interval`.`sum_normReads`, `loq_interval`.`mapped_strand`, `loq_interval`.`Link` FROM `loq_interval` WHERE `loq_interval`.`mirName` = 'dme-mir-2a-1' ; args=('dme-mir-2a-1',)\n"
       ]
      },
      {
       "output_type": "stream",
       "stream": "stderr",
       "text": [
        "DEBUG:django.db.backends:(0.001) SELECT `loq_interval`.`id`, `loq_interval`.`chr`, `loq_interval`.`start`, `loq_interval`.`stop`, `loq_interval`.`mirName`, `loq_interval`.`NeatName`, `loq_interval`.`IntervalSize`, `loq_interval`.`IntervalSerialNumber`, `loq_interval`.`Structure`, `loq_interval`.`Annotations`, `loq_interval`.`Tags`, `loq_interval`.`all_reads_mapped`, `loq_interval`.`sum_normReads`, `loq_interval`.`mapped_strand`, `loq_interval`.`Link` FROM `loq_interval` WHERE `loq_interval`.`mirName` = 'dme-mir-2a-2' ; args=('dme-mir-2a-2',)\n"
       ]
      },
      {
       "output_type": "stream",
       "stream": "stderr",
       "text": [
        "DEBUG:django.db.backends:(0.001) SELECT `loq_interval`.`id`, `loq_interval`.`chr`, `loq_interval`.`start`, `loq_interval`.`stop`, `loq_interval`.`mirName`, `loq_interval`.`NeatName`, `loq_interval`.`IntervalSize`, `loq_interval`.`IntervalSerialNumber`, `loq_interval`.`Structure`, `loq_interval`.`Annotations`, `loq_interval`.`Tags`, `loq_interval`.`all_reads_mapped`, `loq_interval`.`sum_normReads`, `loq_interval`.`mapped_strand`, `loq_interval`.`Link` FROM `loq_interval` WHERE `loq_interval`.`mirName` = 'dme-mir-2b-1' ; args=('dme-mir-2b-1',)\n"
       ]
      },
      {
       "output_type": "stream",
       "stream": "stderr",
       "text": [
        "DEBUG:django.db.backends:(0.001) SELECT `loq_interval`.`id`, `loq_interval`.`chr`, `loq_interval`.`start`, `loq_interval`.`stop`, `loq_interval`.`mirName`, `loq_interval`.`NeatName`, `loq_interval`.`IntervalSize`, `loq_interval`.`IntervalSerialNumber`, `loq_interval`.`Structure`, `loq_interval`.`Annotations`, `loq_interval`.`Tags`, `loq_interval`.`all_reads_mapped`, `loq_interval`.`sum_normReads`, `loq_interval`.`mapped_strand`, `loq_interval`.`Link` FROM `loq_interval` WHERE `loq_interval`.`mirName` = 'dme-mir-2b-2' ; args=('dme-mir-2b-2',)\n"
       ]
      },
      {
       "output_type": "stream",
       "stream": "stderr",
       "text": [
        "DEBUG:django.db.backends:(0.001) SELECT `loq_interval`.`id`, `loq_interval`.`chr`, `loq_interval`.`start`, `loq_interval`.`stop`, `loq_interval`.`mirName`, `loq_interval`.`NeatName`, `loq_interval`.`IntervalSize`, `loq_interval`.`IntervalSerialNumber`, `loq_interval`.`Structure`, `loq_interval`.`Annotations`, `loq_interval`.`Tags`, `loq_interval`.`all_reads_mapped`, `loq_interval`.`sum_normReads`, `loq_interval`.`mapped_strand`, `loq_interval`.`Link` FROM `loq_interval` WHERE `loq_interval`.`mirName` = 'dme-mir-2c' ; args=('dme-mir-2c',)\n"
       ]
      },
      {
       "output_type": "stream",
       "stream": "stderr",
       "text": [
        "DEBUG:django.db.backends:(0.001) SELECT `loq_interval`.`id`, `loq_interval`.`chr`, `loq_interval`.`start`, `loq_interval`.`stop`, `loq_interval`.`mirName`, `loq_interval`.`NeatName`, `loq_interval`.`IntervalSize`, `loq_interval`.`IntervalSerialNumber`, `loq_interval`.`Structure`, `loq_interval`.`Annotations`, `loq_interval`.`Tags`, `loq_interval`.`all_reads_mapped`, `loq_interval`.`sum_normReads`, `loq_interval`.`mapped_strand`, `loq_interval`.`Link` FROM `loq_interval` WHERE `loq_interval`.`mirName` = 'dme-mir-3' ; args=('dme-mir-3',)\n"
       ]
      },
      {
       "output_type": "stream",
       "stream": "stdout",
       "text": [
        "\n",
        "['dme-mir-281-1', '((((((.....(((((((((((..(((((.((((((...................)))))))))))...)))))))))))....))))))', '90', '45', '1', '45', 'cgaauaagugaauaaagagagcuguccgucgacaguccagaaacuauuuaauaucacugucauggaauugcucucuuuguauaauauucg\\n']\n",
        "['dme-mir-281-2', '(((((.((...(((((((((((..(((((.((((((..((((......)))).....)))))))))))...)))))))))))...)))))))', '92', '46', '1', '44', 'cgaauugugaaaugaagagagcuauccgucgacagucaaguuaagaccgauuguaauacugucauggaauugcucucuuuguauaacauucg\\n']\n",
        "['dme-mir-282', '.((((((((....(((((((((((..((((((.((((((..(...........)..)))))).))))))..))))))))))).....)))).)))).', '97', '48', '1', '47', 'aguuuccuucuaaaucuagccucuacuaggcuuugucugugcauucgaaagccgaucagacauagccuauaagagguuagguguaccaaggcgaaca\\n']\n",
        "['dme-mir-283', '.......(((((..((((((..(((((((((((.(((((((((......................))))))))))))))))))))..))))))..)))))', '100', '50', '1', '53', 'cucacacgauucucaaagguaaauaucagcugguaauucugggagcuaagccuaaauaugaaacacucggaauuucaguugguaucgacuuuuuugaauu\\n']\n",
        "['dme-mir-284', '(((((((((.((((((((((((((.(((....((((....))))..(((.........)))........))))))))))))))))).)))))))))....', '100', '50', '2', '53', 'guugcaguuccuggaauuaaguugacuguguagccugugagggcaaggcuugaauaaugcuccugaagucagcaacuugauuccagcaauugcggcccga\\n']\n",
        "['dme-mir-285', '((..(((((((.(((((..((((.((((((.((((......(((......)))........)))))))))).))))..)))))..)))))))..))...', '99', '49', '1', '46', 'ucgaaucgaagaacugagaucgauuggugcauagauaucaggagaacccacucaauuuaacucuagcaccauucgaaaucagugcuuuugauaagaaac\\n']\n",
        "['dme-mir-286', '(((((((((....((((.(((((((.(((((.((((......(((....)))........)))).))))).)))).))).))))....)))))))))...', '100', '50', '1', '46', 'uuaaaauugaauggcgaaugucgguauggucucuuuuucaaagaaagguuucgauuaagcgaagugacuagaccgaacacucgugcuauaauuuuaaaau\\n']\n",
        "['dme-mir-287', '..(((((.(.......).))))).((.(((((((((((((..((((((((((((...))))))))))))..)))...)))).)).)))).)).', '93', '46', '2', '55', 'ggacgccggggauguauggguguguagggucugaaauuuugcacacauuuacaauaauuguaaauguguugaaaaucguuugcacgacuguga\\n']\n",
        "['dme-mir-288', '(((((.((((((....((.((((..((((((.(((((((........((((....)))))))))))...)))))).)))).))..)))))).)))))', '97', '48', '1', '52', 'cggccaugucguaauuagcggagcacggcaucgccggcgauaauuaaugacgguggucacguugguuucaugucgauuucauuucaugacacggccg\\n']\n",
        "['dme-mir-289', '...(((((.((..(((((((.(((((((((.((((..(...((((((.....)))))))..))))...))))))))).)))))))...)))))))....', '99', '49', '1', '49', 'gaguuuacaguaaaauaaauauuuaaguggagccugcgacuucagucccucugacugacugggguaagucacuugagcguuuguuggcacguaaaagac\\n']\n",
        "['dme-mir-2a-1', '((((((((((((((((((((((((.((((.....(((.....))))))).))))))))).)))))).)))))))))', '76', '38', '1', '39', 'gcugggcucucaaagugguugugaaaugcauuuccgcuuugcgcggcauaucacagccagcuuugaugagcuuagc\\n']\n",
        "['dme-mir-2a-2', '((((.(((.(((((((((((((((((((((...........)))))))))))))..))))))))))).))))', '72', '36', '1', '35', 'aucuaagccucaucaagugguugugauauggauacccaacgcauaucacagccagcuuugaugagcuaggau\\n']\n",
        "['dme-mir-2b-1', '...((((..(((((((((((((.((((.((((((....)))))).....)))).)))).)))))))))..))))...', '77', '38', '1', '35', 'cuucaacugucuucaaaguggcagugacauguugucaacaauauucauaucacagccagcuuugaggagcguugcgg\\n']\n",
        "['dme-mir-2b-2', '(((((((.(((((((((((((((((((.(((...((........)).....))).))))))))).)))))))))).)))))))', '83', '41', '1', '39', 'uugugucauucuucaaagugguugugaaauguuugccuuuuuaugccuauucauaucacagccagcuuugaggagcgacgcga\\n']\n",
        "['dme-mir-2c', '((((..((((.((.(((((((((((((...(((((......((((((((.......)))..))))).)))))...)))))).))))))).))))))..))))', '102', '51', '1', '52', 'ucguaucuuacuuucaaugucaucaaaaagggcugaagaaagauauuucugcauuugaaucguaucacagccagcuuugaugggcauugcaaugagcagcga\\n']\n",
        "['dme-mir-3', '((((.((((((((((.((((.((((.((((.........)))).)))).)))).)))))))))).))))', '69', '34', '1', '34', 'gauccugggaugcaucuugugcaguuauguuucaaucucacaucacugggcaaagugugucucaagauc\\n']\n",
        "['dme-mir-303', '((((((((..(((((...(((((((((((((........)))))))))))))...)))))..))))))))', '70', '35', '1', '34', 'ucuugguuuagguuucacaggaaacugguuuaauaacgaaaacuaguuuccucuaaaauccuaaucaaga\\n']"
       ]
      },
      {
       "output_type": "stream",
       "stream": "stderr",
       "text": [
        "DEBUG:django.db.backends:(0.001) SELECT `loq_interval`.`id`, `loq_interval`.`chr`, `loq_interval`.`start`, `loq_interval`.`stop`, `loq_interval`.`mirName`, `loq_interval`.`NeatName`, `loq_interval`.`IntervalSize`, `loq_interval`.`IntervalSerialNumber`, `loq_interval`.`Structure`, `loq_interval`.`Annotations`, `loq_interval`.`Tags`, `loq_interval`.`all_reads_mapped`, `loq_interval`.`sum_normReads`, `loq_interval`.`mapped_strand`, `loq_interval`.`Link` FROM `loq_interval` WHERE `loq_interval`.`mirName` = 'dme-mir-303' ; args=('dme-mir-303',)\n"
       ]
      },
      {
       "output_type": "stream",
       "stream": "stderr",
       "text": [
        "DEBUG:django.db.backends:(0.001) SELECT `loq_interval`.`id`, `loq_interval`.`chr`, `loq_interval`.`start`, `loq_interval`.`stop`, `loq_interval`.`mirName`, `loq_interval`.`NeatName`, `loq_interval`.`IntervalSize`, `loq_interval`.`IntervalSerialNumber`, `loq_interval`.`Structure`, `loq_interval`.`Annotations`, `loq_interval`.`Tags`, `loq_interval`.`all_reads_mapped`, `loq_interval`.`sum_normReads`, `loq_interval`.`mapped_strand`, `loq_interval`.`Link` FROM `loq_interval` WHERE `loq_interval`.`mirName` = 'dme-mir-304' ; args=('dme-mir-304',)\n"
       ]
      },
      {
       "output_type": "stream",
       "stream": "stderr",
       "text": [
        "DEBUG:django.db.backends:(0.001) SELECT `loq_interval`.`id`, `loq_interval`.`chr`, `loq_interval`.`start`, `loq_interval`.`stop`, `loq_interval`.`mirName`, `loq_interval`.`NeatName`, `loq_interval`.`IntervalSize`, `loq_interval`.`IntervalSerialNumber`, `loq_interval`.`Structure`, `loq_interval`.`Annotations`, `loq_interval`.`Tags`, `loq_interval`.`all_reads_mapped`, `loq_interval`.`sum_normReads`, `loq_interval`.`mapped_strand`, `loq_interval`.`Link` FROM `loq_interval` WHERE `loq_interval`.`mirName` = 'dme-mir-305' ; args=('dme-mir-305',)\n"
       ]
      },
      {
       "output_type": "stream",
       "stream": "stderr",
       "text": [
        "DEBUG:django.db.backends:(0.001) SELECT `loq_interval`.`id`, `loq_interval`.`chr`, `loq_interval`.`start`, `loq_interval`.`stop`, `loq_interval`.`mirName`, `loq_interval`.`NeatName`, `loq_interval`.`IntervalSize`, `loq_interval`.`IntervalSerialNumber`, `loq_interval`.`Structure`, `loq_interval`.`Annotations`, `loq_interval`.`Tags`, `loq_interval`.`all_reads_mapped`, `loq_interval`.`sum_normReads`, `loq_interval`.`mapped_strand`, `loq_interval`.`Link` FROM `loq_interval` WHERE `loq_interval`.`mirName` = 'dme-mir-306' ; args=('dme-mir-306',)\n"
       ]
      },
      {
       "output_type": "stream",
       "stream": "stderr",
       "text": [
        "DEBUG:django.db.backends:(0.001) SELECT `loq_interval`.`id`, `loq_interval`.`chr`, `loq_interval`.`start`, `loq_interval`.`stop`, `loq_interval`.`mirName`, `loq_interval`.`NeatName`, `loq_interval`.`IntervalSize`, `loq_interval`.`IntervalSerialNumber`, `loq_interval`.`Structure`, `loq_interval`.`Annotations`, `loq_interval`.`Tags`, `loq_interval`.`all_reads_mapped`, `loq_interval`.`sum_normReads`, `loq_interval`.`mapped_strand`, `loq_interval`.`Link` FROM `loq_interval` WHERE `loq_interval`.`mirName` = 'dme-mir-307a' ; args=('dme-mir-307a',)\n"
       ]
      },
      {
       "output_type": "stream",
       "stream": "stderr",
       "text": [
        "DEBUG:django.db.backends:(0.001) SELECT `loq_interval`.`id`, `loq_interval`.`chr`, `loq_interval`.`start`, `loq_interval`.`stop`, `loq_interval`.`mirName`, `loq_interval`.`NeatName`, `loq_interval`.`IntervalSize`, `loq_interval`.`IntervalSerialNumber`, `loq_interval`.`Structure`, `loq_interval`.`Annotations`, `loq_interval`.`Tags`, `loq_interval`.`all_reads_mapped`, `loq_interval`.`sum_normReads`, `loq_interval`.`mapped_strand`, `loq_interval`.`Link` FROM `loq_interval` WHERE `loq_interval`.`mirName` = 'dme-mir-307b' ; args=('dme-mir-307b',)\n"
       ]
      },
      {
       "output_type": "stream",
       "stream": "stderr",
       "text": [
        "DEBUG:django.db.backends:(0.001) SELECT `loq_interval`.`id`, `loq_interval`.`chr`, `loq_interval`.`start`, `loq_interval`.`stop`, `loq_interval`.`mirName`, `loq_interval`.`NeatName`, `loq_interval`.`IntervalSize`, `loq_interval`.`IntervalSerialNumber`, `loq_interval`.`Structure`, `loq_interval`.`Annotations`, `loq_interval`.`Tags`, `loq_interval`.`all_reads_mapped`, `loq_interval`.`sum_normReads`, `loq_interval`.`mapped_strand`, `loq_interval`.`Link` FROM `loq_interval` WHERE `loq_interval`.`mirName` = 'dme-mir-308' ; args=('dme-mir-308',)\n"
       ]
      },
      {
       "output_type": "stream",
       "stream": "stderr",
       "text": [
        "DEBUG:django.db.backends:(0.001) SELECT `loq_interval`.`id`, `loq_interval`.`chr`, `loq_interval`.`start`, `loq_interval`.`stop`, `loq_interval`.`mirName`, `loq_interval`.`NeatName`, `loq_interval`.`IntervalSize`, `loq_interval`.`IntervalSerialNumber`, `loq_interval`.`Structure`, `loq_interval`.`Annotations`, `loq_interval`.`Tags`, `loq_interval`.`all_reads_mapped`, `loq_interval`.`sum_normReads`, `loq_interval`.`mapped_strand`, `loq_interval`.`Link` FROM `loq_interval` WHERE `loq_interval`.`mirName` = 'dme-mir-309' ; args=('dme-mir-309',)\n"
       ]
      },
      {
       "output_type": "stream",
       "stream": "stderr",
       "text": [
        "DEBUG:django.db.backends:(0.001) SELECT `loq_interval`.`id`, `loq_interval`.`chr`, `loq_interval`.`start`, `loq_interval`.`stop`, `loq_interval`.`mirName`, `loq_interval`.`NeatName`, `loq_interval`.`IntervalSize`, `loq_interval`.`IntervalSerialNumber`, `loq_interval`.`Structure`, `loq_interval`.`Annotations`, `loq_interval`.`Tags`, `loq_interval`.`all_reads_mapped`, `loq_interval`.`sum_normReads`, `loq_interval`.`mapped_strand`, `loq_interval`.`Link` FROM `loq_interval` WHERE `loq_interval`.`mirName` = 'dme-mir-310' ; args=('dme-mir-310',)\n"
       ]
      },
      {
       "output_type": "stream",
       "stream": "stderr",
       "text": [
        "DEBUG:django.db.backends:(0.001) SELECT `loq_interval`.`id`, `loq_interval`.`chr`, `loq_interval`.`start`, `loq_interval`.`stop`, `loq_interval`.`mirName`, `loq_interval`.`NeatName`, `loq_interval`.`IntervalSize`, `loq_interval`.`IntervalSerialNumber`, `loq_interval`.`Structure`, `loq_interval`.`Annotations`, `loq_interval`.`Tags`, `loq_interval`.`all_reads_mapped`, `loq_interval`.`sum_normReads`, `loq_interval`.`mapped_strand`, `loq_interval`.`Link` FROM `loq_interval` WHERE `loq_interval`.`mirName` = 'dme-mir-311' ; args=('dme-mir-311',)\n"
       ]
      },
      {
       "output_type": "stream",
       "stream": "stderr",
       "text": [
        "DEBUG:django.db.backends:(0.001) SELECT `loq_interval`.`id`, `loq_interval`.`chr`, `loq_interval`.`start`, `loq_interval`.`stop`, `loq_interval`.`mirName`, `loq_interval`.`NeatName`, `loq_interval`.`IntervalSize`, `loq_interval`.`IntervalSerialNumber`, `loq_interval`.`Structure`, `loq_interval`.`Annotations`, `loq_interval`.`Tags`, `loq_interval`.`all_reads_mapped`, `loq_interval`.`sum_normReads`, `loq_interval`.`mapped_strand`, `loq_interval`.`Link` FROM `loq_interval` WHERE `loq_interval`.`mirName` = 'dme-mir-312' ; args=('dme-mir-312',)\n"
       ]
      },
      {
       "output_type": "stream",
       "stream": "stderr",
       "text": [
        "DEBUG:django.db.backends:(0.001) SELECT `loq_interval`.`id`, `loq_interval`.`chr`, `loq_interval`.`start`, `loq_interval`.`stop`, `loq_interval`.`mirName`, `loq_interval`.`NeatName`, `loq_interval`.`IntervalSize`, `loq_interval`.`IntervalSerialNumber`, `loq_interval`.`Structure`, `loq_interval`.`Annotations`, `loq_interval`.`Tags`, `loq_interval`.`all_reads_mapped`, `loq_interval`.`sum_normReads`, `loq_interval`.`mapped_strand`, `loq_interval`.`Link` FROM `loq_interval` WHERE `loq_interval`.`mirName` = 'dme-mir-313' ; args=('dme-mir-313',)\n"
       ]
      },
      {
       "output_type": "stream",
       "stream": "stderr",
       "text": [
        "DEBUG:django.db.backends:(0.001) SELECT `loq_interval`.`id`, `loq_interval`.`chr`, `loq_interval`.`start`, `loq_interval`.`stop`, `loq_interval`.`mirName`, `loq_interval`.`NeatName`, `loq_interval`.`IntervalSize`, `loq_interval`.`IntervalSerialNumber`, `loq_interval`.`Structure`, `loq_interval`.`Annotations`, `loq_interval`.`Tags`, `loq_interval`.`all_reads_mapped`, `loq_interval`.`sum_normReads`, `loq_interval`.`mapped_strand`, `loq_interval`.`Link` FROM `loq_interval` WHERE `loq_interval`.`mirName` = 'dme-mir-314' ; args=('dme-mir-314',)\n"
       ]
      },
      {
       "output_type": "stream",
       "stream": "stderr",
       "text": [
        "DEBUG:django.db.backends:(0.001) SELECT `loq_interval`.`id`, `loq_interval`.`chr`, `loq_interval`.`start`, `loq_interval`.`stop`, `loq_interval`.`mirName`, `loq_interval`.`NeatName`, `loq_interval`.`IntervalSize`, `loq_interval`.`IntervalSerialNumber`, `loq_interval`.`Structure`, `loq_interval`.`Annotations`, `loq_interval`.`Tags`, `loq_interval`.`all_reads_mapped`, `loq_interval`.`sum_normReads`, `loq_interval`.`mapped_strand`, `loq_interval`.`Link` FROM `loq_interval` WHERE `loq_interval`.`mirName` = 'dme-mir-315' ; args=('dme-mir-315',)\n"
       ]
      },
      {
       "output_type": "stream",
       "stream": "stderr",
       "text": [
        "DEBUG:django.db.backends:(0.001) SELECT `loq_interval`.`id`, `loq_interval`.`chr`, `loq_interval`.`start`, `loq_interval`.`stop`, `loq_interval`.`mirName`, `loq_interval`.`NeatName`, `loq_interval`.`IntervalSize`, `loq_interval`.`IntervalSerialNumber`, `loq_interval`.`Structure`, `loq_interval`.`Annotations`, `loq_interval`.`Tags`, `loq_interval`.`all_reads_mapped`, `loq_interval`.`sum_normReads`, `loq_interval`.`mapped_strand`, `loq_interval`.`Link` FROM `loq_interval` WHERE `loq_interval`.`mirName` = 'dme-mir-316' ; args=('dme-mir-316',)\n"
       ]
      },
      {
       "output_type": "stream",
       "stream": "stderr",
       "text": [
        "DEBUG:django.db.backends:(0.001) SELECT `loq_interval`.`id`, `loq_interval`.`chr`, `loq_interval`.`start`, `loq_interval`.`stop`, `loq_interval`.`mirName`, `loq_interval`.`NeatName`, `loq_interval`.`IntervalSize`, `loq_interval`.`IntervalSerialNumber`, `loq_interval`.`Structure`, `loq_interval`.`Annotations`, `loq_interval`.`Tags`, `loq_interval`.`all_reads_mapped`, `loq_interval`.`sum_normReads`, `loq_interval`.`mapped_strand`, `loq_interval`.`Link` FROM `loq_interval` WHERE `loq_interval`.`mirName` = 'dme-mir-317' ; args=('dme-mir-317',)\n"
       ]
      },
      {
       "output_type": "stream",
       "stream": "stdout",
       "text": [
        "\n",
        "['dme-mir-304', '((((..((((.(((((((...(((((((.(((((.(..((((.....))))..).))))))))))))...))))))).))))..))))', '88', '44', '1', '44', 'gcagcauugaauaaucucaauuuguaaaugugagcgguuuaagccauuugacgcacucacuuugcaauuggagauugcucgagacugc\\n']\n",
        "['dme-mir-305', '(((((....(((((((((.((.(((((..((.((........))))))))).)).)))))))))....)))))', '73', '36', '1', '37', 'caugucuauuguacuucaucaggugcucuggugugucucguaacccggcacauguugaaguacacucaauaug\\n']\n",
        "['dme-mir-306', '.((((((.(.((((.(((((((..(((((((((((((((....).)))..)))))))))))..))))))).))))).))))))..', '85', '42', '1', '40', 'guccacucgauggcucagguacuuagugacucucaaugcuuuugacauuuugggggucacucugugccugugcugccagugggac\\n']\n",
        "['dme-mir-307a', '((((((((((((.(((((((((...((.(((((((.((((.......))))..))))))).))...)))))))))))).)))))))))', '88', '44', '1', '43', 'ugucuugcuuugacucacucaaccugggugugauguuauuucgauaugguauccaucacaaccuccuugagugagcgauagcaggaca\\n']\n",
        "['dme-mir-307b', '.((((..((((......((((.((((...((((((((((...((.(((((((..................))))))).))...))))))))))...)))).)))).....)))).)))).', '120', '60', '1', '60', 'uaguuucguggauacucuguccugcuaucgcucacucaaggagguugugauggauaccauaucgaaauaacaucacacccagguugagugagucaaagcaagacaaaaugcugcuaacuu\\n']\n",
        "['dme-mir-308', '(((((((((((.(((((((.((((..(.((...)).)..)))).))))))).)))))))))))', '63', '31', '1', '31', 'cucgcaguauauuuuuguguuuuguuucguuuugcaauccaaaucacaggauuauacugugag\\n']\n",
        "['dme-mir-309', '((((((.(((((((.(((((((((.(((.(.........).))).))))))))).))))))).))))))', '69', '34', '1', '34', 'auuauacgacaaaccuuguucgguuuugccaauuuccaagccagcacuggguaaaguuuguccuauaau\\n']\n",
        "['dme-mir-310', '.((((..(((((((.(((.((((..(((((.(((((((.(((.....))).))))))))))))..)))).))).)))))))...)))).', '89', '44', '1', '44', 'aacauaaacauuugcagggcgggucgugugucaguguauuuauaucuuagcuauauugcacacuucccggccuuuaaauguccaauguu\\n']\n",
        "['dme-mir-311', '(((.(((.((((((.((.((((..(((.((.((((((((.......))).))))))).)))..)))).)).))))))))).)))', '84', '42', '1', '42', 'ucuagaucauuuuucggacgguauauggguuaauauuucauuugucgaauauauugcacauucaccggccugaaaauaucaaga\\n']\n",
        "['dme-mir-312', '((((.(((.((((.((((.(((((.(((...........))).))))).)))).))))))).))))', '66', '33', '1', '33', 'gauuugguucgucacaagggcaauucugcauuuuuuaacuaguauugcacuugagacggccugauu\\n']\n",
        "['dme-mir-313', '((((((.((((.(((.((..((((((((...............)))))))).)).))).))))..))))))', '71', '35', '1', '35', 'auuuucugcugcggaugggggcaguacuguuuuuuuaacauugaguauugcacuuuucacagcccgaaaau\\n']\n",
        "['dme-mir-314', '.((.(((((((.(((((.((((..((((.((.(((.((((..(((......))))))).))).))..)))))))))))))))))))))).', '90', '45', '1', '47', 'ucguaacuuguguggcuucgaacuuaccuaguugaggaaaacucccaugucggauuuuguuaccucugguauucgagccaauaaguucgg\\n']\n",
        "['dme-mir-315', '(((((((....(((((((((((((((.(((((((...((((.....)))).))))))))))))))))))))))....)))))))', '84', '42', '1', '43', 'cacuuauauaauuuugauuguugcucagaaagcccucauuguuuaccaguuggcuuucgagcaauaauugaaaccagauaagug\\n']\n",
        "['dme-mir-316', '.(((((((((.(((.(((((((((((.(((.(((.((((..........)))).)))..)))))))))))))).))).)))).))))).', '89', '44', '1', '43', 'aaauucuagucgauuugucuuuuuccgcuuacuggcguuucaauuccacaacgacaggaaagggaaaaaggcguauuuacuaugaguuu\\n']\n",
        "['dme-mir-317', '(((((((.(((((((((...(((((((((.((((((.(..((.....))..))))))).)))))..))))...))))))))).)))..))))', '92', '46', '1', '44', 'augcaacugccauugggauacacccugugcucgcuuugaaugaaaugcaagcaagugaacacagcuggugguauccaguggccguuuggcau\\n']\n",
        "['dme-mir-318', '.((((((((((.(((.((((((((..(((..........)))..)))))))).))).)))))))))).', '68', '34', '1', '33', 'uuuaugggauacacacaguucaguuuugucacacuucaagcaucacugggcuuuguuuaucucaugag\\n']"
       ]
      },
      {
       "output_type": "stream",
       "stream": "stderr",
       "text": [
        "DEBUG:django.db.backends:(0.001) SELECT `loq_interval`.`id`, `loq_interval`.`chr`, `loq_interval`.`start`, `loq_interval`.`stop`, `loq_interval`.`mirName`, `loq_interval`.`NeatName`, `loq_interval`.`IntervalSize`, `loq_interval`.`IntervalSerialNumber`, `loq_interval`.`Structure`, `loq_interval`.`Annotations`, `loq_interval`.`Tags`, `loq_interval`.`all_reads_mapped`, `loq_interval`.`sum_normReads`, `loq_interval`.`mapped_strand`, `loq_interval`.`Link` FROM `loq_interval` WHERE `loq_interval`.`mirName` = 'dme-mir-318' ; args=('dme-mir-318',)\n"
       ]
      },
      {
       "output_type": "stream",
       "stream": "stderr",
       "text": [
        "DEBUG:django.db.backends:(0.001) SELECT `loq_interval`.`id`, `loq_interval`.`chr`, `loq_interval`.`start`, `loq_interval`.`stop`, `loq_interval`.`mirName`, `loq_interval`.`NeatName`, `loq_interval`.`IntervalSize`, `loq_interval`.`IntervalSerialNumber`, `loq_interval`.`Structure`, `loq_interval`.`Annotations`, `loq_interval`.`Tags`, `loq_interval`.`all_reads_mapped`, `loq_interval`.`sum_normReads`, `loq_interval`.`mapped_strand`, `loq_interval`.`Link` FROM `loq_interval` WHERE `loq_interval`.`mirName` = 'dme-mir-31a' ; args=('dme-mir-31a',)\n"
       ]
      },
      {
       "output_type": "stream",
       "stream": "stderr",
       "text": [
        "DEBUG:django.db.backends:(0.001) SELECT `loq_interval`.`id`, `loq_interval`.`chr`, `loq_interval`.`start`, `loq_interval`.`stop`, `loq_interval`.`mirName`, `loq_interval`.`NeatName`, `loq_interval`.`IntervalSize`, `loq_interval`.`IntervalSerialNumber`, `loq_interval`.`Structure`, `loq_interval`.`Annotations`, `loq_interval`.`Tags`, `loq_interval`.`all_reads_mapped`, `loq_interval`.`sum_normReads`, `loq_interval`.`mapped_strand`, `loq_interval`.`Link` FROM `loq_interval` WHERE `loq_interval`.`mirName` = 'dme-mir-31b' ; args=('dme-mir-31b',)\n"
       ]
      },
      {
       "output_type": "stream",
       "stream": "stderr",
       "text": [
        "DEBUG:django.db.backends:(0.001) SELECT `loq_interval`.`id`, `loq_interval`.`chr`, `loq_interval`.`start`, `loq_interval`.`stop`, `loq_interval`.`mirName`, `loq_interval`.`NeatName`, `loq_interval`.`IntervalSize`, `loq_interval`.`IntervalSerialNumber`, `loq_interval`.`Structure`, `loq_interval`.`Annotations`, `loq_interval`.`Tags`, `loq_interval`.`all_reads_mapped`, `loq_interval`.`sum_normReads`, `loq_interval`.`mapped_strand`, `loq_interval`.`Link` FROM `loq_interval` WHERE `loq_interval`.`mirName` = 'dme-mir-33' ; args=('dme-mir-33',)\n"
       ]
      },
      {
       "output_type": "stream",
       "stream": "stderr",
       "text": [
        "DEBUG:django.db.backends:(0.001) SELECT `loq_interval`.`id`, `loq_interval`.`chr`, `loq_interval`.`start`, `loq_interval`.`stop`, `loq_interval`.`mirName`, `loq_interval`.`NeatName`, `loq_interval`.`IntervalSize`, `loq_interval`.`IntervalSerialNumber`, `loq_interval`.`Structure`, `loq_interval`.`Annotations`, `loq_interval`.`Tags`, `loq_interval`.`all_reads_mapped`, `loq_interval`.`sum_normReads`, `loq_interval`.`mapped_strand`, `loq_interval`.`Link` FROM `loq_interval` WHERE `loq_interval`.`mirName` = 'dme-mir-34' ; args=('dme-mir-34',)\n"
       ]
      },
      {
       "output_type": "stream",
       "stream": "stderr",
       "text": [
        "DEBUG:django.db.backends:(0.001) SELECT `loq_interval`.`id`, `loq_interval`.`chr`, `loq_interval`.`start`, `loq_interval`.`stop`, `loq_interval`.`mirName`, `loq_interval`.`NeatName`, `loq_interval`.`IntervalSize`, `loq_interval`.`IntervalSerialNumber`, `loq_interval`.`Structure`, `loq_interval`.`Annotations`, `loq_interval`.`Tags`, `loq_interval`.`all_reads_mapped`, `loq_interval`.`sum_normReads`, `loq_interval`.`mapped_strand`, `loq_interval`.`Link` FROM `loq_interval` WHERE `loq_interval`.`mirName` = 'dme-mir-3641' ; args=('dme-mir-3641',)\n"
       ]
      },
      {
       "output_type": "stream",
       "stream": "stderr",
       "text": [
        "DEBUG:django.db.backends:(0.001) SELECT `loq_interval`.`id`, `loq_interval`.`chr`, `loq_interval`.`start`, `loq_interval`.`stop`, `loq_interval`.`mirName`, `loq_interval`.`NeatName`, `loq_interval`.`IntervalSize`, `loq_interval`.`IntervalSerialNumber`, `loq_interval`.`Structure`, `loq_interval`.`Annotations`, `loq_interval`.`Tags`, `loq_interval`.`all_reads_mapped`, `loq_interval`.`sum_normReads`, `loq_interval`.`mapped_strand`, `loq_interval`.`Link` FROM `loq_interval` WHERE `loq_interval`.`mirName` = 'dme-mir-3642' ; args=('dme-mir-3642',)\n"
       ]
      },
      {
       "output_type": "stream",
       "stream": "stderr",
       "text": [
        "DEBUG:django.db.backends:(0.001) SELECT `loq_interval`.`id`, `loq_interval`.`chr`, `loq_interval`.`start`, `loq_interval`.`stop`, `loq_interval`.`mirName`, `loq_interval`.`NeatName`, `loq_interval`.`IntervalSize`, `loq_interval`.`IntervalSerialNumber`, `loq_interval`.`Structure`, `loq_interval`.`Annotations`, `loq_interval`.`Tags`, `loq_interval`.`all_reads_mapped`, `loq_interval`.`sum_normReads`, `loq_interval`.`mapped_strand`, `loq_interval`.`Link` FROM `loq_interval` WHERE `loq_interval`.`mirName` = 'dme-mir-3643' ; args=('dme-mir-3643',)\n"
       ]
      },
      {
       "output_type": "stream",
       "stream": "stderr",
       "text": [
        "DEBUG:django.db.backends:(0.001) SELECT `loq_interval`.`id`, `loq_interval`.`chr`, `loq_interval`.`start`, `loq_interval`.`stop`, `loq_interval`.`mirName`, `loq_interval`.`NeatName`, `loq_interval`.`IntervalSize`, `loq_interval`.`IntervalSerialNumber`, `loq_interval`.`Structure`, `loq_interval`.`Annotations`, `loq_interval`.`Tags`, `loq_interval`.`all_reads_mapped`, `loq_interval`.`sum_normReads`, `loq_interval`.`mapped_strand`, `loq_interval`.`Link` FROM `loq_interval` WHERE `loq_interval`.`mirName` = 'dme-mir-3644' ; args=('dme-mir-3644',)\n"
       ]
      },
      {
       "output_type": "stream",
       "stream": "stderr",
       "text": [
        "DEBUG:django.db.backends:(0.001) SELECT `loq_interval`.`id`, `loq_interval`.`chr`, `loq_interval`.`start`, `loq_interval`.`stop`, `loq_interval`.`mirName`, `loq_interval`.`NeatName`, `loq_interval`.`IntervalSize`, `loq_interval`.`IntervalSerialNumber`, `loq_interval`.`Structure`, `loq_interval`.`Annotations`, `loq_interval`.`Tags`, `loq_interval`.`all_reads_mapped`, `loq_interval`.`sum_normReads`, `loq_interval`.`mapped_strand`, `loq_interval`.`Link` FROM `loq_interval` WHERE `loq_interval`.`mirName` = 'dme-mir-3645' ; args=('dme-mir-3645',)\n"
       ]
      },
      {
       "output_type": "stream",
       "stream": "stderr",
       "text": [
        "DEBUG:django.db.backends:(0.001) SELECT `loq_interval`.`id`, `loq_interval`.`chr`, `loq_interval`.`start`, `loq_interval`.`stop`, `loq_interval`.`mirName`, `loq_interval`.`NeatName`, `loq_interval`.`IntervalSize`, `loq_interval`.`IntervalSerialNumber`, `loq_interval`.`Structure`, `loq_interval`.`Annotations`, `loq_interval`.`Tags`, `loq_interval`.`all_reads_mapped`, `loq_interval`.`sum_normReads`, `loq_interval`.`mapped_strand`, `loq_interval`.`Link` FROM `loq_interval` WHERE `loq_interval`.`mirName` = 'dme-mir-375' ; args=('dme-mir-375',)\n"
       ]
      },
      {
       "output_type": "stream",
       "stream": "stderr",
       "text": [
        "DEBUG:django.db.backends:(0.001) SELECT `loq_interval`.`id`, `loq_interval`.`chr`, `loq_interval`.`start`, `loq_interval`.`stop`, `loq_interval`.`mirName`, `loq_interval`.`NeatName`, `loq_interval`.`IntervalSize`, `loq_interval`.`IntervalSerialNumber`, `loq_interval`.`Structure`, `loq_interval`.`Annotations`, `loq_interval`.`Tags`, `loq_interval`.`all_reads_mapped`, `loq_interval`.`sum_normReads`, `loq_interval`.`mapped_strand`, `loq_interval`.`Link` FROM `loq_interval` WHERE `loq_interval`.`mirName` = 'dme-mir-4' ; args=('dme-mir-4',)\n"
       ]
      },
      {
       "output_type": "stream",
       "stream": "stderr",
       "text": [
        "DEBUG:django.db.backends:(0.001) SELECT `loq_interval`.`id`, `loq_interval`.`chr`, `loq_interval`.`start`, `loq_interval`.`stop`, `loq_interval`.`mirName`, `loq_interval`.`NeatName`, `loq_interval`.`IntervalSize`, `loq_interval`.`IntervalSerialNumber`, `loq_interval`.`Structure`, `loq_interval`.`Annotations`, `loq_interval`.`Tags`, `loq_interval`.`all_reads_mapped`, `loq_interval`.`sum_normReads`, `loq_interval`.`mapped_strand`, `loq_interval`.`Link` FROM `loq_interval` WHERE `loq_interval`.`mirName` = 'dme-mir-4908' ; args=('dme-mir-4908',)\n"
       ]
      },
      {
       "output_type": "stream",
       "stream": "stderr",
       "text": [
        "DEBUG:django.db.backends:(0.001) SELECT `loq_interval`.`id`, `loq_interval`.`chr`, `loq_interval`.`start`, `loq_interval`.`stop`, `loq_interval`.`mirName`, `loq_interval`.`NeatName`, `loq_interval`.`IntervalSize`, `loq_interval`.`IntervalSerialNumber`, `loq_interval`.`Structure`, `loq_interval`.`Annotations`, `loq_interval`.`Tags`, `loq_interval`.`all_reads_mapped`, `loq_interval`.`sum_normReads`, `loq_interval`.`mapped_strand`, `loq_interval`.`Link` FROM `loq_interval` WHERE `loq_interval`.`mirName` = 'dme-mir-4909' ; args=('dme-mir-4909',)\n"
       ]
      },
      {
       "output_type": "stream",
       "stream": "stderr",
       "text": [
        "DEBUG:django.db.backends:(0.001) SELECT `loq_interval`.`id`, `loq_interval`.`chr`, `loq_interval`.`start`, `loq_interval`.`stop`, `loq_interval`.`mirName`, `loq_interval`.`NeatName`, `loq_interval`.`IntervalSize`, `loq_interval`.`IntervalSerialNumber`, `loq_interval`.`Structure`, `loq_interval`.`Annotations`, `loq_interval`.`Tags`, `loq_interval`.`all_reads_mapped`, `loq_interval`.`sum_normReads`, `loq_interval`.`mapped_strand`, `loq_interval`.`Link` FROM `loq_interval` WHERE `loq_interval`.`mirName` = 'dme-mir-4910' ; args=('dme-mir-4910',)\n"
       ]
      },
      {
       "output_type": "stream",
       "stream": "stderr",
       "text": [
        "DEBUG:django.db.backends:(0.001) SELECT `loq_interval`.`id`, `loq_interval`.`chr`, `loq_interval`.`start`, `loq_interval`.`stop`, `loq_interval`.`mirName`, `loq_interval`.`NeatName`, `loq_interval`.`IntervalSize`, `loq_interval`.`IntervalSerialNumber`, `loq_interval`.`Structure`, `loq_interval`.`Annotations`, `loq_interval`.`Tags`, `loq_interval`.`all_reads_mapped`, `loq_interval`.`sum_normReads`, `loq_interval`.`mapped_strand`, `loq_interval`.`Link` FROM `loq_interval` WHERE `loq_interval`.`mirName` = 'dme-mir-4911' ; args=('dme-mir-4911',)\n"
       ]
      },
      {
       "output_type": "stream",
       "stream": "stdout",
       "text": [
        "\n",
        "['dme-mir-31a', '((((((((..(((((((.(((((.(((((((((.(...((.((((....)))).))...))))))))))))))).)))))))..))))))))', '92', '46', '1', '46', 'uccguugguaaauuggcaagaugucggcauagcugacguugaaaagcgauuuugaagagcgcuaugcugcaucuagucaguuguucaaugga\\n']\n",
        "['dme-mir-31b', '(((((((((...(((((.(((((..((.(((((((.........((((.(((........))))))).(((((((....)))))))......))))))).)).))))).)))))...))))).))))', '127', '63', '2', '76', 'caaauaaugaauuuggcaagaugucggaauagcugagagcacagcggaucgaacauuuuaucguccgaaaaaaugugauuauuuuugaaaagcggcuaugccucaucuagucaauugcauuacuuug\\n']\n",
        "['dme-mir-33', '...........((((((.((((.((.(((((((.(((.(.((((((((............)))))))).).))).)))))))..)).))))))))))..', '99', '49', '1', '53', 'cucuuccucuggagaugacacgaaggugcauuguagucgcauugucugucccaauugcuucaggcaauacaacuucagugcaagcucugugcauuucac\\n']\n",
        "['dme-mir-34', '.....(((.(((((..((((((((.((.(((.((((((((..(.((((.......)))).)....))))))))))).)).))))))))..))).)))))', '99', '49', '1', '51', 'aauuggcuaugcgcuuuggcagugugguuagcugguuguguagccaauuauugccguugacaauucacagccacuaucuucacugccgccgcgacaagc\\n']\n",
        "['dme-mir-3641', '..(((((.((.(((((.((..(((..............))))).))))).)).)))))...........', '69', '34', '1', '30', 'gugaguguccuguuuacagcugguauauuuuucgaaaagcccucuaaacuggucacuuccacucuacag\\n']\n",
        "['dme-mir-3642', '..((((((((.(.(((...(((((..(((.....)))....)))))...))).))).)))))).............', '76', '38', '1', '31', 'gugagugggucgcacggagcgucauuuggaauucccauggcugacgaaacguucacucugcucuucucgauuacag\\n']\n",
        "['dme-mir-3643', '..((((.((..(((.((((.(.(((....))).).)))).)))..)).))))................', '68', '34', '1', '26', 'gugaguuuaucuaaauaugcccauuuaucaauagucauacuuauuuaugcuccuuuaacuccuugcag\\n']\n",
        "['dme-mir-3644', '(((..(((.(((((((((.(((((....))))).))))))))).)))..))).........', '61', '30', '1', '25', 'gugagugauuaugguuuaaguaauacgaauuacauaaacuauauuuaaccacuauucuuag\\n']\n",
        "['dme-mir-3645', '.(((((((.((((.((((....(((((((............((.((((((...))))))...)))))))))..)))))))).)))))))................................................', '137', '68', '1', '51', 'gugagugcaggcuguuuauugcggcgcuguuuacuguuuacgaucgcacuggaagugcgcuuuccggcgccuuuggaagccagcacucaaguuuccuucauuguuuuccuuucuuuccccucucucucuccccgcag\\n']\n",
        "['dme-mir-375', '.(((((((.((((.((((((((((((.((..(((((((..............))))))))).)))))))))))).)))).).))))))...', '91', '45', '1', '44', 'ccgggcagcgaauuacuugggccaagggaaugcaaacugugaucaucccgaaaguuuguucguuuggcuuaaguuauuuucauguccgacu\\n']\n",
        "['dme-mir-4', '..(((((.((((((..((((.(((.(((.((..((((((.....)))))).))))).))).))))..)))))).)))))..', '81', '40', '1', '41', 'uugcaauuaguuucuuuggucguccagccuuaggugauuuuuccggucauaaagcuagacaaccauugaaguucguugugg\\n']\n",
        "['dme-mir-4908', '((((((((((((((((..((((.............)))))))))..)))))))))))..', '59', '29', '1', '28', 'guaggauuuuaagcauuaagcauguauauaguuuuugcugugcucauaaaguucuauag\\n']\n",
        "['dme-mir-4909', '.((((.(((((((((((((((.(((((.....))))).))))))))))).)))).)))).', '60', '30', '1', '29', 'guagguugaaaucggauacaacuaaaaguuauuuuuaauuguauccggucuucauuuuag\\n']\n",
        "['dme-mir-4910', '....((((((((..(((((((.((..((((...))))..))))).))))..)))))))).......', '66', '33', '1', '31', 'guuuguauggaauuccaugagcuucaaaguaaugcuucuaacucugugguuuuucauauuucccag\\n']\n",
        "['dme-mir-4911', '(((.((.((.((((((.((.((......................)).)).)))))).)))))))....', '68', '34', '1', '32', 'gugaggaggagcaaaguggcgccacaauuuacuagaaacuaauugcaucuuuuuguccccccgcguag\\n']\n",
        "['dme-mir-4912', '..(((((((.((((((((((..(((.......)))))))))..))).).)))))))....', '60', '30', '1', '28', 'gugaguagucguauguuuauuaagauuuacuuucuauaaauuaauguccacuacuuuuag\\n']"
       ]
      },
      {
       "output_type": "stream",
       "stream": "stderr",
       "text": [
        "DEBUG:django.db.backends:(0.001) SELECT `loq_interval`.`id`, `loq_interval`.`chr`, `loq_interval`.`start`, `loq_interval`.`stop`, `loq_interval`.`mirName`, `loq_interval`.`NeatName`, `loq_interval`.`IntervalSize`, `loq_interval`.`IntervalSerialNumber`, `loq_interval`.`Structure`, `loq_interval`.`Annotations`, `loq_interval`.`Tags`, `loq_interval`.`all_reads_mapped`, `loq_interval`.`sum_normReads`, `loq_interval`.`mapped_strand`, `loq_interval`.`Link` FROM `loq_interval` WHERE `loq_interval`.`mirName` = 'dme-mir-4912' ; args=('dme-mir-4912',)\n"
       ]
      },
      {
       "output_type": "stream",
       "stream": "stderr",
       "text": [
        "DEBUG:django.db.backends:(0.001) SELECT `loq_interval`.`id`, `loq_interval`.`chr`, `loq_interval`.`start`, `loq_interval`.`stop`, `loq_interval`.`mirName`, `loq_interval`.`NeatName`, `loq_interval`.`IntervalSize`, `loq_interval`.`IntervalSerialNumber`, `loq_interval`.`Structure`, `loq_interval`.`Annotations`, `loq_interval`.`Tags`, `loq_interval`.`all_reads_mapped`, `loq_interval`.`sum_normReads`, `loq_interval`.`mapped_strand`, `loq_interval`.`Link` FROM `loq_interval` WHERE `loq_interval`.`mirName` = 'dme-mir-4913' ; args=('dme-mir-4913',)\n"
       ]
      },
      {
       "output_type": "stream",
       "stream": "stderr",
       "text": [
        "DEBUG:django.db.backends:(0.001) SELECT `loq_interval`.`id`, `loq_interval`.`chr`, `loq_interval`.`start`, `loq_interval`.`stop`, `loq_interval`.`mirName`, `loq_interval`.`NeatName`, `loq_interval`.`IntervalSize`, `loq_interval`.`IntervalSerialNumber`, `loq_interval`.`Structure`, `loq_interval`.`Annotations`, `loq_interval`.`Tags`, `loq_interval`.`all_reads_mapped`, `loq_interval`.`sum_normReads`, `loq_interval`.`mapped_strand`, `loq_interval`.`Link` FROM `loq_interval` WHERE `loq_interval`.`mirName` = 'dme-mir-4914' ; args=('dme-mir-4914',)\n"
       ]
      },
      {
       "output_type": "stream",
       "stream": "stderr",
       "text": [
        "DEBUG:django.db.backends:(0.001) SELECT `loq_interval`.`id`, `loq_interval`.`chr`, `loq_interval`.`start`, `loq_interval`.`stop`, `loq_interval`.`mirName`, `loq_interval`.`NeatName`, `loq_interval`.`IntervalSize`, `loq_interval`.`IntervalSerialNumber`, `loq_interval`.`Structure`, `loq_interval`.`Annotations`, `loq_interval`.`Tags`, `loq_interval`.`all_reads_mapped`, `loq_interval`.`sum_normReads`, `loq_interval`.`mapped_strand`, `loq_interval`.`Link` FROM `loq_interval` WHERE `loq_interval`.`mirName` = 'dme-mir-4915' ; args=('dme-mir-4915',)\n"
       ]
      },
      {
       "output_type": "stream",
       "stream": "stderr",
       "text": [
        "DEBUG:django.db.backends:(0.001) SELECT `loq_interval`.`id`, `loq_interval`.`chr`, `loq_interval`.`start`, `loq_interval`.`stop`, `loq_interval`.`mirName`, `loq_interval`.`NeatName`, `loq_interval`.`IntervalSize`, `loq_interval`.`IntervalSerialNumber`, `loq_interval`.`Structure`, `loq_interval`.`Annotations`, `loq_interval`.`Tags`, `loq_interval`.`all_reads_mapped`, `loq_interval`.`sum_normReads`, `loq_interval`.`mapped_strand`, `loq_interval`.`Link` FROM `loq_interval` WHERE `loq_interval`.`mirName` = 'dme-mir-4916' ; args=('dme-mir-4916',)\n"
       ]
      },
      {
       "output_type": "stream",
       "stream": "stderr",
       "text": [
        "DEBUG:django.db.backends:(0.001) SELECT `loq_interval`.`id`, `loq_interval`.`chr`, `loq_interval`.`start`, `loq_interval`.`stop`, `loq_interval`.`mirName`, `loq_interval`.`NeatName`, `loq_interval`.`IntervalSize`, `loq_interval`.`IntervalSerialNumber`, `loq_interval`.`Structure`, `loq_interval`.`Annotations`, `loq_interval`.`Tags`, `loq_interval`.`all_reads_mapped`, `loq_interval`.`sum_normReads`, `loq_interval`.`mapped_strand`, `loq_interval`.`Link` FROM `loq_interval` WHERE `loq_interval`.`mirName` = 'dme-mir-4917' ; args=('dme-mir-4917',)\n"
       ]
      },
      {
       "output_type": "stream",
       "stream": "stderr",
       "text": [
        "DEBUG:django.db.backends:(0.001) SELECT `loq_interval`.`id`, `loq_interval`.`chr`, `loq_interval`.`start`, `loq_interval`.`stop`, `loq_interval`.`mirName`, `loq_interval`.`NeatName`, `loq_interval`.`IntervalSize`, `loq_interval`.`IntervalSerialNumber`, `loq_interval`.`Structure`, `loq_interval`.`Annotations`, `loq_interval`.`Tags`, `loq_interval`.`all_reads_mapped`, `loq_interval`.`sum_normReads`, `loq_interval`.`mapped_strand`, `loq_interval`.`Link` FROM `loq_interval` WHERE `loq_interval`.`mirName` = 'dme-mir-4918' ; args=('dme-mir-4918',)\n"
       ]
      },
      {
       "output_type": "stream",
       "stream": "stderr",
       "text": [
        "DEBUG:django.db.backends:(0.001) SELECT `loq_interval`.`id`, `loq_interval`.`chr`, `loq_interval`.`start`, `loq_interval`.`stop`, `loq_interval`.`mirName`, `loq_interval`.`NeatName`, `loq_interval`.`IntervalSize`, `loq_interval`.`IntervalSerialNumber`, `loq_interval`.`Structure`, `loq_interval`.`Annotations`, `loq_interval`.`Tags`, `loq_interval`.`all_reads_mapped`, `loq_interval`.`sum_normReads`, `loq_interval`.`mapped_strand`, `loq_interval`.`Link` FROM `loq_interval` WHERE `loq_interval`.`mirName` = 'dme-mir-4919' ; args=('dme-mir-4919',)\n"
       ]
      },
      {
       "output_type": "stream",
       "stream": "stderr",
       "text": [
        "DEBUG:django.db.backends:(0.001) SELECT `loq_interval`.`id`, `loq_interval`.`chr`, `loq_interval`.`start`, `loq_interval`.`stop`, `loq_interval`.`mirName`, `loq_interval`.`NeatName`, `loq_interval`.`IntervalSize`, `loq_interval`.`IntervalSerialNumber`, `loq_interval`.`Structure`, `loq_interval`.`Annotations`, `loq_interval`.`Tags`, `loq_interval`.`all_reads_mapped`, `loq_interval`.`sum_normReads`, `loq_interval`.`mapped_strand`, `loq_interval`.`Link` FROM `loq_interval` WHERE `loq_interval`.`mirName` = 'dme-mir-4939' ; args=('dme-mir-4939',)\n"
       ]
      },
      {
       "output_type": "stream",
       "stream": "stderr",
       "text": [
        "DEBUG:django.db.backends:(0.001) SELECT `loq_interval`.`id`, `loq_interval`.`chr`, `loq_interval`.`start`, `loq_interval`.`stop`, `loq_interval`.`mirName`, `loq_interval`.`NeatName`, `loq_interval`.`IntervalSize`, `loq_interval`.`IntervalSerialNumber`, `loq_interval`.`Structure`, `loq_interval`.`Annotations`, `loq_interval`.`Tags`, `loq_interval`.`all_reads_mapped`, `loq_interval`.`sum_normReads`, `loq_interval`.`mapped_strand`, `loq_interval`.`Link` FROM `loq_interval` WHERE `loq_interval`.`mirName` = 'dme-mir-4940' ; args=('dme-mir-4940',)\n"
       ]
      },
      {
       "output_type": "stream",
       "stream": "stderr",
       "text": [
        "DEBUG:django.db.backends:(0.001) SELECT `loq_interval`.`id`, `loq_interval`.`chr`, `loq_interval`.`start`, `loq_interval`.`stop`, `loq_interval`.`mirName`, `loq_interval`.`NeatName`, `loq_interval`.`IntervalSize`, `loq_interval`.`IntervalSerialNumber`, `loq_interval`.`Structure`, `loq_interval`.`Annotations`, `loq_interval`.`Tags`, `loq_interval`.`all_reads_mapped`, `loq_interval`.`sum_normReads`, `loq_interval`.`mapped_strand`, `loq_interval`.`Link` FROM `loq_interval` WHERE `loq_interval`.`mirName` = 'dme-mir-4941' ; args=('dme-mir-4941',)\n"
       ]
      },
      {
       "output_type": "stream",
       "stream": "stderr",
       "text": [
        "DEBUG:django.db.backends:(0.001) SELECT `loq_interval`.`id`, `loq_interval`.`chr`, `loq_interval`.`start`, `loq_interval`.`stop`, `loq_interval`.`mirName`, `loq_interval`.`NeatName`, `loq_interval`.`IntervalSize`, `loq_interval`.`IntervalSerialNumber`, `loq_interval`.`Structure`, `loq_interval`.`Annotations`, `loq_interval`.`Tags`, `loq_interval`.`all_reads_mapped`, `loq_interval`.`sum_normReads`, `loq_interval`.`mapped_strand`, `loq_interval`.`Link` FROM `loq_interval` WHERE `loq_interval`.`mirName` = 'dme-mir-4942' ; args=('dme-mir-4942',)\n"
       ]
      },
      {
       "output_type": "stream",
       "stream": "stderr",
       "text": [
        "DEBUG:django.db.backends:(0.001) SELECT `loq_interval`.`id`, `loq_interval`.`chr`, `loq_interval`.`start`, `loq_interval`.`stop`, `loq_interval`.`mirName`, `loq_interval`.`NeatName`, `loq_interval`.`IntervalSize`, `loq_interval`.`IntervalSerialNumber`, `loq_interval`.`Structure`, `loq_interval`.`Annotations`, `loq_interval`.`Tags`, `loq_interval`.`all_reads_mapped`, `loq_interval`.`sum_normReads`, `loq_interval`.`mapped_strand`, `loq_interval`.`Link` FROM `loq_interval` WHERE `loq_interval`.`mirName` = 'dme-mir-4943' ; args=('dme-mir-4943',)\n"
       ]
      },
      {
       "output_type": "stream",
       "stream": "stderr",
       "text": [
        "DEBUG:django.db.backends:(0.001) SELECT `loq_interval`.`id`, `loq_interval`.`chr`, `loq_interval`.`start`, `loq_interval`.`stop`, `loq_interval`.`mirName`, `loq_interval`.`NeatName`, `loq_interval`.`IntervalSize`, `loq_interval`.`IntervalSerialNumber`, `loq_interval`.`Structure`, `loq_interval`.`Annotations`, `loq_interval`.`Tags`, `loq_interval`.`all_reads_mapped`, `loq_interval`.`sum_normReads`, `loq_interval`.`mapped_strand`, `loq_interval`.`Link` FROM `loq_interval` WHERE `loq_interval`.`mirName` = 'dme-mir-4944' ; args=('dme-mir-4944',)\n"
       ]
      },
      {
       "output_type": "stream",
       "stream": "stderr",
       "text": [
        "DEBUG:django.db.backends:(0.001) SELECT `loq_interval`.`id`, `loq_interval`.`chr`, `loq_interval`.`start`, `loq_interval`.`stop`, `loq_interval`.`mirName`, `loq_interval`.`NeatName`, `loq_interval`.`IntervalSize`, `loq_interval`.`IntervalSerialNumber`, `loq_interval`.`Structure`, `loq_interval`.`Annotations`, `loq_interval`.`Tags`, `loq_interval`.`all_reads_mapped`, `loq_interval`.`sum_normReads`, `loq_interval`.`mapped_strand`, `loq_interval`.`Link` FROM `loq_interval` WHERE `loq_interval`.`mirName` = 'dme-mir-4945' ; args=('dme-mir-4945',)\n"
       ]
      },
      {
       "output_type": "stream",
       "stream": "stderr",
       "text": [
        "DEBUG:django.db.backends:(0.001) SELECT `loq_interval`.`id`, `loq_interval`.`chr`, `loq_interval`.`start`, `loq_interval`.`stop`, `loq_interval`.`mirName`, `loq_interval`.`NeatName`, `loq_interval`.`IntervalSize`, `loq_interval`.`IntervalSerialNumber`, `loq_interval`.`Structure`, `loq_interval`.`Annotations`, `loq_interval`.`Tags`, `loq_interval`.`all_reads_mapped`, `loq_interval`.`sum_normReads`, `loq_interval`.`mapped_strand`, `loq_interval`.`Link` FROM `loq_interval` WHERE `loq_interval`.`mirName` = 'dme-mir-4946' ; args=('dme-mir-4946',)\n"
       ]
      },
      {
       "output_type": "stream",
       "stream": "stderr",
       "text": [
        "DEBUG:django.db.backends:(0.001) SELECT `loq_interval`.`id`, `loq_interval`.`chr`, `loq_interval`.`start`, `loq_interval`.`stop`, `loq_interval`.`mirName`, `loq_interval`.`NeatName`, `loq_interval`.`IntervalSize`, `loq_interval`.`IntervalSerialNumber`, `loq_interval`.`Structure`, `loq_interval`.`Annotations`, `loq_interval`.`Tags`, `loq_interval`.`all_reads_mapped`, `loq_interval`.`sum_normReads`, `loq_interval`.`mapped_strand`, `loq_interval`.`Link` FROM `loq_interval` WHERE `loq_interval`.`mirName` = 'dme-mir-4947' ; args=('dme-mir-4947',)\n"
       ]
      },
      {
       "output_type": "stream",
       "stream": "stderr",
       "text": [
        "DEBUG:django.db.backends:(0.001) SELECT `loq_interval`.`id`, `loq_interval`.`chr`, `loq_interval`.`start`, `loq_interval`.`stop`, `loq_interval`.`mirName`, `loq_interval`.`NeatName`, `loq_interval`.`IntervalSize`, `loq_interval`.`IntervalSerialNumber`, `loq_interval`.`Structure`, `loq_interval`.`Annotations`, `loq_interval`.`Tags`, `loq_interval`.`all_reads_mapped`, `loq_interval`.`sum_normReads`, `loq_interval`.`mapped_strand`, `loq_interval`.`Link` FROM `loq_interval` WHERE `loq_interval`.`mirName` = 'dme-mir-4948' ; args=('dme-mir-4948',)\n"
       ]
      },
      {
       "output_type": "stream",
       "stream": "stdout",
       "text": [
        "\n",
        "['dme-mir-4913', '.(((((((((((((.....((((((.....))))))....)))).))))...))))).', '58', '29', '1', '27', 'gugaguucgauuggaaaauuuaaauuuaauguuuaauuaaccaauucgaauugcuuag\\n']\n",
        "['dme-mir-4914', '(((.((((...((((.((.(((((((((.(((((..((....)).)))))...)))...........))))))..)).))))..)))).)))..', '94', '47', '1', '39', 'gugagugagagcgaguuccaaugugguccucgaaaccaguugugcuucgaucagauuccaaaauugacacauuccgaccuugaaucacccacag\\n']\n",
        "['dme-mir-4915', '.((((((((((.(((((.....(((((.......((((......((.(((.....((((((.........))))))...))).))))))...)))))...)))))))..)))))))).', '118', '59', '1', '65', 'gugagaaaaaguaguaaauuaagcauaucacgcaaggacaaacauuaaguuaaggccuaguuccuauuauacuaggaauacucaauccuacuuaugccucuuauucuucuuuucucag\\n']\n",
        "['dme-mir-4916', '.((((.((..(((((((((.((..(.....)..))..)))))))))..)).))))....', '59', '29', '1', '27', 'guggguguucuuggaaauucgccucgaucgguagcuaaauuucugauuacuccuaaaag\\n']\n",
        "['dme-mir-4917', '.(((((((((((((.(((.((..((((((.(........).)))...)))..)).))).)))))).)))))))....', '77', '38', '1', '34', 'gugaguagcgaugggggucagauggccguggaagauaugugacgauugcccccuuacuacuaucgucugcucaacag\\n']\n",
        "['dme-mir-4918', '(((.(((....(((...(((((((((....)))))))))....)))))).)))..', '55', '27', '1', '27', 'gugagcacgauggccacauuuauugggcaaccaaugaauucccgccugcccacag\\n']\n",
        "['dme-mir-4919', '(((((((....(((((((((..................)))))))))....)))))))..', '60', '30', '1', '28', 'gugagucucuaggggauuagcaagcuauaauuucucacuuaaucccugaacgacuugcag\\n']\n",
        "['dme-mir-4939', '(((((....(((..((.(((((.((((((((((((((((((..((((((((...)))).)))).))))))))).))))))).)).))))).))..)))...)).)))..', '109', '54', '1', '52', 'gcaucaugcuucugcgaucucuaccaauuuuccuugcacucuuuguccuuuccaaaagugacacgggugcaggugaagauucggaagaggacgacgaaaacgacugcaa\\n']\n",
        "['dme-mir-4940', '...(((.........(((((((((((.((.(((((((.(((......................)))))))))).)).)))))))))))..........)))....', '105', '52', '1', '51', 'uuaucgcaacuuaucgaucggguggcggauauagaucauugguuaucccuuaauuaaagcaaacaagauuuguuucggccgcccgauuuuacauacaacgacacg\\n']\n",
        "['dme-mir-4941', '......((((.(...(((((((((((.((((.((((((((((((((.......))..))))))))))..)).)))).)))))))).)))...).)))).....', '103', '51', '1', '49', 'augaccggcgaggagaugcgauuccucgagcugcucaccgccuuuggcuuggacaucgaggcgguggccgccgcucugggagucgauaugcacacgcucaaca\\n']\n",
        "['dme-mir-4942', '.......(((((((((..((((((((((((((((.(((((((.((((((((...)))))))).)))).))).))))))).))))).......))))...))))))).)).', '110', '55', '1', '52', 'uaugaauacauauauuuuuauguuugagucaacaucgaguugccgauguuuggaaaacaucgaugacaucgcuguuggcaucgaaauauguccauaucuaauauauaguu\\n']\n",
        "['dme-mir-4943', '...((.((.(((((.((.......(((((((((((((.(.((((((((...(((.......)))...)))))))).)..))))))))))))).......)).)))).).)).))...', '117', '58', '1', '57', 'uucggaucguuugaaugaccaauuuugucuuuuauuuucucuguguuuucaguuaaugaaagauagugaacacagugcuaaaugaaagauaaugagacccagucgacaggacccaag\\n']\n",
        "['dme-mir-4944', '......((((((((....)))..)))))..((((((((((((((..(((..(((((((.................)))))))..)))..)))))))))))))).....(((((.........)))))..', '129', '64', '3', '66', 'aaaaguaacuuucguaaucgaaaaaguuucgcuuuuuuuucugcuucugccgcugagcaaguuuuaaauauuaccgcuuaguuacagcugcaggaagaaaaguuauaauuauggacuacguacauaaau\\n']\n",
        "['dme-mir-4945', '.....((((((....(((...(((((((..(((((((.(((..((((((((((((...........))))))))))))..))).)))))))..)))))))..)))..))))))..', '115', '57', '1', '60', 'gugauggugcuggugguggugccuucauuguuuuucucuucuuuuuguuguuugacuuuuacacuuuugaacaacaagccgaaaggaaaaagcaugaaggaaugcaaaguauucg\\n']\n",
        "['dme-mir-4946', '(((.(((....((..(((.((.((((((((((((((((((((((.((((...............)))).)))))..)))))))))))))..)))).)).)))))..))))))....', '116', '58', '1', '56', 'gcucgauugcugcaacuaagaaacaaauauuuucaguuguucauugcaaauuaauuuauguacauugcuaugaaaucaauugaaaauauaauuguauccuaggcuuaucagcugca\\n']\n",
        "['dme-mir-4947', '...((.((((.((((((((..((((((((((.(..(((((.((.............)).)))))..).))))))))))...)))))..))))).)).)).', '100', '50', '1', '49', 'aaagcgacccacccauuccccuuccgcccauauuuauccuucgucuacuguuucaucgcaggauuuaagugggcggagcacggaauucgggggcguggcg\\n']\n",
        "['dme-mir-4948', '(((((.((.((((((.((((.((.((((((((((.((.(((((.(((((....))).)).))))))).))))))))))..)).)))).)))))))).)))))....', '106', '53', '1', '50', 'gucguagaugugggcguagguggcggcgggcguggcgugcgugauccugguuguggugaccacgccggugcgcuugcccuccuucugggcccacuccaugacgcuc\\n']\n",
        "['dme-mir-4949', '.....((((.((...((((.(((((((.(((((((.(((......((((...))))......)))))))))).))))))).))))..)).)))).....', '99', '49', '1', '50', 'auaaugcgccgccaucuugcggcacacucgcacacacacacgugugccauucugguuuugcaguggugugcgugugugccucgagucguugcgucacug\\n']"
       ]
      },
      {
       "output_type": "stream",
       "stream": "stderr",
       "text": [
        "DEBUG:django.db.backends:(0.001) SELECT `loq_interval`.`id`, `loq_interval`.`chr`, `loq_interval`.`start`, `loq_interval`.`stop`, `loq_interval`.`mirName`, `loq_interval`.`NeatName`, `loq_interval`.`IntervalSize`, `loq_interval`.`IntervalSerialNumber`, `loq_interval`.`Structure`, `loq_interval`.`Annotations`, `loq_interval`.`Tags`, `loq_interval`.`all_reads_mapped`, `loq_interval`.`sum_normReads`, `loq_interval`.`mapped_strand`, `loq_interval`.`Link` FROM `loq_interval` WHERE `loq_interval`.`mirName` = 'dme-mir-4949' ; args=('dme-mir-4949',)\n"
       ]
      },
      {
       "output_type": "stream",
       "stream": "stderr",
       "text": [
        "DEBUG:django.db.backends:(0.001) SELECT `loq_interval`.`id`, `loq_interval`.`chr`, `loq_interval`.`start`, `loq_interval`.`stop`, `loq_interval`.`mirName`, `loq_interval`.`NeatName`, `loq_interval`.`IntervalSize`, `loq_interval`.`IntervalSerialNumber`, `loq_interval`.`Structure`, `loq_interval`.`Annotations`, `loq_interval`.`Tags`, `loq_interval`.`all_reads_mapped`, `loq_interval`.`sum_normReads`, `loq_interval`.`mapped_strand`, `loq_interval`.`Link` FROM `loq_interval` WHERE `loq_interval`.`mirName` = 'dme-mir-4950' ; args=('dme-mir-4950',)\n"
       ]
      },
      {
       "output_type": "stream",
       "stream": "stderr",
       "text": [
        "DEBUG:django.db.backends:(0.001) SELECT `loq_interval`.`id`, `loq_interval`.`chr`, `loq_interval`.`start`, `loq_interval`.`stop`, `loq_interval`.`mirName`, `loq_interval`.`NeatName`, `loq_interval`.`IntervalSize`, `loq_interval`.`IntervalSerialNumber`, `loq_interval`.`Structure`, `loq_interval`.`Annotations`, `loq_interval`.`Tags`, `loq_interval`.`all_reads_mapped`, `loq_interval`.`sum_normReads`, `loq_interval`.`mapped_strand`, `loq_interval`.`Link` FROM `loq_interval` WHERE `loq_interval`.`mirName` = 'dme-mir-4951' ; args=('dme-mir-4951',)\n"
       ]
      },
      {
       "output_type": "stream",
       "stream": "stderr",
       "text": [
        "DEBUG:django.db.backends:(0.001) SELECT `loq_interval`.`id`, `loq_interval`.`chr`, `loq_interval`.`start`, `loq_interval`.`stop`, `loq_interval`.`mirName`, `loq_interval`.`NeatName`, `loq_interval`.`IntervalSize`, `loq_interval`.`IntervalSerialNumber`, `loq_interval`.`Structure`, `loq_interval`.`Annotations`, `loq_interval`.`Tags`, `loq_interval`.`all_reads_mapped`, `loq_interval`.`sum_normReads`, `loq_interval`.`mapped_strand`, `loq_interval`.`Link` FROM `loq_interval` WHERE `loq_interval`.`mirName` = 'dme-mir-4952' ; args=('dme-mir-4952',)\n"
       ]
      },
      {
       "output_type": "stream",
       "stream": "stderr",
       "text": [
        "DEBUG:django.db.backends:(0.001) SELECT `loq_interval`.`id`, `loq_interval`.`chr`, `loq_interval`.`start`, `loq_interval`.`stop`, `loq_interval`.`mirName`, `loq_interval`.`NeatName`, `loq_interval`.`IntervalSize`, `loq_interval`.`IntervalSerialNumber`, `loq_interval`.`Structure`, `loq_interval`.`Annotations`, `loq_interval`.`Tags`, `loq_interval`.`all_reads_mapped`, `loq_interval`.`sum_normReads`, `loq_interval`.`mapped_strand`, `loq_interval`.`Link` FROM `loq_interval` WHERE `loq_interval`.`mirName` = 'dme-mir-4953' ; args=('dme-mir-4953',)\n"
       ]
      },
      {
       "output_type": "stream",
       "stream": "stderr",
       "text": [
        "DEBUG:django.db.backends:(0.001) SELECT `loq_interval`.`id`, `loq_interval`.`chr`, `loq_interval`.`start`, `loq_interval`.`stop`, `loq_interval`.`mirName`, `loq_interval`.`NeatName`, `loq_interval`.`IntervalSize`, `loq_interval`.`IntervalSerialNumber`, `loq_interval`.`Structure`, `loq_interval`.`Annotations`, `loq_interval`.`Tags`, `loq_interval`.`all_reads_mapped`, `loq_interval`.`sum_normReads`, `loq_interval`.`mapped_strand`, `loq_interval`.`Link` FROM `loq_interval` WHERE `loq_interval`.`mirName` = 'dme-mir-4954' ; args=('dme-mir-4954',)\n"
       ]
      },
      {
       "output_type": "stream",
       "stream": "stderr",
       "text": [
        "DEBUG:django.db.backends:(0.001) SELECT `loq_interval`.`id`, `loq_interval`.`chr`, `loq_interval`.`start`, `loq_interval`.`stop`, `loq_interval`.`mirName`, `loq_interval`.`NeatName`, `loq_interval`.`IntervalSize`, `loq_interval`.`IntervalSerialNumber`, `loq_interval`.`Structure`, `loq_interval`.`Annotations`, `loq_interval`.`Tags`, `loq_interval`.`all_reads_mapped`, `loq_interval`.`sum_normReads`, `loq_interval`.`mapped_strand`, `loq_interval`.`Link` FROM `loq_interval` WHERE `loq_interval`.`mirName` = 'dme-mir-4955' ; args=('dme-mir-4955',)\n"
       ]
      },
      {
       "output_type": "stream",
       "stream": "stderr",
       "text": [
        "DEBUG:django.db.backends:(0.001) SELECT `loq_interval`.`id`, `loq_interval`.`chr`, `loq_interval`.`start`, `loq_interval`.`stop`, `loq_interval`.`mirName`, `loq_interval`.`NeatName`, `loq_interval`.`IntervalSize`, `loq_interval`.`IntervalSerialNumber`, `loq_interval`.`Structure`, `loq_interval`.`Annotations`, `loq_interval`.`Tags`, `loq_interval`.`all_reads_mapped`, `loq_interval`.`sum_normReads`, `loq_interval`.`mapped_strand`, `loq_interval`.`Link` FROM `loq_interval` WHERE `loq_interval`.`mirName` = 'dme-mir-4956' ; args=('dme-mir-4956',)\n"
       ]
      },
      {
       "output_type": "stream",
       "stream": "stderr",
       "text": [
        "DEBUG:django.db.backends:(0.001) SELECT `loq_interval`.`id`, `loq_interval`.`chr`, `loq_interval`.`start`, `loq_interval`.`stop`, `loq_interval`.`mirName`, `loq_interval`.`NeatName`, `loq_interval`.`IntervalSize`, `loq_interval`.`IntervalSerialNumber`, `loq_interval`.`Structure`, `loq_interval`.`Annotations`, `loq_interval`.`Tags`, `loq_interval`.`all_reads_mapped`, `loq_interval`.`sum_normReads`, `loq_interval`.`mapped_strand`, `loq_interval`.`Link` FROM `loq_interval` WHERE `loq_interval`.`mirName` = 'dme-mir-4957' ; args=('dme-mir-4957',)\n"
       ]
      },
      {
       "output_type": "stream",
       "stream": "stderr",
       "text": [
        "DEBUG:django.db.backends:(0.001) SELECT `loq_interval`.`id`, `loq_interval`.`chr`, `loq_interval`.`start`, `loq_interval`.`stop`, `loq_interval`.`mirName`, `loq_interval`.`NeatName`, `loq_interval`.`IntervalSize`, `loq_interval`.`IntervalSerialNumber`, `loq_interval`.`Structure`, `loq_interval`.`Annotations`, `loq_interval`.`Tags`, `loq_interval`.`all_reads_mapped`, `loq_interval`.`sum_normReads`, `loq_interval`.`mapped_strand`, `loq_interval`.`Link` FROM `loq_interval` WHERE `loq_interval`.`mirName` = 'dme-mir-4958' ; args=('dme-mir-4958',)\n"
       ]
      },
      {
       "output_type": "stream",
       "stream": "stderr",
       "text": [
        "DEBUG:django.db.backends:(0.001) SELECT `loq_interval`.`id`, `loq_interval`.`chr`, `loq_interval`.`start`, `loq_interval`.`stop`, `loq_interval`.`mirName`, `loq_interval`.`NeatName`, `loq_interval`.`IntervalSize`, `loq_interval`.`IntervalSerialNumber`, `loq_interval`.`Structure`, `loq_interval`.`Annotations`, `loq_interval`.`Tags`, `loq_interval`.`all_reads_mapped`, `loq_interval`.`sum_normReads`, `loq_interval`.`mapped_strand`, `loq_interval`.`Link` FROM `loq_interval` WHERE `loq_interval`.`mirName` = 'dme-mir-4959' ; args=('dme-mir-4959',)\n"
       ]
      },
      {
       "output_type": "stream",
       "stream": "stderr",
       "text": [
        "DEBUG:django.db.backends:(0.001) SELECT `loq_interval`.`id`, `loq_interval`.`chr`, `loq_interval`.`start`, `loq_interval`.`stop`, `loq_interval`.`mirName`, `loq_interval`.`NeatName`, `loq_interval`.`IntervalSize`, `loq_interval`.`IntervalSerialNumber`, `loq_interval`.`Structure`, `loq_interval`.`Annotations`, `loq_interval`.`Tags`, `loq_interval`.`all_reads_mapped`, `loq_interval`.`sum_normReads`, `loq_interval`.`mapped_strand`, `loq_interval`.`Link` FROM `loq_interval` WHERE `loq_interval`.`mirName` = 'dme-mir-4960' ; args=('dme-mir-4960',)\n"
       ]
      },
      {
       "output_type": "stream",
       "stream": "stderr",
       "text": [
        "DEBUG:django.db.backends:(0.001) SELECT `loq_interval`.`id`, `loq_interval`.`chr`, `loq_interval`.`start`, `loq_interval`.`stop`, `loq_interval`.`mirName`, `loq_interval`.`NeatName`, `loq_interval`.`IntervalSize`, `loq_interval`.`IntervalSerialNumber`, `loq_interval`.`Structure`, `loq_interval`.`Annotations`, `loq_interval`.`Tags`, `loq_interval`.`all_reads_mapped`, `loq_interval`.`sum_normReads`, `loq_interval`.`mapped_strand`, `loq_interval`.`Link` FROM `loq_interval` WHERE `loq_interval`.`mirName` = 'dme-mir-4961' ; args=('dme-mir-4961',)\n"
       ]
      },
      {
       "output_type": "stream",
       "stream": "stderr",
       "text": [
        "DEBUG:django.db.backends:(0.001) SELECT `loq_interval`.`id`, `loq_interval`.`chr`, `loq_interval`.`start`, `loq_interval`.`stop`, `loq_interval`.`mirName`, `loq_interval`.`NeatName`, `loq_interval`.`IntervalSize`, `loq_interval`.`IntervalSerialNumber`, `loq_interval`.`Structure`, `loq_interval`.`Annotations`, `loq_interval`.`Tags`, `loq_interval`.`all_reads_mapped`, `loq_interval`.`sum_normReads`, `loq_interval`.`mapped_strand`, `loq_interval`.`Link` FROM `loq_interval` WHERE `loq_interval`.`mirName` = 'dme-mir-4962' ; args=('dme-mir-4962',)\n"
       ]
      },
      {
       "output_type": "stream",
       "stream": "stderr",
       "text": [
        "DEBUG:django.db.backends:(0.001) SELECT `loq_interval`.`id`, `loq_interval`.`chr`, `loq_interval`.`start`, `loq_interval`.`stop`, `loq_interval`.`mirName`, `loq_interval`.`NeatName`, `loq_interval`.`IntervalSize`, `loq_interval`.`IntervalSerialNumber`, `loq_interval`.`Structure`, `loq_interval`.`Annotations`, `loq_interval`.`Tags`, `loq_interval`.`all_reads_mapped`, `loq_interval`.`sum_normReads`, `loq_interval`.`mapped_strand`, `loq_interval`.`Link` FROM `loq_interval` WHERE `loq_interval`.`mirName` = 'dme-mir-4963' ; args=('dme-mir-4963',)\n"
       ]
      },
      {
       "output_type": "stream",
       "stream": "stderr",
       "text": [
        "DEBUG:django.db.backends:(0.001) SELECT `loq_interval`.`id`, `loq_interval`.`chr`, `loq_interval`.`start`, `loq_interval`.`stop`, `loq_interval`.`mirName`, `loq_interval`.`NeatName`, `loq_interval`.`IntervalSize`, `loq_interval`.`IntervalSerialNumber`, `loq_interval`.`Structure`, `loq_interval`.`Annotations`, `loq_interval`.`Tags`, `loq_interval`.`all_reads_mapped`, `loq_interval`.`sum_normReads`, `loq_interval`.`mapped_strand`, `loq_interval`.`Link` FROM `loq_interval` WHERE `loq_interval`.`mirName` = 'dme-mir-4964' ; args=('dme-mir-4964',)\n"
       ]
      },
      {
       "output_type": "stream",
       "stream": "stderr",
       "text": [
        "DEBUG:django.db.backends:(0.001) SELECT `loq_interval`.`id`, `loq_interval`.`chr`, `loq_interval`.`start`, `loq_interval`.`stop`, `loq_interval`.`mirName`, `loq_interval`.`NeatName`, `loq_interval`.`IntervalSize`, `loq_interval`.`IntervalSerialNumber`, `loq_interval`.`Structure`, `loq_interval`.`Annotations`, `loq_interval`.`Tags`, `loq_interval`.`all_reads_mapped`, `loq_interval`.`sum_normReads`, `loq_interval`.`mapped_strand`, `loq_interval`.`Link` FROM `loq_interval` WHERE `loq_interval`.`mirName` = 'dme-mir-4965' ; args=('dme-mir-4965',)\n"
       ]
      },
      {
       "output_type": "stream",
       "stream": "stderr",
       "text": [
        "DEBUG:django.db.backends:(0.001) SELECT `loq_interval`.`id`, `loq_interval`.`chr`, `loq_interval`.`start`, `loq_interval`.`stop`, `loq_interval`.`mirName`, `loq_interval`.`NeatName`, `loq_interval`.`IntervalSize`, `loq_interval`.`IntervalSerialNumber`, `loq_interval`.`Structure`, `loq_interval`.`Annotations`, `loq_interval`.`Tags`, `loq_interval`.`all_reads_mapped`, `loq_interval`.`sum_normReads`, `loq_interval`.`mapped_strand`, `loq_interval`.`Link` FROM `loq_interval` WHERE `loq_interval`.`mirName` = 'dme-mir-4966' ; args=('dme-mir-4966',)\n"
       ]
      },
      {
       "output_type": "stream",
       "stream": "stderr",
       "text": [
        "DEBUG:django.db.backends:(0.001) SELECT `loq_interval`.`id`, `loq_interval`.`chr`, `loq_interval`.`start`, `loq_interval`.`stop`, `loq_interval`.`mirName`, `loq_interval`.`NeatName`, `loq_interval`.`IntervalSize`, `loq_interval`.`IntervalSerialNumber`, `loq_interval`.`Structure`, `loq_interval`.`Annotations`, `loq_interval`.`Tags`, `loq_interval`.`all_reads_mapped`, `loq_interval`.`sum_normReads`, `loq_interval`.`mapped_strand`, `loq_interval`.`Link` FROM `loq_interval` WHERE `loq_interval`.`mirName` = 'dme-mir-4967' ; args=('dme-mir-4967',)\n"
       ]
      },
      {
       "output_type": "stream",
       "stream": "stderr",
       "text": [
        "DEBUG:django.db.backends:(0.001) SELECT `loq_interval`.`id`, `loq_interval`.`chr`, `loq_interval`.`start`, `loq_interval`.`stop`, `loq_interval`.`mirName`, `loq_interval`.`NeatName`, `loq_interval`.`IntervalSize`, `loq_interval`.`IntervalSerialNumber`, `loq_interval`.`Structure`, `loq_interval`.`Annotations`, `loq_interval`.`Tags`, `loq_interval`.`all_reads_mapped`, `loq_interval`.`sum_normReads`, `loq_interval`.`mapped_strand`, `loq_interval`.`Link` FROM `loq_interval` WHERE `loq_interval`.`mirName` = 'dme-mir-4968' ; args=('dme-mir-4968',)\n"
       ]
      },
      {
       "output_type": "stream",
       "stream": "stderr",
       "text": [
        "DEBUG:django.db.backends:(0.001) SELECT `loq_interval`.`id`, `loq_interval`.`chr`, `loq_interval`.`start`, `loq_interval`.`stop`, `loq_interval`.`mirName`, `loq_interval`.`NeatName`, `loq_interval`.`IntervalSize`, `loq_interval`.`IntervalSerialNumber`, `loq_interval`.`Structure`, `loq_interval`.`Annotations`, `loq_interval`.`Tags`, `loq_interval`.`all_reads_mapped`, `loq_interval`.`sum_normReads`, `loq_interval`.`mapped_strand`, `loq_interval`.`Link` FROM `loq_interval` WHERE `loq_interval`.`mirName` = 'dme-mir-4969' ; args=('dme-mir-4969',)\n"
       ]
      },
      {
       "output_type": "stream",
       "stream": "stderr",
       "text": [
        "DEBUG:django.db.backends:(0.001) SELECT `loq_interval`.`id`, `loq_interval`.`chr`, `loq_interval`.`start`, `loq_interval`.`stop`, `loq_interval`.`mirName`, `loq_interval`.`NeatName`, `loq_interval`.`IntervalSize`, `loq_interval`.`IntervalSerialNumber`, `loq_interval`.`Structure`, `loq_interval`.`Annotations`, `loq_interval`.`Tags`, `loq_interval`.`all_reads_mapped`, `loq_interval`.`sum_normReads`, `loq_interval`.`mapped_strand`, `loq_interval`.`Link` FROM `loq_interval` WHERE `loq_interval`.`mirName` = 'dme-mir-4970' ; args=('dme-mir-4970',)\n"
       ]
      },
      {
       "output_type": "stream",
       "stream": "stdout",
       "text": [
        "\n",
        "['dme-mir-4950', '...((((((.((((((.(((.(((((.((((.((((((.(((.....))).)))))).)))).)))))..))))))))).)))...)))...', '92', '46', '1', '44', 'uaaugcacauaauaaaugccaaccauucaucaugaaauuauaaauaguaucauuucaagaugcaugguaaggcuuuauuuuguuuugcaauc\\n']\n",
        "['dme-mir-4951', '(((((...((((((..(((((.....))))).(((((((((((.(((((.(((((.......(((......)))......(((.......)))...)))))...)))))..)))))))))))......))))))....))))).......', '150', '75', '3', '86', 'uuuucguacguacaaaaaagcaucagguuuucgggugagguuucugaugcuuugucucuuaaguuuuuccuaacaauuaaacccuaugucgguauuacgaauaccaucaaaaaaccucacccaccaaauguaugaccagagagauaaaaa\\n']\n",
        "['dme-mir-4952', '.....(((.(((((...((..((((.((((.(..(((.(((.((((((..((((((...((........))...)))))))))))).))).)))..).)))).))))..))....))))).)))..', '126', '63', '1', '64', 'uccgggugcgcuggacgaucugaucuucucgggagccggauccggaugucgcggcgacgacgaggacgagugcacgccgccauucgaaucggguagcggggaugaucucauaacaccggucuacgu\\n']\n",
        "['dme-mir-4953', '....(((((.(((...((((((...(((((((((((((................)))))))))))))...))))))....)))))))).....', '93', '46', '1', '45', 'uaaaguucacaggcgaccaugaauguuaauaaagaauauuuaccaauaaaguuuuauuuuuuauugaaggucauggacauccuugaaccgauu\\n']\n",
        "['dme-mir-4954', '.((((((..(((.(((((((.((((((.((((.(((((.........))))).)))).)))))).))).)))).)))...)))))).....', '91', '45', '1', '42', 'uuggcgcuuggaaucgauacccgagccaugauagauugaagucaacccaaucgaucgcgguucgagugcucgagucuugugcgccggcaug\\n']\n",
        "['dme-mir-4955', '......................(..((((((((((((((((.(((((((..........(((((((.....)))).)))...........(((..(((((.....))))))))........))))))).))))))))))))))))..).....................', '169', '84', '2', '102', 'caccgauuugcuuccccuuuuuccgugcgcggagaaaaaaauccccagaaacauaauaucaggaugcucucuaucucugucucugucuaacgcuuaauuguugcucaauugcgaauuaaugucuggggcuuuuuuucuccgugcagugccauagccguaaccacaaccu\\n']\n",
        "['dme-mir-4956', '.(((((((....((((...((((((((((((.((.(((((.((((.((((.((......)).)))).)))).))))).)).))))))))).).))....))))..)).)))))....', '117', '58', '1', '55', 'agggggcggcaacaugugccaccugccgccgauggccagcaacaacucgcugaauaaucucugcggauugucgcugggcagcggugguagugaugaucucaugaacgauccucgggc\\n']\n",
        "['dme-mir-4957', '..((((((.....(((.(.(((((((((((..((.((((...)))).))))))))))))).).))).......)))))).....', '84', '42', '1', '40', 'ucguuguauuuuacgcacucugcuggcagcgcugucggcgucgcugccagcugccagcagcgagcgguacacuugcaacuaucc\\n']\n",
        "['dme-mir-4958', '.(..((((.(..(((...(((((((((((((((((((((((.(((..(((((........((.(((...))).))........)))))..))).))))))))))))).)))))))))))))..).))))..)..', '134', '67', '1', '67', 'ucucuggcagcugcaguuccguuuccggagcgggaucuggaacgggcucugguucuagaucaggauccaaucaugcacccgguccagguaccgcuccaggucccguucccggaaacggugccaccgccaaugca\\n']\n",
        "['dme-mir-4959', '.((..(((....(((((((((((((..(((.(((((..((((((.(((((((.(....).))))........))).))))))..))))).)))..))))))).)))).)))))..)).', '118', '59', '1', '55', 'uguccgguuugaaccuucugugccggcuggccaugauuugcagcagguaucuccgagagcagaugauacgcagccaguugcguuucaugaccaaacggcaugugaagcgugcccugcg\\n']\n",
        "['dme-mir-4960', '.....(((((....((...(((..((.((((((((..((((..(((((.............))))))))).)))))))).))..)))..))..)))))...', '101', '50', '1', '54', 'acacaaggccugccgcccaagaaacgcaagcccagaaguccggcagucgagaaucacgagggacugggaccuugggcuuacgguucucaguuuggcuugac\\n']\n",
        "['dme-mir-4961', '..(((((......(((((((.((.((.((((((((((((.((((((((((..((.....)).)))))))))).))))).))))))).))))))))))).........))))).........(((...)))...', '133', '66', '2', '56', 'cgauauccaauaguagccaacucucucgcucucuauguguauguauguaucuugcuauccauauauguauauccauaucagagagccaggauugguugagaccauacgauauaacccgaaaccacacuggcca\\n']\n",
        "['dme-mir-4962', '....................((.(((((((((((.((((..((((((((((((((...........))).)))...)))))))))))).))))))))))).)).....................', '124', '62', '1', '60', 'uccuuucuuuucucuccgucucucucuuucccucucucuguuuacauugagcuguuuuguccgugcacgugcuagacgauguagagagugagggagagagcgaauagaauaacagcucauugug\\n']\n",
        "['dme-mir-4963', '....(((((....((((.((.(((((((((((((...(((((((((((((...(......).)))))))))))))...))))))))))))).)).))))..)))))...', '109', '54', '1', '56', 'cuguaggaaauuuuuugggguacuucugguuucauaacgcagagaaucaucagcgugaaggaaugauucucugcgggcuggaaccagaaguccugcaaauguucuuuua\\n']\n",
        "['dme-mir-4964', '..........(.(((((..((.(((..(((((((((((((((((((.(((((........))))))))))))))))))))))))......)))))..))))).)........', '112', '56', '1', '55', 'auuuuugaaugguccuuuucaugcccaaggcgaauaaauauguauuuauguauauuuuuuuauaugguacguauuuauuugucugcaaauggcugccaaggagugcuacaua\\n']\n",
        "['dme-mir-4965', '.....(((((....((((.((((((.(..((.(((((((((.......))).)))))).))..).)))).)).))))....))))).', '87', '43', '1', '44', 'cacaaggugaucgaugggagaugagcgccugaugugaugaugaaguagaucgaucacaccacacacucacucacccagguuucaucc\\n']\n",
        "['dme-mir-4966', '....(((....)))......((((.(((.((((.((((((((.(((.((((((....)))))).))).)))))))).)))).))).)))).....................................', '127', '63', '2', '54', 'gcugugugacaacaaacuugucggcacuggaguacuaaauauauugcacauguucaugcauguucaacauauuuagcacucaaguaccgaaaaaugaacaacgaaacgaaaaauaacacgaacauca\\n']\n",
        "['dme-mir-4967', '.....(((((((..((((((((..(((((..(.((((.(((((.((.(...........).))))))).)))).)..)))))))))))))...))))..))).....', '107', '53', '1', '53', 'cuauagcguugucucuugcgcaaauugcauuuucucucuguuaacauguacacauaauuccuguaacaaagggcauuugcaaugugugagucagcaaaccgcauccg\\n']\n",
        "['dme-mir-4968', '.....(((..(((.((...((((....(((....(((((((((((..((.(((((..(.(((.((((((.((.((........)).)).))))))))).)..)))))))..))))))))))).....)))....))))...)).)))..)))...', '155', '77', '1', '78', 'uuuuccucagagccgcgacugcuggcguguuauuguugcuguugcagcuagcugccacgguuuguugcuucacugauuacgcgcaaugcagcaacagcagcagcagcagaagcaacagcaacuaacugcagaggagcaauagcagcugagaguuc\\n']\n",
        "['dme-mir-4969', '..(((......((((((.((.((((..((((.(((((.(((((....(((((..((((.....)))))))))((((((((.((..........)).))))))))..........))))).))))).)))))))).)).)))))).....)))......', '158', '79', '2', '87', 'guauggauuuuucggcguggcgguaaauugaaugaugagugggaggaugucgcugccauuguuugguugauaagggagccuggcgcacuauuaccuggcucucugaaacgagagcccaccugucaaucaauaccaccccgccgaugcgacaucaucau\\n']\n",
        "['dme-mir-4970', '.....((.(((.((..((((.(((((((((.(((.(((.((((..................)))).))).))).))))))))).))))..)).))).))....', '103', '51', '1', '51', 'ccaaaggugggcgacaagggcugggagcagcaguugcuggcgguauucugaagcugcucuuccguggguugcucuugcuccugacccuccucuuccuccgcuu\\n']\n",
        "['dme-mir-4971', '.....((((((.((((((((((.(((((((((((((.(((((((..(((....)))..)))).........))).))))))))))).)).)))))))))))))))).....', '111', '55', '1', '50', 'ucggcccucgacacgguggaugagcuugucaguggcggauccaggagcaauucugccgcuggcgacagaucaucggccacugacaaugcccauucacuguucgaggagauc\\n']"
       ]
      },
      {
       "output_type": "stream",
       "stream": "stderr",
       "text": [
        "DEBUG:django.db.backends:(0.001) SELECT `loq_interval`.`id`, `loq_interval`.`chr`, `loq_interval`.`start`, `loq_interval`.`stop`, `loq_interval`.`mirName`, `loq_interval`.`NeatName`, `loq_interval`.`IntervalSize`, `loq_interval`.`IntervalSerialNumber`, `loq_interval`.`Structure`, `loq_interval`.`Annotations`, `loq_interval`.`Tags`, `loq_interval`.`all_reads_mapped`, `loq_interval`.`sum_normReads`, `loq_interval`.`mapped_strand`, `loq_interval`.`Link` FROM `loq_interval` WHERE `loq_interval`.`mirName` = 'dme-mir-4971' ; args=('dme-mir-4971',)\n"
       ]
      },
      {
       "output_type": "stream",
       "stream": "stderr",
       "text": [
        "DEBUG:django.db.backends:(0.001) SELECT `loq_interval`.`id`, `loq_interval`.`chr`, `loq_interval`.`start`, `loq_interval`.`stop`, `loq_interval`.`mirName`, `loq_interval`.`NeatName`, `loq_interval`.`IntervalSize`, `loq_interval`.`IntervalSerialNumber`, `loq_interval`.`Structure`, `loq_interval`.`Annotations`, `loq_interval`.`Tags`, `loq_interval`.`all_reads_mapped`, `loq_interval`.`sum_normReads`, `loq_interval`.`mapped_strand`, `loq_interval`.`Link` FROM `loq_interval` WHERE `loq_interval`.`mirName` = 'dme-mir-4972' ; args=('dme-mir-4972',)\n"
       ]
      },
      {
       "output_type": "stream",
       "stream": "stderr",
       "text": [
        "DEBUG:django.db.backends:(0.001) SELECT `loq_interval`.`id`, `loq_interval`.`chr`, `loq_interval`.`start`, `loq_interval`.`stop`, `loq_interval`.`mirName`, `loq_interval`.`NeatName`, `loq_interval`.`IntervalSize`, `loq_interval`.`IntervalSerialNumber`, `loq_interval`.`Structure`, `loq_interval`.`Annotations`, `loq_interval`.`Tags`, `loq_interval`.`all_reads_mapped`, `loq_interval`.`sum_normReads`, `loq_interval`.`mapped_strand`, `loq_interval`.`Link` FROM `loq_interval` WHERE `loq_interval`.`mirName` = 'dme-mir-4973' ; args=('dme-mir-4973',)\n"
       ]
      },
      {
       "output_type": "stream",
       "stream": "stderr",
       "text": [
        "DEBUG:django.db.backends:(0.001) SELECT `loq_interval`.`id`, `loq_interval`.`chr`, `loq_interval`.`start`, `loq_interval`.`stop`, `loq_interval`.`mirName`, `loq_interval`.`NeatName`, `loq_interval`.`IntervalSize`, `loq_interval`.`IntervalSerialNumber`, `loq_interval`.`Structure`, `loq_interval`.`Annotations`, `loq_interval`.`Tags`, `loq_interval`.`all_reads_mapped`, `loq_interval`.`sum_normReads`, `loq_interval`.`mapped_strand`, `loq_interval`.`Link` FROM `loq_interval` WHERE `loq_interval`.`mirName` = 'dme-mir-4974' ; args=('dme-mir-4974',)\n"
       ]
      },
      {
       "output_type": "stream",
       "stream": "stderr",
       "text": [
        "DEBUG:django.db.backends:(0.001) SELECT `loq_interval`.`id`, `loq_interval`.`chr`, `loq_interval`.`start`, `loq_interval`.`stop`, `loq_interval`.`mirName`, `loq_interval`.`NeatName`, `loq_interval`.`IntervalSize`, `loq_interval`.`IntervalSerialNumber`, `loq_interval`.`Structure`, `loq_interval`.`Annotations`, `loq_interval`.`Tags`, `loq_interval`.`all_reads_mapped`, `loq_interval`.`sum_normReads`, `loq_interval`.`mapped_strand`, `loq_interval`.`Link` FROM `loq_interval` WHERE `loq_interval`.`mirName` = 'dme-mir-4975' ; args=('dme-mir-4975',)\n"
       ]
      },
      {
       "output_type": "stream",
       "stream": "stderr",
       "text": [
        "DEBUG:django.db.backends:(0.001) SELECT `loq_interval`.`id`, `loq_interval`.`chr`, `loq_interval`.`start`, `loq_interval`.`stop`, `loq_interval`.`mirName`, `loq_interval`.`NeatName`, `loq_interval`.`IntervalSize`, `loq_interval`.`IntervalSerialNumber`, `loq_interval`.`Structure`, `loq_interval`.`Annotations`, `loq_interval`.`Tags`, `loq_interval`.`all_reads_mapped`, `loq_interval`.`sum_normReads`, `loq_interval`.`mapped_strand`, `loq_interval`.`Link` FROM `loq_interval` WHERE `loq_interval`.`mirName` = 'dme-mir-4976' ; args=('dme-mir-4976',)\n"
       ]
      },
      {
       "output_type": "stream",
       "stream": "stderr",
       "text": [
        "DEBUG:django.db.backends:(0.001) SELECT `loq_interval`.`id`, `loq_interval`.`chr`, `loq_interval`.`start`, `loq_interval`.`stop`, `loq_interval`.`mirName`, `loq_interval`.`NeatName`, `loq_interval`.`IntervalSize`, `loq_interval`.`IntervalSerialNumber`, `loq_interval`.`Structure`, `loq_interval`.`Annotations`, `loq_interval`.`Tags`, `loq_interval`.`all_reads_mapped`, `loq_interval`.`sum_normReads`, `loq_interval`.`mapped_strand`, `loq_interval`.`Link` FROM `loq_interval` WHERE `loq_interval`.`mirName` = 'dme-mir-4977' ; args=('dme-mir-4977',)\n"
       ]
      },
      {
       "output_type": "stream",
       "stream": "stderr",
       "text": [
        "DEBUG:django.db.backends:(0.001) SELECT `loq_interval`.`id`, `loq_interval`.`chr`, `loq_interval`.`start`, `loq_interval`.`stop`, `loq_interval`.`mirName`, `loq_interval`.`NeatName`, `loq_interval`.`IntervalSize`, `loq_interval`.`IntervalSerialNumber`, `loq_interval`.`Structure`, `loq_interval`.`Annotations`, `loq_interval`.`Tags`, `loq_interval`.`all_reads_mapped`, `loq_interval`.`sum_normReads`, `loq_interval`.`mapped_strand`, `loq_interval`.`Link` FROM `loq_interval` WHERE `loq_interval`.`mirName` = 'dme-mir-4978' ; args=('dme-mir-4978',)\n"
       ]
      },
      {
       "output_type": "stream",
       "stream": "stderr",
       "text": [
        "DEBUG:django.db.backends:(0.001) SELECT `loq_interval`.`id`, `loq_interval`.`chr`, `loq_interval`.`start`, `loq_interval`.`stop`, `loq_interval`.`mirName`, `loq_interval`.`NeatName`, `loq_interval`.`IntervalSize`, `loq_interval`.`IntervalSerialNumber`, `loq_interval`.`Structure`, `loq_interval`.`Annotations`, `loq_interval`.`Tags`, `loq_interval`.`all_reads_mapped`, `loq_interval`.`sum_normReads`, `loq_interval`.`mapped_strand`, `loq_interval`.`Link` FROM `loq_interval` WHERE `loq_interval`.`mirName` = 'dme-mir-4979' ; args=('dme-mir-4979',)\n"
       ]
      },
      {
       "output_type": "stream",
       "stream": "stderr",
       "text": [
        "DEBUG:django.db.backends:(0.001) SELECT `loq_interval`.`id`, `loq_interval`.`chr`, `loq_interval`.`start`, `loq_interval`.`stop`, `loq_interval`.`mirName`, `loq_interval`.`NeatName`, `loq_interval`.`IntervalSize`, `loq_interval`.`IntervalSerialNumber`, `loq_interval`.`Structure`, `loq_interval`.`Annotations`, `loq_interval`.`Tags`, `loq_interval`.`all_reads_mapped`, `loq_interval`.`sum_normReads`, `loq_interval`.`mapped_strand`, `loq_interval`.`Link` FROM `loq_interval` WHERE `loq_interval`.`mirName` = 'dme-mir-4980' ; args=('dme-mir-4980',)\n"
       ]
      },
      {
       "output_type": "stream",
       "stream": "stderr",
       "text": [
        "DEBUG:django.db.backends:(0.001) SELECT `loq_interval`.`id`, `loq_interval`.`chr`, `loq_interval`.`start`, `loq_interval`.`stop`, `loq_interval`.`mirName`, `loq_interval`.`NeatName`, `loq_interval`.`IntervalSize`, `loq_interval`.`IntervalSerialNumber`, `loq_interval`.`Structure`, `loq_interval`.`Annotations`, `loq_interval`.`Tags`, `loq_interval`.`all_reads_mapped`, `loq_interval`.`sum_normReads`, `loq_interval`.`mapped_strand`, `loq_interval`.`Link` FROM `loq_interval` WHERE `loq_interval`.`mirName` = 'dme-mir-4981' ; args=('dme-mir-4981',)\n"
       ]
      },
      {
       "output_type": "stream",
       "stream": "stderr",
       "text": [
        "DEBUG:django.db.backends:(0.001) SELECT `loq_interval`.`id`, `loq_interval`.`chr`, `loq_interval`.`start`, `loq_interval`.`stop`, `loq_interval`.`mirName`, `loq_interval`.`NeatName`, `loq_interval`.`IntervalSize`, `loq_interval`.`IntervalSerialNumber`, `loq_interval`.`Structure`, `loq_interval`.`Annotations`, `loq_interval`.`Tags`, `loq_interval`.`all_reads_mapped`, `loq_interval`.`sum_normReads`, `loq_interval`.`mapped_strand`, `loq_interval`.`Link` FROM `loq_interval` WHERE `loq_interval`.`mirName` = 'dme-mir-4982' ; args=('dme-mir-4982',)\n"
       ]
      },
      {
       "output_type": "stream",
       "stream": "stderr",
       "text": [
        "DEBUG:django.db.backends:(0.001) SELECT `loq_interval`.`id`, `loq_interval`.`chr`, `loq_interval`.`start`, `loq_interval`.`stop`, `loq_interval`.`mirName`, `loq_interval`.`NeatName`, `loq_interval`.`IntervalSize`, `loq_interval`.`IntervalSerialNumber`, `loq_interval`.`Structure`, `loq_interval`.`Annotations`, `loq_interval`.`Tags`, `loq_interval`.`all_reads_mapped`, `loq_interval`.`sum_normReads`, `loq_interval`.`mapped_strand`, `loq_interval`.`Link` FROM `loq_interval` WHERE `loq_interval`.`mirName` = 'dme-mir-4983' ; args=('dme-mir-4983',)\n"
       ]
      },
      {
       "output_type": "stream",
       "stream": "stderr",
       "text": [
        "DEBUG:django.db.backends:(0.001) SELECT `loq_interval`.`id`, `loq_interval`.`chr`, `loq_interval`.`start`, `loq_interval`.`stop`, `loq_interval`.`mirName`, `loq_interval`.`NeatName`, `loq_interval`.`IntervalSize`, `loq_interval`.`IntervalSerialNumber`, `loq_interval`.`Structure`, `loq_interval`.`Annotations`, `loq_interval`.`Tags`, `loq_interval`.`all_reads_mapped`, `loq_interval`.`sum_normReads`, `loq_interval`.`mapped_strand`, `loq_interval`.`Link` FROM `loq_interval` WHERE `loq_interval`.`mirName` = 'dme-mir-4984' ; args=('dme-mir-4984',)\n"
       ]
      },
      {
       "output_type": "stream",
       "stream": "stderr",
       "text": [
        "DEBUG:django.db.backends:(0.001) SELECT `loq_interval`.`id`, `loq_interval`.`chr`, `loq_interval`.`start`, `loq_interval`.`stop`, `loq_interval`.`mirName`, `loq_interval`.`NeatName`, `loq_interval`.`IntervalSize`, `loq_interval`.`IntervalSerialNumber`, `loq_interval`.`Structure`, `loq_interval`.`Annotations`, `loq_interval`.`Tags`, `loq_interval`.`all_reads_mapped`, `loq_interval`.`sum_normReads`, `loq_interval`.`mapped_strand`, `loq_interval`.`Link` FROM `loq_interval` WHERE `loq_interval`.`mirName` = 'dme-mir-4985' ; args=('dme-mir-4985',)\n"
       ]
      },
      {
       "output_type": "stream",
       "stream": "stderr",
       "text": [
        "DEBUG:django.db.backends:(0.001) SELECT `loq_interval`.`id`, `loq_interval`.`chr`, `loq_interval`.`start`, `loq_interval`.`stop`, `loq_interval`.`mirName`, `loq_interval`.`NeatName`, `loq_interval`.`IntervalSize`, `loq_interval`.`IntervalSerialNumber`, `loq_interval`.`Structure`, `loq_interval`.`Annotations`, `loq_interval`.`Tags`, `loq_interval`.`all_reads_mapped`, `loq_interval`.`sum_normReads`, `loq_interval`.`mapped_strand`, `loq_interval`.`Link` FROM `loq_interval` WHERE `loq_interval`.`mirName` = 'dme-mir-4986' ; args=('dme-mir-4986',)\n"
       ]
      },
      {
       "output_type": "stream",
       "stream": "stderr",
       "text": [
        "DEBUG:django.db.backends:(0.001) SELECT `loq_interval`.`id`, `loq_interval`.`chr`, `loq_interval`.`start`, `loq_interval`.`stop`, `loq_interval`.`mirName`, `loq_interval`.`NeatName`, `loq_interval`.`IntervalSize`, `loq_interval`.`IntervalSerialNumber`, `loq_interval`.`Structure`, `loq_interval`.`Annotations`, `loq_interval`.`Tags`, `loq_interval`.`all_reads_mapped`, `loq_interval`.`sum_normReads`, `loq_interval`.`mapped_strand`, `loq_interval`.`Link` FROM `loq_interval` WHERE `loq_interval`.`mirName` = 'dme-mir-4987' ; args=('dme-mir-4987',)\n"
       ]
      },
      {
       "output_type": "stream",
       "stream": "stderr",
       "text": [
        "DEBUG:django.db.backends:(0.001) SELECT `loq_interval`.`id`, `loq_interval`.`chr`, `loq_interval`.`start`, `loq_interval`.`stop`, `loq_interval`.`mirName`, `loq_interval`.`NeatName`, `loq_interval`.`IntervalSize`, `loq_interval`.`IntervalSerialNumber`, `loq_interval`.`Structure`, `loq_interval`.`Annotations`, `loq_interval`.`Tags`, `loq_interval`.`all_reads_mapped`, `loq_interval`.`sum_normReads`, `loq_interval`.`mapped_strand`, `loq_interval`.`Link` FROM `loq_interval` WHERE `loq_interval`.`mirName` = 'dme-mir-5' ; args=('dme-mir-5',)\n"
       ]
      },
      {
       "output_type": "stream",
       "stream": "stderr",
       "text": [
        "DEBUG:django.db.backends:(0.001) SELECT `loq_interval`.`id`, `loq_interval`.`chr`, `loq_interval`.`start`, `loq_interval`.`stop`, `loq_interval`.`mirName`, `loq_interval`.`NeatName`, `loq_interval`.`IntervalSize`, `loq_interval`.`IntervalSerialNumber`, `loq_interval`.`Structure`, `loq_interval`.`Annotations`, `loq_interval`.`Tags`, `loq_interval`.`all_reads_mapped`, `loq_interval`.`sum_normReads`, `loq_interval`.`mapped_strand`, `loq_interval`.`Link` FROM `loq_interval` WHERE `loq_interval`.`mirName` = 'dme-mir-6-1' ; args=('dme-mir-6-1',)\n"
       ]
      },
      {
       "output_type": "stream",
       "stream": "stderr",
       "text": [
        "DEBUG:django.db.backends:(0.001) SELECT `loq_interval`.`id`, `loq_interval`.`chr`, `loq_interval`.`start`, `loq_interval`.`stop`, `loq_interval`.`mirName`, `loq_interval`.`NeatName`, `loq_interval`.`IntervalSize`, `loq_interval`.`IntervalSerialNumber`, `loq_interval`.`Structure`, `loq_interval`.`Annotations`, `loq_interval`.`Tags`, `loq_interval`.`all_reads_mapped`, `loq_interval`.`sum_normReads`, `loq_interval`.`mapped_strand`, `loq_interval`.`Link` FROM `loq_interval` WHERE `loq_interval`.`mirName` = 'dme-mir-6-2' ; args=('dme-mir-6-2',)\n"
       ]
      },
      {
       "output_type": "stream",
       "stream": "stderr",
       "text": [
        "DEBUG:django.db.backends:(0.001) SELECT `loq_interval`.`id`, `loq_interval`.`chr`, `loq_interval`.`start`, `loq_interval`.`stop`, `loq_interval`.`mirName`, `loq_interval`.`NeatName`, `loq_interval`.`IntervalSize`, `loq_interval`.`IntervalSerialNumber`, `loq_interval`.`Structure`, `loq_interval`.`Annotations`, `loq_interval`.`Tags`, `loq_interval`.`all_reads_mapped`, `loq_interval`.`sum_normReads`, `loq_interval`.`mapped_strand`, `loq_interval`.`Link` FROM `loq_interval` WHERE `loq_interval`.`mirName` = 'dme-mir-6-3' ; args=('dme-mir-6-3',)\n"
       ]
      },
      {
       "output_type": "stream",
       "stream": "stdout",
       "text": [
        "\n",
        "['dme-mir-4972', '.....((((.((((..((((...(((((((((((((((((((((((((.......)))))))))))))))...........))).))))))).)))))).)).))))', '107', '53', '1', '51', 'aaucaaaagcgccguaggccuccaccucggcuuuacagauauauauauauauaucguguauauaucugugcgaucgggauugagacugagguugguccgaguacuuu\\n']\n",
        "['dme-mir-4973', '........(((((.((((.(((((((((((.((..(((.....(((((((....)))..))))................((((((.(((((.((....)).))))).))))))...))).)).))))))))))).)).)).))))).....', '151', '75', '2', '95', 'cucguucagucgucguugcguguuguagguggccuggucuacugagcuccguuuggacugcuccuccuccaacuacuacugcggccgcugcugcugcugcugcggcugcugcauccgccugcaaccugcaacacucacaccacggcaacag\\n']\n",
        "['dme-mir-4974', '...........(((((..((((((.((((((((..((((((.((((.(......).)))).))))))..))))))))))))))..)))))............', '102', '51', '1', '50', 'uucuuuguuuuuauucccugucagagaguauauugauuuuagguggacauuugcgaccauauaaaauauauauauuccugauaaagaauauuuaauauaucu\\n']\n",
        "['dme-mir-4975', '((((((..........)))))).(((.((...(((.((((..(((((.((((.....))))...)))))...)))).))).)).)))............((((....))))', '111', '55', '3', '54', 'gggcaaauaaagcacguugcucccuguuuacuuggguuuucuguucauuucgccuaucgaacguugaacuuaaaaagccacgaucaguuguuuaacauacagauaucucug\\n']\n",
        "['dme-mir-4976', '..(((.(.((((((((.(((((.(.(((((.(((((((.(((((.(((((...)))))..))))).))))))).))))).).))))).)))))))).))))..', '103', '51', '1', '51', 'gucgaugccggcguuucccgcuccaggcugucguccauggaguuuguguugucagcauucagcucgguggaugucagccagcgguggaaggcgucgucucgcu\\n']\n",
        "['dme-mir-4977', '.....((((((((.(.....((.(((((((((.(((((((((.((((((...))).))).))))).)))).))))))))).)).....).)))))..))).....', '105', '52', '1', '50', 'uaacccuccgcucgagaacgugguuucuuuugcgacgugcaauacucuguggcagaagucuugcaccguuccaaaagagagcagcacguggagcgacgagaacgg\\n']\n",
        "['dme-mir-4978', '(..(((.((((((((((..(((.((((.(.(((((((..((((((((....(((.....)))((((..((((...)))).....)))).....))))))))...))))))).)))))....))).)))))))..))).)))..)...', '147', '73', '2', '73', 'ggacuuuccacuuuucguuuggcuggccuggaaaagcucucuuucucuauugccucuauggcucggcagcgcugggcgccuaauccgaauugcgagaaagauccgcuuuucgagccaaaaaccaucgaaaagccuggcaagcacaca\\n']\n",
        "['dme-mir-4979', '((.((((((.........(((.(((((((((((..((..((((((((..((.......))..)))))))).))..))))))))))).)))......)))))).))....', '109', '54', '1', '54', 'cauagguguuauaucuaggccaaauauauauacuuguucuauguauuaguuauuugcaaaggaauacaugugccuguauauauauucgguaaaaucacaucuuugaauu\\n']\n",
        "['dme-mir-4980', '..(((((..(((((.(((....((.(((.....(((((((((..((((((..(.(((((((....))).))))).))))))..)))))))))..)))))....)))..)))))....)))))', '122', '61', '1', '62', 'gaagaggcugagagcgggaaagugagaaguagagagcgcagauagggagugggagcuuauaccguuauaaagccaacuuccguucugcguuucguuccaaccccccaccucucuuucccucu\\n']\n",
        "['dme-mir-4981', '...(((((.((((.((((((((.((((((((((.((((((.(((...))).)))..)))))))))))))..)))))))).))..)).)))))...', '95', '47', '1', '45', 'uggccacgugcccgcaagacgccuucggccggcgcaaaguuucaauuugauauuccuuggccggucgagcagcgucuugggguuguucguggauu\\n']\n",
        "['dme-mir-4982', '(((.(((.((.((((..(((((((.(((((((((((((((..(((..(((((............))))).)))..))))))))))))....)))))))))).))))))..))))))...', '119', '59', '1', '57', 'ccaacuuugcuggcauucgguggccaauaaugcaauugcauguccuuguugcuguugcaauguugcagcuggaauugcaauugcauuucuaguugccgcugcugcugcucgaguggcaa\\n']\n",
        "['dme-mir-4983', '((.((((..((.((((.((((((((((...(.((((((((.....((..........)).....)))))))).)...)))))))))).)))).))....)))).))..', '108', '54', '1', '51', 'ggcuggcugucuugacccacuugcucguuugcauuucugaaaaauguauacgcaaaaaccaaaaucagaaauucuuuugagcaagugugucaugaaauugccauucgu\\n']\n",
        "['dme-mir-4984', '...(((..((.(((((((.....(((((((((((((((((.(..(((.....((((.((........)).))))..)))..).))))))))))))))))).......)))).))).))..)))', '123', '61', '1', '62', 'cuucgcucgaggugugaaaaccuuuuggccagcgaauacgccucggauccaaucacguuucaagaucgaggugaauucuuugacguauucgcuggccaaaugacacguucgccauguuuugcg\\n']\n",
        "['dme-mir-4985', '.(((((((..(((....))).....((((((.((((((.(.(((((((((...........)))))).))).).)))))).)))))).)))..))))....', '101', '50', '2', '55', 'uugggggcgcugcacuggcauugaaaagugaauuacauugaucgugacaugggaauggaaaaugucgccgagccauguaaaucguuuggccuacccgucua\\n']\n",
        "['dme-mir-4986', '((((((.((....)).((((((((.((((((((((((((((((.(((.((((.((.(........).))))))))))))).)))).))))).))))).))))))))......))))))....', '122', '61', '2', '60', 'uucugccgcuuuugcuguggcuucucugcaugggauuccccauucugcauggcgccgaucucugccagcccaucggauggcggaacuuccagugcagcgaggucgcuucucugcaggaucug\\n']\n",
        "['dme-mir-4987', '((((((.(((((.((....))))))).((((((((..(((.(((((.(((((......((.((((....)))).)).....)))))))))))))..)))))))).))))))((((((.......))))))..', '132', '66', '3', '66', 'gcggugccguugaugaugacacagcgcgcuugcaacagcgugcggcacgauucucacagcagggcuccagcucggccaaaaaaucggucgucgccauugcaagcucaccguuuggucucaccacggccaaga\\n']\n",
        "['dme-mir-5', '....(((((((.(((((((((((((((.............)))))))))))))))))))))).......', '69', '34', '1', '33', 'gcuaaaaggaacgaucguugugauaugaguuguuuccuaacauaucacagugauuuuccuuuauaacgc\\n']\n",
        "['dme-mir-6-1', '.......((((((((((((((((((((.((((.((...........)).)))).))))))))))))))))))))........', '82', '41', '1', '40', 'uuuaauguagagggaauaguugcugugcuguaaguuaauauaccauaucuauaucacaguggcuguucuuuuuguaccuaaa\\n']\n",
        "['dme-mir-6-2', '(((((.((((((((..((((((.(((((((.((((....)).)).)))))))))))))..)))))))).)))))', '74', '37', '1', '36', 'uaacccaagggaacuucugcugcugauauauuauugaaaaacuacuauaucacaguggcuguucuuuuugguug\\n']\n",
        "['dme-mir-6-3', '((((.((((((((((((((((((.((((((((.(((.........))).)))))))))))))))))))))))))).))))', '80', '40', '1', '40', 'caaaaagaagggaacgguugcugaugauguaguuugaaacucucacaauuuauaucacaguggcuguucuuuuuuguuug\\n']\n",
        "['dme-mir-7', '((((((((.(((((.(((((((.((.(((((.((((((....(....)....))))))))))).)).)))))))))))).))))))))', '88', '44', '1', '44', 'gagugcauuccguauggaagacuagugauuuuguuguuuggucuuugguaauaacaauaaaucccuugucuucuuacggcgugcauuu\\n']"
       ]
      },
      {
       "output_type": "stream",
       "stream": "stderr",
       "text": [
        "DEBUG:django.db.backends:(0.001) SELECT `loq_interval`.`id`, `loq_interval`.`chr`, `loq_interval`.`start`, `loq_interval`.`stop`, `loq_interval`.`mirName`, `loq_interval`.`NeatName`, `loq_interval`.`IntervalSize`, `loq_interval`.`IntervalSerialNumber`, `loq_interval`.`Structure`, `loq_interval`.`Annotations`, `loq_interval`.`Tags`, `loq_interval`.`all_reads_mapped`, `loq_interval`.`sum_normReads`, `loq_interval`.`mapped_strand`, `loq_interval`.`Link` FROM `loq_interval` WHERE `loq_interval`.`mirName` = 'dme-mir-7' ; args=('dme-mir-7',)\n"
       ]
      },
      {
       "output_type": "stream",
       "stream": "stderr",
       "text": [
        "DEBUG:django.db.backends:(0.001) SELECT `loq_interval`.`id`, `loq_interval`.`chr`, `loq_interval`.`start`, `loq_interval`.`stop`, `loq_interval`.`mirName`, `loq_interval`.`NeatName`, `loq_interval`.`IntervalSize`, `loq_interval`.`IntervalSerialNumber`, `loq_interval`.`Structure`, `loq_interval`.`Annotations`, `loq_interval`.`Tags`, `loq_interval`.`all_reads_mapped`, `loq_interval`.`sum_normReads`, `loq_interval`.`mapped_strand`, `loq_interval`.`Link` FROM `loq_interval` WHERE `loq_interval`.`mirName` = 'dme-mir-79' ; args=('dme-mir-79',)\n"
       ]
      },
      {
       "output_type": "stream",
       "stream": "stderr",
       "text": [
        "DEBUG:django.db.backends:(0.001) SELECT `loq_interval`.`id`, `loq_interval`.`chr`, `loq_interval`.`start`, `loq_interval`.`stop`, `loq_interval`.`mirName`, `loq_interval`.`NeatName`, `loq_interval`.`IntervalSize`, `loq_interval`.`IntervalSerialNumber`, `loq_interval`.`Structure`, `loq_interval`.`Annotations`, `loq_interval`.`Tags`, `loq_interval`.`all_reads_mapped`, `loq_interval`.`sum_normReads`, `loq_interval`.`mapped_strand`, `loq_interval`.`Link` FROM `loq_interval` WHERE `loq_interval`.`mirName` = 'dme-mir-8' ; args=('dme-mir-8',)\n"
       ]
      },
      {
       "output_type": "stream",
       "stream": "stderr",
       "text": [
        "DEBUG:django.db.backends:(0.001) SELECT `loq_interval`.`id`, `loq_interval`.`chr`, `loq_interval`.`start`, `loq_interval`.`stop`, `loq_interval`.`mirName`, `loq_interval`.`NeatName`, `loq_interval`.`IntervalSize`, `loq_interval`.`IntervalSerialNumber`, `loq_interval`.`Structure`, `loq_interval`.`Annotations`, `loq_interval`.`Tags`, `loq_interval`.`all_reads_mapped`, `loq_interval`.`sum_normReads`, `loq_interval`.`mapped_strand`, `loq_interval`.`Link` FROM `loq_interval` WHERE `loq_interval`.`mirName` = 'dme-mir-87' ; args=('dme-mir-87',)\n"
       ]
      },
      {
       "output_type": "stream",
       "stream": "stderr",
       "text": [
        "DEBUG:django.db.backends:(0.001) SELECT `loq_interval`.`id`, `loq_interval`.`chr`, `loq_interval`.`start`, `loq_interval`.`stop`, `loq_interval`.`mirName`, `loq_interval`.`NeatName`, `loq_interval`.`IntervalSize`, `loq_interval`.`IntervalSerialNumber`, `loq_interval`.`Structure`, `loq_interval`.`Annotations`, `loq_interval`.`Tags`, `loq_interval`.`all_reads_mapped`, `loq_interval`.`sum_normReads`, `loq_interval`.`mapped_strand`, `loq_interval`.`Link` FROM `loq_interval` WHERE `loq_interval`.`mirName` = 'dme-mir-927' ; args=('dme-mir-927',)\n"
       ]
      },
      {
       "output_type": "stream",
       "stream": "stderr",
       "text": [
        "DEBUG:django.db.backends:(0.001) SELECT `loq_interval`.`id`, `loq_interval`.`chr`, `loq_interval`.`start`, `loq_interval`.`stop`, `loq_interval`.`mirName`, `loq_interval`.`NeatName`, `loq_interval`.`IntervalSize`, `loq_interval`.`IntervalSerialNumber`, `loq_interval`.`Structure`, `loq_interval`.`Annotations`, `loq_interval`.`Tags`, `loq_interval`.`all_reads_mapped`, `loq_interval`.`sum_normReads`, `loq_interval`.`mapped_strand`, `loq_interval`.`Link` FROM `loq_interval` WHERE `loq_interval`.`mirName` = 'dme-mir-929' ; args=('dme-mir-929',)\n"
       ]
      },
      {
       "output_type": "stream",
       "stream": "stderr",
       "text": [
        "DEBUG:django.db.backends:(0.001) SELECT `loq_interval`.`id`, `loq_interval`.`chr`, `loq_interval`.`start`, `loq_interval`.`stop`, `loq_interval`.`mirName`, `loq_interval`.`NeatName`, `loq_interval`.`IntervalSize`, `loq_interval`.`IntervalSerialNumber`, `loq_interval`.`Structure`, `loq_interval`.`Annotations`, `loq_interval`.`Tags`, `loq_interval`.`all_reads_mapped`, `loq_interval`.`sum_normReads`, `loq_interval`.`mapped_strand`, `loq_interval`.`Link` FROM `loq_interval` WHERE `loq_interval`.`mirName` = 'dme-mir-92a' ; args=('dme-mir-92a',)\n"
       ]
      },
      {
       "output_type": "stream",
       "stream": "stderr",
       "text": [
        "DEBUG:django.db.backends:(0.001) SELECT `loq_interval`.`id`, `loq_interval`.`chr`, `loq_interval`.`start`, `loq_interval`.`stop`, `loq_interval`.`mirName`, `loq_interval`.`NeatName`, `loq_interval`.`IntervalSize`, `loq_interval`.`IntervalSerialNumber`, `loq_interval`.`Structure`, `loq_interval`.`Annotations`, `loq_interval`.`Tags`, `loq_interval`.`all_reads_mapped`, `loq_interval`.`sum_normReads`, `loq_interval`.`mapped_strand`, `loq_interval`.`Link` FROM `loq_interval` WHERE `loq_interval`.`mirName` = 'dme-mir-92b' ; args=('dme-mir-92b',)\n"
       ]
      },
      {
       "output_type": "stream",
       "stream": "stderr",
       "text": [
        "DEBUG:django.db.backends:(0.001) SELECT `loq_interval`.`id`, `loq_interval`.`chr`, `loq_interval`.`start`, `loq_interval`.`stop`, `loq_interval`.`mirName`, `loq_interval`.`NeatName`, `loq_interval`.`IntervalSize`, `loq_interval`.`IntervalSerialNumber`, `loq_interval`.`Structure`, `loq_interval`.`Annotations`, `loq_interval`.`Tags`, `loq_interval`.`all_reads_mapped`, `loq_interval`.`sum_normReads`, `loq_interval`.`mapped_strand`, `loq_interval`.`Link` FROM `loq_interval` WHERE `loq_interval`.`mirName` = 'dme-mir-932' ; args=('dme-mir-932',)\n"
       ]
      },
      {
       "output_type": "stream",
       "stream": "stderr",
       "text": [
        "DEBUG:django.db.backends:(0.001) SELECT `loq_interval`.`id`, `loq_interval`.`chr`, `loq_interval`.`start`, `loq_interval`.`stop`, `loq_interval`.`mirName`, `loq_interval`.`NeatName`, `loq_interval`.`IntervalSize`, `loq_interval`.`IntervalSerialNumber`, `loq_interval`.`Structure`, `loq_interval`.`Annotations`, `loq_interval`.`Tags`, `loq_interval`.`all_reads_mapped`, `loq_interval`.`sum_normReads`, `loq_interval`.`mapped_strand`, `loq_interval`.`Link` FROM `loq_interval` WHERE `loq_interval`.`mirName` = 'dme-mir-954' ; args=('dme-mir-954',)\n"
       ]
      },
      {
       "output_type": "stream",
       "stream": "stderr",
       "text": [
        "DEBUG:django.db.backends:(0.001) SELECT `loq_interval`.`id`, `loq_interval`.`chr`, `loq_interval`.`start`, `loq_interval`.`stop`, `loq_interval`.`mirName`, `loq_interval`.`NeatName`, `loq_interval`.`IntervalSize`, `loq_interval`.`IntervalSerialNumber`, `loq_interval`.`Structure`, `loq_interval`.`Annotations`, `loq_interval`.`Tags`, `loq_interval`.`all_reads_mapped`, `loq_interval`.`sum_normReads`, `loq_interval`.`mapped_strand`, `loq_interval`.`Link` FROM `loq_interval` WHERE `loq_interval`.`mirName` = 'dme-mir-955' ; args=('dme-mir-955',)\n"
       ]
      },
      {
       "output_type": "stream",
       "stream": "stderr",
       "text": [
        "DEBUG:django.db.backends:(0.001) SELECT `loq_interval`.`id`, `loq_interval`.`chr`, `loq_interval`.`start`, `loq_interval`.`stop`, `loq_interval`.`mirName`, `loq_interval`.`NeatName`, `loq_interval`.`IntervalSize`, `loq_interval`.`IntervalSerialNumber`, `loq_interval`.`Structure`, `loq_interval`.`Annotations`, `loq_interval`.`Tags`, `loq_interval`.`all_reads_mapped`, `loq_interval`.`sum_normReads`, `loq_interval`.`mapped_strand`, `loq_interval`.`Link` FROM `loq_interval` WHERE `loq_interval`.`mirName` = 'dme-mir-956' ; args=('dme-mir-956',)\n"
       ]
      },
      {
       "output_type": "stream",
       "stream": "stderr",
       "text": [
        "DEBUG:django.db.backends:(0.001) SELECT `loq_interval`.`id`, `loq_interval`.`chr`, `loq_interval`.`start`, `loq_interval`.`stop`, `loq_interval`.`mirName`, `loq_interval`.`NeatName`, `loq_interval`.`IntervalSize`, `loq_interval`.`IntervalSerialNumber`, `loq_interval`.`Structure`, `loq_interval`.`Annotations`, `loq_interval`.`Tags`, `loq_interval`.`all_reads_mapped`, `loq_interval`.`sum_normReads`, `loq_interval`.`mapped_strand`, `loq_interval`.`Link` FROM `loq_interval` WHERE `loq_interval`.`mirName` = 'dme-mir-957' ; args=('dme-mir-957',)\n"
       ]
      },
      {
       "output_type": "stream",
       "stream": "stderr",
       "text": [
        "DEBUG:django.db.backends:(0.001) SELECT `loq_interval`.`id`, `loq_interval`.`chr`, `loq_interval`.`start`, `loq_interval`.`stop`, `loq_interval`.`mirName`, `loq_interval`.`NeatName`, `loq_interval`.`IntervalSize`, `loq_interval`.`IntervalSerialNumber`, `loq_interval`.`Structure`, `loq_interval`.`Annotations`, `loq_interval`.`Tags`, `loq_interval`.`all_reads_mapped`, `loq_interval`.`sum_normReads`, `loq_interval`.`mapped_strand`, `loq_interval`.`Link` FROM `loq_interval` WHERE `loq_interval`.`mirName` = 'dme-mir-958' ; args=('dme-mir-958',)\n"
       ]
      },
      {
       "output_type": "stream",
       "stream": "stderr",
       "text": [
        "DEBUG:django.db.backends:(0.001) SELECT `loq_interval`.`id`, `loq_interval`.`chr`, `loq_interval`.`start`, `loq_interval`.`stop`, `loq_interval`.`mirName`, `loq_interval`.`NeatName`, `loq_interval`.`IntervalSize`, `loq_interval`.`IntervalSerialNumber`, `loq_interval`.`Structure`, `loq_interval`.`Annotations`, `loq_interval`.`Tags`, `loq_interval`.`all_reads_mapped`, `loq_interval`.`sum_normReads`, `loq_interval`.`mapped_strand`, `loq_interval`.`Link` FROM `loq_interval` WHERE `loq_interval`.`mirName` = 'dme-mir-959' ; args=('dme-mir-959',)\n"
       ]
      },
      {
       "output_type": "stream",
       "stream": "stderr",
       "text": [
        "DEBUG:django.db.backends:(0.001) SELECT `loq_interval`.`id`, `loq_interval`.`chr`, `loq_interval`.`start`, `loq_interval`.`stop`, `loq_interval`.`mirName`, `loq_interval`.`NeatName`, `loq_interval`.`IntervalSize`, `loq_interval`.`IntervalSerialNumber`, `loq_interval`.`Structure`, `loq_interval`.`Annotations`, `loq_interval`.`Tags`, `loq_interval`.`all_reads_mapped`, `loq_interval`.`sum_normReads`, `loq_interval`.`mapped_strand`, `loq_interval`.`Link` FROM `loq_interval` WHERE `loq_interval`.`mirName` = 'dme-mir-960' ; args=('dme-mir-960',)\n"
       ]
      },
      {
       "output_type": "stream",
       "stream": "stderr",
       "text": [
        "DEBUG:django.db.backends:(0.001) SELECT `loq_interval`.`id`, `loq_interval`.`chr`, `loq_interval`.`start`, `loq_interval`.`stop`, `loq_interval`.`mirName`, `loq_interval`.`NeatName`, `loq_interval`.`IntervalSize`, `loq_interval`.`IntervalSerialNumber`, `loq_interval`.`Structure`, `loq_interval`.`Annotations`, `loq_interval`.`Tags`, `loq_interval`.`all_reads_mapped`, `loq_interval`.`sum_normReads`, `loq_interval`.`mapped_strand`, `loq_interval`.`Link` FROM `loq_interval` WHERE `loq_interval`.`mirName` = 'dme-mir-961' ; args=('dme-mir-961',)\n"
       ]
      },
      {
       "output_type": "stream",
       "stream": "stderr",
       "text": [
        "DEBUG:django.db.backends:(0.001) SELECT `loq_interval`.`id`, `loq_interval`.`chr`, `loq_interval`.`start`, `loq_interval`.`stop`, `loq_interval`.`mirName`, `loq_interval`.`NeatName`, `loq_interval`.`IntervalSize`, `loq_interval`.`IntervalSerialNumber`, `loq_interval`.`Structure`, `loq_interval`.`Annotations`, `loq_interval`.`Tags`, `loq_interval`.`all_reads_mapped`, `loq_interval`.`sum_normReads`, `loq_interval`.`mapped_strand`, `loq_interval`.`Link` FROM `loq_interval` WHERE `loq_interval`.`mirName` = 'dme-mir-962' ; args=('dme-mir-962',)\n"
       ]
      },
      {
       "output_type": "stream",
       "stream": "stderr",
       "text": [
        "DEBUG:django.db.backends:(0.001) SELECT `loq_interval`.`id`, `loq_interval`.`chr`, `loq_interval`.`start`, `loq_interval`.`stop`, `loq_interval`.`mirName`, `loq_interval`.`NeatName`, `loq_interval`.`IntervalSize`, `loq_interval`.`IntervalSerialNumber`, `loq_interval`.`Structure`, `loq_interval`.`Annotations`, `loq_interval`.`Tags`, `loq_interval`.`all_reads_mapped`, `loq_interval`.`sum_normReads`, `loq_interval`.`mapped_strand`, `loq_interval`.`Link` FROM `loq_interval` WHERE `loq_interval`.`mirName` = 'dme-mir-963' ; args=('dme-mir-963',)\n"
       ]
      },
      {
       "output_type": "stream",
       "stream": "stderr",
       "text": [
        "DEBUG:django.db.backends:(0.001) SELECT `loq_interval`.`id`, `loq_interval`.`chr`, `loq_interval`.`start`, `loq_interval`.`stop`, `loq_interval`.`mirName`, `loq_interval`.`NeatName`, `loq_interval`.`IntervalSize`, `loq_interval`.`IntervalSerialNumber`, `loq_interval`.`Structure`, `loq_interval`.`Annotations`, `loq_interval`.`Tags`, `loq_interval`.`all_reads_mapped`, `loq_interval`.`sum_normReads`, `loq_interval`.`mapped_strand`, `loq_interval`.`Link` FROM `loq_interval` WHERE `loq_interval`.`mirName` = 'dme-mir-964' ; args=('dme-mir-964',)\n"
       ]
      },
      {
       "output_type": "stream",
       "stream": "stdout",
       "text": [
        "\n",
        "['dme-mir-79', '(((..(((....((((.((((((((...(((((((.((((((((.......)))..))))).)))))))...)))))))).)))).....))).)))', '97', '48', '1', '47', 'ugaagcugacuugccauugcuuuggcgcuuuagcuguaugauagauuuaaacuacuucauaaagcuagauuaccaaagcauuggcuucugcagguca\\n']\n",
        "['dme-mir-8', '.(((((((......((((((((((.(((((.((((((.............)))))).))))).))).))))))).....))))))).', '87', '43', '1', '43', 'aaggacaucuguucacaucuuaccgggcagcauuagauccuuuuuauaacucuaauacugucagguaaagaugucguccguguccuu\\n']\n",
        "['dme-mir-87', '((((((((((.(.((((((((.((.(((((.(((((..((((...))))........))))).))))).))..)))))))).).)))))))))).....', '99', '49', '1', '43', 'aacacauuucauucgcgccuguaucuugcugaaccgcugccauuauggccaacgauccgguugagcaaaauuucaggugugugagaaauguguuuagca\\n']\n",
        "['dme-mir-927', '.(((((..((((.((((((((((((..(((((((.(((..............))).)))))))..)))))))))))).))))))))).....', '92', '46', '1', '44', 'ugguugcuguagaguuuuagaauuccuacgcuuuaccguggcauacgaaauucggcaaagcguuuggauucugaaacccuaccgauccauua\\n']\n",
        "['dme-mir-929', '..((((..((.(((((((.((((((((..((((((((((((....))).)))))))))..)))))))).))))))).)).))))....', '88', '44', '1', '42', 'aguccugguggagcucaaauugacucuaguagggaguccuuuaaugagcgacucccuaacggagucagauugagcugcaaaggagcga\\n']\n",
        "['dme-mir-92a', '..((((((((.((((((((.((((((((((.(((.((((............)))).)))))))).))))).)))))))).)))))))).......', '95', '47', '1', '44', 'aauaugaauuucccguaggacgggaaggugucaacguuuugcauuucgaauaaacauugcacuugucccggccuaugggcgguuuguaauaaaca\\n']\n",
        "['dme-mir-92b', '.....((.(((....(((((((((.(.(.(((((..((((((..............)))))).))))).).).)))))))))....))).))........', '100', '50', '1', '48', 'uaaaacgucaccugauguaggccgugcccagugcuuauuuguugcauuuucgaaauacaaauugcacuagucccggccugcaaugagugucgcagucgac\\n']\n",
        "['dme-mir-932', '..((((((((((((.((((.((((((((((.((((((((.((......)).)))))))))))))))))).)))).)))))))).))))...', '91', '45', '1', '44', 'uugguuuugaaguuuucaauuccguagugcauugcaguguguuucauuauuuacugcaagcgcugcggauuuggcaacuuugacgaccuuc\\n']\n",
        "['dme-mir-954', '........((((((.....(((((((((((.(((.(((((((....))))..))).)))))))))))))).....))))))......', '87', '43', '1', '43', 'uacaaacacaagauuuucuggguguugcguuguguguaccuguguacaggcguauucacaugcaacaucccuuacaucuugcuugau\\n']\n",
        "['dme-mir-955', '....(((..((((.(((.(((((.((((((((.((((((..................)))))))))))))).))))).))).))))..)))......', '97', '48', '1', '47', 'ggccagcuaaucaacuccaucgugcagagguuugaguguccuguguuuugccuaaucgcauucaauuucugaacgguagagaugguacgcuuagaaa\\n']\n",
        "['dme-mir-956', '....(((...(((.(((((.((((((((..(((((.((.((.....((((((.((...((((((((....(((...)))..))....))))))...)).))))))...)).))))))).)))))))).)))))..)))...)))....', '148', '74', '1', '74', 'gaucguuaucguguuuggaauggucucguuagcuaacggaugagcaagugcucggcucacuggcccaaaugcaguuugcccggagacgccgguuaacccagcacugaaauguguaguuucgagaccacucuaauccauugcagcauuu\\n']\n",
        "['dme-mir-957', '.(((((((...(.((((((((((.((((.(((((((.....(.((((......)))).)))))))))))).)))))))))).)...)))).)))..', '96', '48', '1', '49', 'uguccacaauagaccuuaguuuucgacguguuuuggugugcuggggaguucuauuccgauugaaaccguccaaaacugaggccaacugugaggcgc\\n']\n",
        "['dme-mir-958', '((.((((...(((.(((((((((((.(((....(((((.((............)))))))....)))))))))))))))))...))))))..', '92', '46', '1', '46', 'ggcgugucuauggcaaguagaauagcaggcuuaucacauguuuaauucaaucugcugugagauucuucuauucuacuuucgacaacacccgu\\n']\n",
        "['dme-mir-959', '....(((((..((((((((.((((((((....((((((((.((((......))))...))))))))....)))))))).).)))))))..)))))...', '98', '49', '1', '47', 'uuaacuuuguucuauauucuuaguacucggguugauaaagaccuuuucuucagggagccuuugucaucggggguauuaugaaauauaguuuaaagaaa\\n']\n",
        "['dme-mir-960', '.(((((.((((((......((((.((((((((((.(((((..((......))..))))).)))))))))).))))......)))))).)))))', '93', '46', '1', '46', 'ggguuuuguaccacauucugaguauuccagauugcauagcuuugugcuacuauugcuauacggucugggacacuuuuaacaugguaucaaauc\\n']\n",
        "['dme-mir-961', '....((((((((((.(.((((((..((((.(((.((((((((.......)))))))))))..))))..)))))).)))))))).)))..', '89', '44', '1', '45', 'ucaagggccgaguuaccuuugaucaccaguaacugagauuguuucugauacgguuucguuuucuggcaaucaaaagaacuuggacucga\\n']\n",
        "['dme-mir-962', '...((((((..((((....(((((((.((((((((.((((...........))).).)))))))).)))))))....))))..))))))...', '92', '46', '1', '45', 'gauggggcacucaggcuauaagguagagaaauugaugcugucuacacuauucagacuucaguuucauuaccuuucaauuuguuugcccccau\\n']\n",
        "['dme-mir-963', '...((((((((...(((((((((.(((.(((((.(((((............))))))))))))).)))).)))))..))))))))....', '89', '44', '1', '44', 'uuagucuaaucuaaaacaagguaaauaucagguuguuuccuguauucgaucgaaacaucuguauauaccuuuguuccgauuggacaaaa\\n']\n",
        "['dme-mir-964', '...........((((((((.(((.(((((((((((((...((((((((.............))))))))...))))))))))))).))).)))..)))))', '100', '50', '1', '54', 'caauaacauauugguccaacuugccuuagaauaggggagcuuaacuuauguuuuugauguuuaaguuaaaagccucuguucuaagacaauuugaugauca\\n']\n",
        "['dme-mir-965', '..(((((..(((((((.((((((((((.(((((((((((((.((((.................))))))))))))).))))))))))))))))).)))))))))...', '107', '53', '1', '54', 'gacaauauugcucaacauuuugggggguaaaacuguacguuauaugugcccuucugugauauucauaagcguauagcuuuuccccuuaaaaguuagagcuauugcaa\\n']"
       ]
      },
      {
       "output_type": "stream",
       "stream": "stderr",
       "text": [
        "DEBUG:django.db.backends:(0.001) SELECT `loq_interval`.`id`, `loq_interval`.`chr`, `loq_interval`.`start`, `loq_interval`.`stop`, `loq_interval`.`mirName`, `loq_interval`.`NeatName`, `loq_interval`.`IntervalSize`, `loq_interval`.`IntervalSerialNumber`, `loq_interval`.`Structure`, `loq_interval`.`Annotations`, `loq_interval`.`Tags`, `loq_interval`.`all_reads_mapped`, `loq_interval`.`sum_normReads`, `loq_interval`.`mapped_strand`, `loq_interval`.`Link` FROM `loq_interval` WHERE `loq_interval`.`mirName` = 'dme-mir-965' ; args=('dme-mir-965',)\n"
       ]
      },
      {
       "output_type": "stream",
       "stream": "stderr",
       "text": [
        "DEBUG:django.db.backends:(0.001) SELECT `loq_interval`.`id`, `loq_interval`.`chr`, `loq_interval`.`start`, `loq_interval`.`stop`, `loq_interval`.`mirName`, `loq_interval`.`NeatName`, `loq_interval`.`IntervalSize`, `loq_interval`.`IntervalSerialNumber`, `loq_interval`.`Structure`, `loq_interval`.`Annotations`, `loq_interval`.`Tags`, `loq_interval`.`all_reads_mapped`, `loq_interval`.`sum_normReads`, `loq_interval`.`mapped_strand`, `loq_interval`.`Link` FROM `loq_interval` WHERE `loq_interval`.`mirName` = 'dme-mir-966' ; args=('dme-mir-966',)\n"
       ]
      },
      {
       "output_type": "stream",
       "stream": "stderr",
       "text": [
        "DEBUG:django.db.backends:(0.001) SELECT `loq_interval`.`id`, `loq_interval`.`chr`, `loq_interval`.`start`, `loq_interval`.`stop`, `loq_interval`.`mirName`, `loq_interval`.`NeatName`, `loq_interval`.`IntervalSize`, `loq_interval`.`IntervalSerialNumber`, `loq_interval`.`Structure`, `loq_interval`.`Annotations`, `loq_interval`.`Tags`, `loq_interval`.`all_reads_mapped`, `loq_interval`.`sum_normReads`, `loq_interval`.`mapped_strand`, `loq_interval`.`Link` FROM `loq_interval` WHERE `loq_interval`.`mirName` = 'dme-mir-967' ; args=('dme-mir-967',)\n"
       ]
      },
      {
       "output_type": "stream",
       "stream": "stderr",
       "text": [
        "DEBUG:django.db.backends:(0.001) SELECT `loq_interval`.`id`, `loq_interval`.`chr`, `loq_interval`.`start`, `loq_interval`.`stop`, `loq_interval`.`mirName`, `loq_interval`.`NeatName`, `loq_interval`.`IntervalSize`, `loq_interval`.`IntervalSerialNumber`, `loq_interval`.`Structure`, `loq_interval`.`Annotations`, `loq_interval`.`Tags`, `loq_interval`.`all_reads_mapped`, `loq_interval`.`sum_normReads`, `loq_interval`.`mapped_strand`, `loq_interval`.`Link` FROM `loq_interval` WHERE `loq_interval`.`mirName` = 'dme-mir-968' ; args=('dme-mir-968',)\n"
       ]
      },
      {
       "output_type": "stream",
       "stream": "stderr",
       "text": [
        "DEBUG:django.db.backends:(0.001) SELECT `loq_interval`.`id`, `loq_interval`.`chr`, `loq_interval`.`start`, `loq_interval`.`stop`, `loq_interval`.`mirName`, `loq_interval`.`NeatName`, `loq_interval`.`IntervalSize`, `loq_interval`.`IntervalSerialNumber`, `loq_interval`.`Structure`, `loq_interval`.`Annotations`, `loq_interval`.`Tags`, `loq_interval`.`all_reads_mapped`, `loq_interval`.`sum_normReads`, `loq_interval`.`mapped_strand`, `loq_interval`.`Link` FROM `loq_interval` WHERE `loq_interval`.`mirName` = 'dme-mir-969' ; args=('dme-mir-969',)\n"
       ]
      },
      {
       "output_type": "stream",
       "stream": "stderr",
       "text": [
        "DEBUG:django.db.backends:(0.001) SELECT `loq_interval`.`id`, `loq_interval`.`chr`, `loq_interval`.`start`, `loq_interval`.`stop`, `loq_interval`.`mirName`, `loq_interval`.`NeatName`, `loq_interval`.`IntervalSize`, `loq_interval`.`IntervalSerialNumber`, `loq_interval`.`Structure`, `loq_interval`.`Annotations`, `loq_interval`.`Tags`, `loq_interval`.`all_reads_mapped`, `loq_interval`.`sum_normReads`, `loq_interval`.`mapped_strand`, `loq_interval`.`Link` FROM `loq_interval` WHERE `loq_interval`.`mirName` = 'dme-mir-970' ; args=('dme-mir-970',)\n"
       ]
      },
      {
       "output_type": "stream",
       "stream": "stderr",
       "text": [
        "DEBUG:django.db.backends:(0.001) SELECT `loq_interval`.`id`, `loq_interval`.`chr`, `loq_interval`.`start`, `loq_interval`.`stop`, `loq_interval`.`mirName`, `loq_interval`.`NeatName`, `loq_interval`.`IntervalSize`, `loq_interval`.`IntervalSerialNumber`, `loq_interval`.`Structure`, `loq_interval`.`Annotations`, `loq_interval`.`Tags`, `loq_interval`.`all_reads_mapped`, `loq_interval`.`sum_normReads`, `loq_interval`.`mapped_strand`, `loq_interval`.`Link` FROM `loq_interval` WHERE `loq_interval`.`mirName` = 'dme-mir-971' ; args=('dme-mir-971',)\n"
       ]
      },
      {
       "output_type": "stream",
       "stream": "stderr",
       "text": [
        "DEBUG:django.db.backends:(0.001) SELECT `loq_interval`.`id`, `loq_interval`.`chr`, `loq_interval`.`start`, `loq_interval`.`stop`, `loq_interval`.`mirName`, `loq_interval`.`NeatName`, `loq_interval`.`IntervalSize`, `loq_interval`.`IntervalSerialNumber`, `loq_interval`.`Structure`, `loq_interval`.`Annotations`, `loq_interval`.`Tags`, `loq_interval`.`all_reads_mapped`, `loq_interval`.`sum_normReads`, `loq_interval`.`mapped_strand`, `loq_interval`.`Link` FROM `loq_interval` WHERE `loq_interval`.`mirName` = 'dme-mir-972' ; args=('dme-mir-972',)\n"
       ]
      },
      {
       "output_type": "stream",
       "stream": "stderr",
       "text": [
        "DEBUG:django.db.backends:(0.001) SELECT `loq_interval`.`id`, `loq_interval`.`chr`, `loq_interval`.`start`, `loq_interval`.`stop`, `loq_interval`.`mirName`, `loq_interval`.`NeatName`, `loq_interval`.`IntervalSize`, `loq_interval`.`IntervalSerialNumber`, `loq_interval`.`Structure`, `loq_interval`.`Annotations`, `loq_interval`.`Tags`, `loq_interval`.`all_reads_mapped`, `loq_interval`.`sum_normReads`, `loq_interval`.`mapped_strand`, `loq_interval`.`Link` FROM `loq_interval` WHERE `loq_interval`.`mirName` = 'dme-mir-973' ; args=('dme-mir-973',)\n"
       ]
      },
      {
       "output_type": "stream",
       "stream": "stderr",
       "text": [
        "DEBUG:django.db.backends:(0.001) SELECT `loq_interval`.`id`, `loq_interval`.`chr`, `loq_interval`.`start`, `loq_interval`.`stop`, `loq_interval`.`mirName`, `loq_interval`.`NeatName`, `loq_interval`.`IntervalSize`, `loq_interval`.`IntervalSerialNumber`, `loq_interval`.`Structure`, `loq_interval`.`Annotations`, `loq_interval`.`Tags`, `loq_interval`.`all_reads_mapped`, `loq_interval`.`sum_normReads`, `loq_interval`.`mapped_strand`, `loq_interval`.`Link` FROM `loq_interval` WHERE `loq_interval`.`mirName` = 'dme-mir-974' ; args=('dme-mir-974',)\n"
       ]
      },
      {
       "output_type": "stream",
       "stream": "stderr",
       "text": [
        "DEBUG:django.db.backends:(0.001) SELECT `loq_interval`.`id`, `loq_interval`.`chr`, `loq_interval`.`start`, `loq_interval`.`stop`, `loq_interval`.`mirName`, `loq_interval`.`NeatName`, `loq_interval`.`IntervalSize`, `loq_interval`.`IntervalSerialNumber`, `loq_interval`.`Structure`, `loq_interval`.`Annotations`, `loq_interval`.`Tags`, `loq_interval`.`all_reads_mapped`, `loq_interval`.`sum_normReads`, `loq_interval`.`mapped_strand`, `loq_interval`.`Link` FROM `loq_interval` WHERE `loq_interval`.`mirName` = 'dme-mir-975' ; args=('dme-mir-975',)\n"
       ]
      },
      {
       "output_type": "stream",
       "stream": "stderr",
       "text": [
        "DEBUG:django.db.backends:(0.001) SELECT `loq_interval`.`id`, `loq_interval`.`chr`, `loq_interval`.`start`, `loq_interval`.`stop`, `loq_interval`.`mirName`, `loq_interval`.`NeatName`, `loq_interval`.`IntervalSize`, `loq_interval`.`IntervalSerialNumber`, `loq_interval`.`Structure`, `loq_interval`.`Annotations`, `loq_interval`.`Tags`, `loq_interval`.`all_reads_mapped`, `loq_interval`.`sum_normReads`, `loq_interval`.`mapped_strand`, `loq_interval`.`Link` FROM `loq_interval` WHERE `loq_interval`.`mirName` = 'dme-mir-976' ; args=('dme-mir-976',)\n"
       ]
      },
      {
       "output_type": "stream",
       "stream": "stderr",
       "text": [
        "DEBUG:django.db.backends:(0.001) SELECT `loq_interval`.`id`, `loq_interval`.`chr`, `loq_interval`.`start`, `loq_interval`.`stop`, `loq_interval`.`mirName`, `loq_interval`.`NeatName`, `loq_interval`.`IntervalSize`, `loq_interval`.`IntervalSerialNumber`, `loq_interval`.`Structure`, `loq_interval`.`Annotations`, `loq_interval`.`Tags`, `loq_interval`.`all_reads_mapped`, `loq_interval`.`sum_normReads`, `loq_interval`.`mapped_strand`, `loq_interval`.`Link` FROM `loq_interval` WHERE `loq_interval`.`mirName` = 'dme-mir-977' ; args=('dme-mir-977',)\n"
       ]
      },
      {
       "output_type": "stream",
       "stream": "stderr",
       "text": [
        "DEBUG:django.db.backends:(0.001) SELECT `loq_interval`.`id`, `loq_interval`.`chr`, `loq_interval`.`start`, `loq_interval`.`stop`, `loq_interval`.`mirName`, `loq_interval`.`NeatName`, `loq_interval`.`IntervalSize`, `loq_interval`.`IntervalSerialNumber`, `loq_interval`.`Structure`, `loq_interval`.`Annotations`, `loq_interval`.`Tags`, `loq_interval`.`all_reads_mapped`, `loq_interval`.`sum_normReads`, `loq_interval`.`mapped_strand`, `loq_interval`.`Link` FROM `loq_interval` WHERE `loq_interval`.`mirName` = 'dme-mir-978' ; args=('dme-mir-978',)\n"
       ]
      },
      {
       "output_type": "stream",
       "stream": "stderr",
       "text": [
        "DEBUG:django.db.backends:(0.001) SELECT `loq_interval`.`id`, `loq_interval`.`chr`, `loq_interval`.`start`, `loq_interval`.`stop`, `loq_interval`.`mirName`, `loq_interval`.`NeatName`, `loq_interval`.`IntervalSize`, `loq_interval`.`IntervalSerialNumber`, `loq_interval`.`Structure`, `loq_interval`.`Annotations`, `loq_interval`.`Tags`, `loq_interval`.`all_reads_mapped`, `loq_interval`.`sum_normReads`, `loq_interval`.`mapped_strand`, `loq_interval`.`Link` FROM `loq_interval` WHERE `loq_interval`.`mirName` = 'dme-mir-979' ; args=('dme-mir-979',)\n"
       ]
      },
      {
       "output_type": "stream",
       "stream": "stderr",
       "text": [
        "DEBUG:django.db.backends:(0.001) SELECT `loq_interval`.`id`, `loq_interval`.`chr`, `loq_interval`.`start`, `loq_interval`.`stop`, `loq_interval`.`mirName`, `loq_interval`.`NeatName`, `loq_interval`.`IntervalSize`, `loq_interval`.`IntervalSerialNumber`, `loq_interval`.`Structure`, `loq_interval`.`Annotations`, `loq_interval`.`Tags`, `loq_interval`.`all_reads_mapped`, `loq_interval`.`sum_normReads`, `loq_interval`.`mapped_strand`, `loq_interval`.`Link` FROM `loq_interval` WHERE `loq_interval`.`mirName` = 'dme-mir-980' ; args=('dme-mir-980',)\n"
       ]
      },
      {
       "output_type": "stream",
       "stream": "stderr",
       "text": [
        "DEBUG:django.db.backends:(0.001) SELECT `loq_interval`.`id`, `loq_interval`.`chr`, `loq_interval`.`start`, `loq_interval`.`stop`, `loq_interval`.`mirName`, `loq_interval`.`NeatName`, `loq_interval`.`IntervalSize`, `loq_interval`.`IntervalSerialNumber`, `loq_interval`.`Structure`, `loq_interval`.`Annotations`, `loq_interval`.`Tags`, `loq_interval`.`all_reads_mapped`, `loq_interval`.`sum_normReads`, `loq_interval`.`mapped_strand`, `loq_interval`.`Link` FROM `loq_interval` WHERE `loq_interval`.`mirName` = 'dme-mir-981' ; args=('dme-mir-981',)\n"
       ]
      },
      {
       "output_type": "stream",
       "stream": "stderr",
       "text": [
        "DEBUG:django.db.backends:(0.001) SELECT `loq_interval`.`id`, `loq_interval`.`chr`, `loq_interval`.`start`, `loq_interval`.`stop`, `loq_interval`.`mirName`, `loq_interval`.`NeatName`, `loq_interval`.`IntervalSize`, `loq_interval`.`IntervalSerialNumber`, `loq_interval`.`Structure`, `loq_interval`.`Annotations`, `loq_interval`.`Tags`, `loq_interval`.`all_reads_mapped`, `loq_interval`.`sum_normReads`, `loq_interval`.`mapped_strand`, `loq_interval`.`Link` FROM `loq_interval` WHERE `loq_interval`.`mirName` = 'dme-mir-982' ; args=('dme-mir-982',)\n"
       ]
      },
      {
       "output_type": "stream",
       "stream": "stderr",
       "text": [
        "DEBUG:django.db.backends:(0.001) SELECT `loq_interval`.`id`, `loq_interval`.`chr`, `loq_interval`.`start`, `loq_interval`.`stop`, `loq_interval`.`mirName`, `loq_interval`.`NeatName`, `loq_interval`.`IntervalSize`, `loq_interval`.`IntervalSerialNumber`, `loq_interval`.`Structure`, `loq_interval`.`Annotations`, `loq_interval`.`Tags`, `loq_interval`.`all_reads_mapped`, `loq_interval`.`sum_normReads`, `loq_interval`.`mapped_strand`, `loq_interval`.`Link` FROM `loq_interval` WHERE `loq_interval`.`mirName` = 'dme-mir-983-1' ; args=('dme-mir-983-1',)\n"
       ]
      },
      {
       "output_type": "stream",
       "stream": "stderr",
       "text": [
        "DEBUG:django.db.backends:(0.001) SELECT `loq_interval`.`id`, `loq_interval`.`chr`, `loq_interval`.`start`, `loq_interval`.`stop`, `loq_interval`.`mirName`, `loq_interval`.`NeatName`, `loq_interval`.`IntervalSize`, `loq_interval`.`IntervalSerialNumber`, `loq_interval`.`Structure`, `loq_interval`.`Annotations`, `loq_interval`.`Tags`, `loq_interval`.`all_reads_mapped`, `loq_interval`.`sum_normReads`, `loq_interval`.`mapped_strand`, `loq_interval`.`Link` FROM `loq_interval` WHERE `loq_interval`.`mirName` = 'dme-mir-983-2' ; args=('dme-mir-983-2',)\n"
       ]
      },
      {
       "output_type": "stream",
       "stream": "stdout",
       "text": [
        "\n",
        "['dme-mir-966', '..((((.(((((.((((.(((((((.(((((.(((((............)))))))))).))))))).))))))))))).)).....', '87', '43', '1', '42', 'aaccugauccgcugcuguggguugugggcuguguggcugugguauaggugccgccaguugauaacccccagcgugggcacggaccca\\n']\n",
        "['dme-mir-967', '...((((((.((((((((((.((((((((((.((..((((.......))))........)).))))))))))...))))))))))))))))......', '97', '48', '1', '43', 'cuuggagagcagagauaccucuggagaagcgcgugaccugaccccagcaggagaacccaacccgcuuuuccaccuaggugucucucucucucuuuau\\n']\n",
        "['dme-mir-968', '...((((.(.(((...((((((((..(((((((((((((................)))))))))))))))))))))...))).)))))....', '92', '46', '1', '46', 'ugauggaagcuuccuuaaguaguauccauuaaaggguuguucucaacaugcaaaucaaccuuuugauguacuacuuuaagaaucuccaguua\\n']\n",
        "['dme-mir-969', '(((((..((((((((..(((((((.((....((((((((..................))))))))....)).)))))))..)))))))))))))', '94', '47', '1', '47', 'agucucuguccuacguccgaguuccacuaagcaaguuuugagaucguuuuaaaaacaaaaacuugacacguugagcucguucgugggauggacu\\n']\n",
        "['dme-mir-970', '...(((((.(.((((.((((.(((.((((((((..((((((...(((....)))...)))))))))))))).))))))).)))).).)))))...', '95', '47', '1', '48', 'gaaaggcaucuguugcagcuagcggguguuuuauuugguagcuguaaugauuugaaucuaucauaagacacacgcggcuauaaccguugucuaag\\n']\n",
        "['dme-mir-971', '..((.((((((((.((((((((((((...((((.((((((.(((((((...)))).)))))))))))))...))))))))))))))))))))))..', '96', '48', '1', '49', 'uccguggcuggcaucgcucgcuguaaauuguaaucaucaaagcguuuucucagagccgcuugguguuacuucuuacagugagugugccaguccgua\\n']\n",
        "['dme-mir-972', '....((((.(((((((..((((((((((...(((((((((............)))))))))...))))))))))..)))))))..))))..', '91', '45', '1', '45', 'agaaugauagggaaauugcuaaauauuuuuuuuguauaaauaacuuuuaacuuuuguacaauacgaauauuuaggcauuucucaaaucaaa\\n']\n",
        "['dme-mir-973', '.....(((.(((((((.(((.((((.((.(((((...(((((((...............))))))).))))).)).))))))).))))))).)))......', '101', '50', '1', '51', 'accgucgucgacuuuucgugguuggugguugaacuucgauuuuaaguauuuaaauaaaaugaaaucuguucauucuccgacacaagaaguucacgcaaagg\\n']\n",
        "['dme-mir-974', '...........((.((.((((.(..(((...(((.(((((.((((((((..........)))))))).))))).)))...)))..).)))).)).))....', '101', '50', '1', '53', 'caauugucaccggucauguccuccaagcgagcaaagaaguaguauuuguguuuccaagagcaaauauaacuucauuggaagcuaaguggauuugcccaaau\\n']\n",
        "['dme-mir-975', '..((((((((((...((((((((.((((((((.(((((((((...))))...)))))))))))))))).)))))...))))))))))....', '91', '45', '1', '43', 'uugaauuuuugauuuuaaacacuuccuacauccuguauguguuuugcauccgguacagaugugggagucguuugcacucagagauuucaca\\n']\n",
        "['dme-mir-976', '........((((((((..((((((((((((.......(((((((.............))))))).......))))))))))))..))))))))....', '97', '48', '1', '50', 'caucgccaugcagugccgcggcauuggugaggccaucuccaauggauuaguucucaacauuggauuaguuaucaucaaugccggugcacugcaccua\\n']\n",
        "['dme-mir-977', '...........((((((((((.((((((((((..(((((((.((((.................)))).)))))))..)))))))))).)))))))))).', '99', '49', '1', '54', 'cgaaucaacaaacaagguaugcuuuagauaacucgaauaucacaucuucaguguucgaaaucugaugagauauucacguugucuaaaucauguuuugua\\n']\n",
        "['dme-mir-978', '....(((((((((.(((((((.((((.((((((..((((..............)))).)))))).)))).)))))))))))))...)))...', '92', '46', '1', '45', 'guuggcggcacaaucugcaaucuacgccacuggcuuacguugcaaucgaaaaucguguccagugccguaaauugcaguugugugaacgcaaa\\n']\n",
        "['dme-mir-979', '.........((((((((((((....((((.(((((((((((((..(((....)))..))))))))))))).))))......))))))))))))..', '95', '47', '1', '49', 'uacaugugaggaugucacaaauacacugaauuuggggggaauucuuauguauauacaaauucuucccgaacucaggcuaauuuuguggcauccgu\\n']\n",
        "['dme-mir-980', '....((((((((((.((((((((((..(((..(((((((...................))))))))))..)))))))))).)))))))))).......', '98', '49', '1', '48', 'aguugauuguaugucaguuuuucauuuggccuggcuagcuuacuccuuuuuaaauauugcuagcugccuugugaagggcuuacguguaauugcaguuc\\n']\n",
        "['dme-mir-981', '.....(((.(((....(((((((((((((.(((((((((((((...........))).)))))))))).))))))))))).))...))).)))....', '97', '48', '1', '48', 'aaacauccucacugaagucggguuucguuagcagcgggcuguuuuaauaaauucaacaaguucguugucgacgaaaccugcaugcuguguggaaaau\\n']\n",
        "['dme-mir-982', '.((((((((.((((.((..(((..(((((.((((((..(((......)))....)))))).)))))..)))..)).)))))))))))).....', '93', '46', '1', '43', 'cgaaaucauguuagauccuggacaaauaugaaguaaauuguuuuuaugcaucaauuacuugauauucauccuugaacuaaaugguuuuagagc\\n']\n",
        "['dme-mir-983-1', '....((((((((((((.(((((.(((..(...(((((((............)))))))...)..))).))))).)))))))))))).....', '91', '45', '1', '44', 'uauauugcaauaauuaaauaauacguuucgaacuaaugauuuucaguucauucauuagguaguuacgcauuaucuaguuguuguaaacauu\\n']\n",
        "['dme-mir-983-2', '.......((((((((((((.(((((.(((..(...(((((((............)))))))...)..))).))))).))))))))))))..........', '99', '49', '1', '47', 'uauuauauugcaauaauuaaauaauacguuucgaacuaaugauuuucaguucauucauuagguaguuacgcauuaucuaguuguuguaaacauucaacu\\n']\n",
        "['dme-mir-984', '.((((..((((((.(((((.(((((.((((((((..(((((.........))))))))))))).))))).))))).))))))))))....', '90', '45', '1', '45', 'agaaacaaauuucauugagguaaauacgguuggaauuuugucuuuuaacuauaaauccaaccgaauuuggcucggcgaaauuuuucaguu\\n']"
       ]
      },
      {
       "output_type": "stream",
       "stream": "stderr",
       "text": [
        "DEBUG:django.db.backends:(0.001) SELECT `loq_interval`.`id`, `loq_interval`.`chr`, `loq_interval`.`start`, `loq_interval`.`stop`, `loq_interval`.`mirName`, `loq_interval`.`NeatName`, `loq_interval`.`IntervalSize`, `loq_interval`.`IntervalSerialNumber`, `loq_interval`.`Structure`, `loq_interval`.`Annotations`, `loq_interval`.`Tags`, `loq_interval`.`all_reads_mapped`, `loq_interval`.`sum_normReads`, `loq_interval`.`mapped_strand`, `loq_interval`.`Link` FROM `loq_interval` WHERE `loq_interval`.`mirName` = 'dme-mir-984' ; args=('dme-mir-984',)\n"
       ]
      },
      {
       "output_type": "stream",
       "stream": "stderr",
       "text": [
        "DEBUG:django.db.backends:(0.001) SELECT `loq_interval`.`id`, `loq_interval`.`chr`, `loq_interval`.`start`, `loq_interval`.`stop`, `loq_interval`.`mirName`, `loq_interval`.`NeatName`, `loq_interval`.`IntervalSize`, `loq_interval`.`IntervalSerialNumber`, `loq_interval`.`Structure`, `loq_interval`.`Annotations`, `loq_interval`.`Tags`, `loq_interval`.`all_reads_mapped`, `loq_interval`.`sum_normReads`, `loq_interval`.`mapped_strand`, `loq_interval`.`Link` FROM `loq_interval` WHERE `loq_interval`.`mirName` = 'dme-mir-985' ; args=('dme-mir-985',)\n"
       ]
      },
      {
       "output_type": "stream",
       "stream": "stderr",
       "text": [
        "DEBUG:django.db.backends:(0.001) SELECT `loq_interval`.`id`, `loq_interval`.`chr`, `loq_interval`.`start`, `loq_interval`.`stop`, `loq_interval`.`mirName`, `loq_interval`.`NeatName`, `loq_interval`.`IntervalSize`, `loq_interval`.`IntervalSerialNumber`, `loq_interval`.`Structure`, `loq_interval`.`Annotations`, `loq_interval`.`Tags`, `loq_interval`.`all_reads_mapped`, `loq_interval`.`sum_normReads`, `loq_interval`.`mapped_strand`, `loq_interval`.`Link` FROM `loq_interval` WHERE `loq_interval`.`mirName` = 'dme-mir-986' ; args=('dme-mir-986',)\n"
       ]
      },
      {
       "output_type": "stream",
       "stream": "stderr",
       "text": [
        "DEBUG:django.db.backends:(0.001) SELECT `loq_interval`.`id`, `loq_interval`.`chr`, `loq_interval`.`start`, `loq_interval`.`stop`, `loq_interval`.`mirName`, `loq_interval`.`NeatName`, `loq_interval`.`IntervalSize`, `loq_interval`.`IntervalSerialNumber`, `loq_interval`.`Structure`, `loq_interval`.`Annotations`, `loq_interval`.`Tags`, `loq_interval`.`all_reads_mapped`, `loq_interval`.`sum_normReads`, `loq_interval`.`mapped_strand`, `loq_interval`.`Link` FROM `loq_interval` WHERE `loq_interval`.`mirName` = 'dme-mir-987' ; args=('dme-mir-987',)\n"
       ]
      },
      {
       "output_type": "stream",
       "stream": "stderr",
       "text": [
        "DEBUG:django.db.backends:(0.001) SELECT `loq_interval`.`id`, `loq_interval`.`chr`, `loq_interval`.`start`, `loq_interval`.`stop`, `loq_interval`.`mirName`, `loq_interval`.`NeatName`, `loq_interval`.`IntervalSize`, `loq_interval`.`IntervalSerialNumber`, `loq_interval`.`Structure`, `loq_interval`.`Annotations`, `loq_interval`.`Tags`, `loq_interval`.`all_reads_mapped`, `loq_interval`.`sum_normReads`, `loq_interval`.`mapped_strand`, `loq_interval`.`Link` FROM `loq_interval` WHERE `loq_interval`.`mirName` = 'dme-mir-988' ; args=('dme-mir-988',)\n"
       ]
      },
      {
       "output_type": "stream",
       "stream": "stderr",
       "text": [
        "DEBUG:django.db.backends:(0.001) SELECT `loq_interval`.`id`, `loq_interval`.`chr`, `loq_interval`.`start`, `loq_interval`.`stop`, `loq_interval`.`mirName`, `loq_interval`.`NeatName`, `loq_interval`.`IntervalSize`, `loq_interval`.`IntervalSerialNumber`, `loq_interval`.`Structure`, `loq_interval`.`Annotations`, `loq_interval`.`Tags`, `loq_interval`.`all_reads_mapped`, `loq_interval`.`sum_normReads`, `loq_interval`.`mapped_strand`, `loq_interval`.`Link` FROM `loq_interval` WHERE `loq_interval`.`mirName` = 'dme-mir-989' ; args=('dme-mir-989',)\n"
       ]
      },
      {
       "output_type": "stream",
       "stream": "stderr",
       "text": [
        "DEBUG:django.db.backends:(0.001) SELECT `loq_interval`.`id`, `loq_interval`.`chr`, `loq_interval`.`start`, `loq_interval`.`stop`, `loq_interval`.`mirName`, `loq_interval`.`NeatName`, `loq_interval`.`IntervalSize`, `loq_interval`.`IntervalSerialNumber`, `loq_interval`.`Structure`, `loq_interval`.`Annotations`, `loq_interval`.`Tags`, `loq_interval`.`all_reads_mapped`, `loq_interval`.`sum_normReads`, `loq_interval`.`mapped_strand`, `loq_interval`.`Link` FROM `loq_interval` WHERE `loq_interval`.`mirName` = 'dme-mir-990' ; args=('dme-mir-990',)\n"
       ]
      },
      {
       "output_type": "stream",
       "stream": "stderr",
       "text": [
        "DEBUG:django.db.backends:(0.001) SELECT `loq_interval`.`id`, `loq_interval`.`chr`, `loq_interval`.`start`, `loq_interval`.`stop`, `loq_interval`.`mirName`, `loq_interval`.`NeatName`, `loq_interval`.`IntervalSize`, `loq_interval`.`IntervalSerialNumber`, `loq_interval`.`Structure`, `loq_interval`.`Annotations`, `loq_interval`.`Tags`, `loq_interval`.`all_reads_mapped`, `loq_interval`.`sum_normReads`, `loq_interval`.`mapped_strand`, `loq_interval`.`Link` FROM `loq_interval` WHERE `loq_interval`.`mirName` = 'dme-mir-991' ; args=('dme-mir-991',)\n"
       ]
      },
      {
       "output_type": "stream",
       "stream": "stderr",
       "text": [
        "DEBUG:django.db.backends:(0.001) SELECT `loq_interval`.`id`, `loq_interval`.`chr`, `loq_interval`.`start`, `loq_interval`.`stop`, `loq_interval`.`mirName`, `loq_interval`.`NeatName`, `loq_interval`.`IntervalSize`, `loq_interval`.`IntervalSerialNumber`, `loq_interval`.`Structure`, `loq_interval`.`Annotations`, `loq_interval`.`Tags`, `loq_interval`.`all_reads_mapped`, `loq_interval`.`sum_normReads`, `loq_interval`.`mapped_strand`, `loq_interval`.`Link` FROM `loq_interval` WHERE `loq_interval`.`mirName` = 'dme-mir-992' ; args=('dme-mir-992',)\n"
       ]
      },
      {
       "output_type": "stream",
       "stream": "stderr",
       "text": [
        "DEBUG:django.db.backends:(0.001) SELECT `loq_interval`.`id`, `loq_interval`.`chr`, `loq_interval`.`start`, `loq_interval`.`stop`, `loq_interval`.`mirName`, `loq_interval`.`NeatName`, `loq_interval`.`IntervalSize`, `loq_interval`.`IntervalSerialNumber`, `loq_interval`.`Structure`, `loq_interval`.`Annotations`, `loq_interval`.`Tags`, `loq_interval`.`all_reads_mapped`, `loq_interval`.`sum_normReads`, `loq_interval`.`mapped_strand`, `loq_interval`.`Link` FROM `loq_interval` WHERE `loq_interval`.`mirName` = 'dme-mir-993' ; args=('dme-mir-993',)\n"
       ]
      },
      {
       "output_type": "stream",
       "stream": "stderr",
       "text": [
        "DEBUG:django.db.backends:(0.001) SELECT `loq_interval`.`id`, `loq_interval`.`chr`, `loq_interval`.`start`, `loq_interval`.`stop`, `loq_interval`.`mirName`, `loq_interval`.`NeatName`, `loq_interval`.`IntervalSize`, `loq_interval`.`IntervalSerialNumber`, `loq_interval`.`Structure`, `loq_interval`.`Annotations`, `loq_interval`.`Tags`, `loq_interval`.`all_reads_mapped`, `loq_interval`.`sum_normReads`, `loq_interval`.`mapped_strand`, `loq_interval`.`Link` FROM `loq_interval` WHERE `loq_interval`.`mirName` = 'dme-mir-994' ; args=('dme-mir-994',)\n"
       ]
      },
      {
       "output_type": "stream",
       "stream": "stderr",
       "text": [
        "DEBUG:django.db.backends:(0.001) SELECT `loq_interval`.`id`, `loq_interval`.`chr`, `loq_interval`.`start`, `loq_interval`.`stop`, `loq_interval`.`mirName`, `loq_interval`.`NeatName`, `loq_interval`.`IntervalSize`, `loq_interval`.`IntervalSerialNumber`, `loq_interval`.`Structure`, `loq_interval`.`Annotations`, `loq_interval`.`Tags`, `loq_interval`.`all_reads_mapped`, `loq_interval`.`sum_normReads`, `loq_interval`.`mapped_strand`, `loq_interval`.`Link` FROM `loq_interval` WHERE `loq_interval`.`mirName` = 'dme-mir-995' ; args=('dme-mir-995',)\n"
       ]
      },
      {
       "output_type": "stream",
       "stream": "stderr",
       "text": [
        "DEBUG:django.db.backends:(0.001) SELECT `loq_interval`.`id`, `loq_interval`.`chr`, `loq_interval`.`start`, `loq_interval`.`stop`, `loq_interval`.`mirName`, `loq_interval`.`NeatName`, `loq_interval`.`IntervalSize`, `loq_interval`.`IntervalSerialNumber`, `loq_interval`.`Structure`, `loq_interval`.`Annotations`, `loq_interval`.`Tags`, `loq_interval`.`all_reads_mapped`, `loq_interval`.`sum_normReads`, `loq_interval`.`mapped_strand`, `loq_interval`.`Link` FROM `loq_interval` WHERE `loq_interval`.`mirName` = 'dme-mir-996' ; args=('dme-mir-996',)\n"
       ]
      },
      {
       "output_type": "stream",
       "stream": "stderr",
       "text": [
        "DEBUG:django.db.backends:(0.001) SELECT `loq_interval`.`id`, `loq_interval`.`chr`, `loq_interval`.`start`, `loq_interval`.`stop`, `loq_interval`.`mirName`, `loq_interval`.`NeatName`, `loq_interval`.`IntervalSize`, `loq_interval`.`IntervalSerialNumber`, `loq_interval`.`Structure`, `loq_interval`.`Annotations`, `loq_interval`.`Tags`, `loq_interval`.`all_reads_mapped`, `loq_interval`.`sum_normReads`, `loq_interval`.`mapped_strand`, `loq_interval`.`Link` FROM `loq_interval` WHERE `loq_interval`.`mirName` = 'dme-mir-997' ; args=('dme-mir-997',)\n"
       ]
      },
      {
       "output_type": "stream",
       "stream": "stderr",
       "text": [
        "DEBUG:django.db.backends:(0.001) SELECT `loq_interval`.`id`, `loq_interval`.`chr`, `loq_interval`.`start`, `loq_interval`.`stop`, `loq_interval`.`mirName`, `loq_interval`.`NeatName`, `loq_interval`.`IntervalSize`, `loq_interval`.`IntervalSerialNumber`, `loq_interval`.`Structure`, `loq_interval`.`Annotations`, `loq_interval`.`Tags`, `loq_interval`.`all_reads_mapped`, `loq_interval`.`sum_normReads`, `loq_interval`.`mapped_strand`, `loq_interval`.`Link` FROM `loq_interval` WHERE `loq_interval`.`mirName` = 'dme-mir-998' ; args=('dme-mir-998',)\n"
       ]
      },
      {
       "output_type": "stream",
       "stream": "stderr",
       "text": [
        "DEBUG:django.db.backends:(0.001) SELECT `loq_interval`.`id`, `loq_interval`.`chr`, `loq_interval`.`start`, `loq_interval`.`stop`, `loq_interval`.`mirName`, `loq_interval`.`NeatName`, `loq_interval`.`IntervalSize`, `loq_interval`.`IntervalSerialNumber`, `loq_interval`.`Structure`, `loq_interval`.`Annotations`, `loq_interval`.`Tags`, `loq_interval`.`all_reads_mapped`, `loq_interval`.`sum_normReads`, `loq_interval`.`mapped_strand`, `loq_interval`.`Link` FROM `loq_interval` WHERE `loq_interval`.`mirName` = 'dme-mir-999' ; args=('dme-mir-999',)\n"
       ]
      },
      {
       "output_type": "stream",
       "stream": "stderr",
       "text": [
        "DEBUG:django.db.backends:(0.001) SELECT `loq_interval`.`id`, `loq_interval`.`chr`, `loq_interval`.`start`, `loq_interval`.`stop`, `loq_interval`.`mirName`, `loq_interval`.`NeatName`, `loq_interval`.`IntervalSize`, `loq_interval`.`IntervalSerialNumber`, `loq_interval`.`Structure`, `loq_interval`.`Annotations`, `loq_interval`.`Tags`, `loq_interval`.`all_reads_mapped`, `loq_interval`.`sum_normReads`, `loq_interval`.`mapped_strand`, `loq_interval`.`Link` FROM `loq_interval` WHERE `loq_interval`.`mirName` = 'dme-mir-9a' ; args=('dme-mir-9a',)\n"
       ]
      },
      {
       "output_type": "stream",
       "stream": "stderr",
       "text": [
        "DEBUG:django.db.backends:(0.001) SELECT `loq_interval`.`id`, `loq_interval`.`chr`, `loq_interval`.`start`, `loq_interval`.`stop`, `loq_interval`.`mirName`, `loq_interval`.`NeatName`, `loq_interval`.`IntervalSize`, `loq_interval`.`IntervalSerialNumber`, `loq_interval`.`Structure`, `loq_interval`.`Annotations`, `loq_interval`.`Tags`, `loq_interval`.`all_reads_mapped`, `loq_interval`.`sum_normReads`, `loq_interval`.`mapped_strand`, `loq_interval`.`Link` FROM `loq_interval` WHERE `loq_interval`.`mirName` = 'dme-mir-9b' ; args=('dme-mir-9b',)\n"
       ]
      },
      {
       "output_type": "stream",
       "stream": "stderr",
       "text": [
        "DEBUG:django.db.backends:(0.001) SELECT `loq_interval`.`id`, `loq_interval`.`chr`, `loq_interval`.`start`, `loq_interval`.`stop`, `loq_interval`.`mirName`, `loq_interval`.`NeatName`, `loq_interval`.`IntervalSize`, `loq_interval`.`IntervalSerialNumber`, `loq_interval`.`Structure`, `loq_interval`.`Annotations`, `loq_interval`.`Tags`, `loq_interval`.`all_reads_mapped`, `loq_interval`.`sum_normReads`, `loq_interval`.`mapped_strand`, `loq_interval`.`Link` FROM `loq_interval` WHERE `loq_interval`.`mirName` = 'dme-mir-9c' ; args=('dme-mir-9c',)\n"
       ]
      },
      {
       "output_type": "stream",
       "stream": "stderr",
       "text": [
        "DEBUG:django.db.backends:(0.001) SELECT `loq_interval`.`id`, `loq_interval`.`chr`, `loq_interval`.`start`, `loq_interval`.`stop`, `loq_interval`.`mirName`, `loq_interval`.`NeatName`, `loq_interval`.`IntervalSize`, `loq_interval`.`IntervalSerialNumber`, `loq_interval`.`Structure`, `loq_interval`.`Annotations`, `loq_interval`.`Tags`, `loq_interval`.`all_reads_mapped`, `loq_interval`.`sum_normReads`, `loq_interval`.`mapped_strand`, `loq_interval`.`Link` FROM `loq_interval` WHERE `loq_interval`.`mirName` = 'dme-mir-iab-4' ; args=('dme-mir-iab-4',)\n"
       ]
      },
      {
       "output_type": "stream",
       "stream": "stderr",
       "text": [
        "DEBUG:django.db.backends:(0.001) SELECT `loq_interval`.`id`, `loq_interval`.`chr`, `loq_interval`.`start`, `loq_interval`.`stop`, `loq_interval`.`mirName`, `loq_interval`.`NeatName`, `loq_interval`.`IntervalSize`, `loq_interval`.`IntervalSerialNumber`, `loq_interval`.`Structure`, `loq_interval`.`Annotations`, `loq_interval`.`Tags`, `loq_interval`.`all_reads_mapped`, `loq_interval`.`sum_normReads`, `loq_interval`.`mapped_strand`, `loq_interval`.`Link` FROM `loq_interval` WHERE `loq_interval`.`mirName` = 'dme-mir-iab-8' ; args=('dme-mir-iab-8',)\n"
       ]
      },
      {
       "ename": "DoesNotExist",
       "evalue": "Interval matching query does not exist.",
       "output_type": "pyerr",
       "traceback": [
        "\u001b[0;31m---------------------------------------------------------------------------\u001b[0m\n\u001b[0;31mDoesNotExist\u001b[0m                              Traceback (most recent call last)",
        "\u001b[0;32m<ipython-input-3-15014adccd31>\u001b[0m in \u001b[0;36m<module>\u001b[0;34m()\u001b[0m\n\u001b[1;32m      4\u001b[0m     \u001b[0mi\u001b[0m\u001b[0;34m=\u001b[0m\u001b[0mi\u001b[0m\u001b[0;34m.\u001b[0m\u001b[0msplit\u001b[0m\u001b[0;34m(\u001b[0m\u001b[0;34m','\u001b[0m\u001b[0;34m)\u001b[0m\u001b[0;34m\u001b[0m\u001b[0m\n\u001b[1;32m      5\u001b[0m     \u001b[0;32mprint\u001b[0m \u001b[0mi\u001b[0m\u001b[0;34m\u001b[0m\u001b[0m\n\u001b[0;32m----> 6\u001b[0;31m     \u001b[0ma\u001b[0m\u001b[0;34m=\u001b[0m \u001b[0mInterval\u001b[0m\u001b[0;34m.\u001b[0m\u001b[0mobjects\u001b[0m\u001b[0;34m.\u001b[0m\u001b[0mget\u001b[0m\u001b[0;34m(\u001b[0m\u001b[0mmirName\u001b[0m\u001b[0;34m=\u001b[0m\u001b[0mstr\u001b[0m\u001b[0;34m(\u001b[0m\u001b[0mi\u001b[0m\u001b[0;34m[\u001b[0m\u001b[0;36m0\u001b[0m\u001b[0;34m]\u001b[0m\u001b[0;34m)\u001b[0m\u001b[0;34m)\u001b[0m\u001b[0;34m\u001b[0m\u001b[0m\n\u001b[0m\u001b[1;32m      7\u001b[0m     \u001b[0;31m#a.Structure = i[1]\u001b[0m\u001b[0;34m\u001b[0m\u001b[0;34m\u001b[0m\u001b[0m\n\u001b[1;32m      8\u001b[0m     \u001b[0;31m#a.save()\u001b[0m\u001b[0;34m\u001b[0m\u001b[0;34m\u001b[0m\u001b[0m\n",
        "\u001b[0;32m/usr/local/lib/python2.7/dist-packages/django/db/models/manager.pyc\u001b[0m in \u001b[0;36mget\u001b[0;34m(self, *args, **kwargs)\u001b[0m\n\u001b[1;32m    141\u001b[0m \u001b[0;34m\u001b[0m\u001b[0m\n\u001b[1;32m    142\u001b[0m     \u001b[0;32mdef\u001b[0m \u001b[0mget\u001b[0m\u001b[0;34m(\u001b[0m\u001b[0mself\u001b[0m\u001b[0;34m,\u001b[0m \u001b[0;34m*\u001b[0m\u001b[0margs\u001b[0m\u001b[0;34m,\u001b[0m \u001b[0;34m**\u001b[0m\u001b[0mkwargs\u001b[0m\u001b[0;34m)\u001b[0m\u001b[0;34m:\u001b[0m\u001b[0;34m\u001b[0m\u001b[0m\n\u001b[0;32m--> 143\u001b[0;31m         \u001b[0;32mreturn\u001b[0m \u001b[0mself\u001b[0m\u001b[0;34m.\u001b[0m\u001b[0mget_query_set\u001b[0m\u001b[0;34m(\u001b[0m\u001b[0;34m)\u001b[0m\u001b[0;34m.\u001b[0m\u001b[0mget\u001b[0m\u001b[0;34m(\u001b[0m\u001b[0;34m*\u001b[0m\u001b[0margs\u001b[0m\u001b[0;34m,\u001b[0m \u001b[0;34m**\u001b[0m\u001b[0mkwargs\u001b[0m\u001b[0;34m)\u001b[0m\u001b[0;34m\u001b[0m\u001b[0m\n\u001b[0m\u001b[1;32m    144\u001b[0m \u001b[0;34m\u001b[0m\u001b[0m\n\u001b[1;32m    145\u001b[0m     \u001b[0;32mdef\u001b[0m \u001b[0mget_or_create\u001b[0m\u001b[0;34m(\u001b[0m\u001b[0mself\u001b[0m\u001b[0;34m,\u001b[0m \u001b[0;34m**\u001b[0m\u001b[0mkwargs\u001b[0m\u001b[0;34m)\u001b[0m\u001b[0;34m:\u001b[0m\u001b[0;34m\u001b[0m\u001b[0m\n",
        "\u001b[0;32m/usr/local/lib/python2.7/dist-packages/django/db/models/query.pyc\u001b[0m in \u001b[0;36mget\u001b[0;34m(self, *args, **kwargs)\u001b[0m\n\u001b[1;32m    402\u001b[0m             raise self.model.DoesNotExist(\n\u001b[1;32m    403\u001b[0m                 \u001b[0;34m\"%s matching query does not exist.\"\u001b[0m \u001b[0;34m%\u001b[0m\u001b[0;34m\u001b[0m\u001b[0m\n\u001b[0;32m--> 404\u001b[0;31m                 self.model._meta.object_name)\n\u001b[0m\u001b[1;32m    405\u001b[0m         raise self.model.MultipleObjectsReturned(\n\u001b[1;32m    406\u001b[0m             \u001b[0;34m\"get() returned more than one %s -- it returned %s!\"\u001b[0m \u001b[0;34m%\u001b[0m\u001b[0;34m\u001b[0m\u001b[0m\n",
        "\u001b[0;31mDoesNotExist\u001b[0m: Interval matching query does not exist."
       ]
      },
      {
       "output_type": "stream",
       "stream": "stdout",
       "text": [
        "\n",
        "['dme-mir-985', '...((((((((.(((((.(.(((((((.((((((.(((((...))))).)))))).))))))).).))))).))))))))......', '86', '43', '1', '41', 'uauauaauagcacugcuggcucauugguacauuucauaaguaccuuaucaaauguuccaauggucgggcagagcuauuauuugucc\\n']\n",
        "['dme-mir-986', '....((((((((.(((...((.(((((((.((((..(((((.......((...))......)))))..)))).))))))).))...))).))))))))..', '100', '50', '1', '51', 'cacaccugaaauuacccaucucgaauagcguugugacugagguaacugcgcaucgaaucuacucagcggcgaggcuauucaaguaagguuauuuugggcc\\n']\n",
        "['dme-mir-987', '((((((((((((((..((((((((.(((((..((((((((..(((....)))...))))))))))))))))))))).))).))))))).)))).', '94', '47', '1', '46', 'uguuggacuguguuuaaaguaaauagucuggauugaugaaaguugcauucgagaauucaucaacaggcauuuacuucaacugcaguuugaacaa\\n']\n",
        "['dme-mir-988', '...........((((((((((.((((((.(.((((((((((.(((((.........)))))....)))))))))).).)))))).)))))).))))...', '99', '49', '1', '51', 'gacggcgguaccgggcauuuugggugugugauuuguagcaaagugauauguauuugaucauccccuuguugcaaaccucacgccaaagaugaucugcga\\n']\n",
        "['dme-mir-989', '...(((((((((......(((((((.(((((.(((((((((.(((((((.(((((((.((((((((((.(.(((..(.........)..))).)))).))))))).))).)))).))))))).)...........))))))))))))).)))))))......)))))))))...', '174', '87', '1', '81', 'aaagauuuugggaaucggccacuaccuugcagucacgugaugaaaagacacaggugacacugauccggauuugguaguugacaaauccuccaugccgagauuaguuucauuuugcgucuuuugaauucgaauaguucaugugaugugacguaguggaacauaccugaaauuaca\\n']\n",
        "['dme-mir-990', '..(((((.(.((....(((((..(((((((((((((........).))))))))..))))...))))).....)).)...))))).', '86', '43', '1', '39', 'ucugcucugcgacauucaccguucugaguuggccccaagugcacgugggccagcuuucagcuucggugccauuucaccccgagcac\\n']\n",
        "['dme-mir-991', '......(((((..(((((.((((((.(((((((.((.((((((...............)))))))).))))))).)))))).)))))..)))))..', '96', '48', '1', '50', 'uaucacugcaguuucaggcuuuucccaacuacaccuauuaauacauauuuuaacguccuauuaaaguuguaguuuggaaaguuuugguuuugcauu\\n']\n",
        "['dme-mir-992', '(((((((.((((((.(((((((((.(((((((.(((((.(((....))).))))))))).)))))))))))).)))))).).))))))....', '92', '46', '1', '43', 'auuuucccaagugccugguaucagcaaaguguuauuuuuuauguuuauguaaaguacacguuucugguacuaaguacuucgagaaaguuacc\\n']\n",
        "['dme-mir-993', '....(((((((((..((((.(((((...((((((((((......((((((((((((...)))))))).))))..........))))))))))...)))))))))..)))).))).))..', '119', '59', '1', '57', 'aacgcucccgugaccuacccuguaguuccgggcuuuuguuuaaauggcguucggcacauugucggacugcuggcucgauuaucagaagcucgucucuacagguaucucacaggguagaa\\n']\n",
        "['dme-mir-994', '....(((((((((((((((((((((((.(((((......................))))).))))))))))).))))))))))))......', '91', '45', '1', '43', 'uaucgaguuaucuaaggaaauaguagccgugauuuuacccaagaauuuuucacauaucacaguugcuguuucuuuuagauagcucuuuugu\\n']\n",
        "['dme-mir-995', '..((((.(((.((.((((.(((((((((((..((((((..(((.....))).)))))).))))))))))))))).)).))).))))....', '90', '45', '1', '45', 'caccugcaccccgcagcccgaauuaugugggagcugcgccguuuccguaauccguagcaccacaugauucggcuucgugguacaggauau\\n']\n",
        "['dme-mir-996', '.(((((((.((((.((.(((((.((((((((((((.((((((((((...)))))...))))))))))).)))))).))))).)).)))).)))))))', '97', '48', '1', '47', 'ucugacucuauuuugucggcgaacauggaucuagugcacggugguucaugauuaaguucgugacuagauuucaugcucgucuauuaaguugggucag\\n']\n",
        "['dme-mir-997', '...(.(((((...(((((((...((((((((..((((.(((((.(((((((((.((..((((((((((....(((((((.(((.((((((.....(((((.(((......))).)))))....)))))).))).))))))).....))))))))))..)).))))))))).))))).))))..))))))))...))))))).....))))).)..', '215', '107', '1', '106', 'uuauggauccucuuucaaugaauuuaguaugcccaaacucgaaggaguuucaccuccauaagagcgacaguccuggagaaguuaucagagccaaaaaaauucauaugaugaugcauuuuccgucucugaaaacgucuucagcagaaguuguuuuuagcgaagugaaacucauucgauuuugaucauacuaacgacauuggaugcuuggaucggca\\n']\n",
        "['dme-mir-998', '...(((((.((((((((.(((((.((((((.((((((((((......)))..........(((.(((((.......((((...)))).......))))).))).))))))))))))).))))).))))))))...)))))...', '143', '71', '2', '81', 'ccucgugucaaauucauuuuggaacugaauucucgugggucugcacugacaacacugaccgcuccagggcaaauuguucauuuugaaauugaaauucuguagcaccaugagauucagcucuggcgugaauuucaaacaugcau\\n']\n",
        "['dme-mir-999', '..((.((..(((((((((((..(((((((((.((((((.(((((((.((.......))))))))).)))))).)))))))))..))))))))..))).)).))..', '105', '52', '1', '52', 'aaggaugccgcucaauuaccccgacauagucauacggugaauguuguguauuggagaccaauguuaacuguaagacugugucucggugguugccagcccagccac\\n']\n",
        "['dme-mir-9a', '(((((((((.(((((((...((((((.(((((((........)).))))).))))))...))))))).))))).))))', '78', '39', '1', '37', 'gcuauguugucuuugguuaucuagcuguaugagugauaaauaacgucauaaagcuagcuuaccgaaguuaauauuagc\\n']\n",
        "['dme-mir-9b', '((((.((((((((...(((((((((...((((.(((((.((........)).))))).))))..)))))))))...))))))))...))))', '91', '45', '1', '44', 'ugcauauuauuugcucuuuggugauuuuagcuguaugguguuuauguauauuccauagagcuuuauuaccaaaaaccaaaugguuucugca\\n']\n",
        "['dme-mir-9c', '((((..((((...(((((((((...((((.(((((.(....(((.....)))....)))))).))))...)))))))))...))))..))))', '92', '46', '1', '46', 'auuuuugcuguuucuuugguauucuagcuguagauuguuucacgcacauuguauaucaucuaaagcuuuuauaccaaagcuccagcuuaaau\\n']\n",
        "['dme-mir-iab-4', '((((..((((((((((((.((((((.((..(....)..)).)).)))).))))))))))))...))))', '68', '34', '1', '32', 'ucguaaacguauacugaauguauccugaguguauccuauccgguauaccuucaguauacguaacacga\\n']\n",
        "['dme-mir-iab-8', '(((((..((((((((((((.((((.((.((..(....)..)).)))))).)))))))))))).)))))', '68', '34', '1', '34', 'ucguguuacguauacugaagguauaccggauaggauacacucaggauacauucaguauacguuuacga\\n']\n"
       ]
      }
     ],
     "prompt_number": 3
    }
   ],
   "metadata": {}
  }
 ]
}